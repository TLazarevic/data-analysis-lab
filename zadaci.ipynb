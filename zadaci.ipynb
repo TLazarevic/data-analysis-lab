{
 "cells": [
  {
   "cell_type": "markdown",
   "source": [
    "### Uvod:\n",
    "\n",
    "Data su dva CSV fajla:\n",
    "1. products.csv - sadrži identifikatore proizvoda i njihove opise\n",
    "2. orders.csv - sadrži porudžbine jedne online prodavnice, zajedno sa identifikatorima porudžbine, proizvoda, kupca, datumom porudžbine, količinom i cenom, kao i zemljom porudžbine"
   ],
   "metadata": {
    "collapsed": false
   }
  },
  {
   "cell_type": "markdown",
   "source": [
    "### Zadaci:"
   ],
   "metadata": {
    "collapsed": false
   }
  },
  {
   "cell_type": "markdown",
   "source": [
    "Importuj pandas"
   ],
   "metadata": {
    "collapsed": false
   }
  },
  {
   "cell_type": "code",
   "execution_count": null,
   "outputs": [],
   "source": [],
   "metadata": {
    "collapsed": false
   }
  },
  {
   "cell_type": "markdown",
   "source": [
    "Učitaj ```products.csv``` u DataFrame sa nazivom ```products_df```"
   ],
   "metadata": {
    "collapsed": false
   }
  },
  {
   "cell_type": "code",
   "execution_count": null,
   "outputs": [],
   "source": [],
   "metadata": {
    "collapsed": false,
    "ExecuteTime": {
     "end_time": "2023-08-20T19:00:22.189039Z",
     "start_time": "2023-08-20T19:00:22.170394Z"
    }
   }
  },
  {
   "cell_type": "markdown",
   "source": [
    "Učitaj ```orders.csv``` u DataFrame sa nazivom ```orders_df```"
   ],
   "metadata": {
    "collapsed": false
   }
  },
  {
   "cell_type": "code",
   "execution_count": null,
   "outputs": [],
   "source": [],
   "metadata": {
    "collapsed": false,
    "ExecuteTime": {
     "end_time": "2023-08-20T19:00:22.189776Z",
     "start_time": "2023-08-20T19:00:22.172561Z"
    }
   }
  },
  {
   "cell_type": "markdown",
   "source": [
    "Prikaži prvih 10 redova oba DataFrame-a:"
   ],
   "metadata": {
    "collapsed": false
   }
  },
  {
   "cell_type": "code",
   "execution_count": null,
   "outputs": [],
   "source": [],
   "metadata": {
    "collapsed": false,
    "ExecuteTime": {
     "end_time": "2023-08-20T19:00:22.203142Z",
     "start_time": "2023-08-20T19:00:22.174510Z"
    }
   }
  },
  {
   "cell_type": "code",
   "execution_count": null,
   "outputs": [],
   "source": [],
   "metadata": {
    "collapsed": false,
    "ExecuteTime": {
     "end_time": "2023-08-20T19:00:22.203281Z",
     "start_time": "2023-08-20T19:00:22.176685Z"
    }
   }
  },
  {
   "cell_type": "markdown",
   "source": [
    "Proveri koliko nedostajajućih vrednosti ima kolona ```Description``` u ```products_df``` DataFrame-u"
   ],
   "metadata": {
    "collapsed": false
   }
  },
  {
   "cell_type": "code",
   "execution_count": null,
   "outputs": [],
   "source": [],
   "metadata": {
    "collapsed": false,
    "ExecuteTime": {
     "end_time": "2023-08-20T19:00:22.203436Z",
     "start_time": "2023-08-20T19:00:22.179869Z"
    }
   }
  },
  {
   "cell_type": "markdown",
   "source": [
    "Popuni vrednosti koje nedostaju u ```Description``` koloni sa ```Missing Description```"
   ],
   "metadata": {
    "collapsed": false
   }
  },
  {
   "cell_type": "code",
   "execution_count": null,
   "outputs": [],
   "source": [],
   "metadata": {
    "collapsed": false,
    "ExecuteTime": {
     "end_time": "2023-08-20T19:00:22.203465Z",
     "start_time": "2023-08-20T19:00:22.182168Z"
    }
   }
  },
  {
   "cell_type": "markdown",
   "source": [
    "Napravi novi orders_df spajajući ```orders_df``` i ```products_df``` da bi u novom DataFrame-u uz svaki proizvod iz porudžbine postojala informacija o opisu proizvoda"
   ],
   "metadata": {
    "collapsed": false
   }
  },
  {
   "cell_type": "code",
   "execution_count": null,
   "outputs": [],
   "source": [],
   "metadata": {
    "collapsed": false,
    "ExecuteTime": {
     "end_time": "2023-08-20T19:00:22.203610Z",
     "start_time": "2023-08-20T19:00:22.184360Z"
    }
   }
  },
  {
   "cell_type": "markdown",
   "source": [
    "Napravi novu ```Total``` kolonu u okviru ```orders_df``` koja se dobija kao proizvod vrednosti ```Quantity``` i ```UnitPrice``` kolona"
   ],
   "metadata": {
    "collapsed": false
   }
  },
  {
   "cell_type": "code",
   "execution_count": null,
   "outputs": [],
   "source": [],
   "metadata": {
    "collapsed": false,
    "ExecuteTime": {
     "end_time": "2023-08-20T19:00:22.203943Z",
     "start_time": "2023-08-20T19:00:22.187898Z"
    }
   }
  },
  {
   "cell_type": "markdown",
   "source": [
    "Sačuvaj novi ```order_df``` u fajl sa nazivom ```extended_orders.csv```"
   ],
   "metadata": {
    "collapsed": false
   }
  },
  {
   "cell_type": "code",
   "execution_count": null,
   "outputs": [],
   "source": [],
   "metadata": {
    "collapsed": false,
    "ExecuteTime": {
     "end_time": "2023-08-20T19:00:22.203992Z",
     "start_time": "2023-08-20T19:00:22.189948Z"
    }
   }
  },
  {
   "cell_type": "markdown",
   "source": [
    "Grupiši orders_df tako da dobiješ ukupnu zaradu po državi"
   ],
   "metadata": {
    "collapsed": false
   }
  },
  {
   "cell_type": "code",
   "execution_count": null,
   "outputs": [],
   "source": [],
   "metadata": {
    "collapsed": false
   }
  },
  {
   "cell_type": "markdown",
   "source": [
    "Prikaži rezultate na dijagramu"
   ],
   "metadata": {
    "collapsed": false
   }
  },
  {
   "cell_type": "code",
   "execution_count": null,
   "outputs": [],
   "source": [],
   "metadata": {
    "collapsed": false
   }
  }
 ],
 "metadata": {
  "kernelspec": {
   "display_name": "Python 3",
   "language": "python",
   "name": "python3"
  },
  "language_info": {
   "codemirror_mode": {
    "name": "ipython",
    "version": 2
   },
   "file_extension": ".py",
   "mimetype": "text/x-python",
   "name": "python",
   "nbconvert_exporter": "python",
   "pygments_lexer": "ipython2",
   "version": "2.7.6"
  }
 },
 "nbformat": 4,
 "nbformat_minor": 0
}
