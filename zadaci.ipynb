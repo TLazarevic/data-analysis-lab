{
 "cells": [
  {
   "cell_type": "markdown",
   "source": [
    "### Uvod:\n",
    "\n",
    "Data su dva CSV fajla:\n",
    "1. products.csv - sadrži identifikatore proizvoda i njihove opise\n",
    "2. orders.csv - sadrži porudžbine jedne online prodavnice, zajedno sa identifikatorima porudžbine, proizvoda, kupca, datumom porudžbine, količinom i cenom, kao i zemljom porudžbine"
   ],
   "metadata": {
    "collapsed": false
   }
  },
  {
   "cell_type": "markdown",
   "source": [
    "### Zadaci:"
   ],
   "metadata": {
    "collapsed": false
   }
  },
  {
   "cell_type": "markdown",
   "source": [
    "Importuj pandas"
   ],
   "metadata": {
    "collapsed": false
   }
  },
  {
   "cell_type": "code",
   "execution_count": null,
   "outputs": [],
   "source": [],
   "metadata": {
    "collapsed": false,
    "ExecuteTime": {
     "end_time": "2023-08-25T17:17:45.572784Z",
     "start_time": "2023-08-25T17:17:45.535825Z"
    }
   }
  },
  {
   "cell_type": "markdown",
   "source": [
    "Učitaj ```products.csv``` u DataFrame sa nazivom ```products_df```"
   ],
   "metadata": {
    "collapsed": false
   }
  },
  {
   "cell_type": "code",
   "execution_count": null,
   "outputs": [],
   "source": [],
   "metadata": {
    "collapsed": false,
    "ExecuteTime": {
     "end_time": "2023-08-25T17:17:45.573035Z",
     "start_time": "2023-08-25T17:17:45.537490Z"
    }
   }
  },
  {
   "cell_type": "markdown",
   "source": [
    "Učitaj ```orders.csv``` u DataFrame sa nazivom ```orders_df```"
   ],
   "metadata": {
    "collapsed": false
   }
  },
  {
   "cell_type": "code",
   "execution_count": null,
   "outputs": [],
   "source": [],
   "metadata": {
    "collapsed": false,
    "ExecuteTime": {
     "end_time": "2023-08-25T17:17:45.573075Z",
     "start_time": "2023-08-25T17:17:45.539171Z"
    }
   }
  },
  {
   "cell_type": "markdown",
   "source": [
    "Prikaži prvih 10 redova oba DataFrame-a:"
   ],
   "metadata": {
    "collapsed": false
   }
  },
  {
   "cell_type": "code",
   "execution_count": null,
   "outputs": [],
   "source": [],
   "metadata": {
    "collapsed": false,
    "ExecuteTime": {
     "end_time": "2023-08-25T17:17:45.573102Z",
     "start_time": "2023-08-25T17:17:45.540887Z"
    }
   }
  },
  {
   "cell_type": "code",
   "execution_count": null,
   "outputs": [],
   "source": [],
   "metadata": {
    "collapsed": false,
    "ExecuteTime": {
     "end_time": "2023-08-25T17:17:45.573127Z",
     "start_time": "2023-08-25T17:17:45.543611Z"
    }
   }
  },
  {
   "cell_type": "markdown",
   "source": [
    "Proveri koliko nedostajajućih vrednosti ima kolona ```Description``` u ```products_df``` DataFrame-u"
   ],
   "metadata": {
    "collapsed": false
   }
  },
  {
   "cell_type": "code",
   "execution_count": null,
   "outputs": [],
   "source": [],
   "metadata": {
    "collapsed": false,
    "ExecuteTime": {
     "end_time": "2023-08-25T17:17:45.573156Z",
     "start_time": "2023-08-25T17:17:45.545042Z"
    }
   }
  },
  {
   "cell_type": "markdown",
   "source": [
    "Popuni vrednosti koje nedostaju u ```Description``` koloni sa ```Missing Description```"
   ],
   "metadata": {
    "collapsed": false
   }
  },
  {
   "cell_type": "code",
   "execution_count": null,
   "outputs": [],
   "source": [],
   "metadata": {
    "collapsed": false,
    "ExecuteTime": {
     "end_time": "2023-08-25T17:17:45.573182Z",
     "start_time": "2023-08-25T17:17:45.546883Z"
    }
   }
  },
  {
   "cell_type": "markdown",
   "source": [
    "Napravi novi orders_df spajajući ```orders_df``` i ```products_df``` da bi u novom DataFrame-u uz svaki proizvod iz porudžbine postojala informacija o opisu proizvoda"
   ],
   "metadata": {
    "collapsed": false
   }
  },
  {
   "cell_type": "code",
   "execution_count": null,
   "outputs": [],
   "source": [],
   "metadata": {
    "collapsed": false,
    "ExecuteTime": {
     "end_time": "2023-08-25T17:17:45.573206Z",
     "start_time": "2023-08-25T17:17:45.548654Z"
    }
   }
  },
  {
   "cell_type": "markdown",
   "source": [
    "Napravi novu ```Total``` kolonu u okviru ```orders_df``` koja se dobija kao proizvod vrednosti ```Quantity``` i ```UnitPrice``` kolona"
   ],
   "metadata": {
    "collapsed": false
   }
  },
  {
   "cell_type": "code",
   "execution_count": null,
   "outputs": [],
   "source": [],
   "metadata": {
    "collapsed": false,
    "ExecuteTime": {
     "end_time": "2023-08-25T17:17:45.602305Z",
     "start_time": "2023-08-25T17:17:45.550617Z"
    }
   }
  },
  {
   "cell_type": "markdown",
   "source": [
    "Sačuvaj novi ```order_df``` u fajl sa nazivom ```extended_orders.csv```"
   ],
   "metadata": {
    "collapsed": false
   }
  },
  {
   "cell_type": "code",
   "execution_count": null,
   "outputs": [],
   "source": [],
   "metadata": {
    "collapsed": false,
    "ExecuteTime": {
     "end_time": "2023-08-25T17:17:45.602547Z",
     "start_time": "2023-08-25T17:17:45.552025Z"
    }
   }
  },
  {
   "cell_type": "markdown",
   "source": [
    "Grupiši orders_df tako da dobiješ ukupnu zaradu po državi"
   ],
   "metadata": {
    "collapsed": false
   }
  },
  {
   "cell_type": "code",
   "execution_count": null,
   "outputs": [],
   "source": [],
   "metadata": {
    "collapsed": false,
    "ExecuteTime": {
     "end_time": "2023-08-25T17:17:45.602593Z",
     "start_time": "2023-08-25T17:17:45.553697Z"
    }
   }
  },
  {
   "cell_type": "markdown",
   "source": [
    "Prikaži rezultate na dijagramu. Stilizuj dijagram"
   ],
   "metadata": {
    "collapsed": false
   }
  },
  {
   "cell_type": "code",
   "execution_count": null,
   "outputs": [],
   "source": [],
   "metadata": {
    "collapsed": false,
    "ExecuteTime": {
     "end_time": "2023-08-25T17:17:45.602629Z",
     "start_time": "2023-08-25T17:17:45.555734Z"
    }
   }
  }
 ],
 "metadata": {
  "kernelspec": {
   "display_name": "Python 3",
   "language": "python",
   "name": "python3"
  },
  "language_info": {
   "codemirror_mode": {
    "name": "ipython",
    "version": 2
   },
   "file_extension": ".py",
   "mimetype": "text/x-python",
   "name": "python",
   "nbconvert_exporter": "python",
   "pygments_lexer": "ipython2",
   "version": "2.7.6"
  }
 },
 "nbformat": 4,
 "nbformat_minor": 0
}
