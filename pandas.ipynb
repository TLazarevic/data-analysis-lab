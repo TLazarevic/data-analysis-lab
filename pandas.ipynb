{
 "cells": [
  {
   "cell_type": "markdown",
   "source": [
    "# Pandas\n",
    "\n",
    "Pandas je alat za analizu i obradu podataka za Python programski jezik"
   ],
   "metadata": {
    "collapsed": false
   }
  },
  {
   "cell_type": "markdown",
   "source": [
    "Najčešće se importuje na sledeći način:"
   ],
   "metadata": {
    "collapsed": false
   }
  },
  {
   "cell_type": "code",
   "execution_count": 497,
   "outputs": [],
   "source": [
    "import pandas as pd"
   ],
   "metadata": {
    "collapsed": false,
    "ExecuteTime": {
     "end_time": "2023-08-20T17:08:41.670391Z",
     "start_time": "2023-08-20T17:08:41.336726Z"
    }
   }
  },
  {
   "cell_type": "markdown",
   "source": [
    "U pandas-u se tabela zove **DataFrame**."
   ],
   "metadata": {
    "collapsed": false
   }
  },
  {
   "cell_type": "code",
   "execution_count": 498,
   "outputs": [
    {
     "data": {
      "text/plain": "      A  B   C    D\n0   1.0  A  10  foo\n1   2.0  B   9  foo\n2   3.0  C   8  foo\n3   4.0  D   7  foo\n4   5.0  E   6  foo\n5   6.0  F   5  foo\n6   7.0  G   4  foo\n7   8.0  H   3  foo\n8   9.0  I   2  foo\n9  10.0  J   1  foo",
      "text/html": "<div>\n<style scoped>\n    .dataframe tbody tr th:only-of-type {\n        vertical-align: middle;\n    }\n\n    .dataframe tbody tr th {\n        vertical-align: top;\n    }\n\n    .dataframe thead th {\n        text-align: right;\n    }\n</style>\n<table border=\"1\" class=\"dataframe\">\n  <thead>\n    <tr style=\"text-align: right;\">\n      <th></th>\n      <th>A</th>\n      <th>B</th>\n      <th>C</th>\n      <th>D</th>\n    </tr>\n  </thead>\n  <tbody>\n    <tr>\n      <th>0</th>\n      <td>1.0</td>\n      <td>A</td>\n      <td>10</td>\n      <td>foo</td>\n    </tr>\n    <tr>\n      <th>1</th>\n      <td>2.0</td>\n      <td>B</td>\n      <td>9</td>\n      <td>foo</td>\n    </tr>\n    <tr>\n      <th>2</th>\n      <td>3.0</td>\n      <td>C</td>\n      <td>8</td>\n      <td>foo</td>\n    </tr>\n    <tr>\n      <th>3</th>\n      <td>4.0</td>\n      <td>D</td>\n      <td>7</td>\n      <td>foo</td>\n    </tr>\n    <tr>\n      <th>4</th>\n      <td>5.0</td>\n      <td>E</td>\n      <td>6</td>\n      <td>foo</td>\n    </tr>\n    <tr>\n      <th>5</th>\n      <td>6.0</td>\n      <td>F</td>\n      <td>5</td>\n      <td>foo</td>\n    </tr>\n    <tr>\n      <th>6</th>\n      <td>7.0</td>\n      <td>G</td>\n      <td>4</td>\n      <td>foo</td>\n    </tr>\n    <tr>\n      <th>7</th>\n      <td>8.0</td>\n      <td>H</td>\n      <td>3</td>\n      <td>foo</td>\n    </tr>\n    <tr>\n      <th>8</th>\n      <td>9.0</td>\n      <td>I</td>\n      <td>2</td>\n      <td>foo</td>\n    </tr>\n    <tr>\n      <th>9</th>\n      <td>10.0</td>\n      <td>J</td>\n      <td>1</td>\n      <td>foo</td>\n    </tr>\n  </tbody>\n</table>\n</div>"
     },
     "execution_count": 498,
     "metadata": {},
     "output_type": "execute_result"
    }
   ],
   "source": [
    "df = pd.DataFrame(\n",
    "    {\n",
    "        \"A\": [1.0, 2.0, 3.0, 4.0, 5.0, 6.0, 7.0, 8.0, 9.0, 10.0],\n",
    "        \"B\": [\"A\", \"B\", \"C\", \"D\", \"E\", \"F\", \"G\", \"H\", \"I\", \"J\"],\n",
    "        \"C\": [10, 9, 8, 7, 6, 5, 4, 3, 2, 1],\n",
    "        \"D\": \"foo\",\n",
    "    }\n",
    ")\n",
    "df"
   ],
   "metadata": {
    "collapsed": false,
    "ExecuteTime": {
     "end_time": "2023-08-20T17:08:41.830729Z",
     "start_time": "2023-08-20T17:08:41.343923Z"
    }
   }
  },
  {
   "cell_type": "markdown",
   "source": [
    "### Pregled podataka"
   ],
   "metadata": {
    "collapsed": false
   }
  },
  {
   "cell_type": "markdown",
   "source": [
    "Sa ```DataFrame.head()``` i ```DataFrame.tail()``` mogu se videti prvi i poslednji redovi DataFrame-a"
   ],
   "metadata": {
    "collapsed": false
   }
  },
  {
   "cell_type": "code",
   "execution_count": 499,
   "outputs": [
    {
     "data": {
      "text/plain": "     A  B   C    D\n0  1.0  A  10  foo\n1  2.0  B   9  foo\n2  3.0  C   8  foo\n3  4.0  D   7  foo\n4  5.0  E   6  foo",
      "text/html": "<div>\n<style scoped>\n    .dataframe tbody tr th:only-of-type {\n        vertical-align: middle;\n    }\n\n    .dataframe tbody tr th {\n        vertical-align: top;\n    }\n\n    .dataframe thead th {\n        text-align: right;\n    }\n</style>\n<table border=\"1\" class=\"dataframe\">\n  <thead>\n    <tr style=\"text-align: right;\">\n      <th></th>\n      <th>A</th>\n      <th>B</th>\n      <th>C</th>\n      <th>D</th>\n    </tr>\n  </thead>\n  <tbody>\n    <tr>\n      <th>0</th>\n      <td>1.0</td>\n      <td>A</td>\n      <td>10</td>\n      <td>foo</td>\n    </tr>\n    <tr>\n      <th>1</th>\n      <td>2.0</td>\n      <td>B</td>\n      <td>9</td>\n      <td>foo</td>\n    </tr>\n    <tr>\n      <th>2</th>\n      <td>3.0</td>\n      <td>C</td>\n      <td>8</td>\n      <td>foo</td>\n    </tr>\n    <tr>\n      <th>3</th>\n      <td>4.0</td>\n      <td>D</td>\n      <td>7</td>\n      <td>foo</td>\n    </tr>\n    <tr>\n      <th>4</th>\n      <td>5.0</td>\n      <td>E</td>\n      <td>6</td>\n      <td>foo</td>\n    </tr>\n  </tbody>\n</table>\n</div>"
     },
     "execution_count": 499,
     "metadata": {},
     "output_type": "execute_result"
    }
   ],
   "source": [
    "df.head()"
   ],
   "metadata": {
    "collapsed": false,
    "ExecuteTime": {
     "end_time": "2023-08-20T17:08:41.840148Z",
     "start_time": "2023-08-20T17:08:41.356444Z"
    }
   }
  },
  {
   "cell_type": "code",
   "execution_count": 500,
   "outputs": [
    {
     "data": {
      "text/plain": "      A  B  C    D\n7   8.0  H  3  foo\n8   9.0  I  2  foo\n9  10.0  J  1  foo",
      "text/html": "<div>\n<style scoped>\n    .dataframe tbody tr th:only-of-type {\n        vertical-align: middle;\n    }\n\n    .dataframe tbody tr th {\n        vertical-align: top;\n    }\n\n    .dataframe thead th {\n        text-align: right;\n    }\n</style>\n<table border=\"1\" class=\"dataframe\">\n  <thead>\n    <tr style=\"text-align: right;\">\n      <th></th>\n      <th>A</th>\n      <th>B</th>\n      <th>C</th>\n      <th>D</th>\n    </tr>\n  </thead>\n  <tbody>\n    <tr>\n      <th>7</th>\n      <td>8.0</td>\n      <td>H</td>\n      <td>3</td>\n      <td>foo</td>\n    </tr>\n    <tr>\n      <th>8</th>\n      <td>9.0</td>\n      <td>I</td>\n      <td>2</td>\n      <td>foo</td>\n    </tr>\n    <tr>\n      <th>9</th>\n      <td>10.0</td>\n      <td>J</td>\n      <td>1</td>\n      <td>foo</td>\n    </tr>\n  </tbody>\n</table>\n</div>"
     },
     "execution_count": 500,
     "metadata": {},
     "output_type": "execute_result"
    }
   ],
   "source": [
    "df.tail(3)"
   ],
   "metadata": {
    "collapsed": false,
    "ExecuteTime": {
     "end_time": "2023-08-20T17:08:41.841968Z",
     "start_time": "2023-08-20T17:08:41.358445Z"
    }
   }
  },
  {
   "cell_type": "code",
   "execution_count": 501,
   "outputs": [
    {
     "data": {
      "text/plain": "              A         C\ncount  10.00000  10.00000\nmean    5.50000   5.50000\nstd     3.02765   3.02765\nmin     1.00000   1.00000\n25%     3.25000   3.25000\n50%     5.50000   5.50000\n75%     7.75000   7.75000\nmax    10.00000  10.00000",
      "text/html": "<div>\n<style scoped>\n    .dataframe tbody tr th:only-of-type {\n        vertical-align: middle;\n    }\n\n    .dataframe tbody tr th {\n        vertical-align: top;\n    }\n\n    .dataframe thead th {\n        text-align: right;\n    }\n</style>\n<table border=\"1\" class=\"dataframe\">\n  <thead>\n    <tr style=\"text-align: right;\">\n      <th></th>\n      <th>A</th>\n      <th>C</th>\n    </tr>\n  </thead>\n  <tbody>\n    <tr>\n      <th>count</th>\n      <td>10.00000</td>\n      <td>10.00000</td>\n    </tr>\n    <tr>\n      <th>mean</th>\n      <td>5.50000</td>\n      <td>5.50000</td>\n    </tr>\n    <tr>\n      <th>std</th>\n      <td>3.02765</td>\n      <td>3.02765</td>\n    </tr>\n    <tr>\n      <th>min</th>\n      <td>1.00000</td>\n      <td>1.00000</td>\n    </tr>\n    <tr>\n      <th>25%</th>\n      <td>3.25000</td>\n      <td>3.25000</td>\n    </tr>\n    <tr>\n      <th>50%</th>\n      <td>5.50000</td>\n      <td>5.50000</td>\n    </tr>\n    <tr>\n      <th>75%</th>\n      <td>7.75000</td>\n      <td>7.75000</td>\n    </tr>\n    <tr>\n      <th>max</th>\n      <td>10.00000</td>\n      <td>10.00000</td>\n    </tr>\n  </tbody>\n</table>\n</div>"
     },
     "execution_count": 501,
     "metadata": {},
     "output_type": "execute_result"
    }
   ],
   "source": [
    "df.describe()"
   ],
   "metadata": {
    "collapsed": false,
    "ExecuteTime": {
     "end_time": "2023-08-20T17:08:41.842043Z",
     "start_time": "2023-08-20T17:08:41.362849Z"
    }
   }
  },
  {
   "cell_type": "markdown",
   "source": [
    "```info()``` metoda prikazuje osnovne informacije o DataFrame-u uključujući kolone i njihove tipove podataka, ne-nedostajajućim vrednostima, indeksu"
   ],
   "metadata": {
    "collapsed": false
   }
  },
  {
   "cell_type": "code",
   "execution_count": 502,
   "outputs": [
    {
     "name": "stdout",
     "output_type": "stream",
     "text": [
      "<class 'pandas.core.frame.DataFrame'>\n",
      "RangeIndex: 10 entries, 0 to 9\n",
      "Data columns (total 4 columns):\n",
      " #   Column  Non-Null Count  Dtype  \n",
      "---  ------  --------------  -----  \n",
      " 0   A       10 non-null     float64\n",
      " 1   B       10 non-null     object \n",
      " 2   C       10 non-null     int64  \n",
      " 3   D       10 non-null     object \n",
      "dtypes: float64(1), int64(1), object(2)\n",
      "memory usage: 452.0+ bytes\n"
     ]
    }
   ],
   "source": [
    "df.info()"
   ],
   "metadata": {
    "collapsed": false,
    "ExecuteTime": {
     "end_time": "2023-08-20T17:08:41.842996Z",
     "start_time": "2023-08-20T17:08:41.379164Z"
    }
   }
  },
  {
   "cell_type": "code",
   "execution_count": 503,
   "outputs": [
    {
     "data": {
      "text/plain": "      A  B   C    D\n9  10.0  J   1  foo\n8   9.0  I   2  foo\n7   8.0  H   3  foo\n6   7.0  G   4  foo\n5   6.0  F   5  foo\n4   5.0  E   6  foo\n3   4.0  D   7  foo\n2   3.0  C   8  foo\n1   2.0  B   9  foo\n0   1.0  A  10  foo",
      "text/html": "<div>\n<style scoped>\n    .dataframe tbody tr th:only-of-type {\n        vertical-align: middle;\n    }\n\n    .dataframe tbody tr th {\n        vertical-align: top;\n    }\n\n    .dataframe thead th {\n        text-align: right;\n    }\n</style>\n<table border=\"1\" class=\"dataframe\">\n  <thead>\n    <tr style=\"text-align: right;\">\n      <th></th>\n      <th>A</th>\n      <th>B</th>\n      <th>C</th>\n      <th>D</th>\n    </tr>\n  </thead>\n  <tbody>\n    <tr>\n      <th>9</th>\n      <td>10.0</td>\n      <td>J</td>\n      <td>1</td>\n      <td>foo</td>\n    </tr>\n    <tr>\n      <th>8</th>\n      <td>9.0</td>\n      <td>I</td>\n      <td>2</td>\n      <td>foo</td>\n    </tr>\n    <tr>\n      <th>7</th>\n      <td>8.0</td>\n      <td>H</td>\n      <td>3</td>\n      <td>foo</td>\n    </tr>\n    <tr>\n      <th>6</th>\n      <td>7.0</td>\n      <td>G</td>\n      <td>4</td>\n      <td>foo</td>\n    </tr>\n    <tr>\n      <th>5</th>\n      <td>6.0</td>\n      <td>F</td>\n      <td>5</td>\n      <td>foo</td>\n    </tr>\n    <tr>\n      <th>4</th>\n      <td>5.0</td>\n      <td>E</td>\n      <td>6</td>\n      <td>foo</td>\n    </tr>\n    <tr>\n      <th>3</th>\n      <td>4.0</td>\n      <td>D</td>\n      <td>7</td>\n      <td>foo</td>\n    </tr>\n    <tr>\n      <th>2</th>\n      <td>3.0</td>\n      <td>C</td>\n      <td>8</td>\n      <td>foo</td>\n    </tr>\n    <tr>\n      <th>1</th>\n      <td>2.0</td>\n      <td>B</td>\n      <td>9</td>\n      <td>foo</td>\n    </tr>\n    <tr>\n      <th>0</th>\n      <td>1.0</td>\n      <td>A</td>\n      <td>10</td>\n      <td>foo</td>\n    </tr>\n  </tbody>\n</table>\n</div>"
     },
     "execution_count": 503,
     "metadata": {},
     "output_type": "execute_result"
    }
   ],
   "source": [
    "df.sort_values(by=\"C\")"
   ],
   "metadata": {
    "collapsed": false,
    "ExecuteTime": {
     "end_time": "2023-08-20T17:08:41.843072Z",
     "start_time": "2023-08-20T17:08:41.384118Z"
    }
   }
  },
  {
   "cell_type": "markdown",
   "source": [
    "### Selekcija\n",
    "\n",
    "Selekcija i filtriranje specifičnih redova/kolona, filtriranje podataka na osnovu uslova"
   ],
   "metadata": {
    "collapsed": false
   }
  },
  {
   "cell_type": "markdown",
   "source": [
    "Selekcija jedne kolone. Vraća ```Series``` objekat"
   ],
   "metadata": {
    "collapsed": false
   }
  },
  {
   "cell_type": "code",
   "execution_count": 504,
   "outputs": [
    {
     "data": {
      "text/plain": "0     1.0\n1     2.0\n2     3.0\n3     4.0\n4     5.0\n5     6.0\n6     7.0\n7     8.0\n8     9.0\n9    10.0\nName: A, dtype: float64"
     },
     "execution_count": 504,
     "metadata": {},
     "output_type": "execute_result"
    }
   ],
   "source": [
    "df[\"A\"]"
   ],
   "metadata": {
    "collapsed": false,
    "ExecuteTime": {
     "end_time": "2023-08-20T17:08:41.844284Z",
     "start_time": "2023-08-20T17:08:41.388438Z"
    }
   }
  },
  {
   "cell_type": "markdown",
   "source": [
    "Selekcija preko [] (```__getitem__```) 'iseca' redove"
   ],
   "metadata": {
    "collapsed": false
   }
  },
  {
   "cell_type": "code",
   "execution_count": 505,
   "outputs": [
    {
     "data": {
      "text/plain": "     A  B   C    D\n0  1.0  A  10  foo\n1  2.0  B   9  foo\n2  3.0  C   8  foo",
      "text/html": "<div>\n<style scoped>\n    .dataframe tbody tr th:only-of-type {\n        vertical-align: middle;\n    }\n\n    .dataframe tbody tr th {\n        vertical-align: top;\n    }\n\n    .dataframe thead th {\n        text-align: right;\n    }\n</style>\n<table border=\"1\" class=\"dataframe\">\n  <thead>\n    <tr style=\"text-align: right;\">\n      <th></th>\n      <th>A</th>\n      <th>B</th>\n      <th>C</th>\n      <th>D</th>\n    </tr>\n  </thead>\n  <tbody>\n    <tr>\n      <th>0</th>\n      <td>1.0</td>\n      <td>A</td>\n      <td>10</td>\n      <td>foo</td>\n    </tr>\n    <tr>\n      <th>1</th>\n      <td>2.0</td>\n      <td>B</td>\n      <td>9</td>\n      <td>foo</td>\n    </tr>\n    <tr>\n      <th>2</th>\n      <td>3.0</td>\n      <td>C</td>\n      <td>8</td>\n      <td>foo</td>\n    </tr>\n  </tbody>\n</table>\n</div>"
     },
     "execution_count": 505,
     "metadata": {},
     "output_type": "execute_result"
    }
   ],
   "source": [
    "df[0:3]"
   ],
   "metadata": {
    "collapsed": false,
    "ExecuteTime": {
     "end_time": "2023-08-20T17:08:41.844347Z",
     "start_time": "2023-08-20T17:08:41.392524Z"
    }
   }
  },
  {
   "cell_type": "markdown",
   "source": [
    "##### Selekcija preko labele\n",
    "\n",
    "Metode za indeksiranje na bazi celobrojne labele"
   ],
   "metadata": {
    "collapsed": false
   }
  },
  {
   "cell_type": "code",
   "execution_count": 506,
   "outputs": [
    {
     "data": {
      "text/plain": "      A  B   C    D\na   1.0  A  10  foo\nb   2.0  B   9  foo\nc   3.0  C   8  foo\nd   4.0  D   7  foo\ne   5.0  E   6  foo\nf   6.0  F   5  foo\ng   7.0  G   4  foo\nh   8.0  H   3  foo\ni   9.0  I   2  foo\nj  10.0  J   1  foo",
      "text/html": "<div>\n<style scoped>\n    .dataframe tbody tr th:only-of-type {\n        vertical-align: middle;\n    }\n\n    .dataframe tbody tr th {\n        vertical-align: top;\n    }\n\n    .dataframe thead th {\n        text-align: right;\n    }\n</style>\n<table border=\"1\" class=\"dataframe\">\n  <thead>\n    <tr style=\"text-align: right;\">\n      <th></th>\n      <th>A</th>\n      <th>B</th>\n      <th>C</th>\n      <th>D</th>\n    </tr>\n  </thead>\n  <tbody>\n    <tr>\n      <th>a</th>\n      <td>1.0</td>\n      <td>A</td>\n      <td>10</td>\n      <td>foo</td>\n    </tr>\n    <tr>\n      <th>b</th>\n      <td>2.0</td>\n      <td>B</td>\n      <td>9</td>\n      <td>foo</td>\n    </tr>\n    <tr>\n      <th>c</th>\n      <td>3.0</td>\n      <td>C</td>\n      <td>8</td>\n      <td>foo</td>\n    </tr>\n    <tr>\n      <th>d</th>\n      <td>4.0</td>\n      <td>D</td>\n      <td>7</td>\n      <td>foo</td>\n    </tr>\n    <tr>\n      <th>e</th>\n      <td>5.0</td>\n      <td>E</td>\n      <td>6</td>\n      <td>foo</td>\n    </tr>\n    <tr>\n      <th>f</th>\n      <td>6.0</td>\n      <td>F</td>\n      <td>5</td>\n      <td>foo</td>\n    </tr>\n    <tr>\n      <th>g</th>\n      <td>7.0</td>\n      <td>G</td>\n      <td>4</td>\n      <td>foo</td>\n    </tr>\n    <tr>\n      <th>h</th>\n      <td>8.0</td>\n      <td>H</td>\n      <td>3</td>\n      <td>foo</td>\n    </tr>\n    <tr>\n      <th>i</th>\n      <td>9.0</td>\n      <td>I</td>\n      <td>2</td>\n      <td>foo</td>\n    </tr>\n    <tr>\n      <th>j</th>\n      <td>10.0</td>\n      <td>J</td>\n      <td>1</td>\n      <td>foo</td>\n    </tr>\n  </tbody>\n</table>\n</div>"
     },
     "execution_count": 506,
     "metadata": {},
     "output_type": "execute_result"
    }
   ],
   "source": [
    "df2 = pd.DataFrame(\n",
    "    {\n",
    "        \"A\": [1.0, 2.0, 3.0, 4.0, 5.0, 6.0, 7.0, 8.0, 9.0, 10.0],\n",
    "        \"B\": [\"A\", \"B\", \"C\", \"D\", \"E\", \"F\", \"G\", \"H\", \"I\", \"J\"],\n",
    "        \"C\": [10, 9, 8, 7, 6, 5, 4, 3, 2, 1],\n",
    "        \"D\": \"foo\",\n",
    "    },\n",
    "    index=list('abcdefghij')\n",
    ")\n",
    "df2"
   ],
   "metadata": {
    "collapsed": false,
    "ExecuteTime": {
     "end_time": "2023-08-20T17:08:41.851145Z",
     "start_time": "2023-08-20T17:08:41.408170Z"
    }
   }
  },
  {
   "cell_type": "code",
   "execution_count": 507,
   "outputs": [
    {
     "data": {
      "text/plain": "A    4.0\nB      D\nC      7\nD    foo\nName: d, dtype: object"
     },
     "execution_count": 507,
     "metadata": {},
     "output_type": "execute_result"
    }
   ],
   "source": [
    "df2.loc['d']"
   ],
   "metadata": {
    "collapsed": false,
    "ExecuteTime": {
     "end_time": "2023-08-20T17:08:41.851273Z",
     "start_time": "2023-08-20T17:08:41.412251Z"
    }
   }
  },
  {
   "cell_type": "markdown",
   "source": [
    "Selekcija više osa preko labele"
   ],
   "metadata": {
    "collapsed": false
   }
  },
  {
   "cell_type": "code",
   "execution_count": 508,
   "outputs": [
    {
     "data": {
      "text/plain": "A    4.0\nB      D\nName: d, dtype: object"
     },
     "execution_count": 508,
     "metadata": {},
     "output_type": "execute_result"
    }
   ],
   "source": [
    "df2.loc['d', [\"A\", \"B\"]]"
   ],
   "metadata": {
    "collapsed": false,
    "ExecuteTime": {
     "end_time": "2023-08-20T17:08:41.852533Z",
     "start_time": "2023-08-20T17:08:41.424167Z"
    }
   }
  },
  {
   "cell_type": "markdown",
   "source": [
    "*Note:* Kod selekcije preko labele, selektovanje je uključno sa obe strane"
   ],
   "metadata": {
    "collapsed": false
   }
  },
  {
   "cell_type": "code",
   "execution_count": 509,
   "outputs": [
    {
     "data": {
      "text/plain": "   C    D\nb  9  foo\nc  8  foo\nd  7  foo",
      "text/html": "<div>\n<style scoped>\n    .dataframe tbody tr th:only-of-type {\n        vertical-align: middle;\n    }\n\n    .dataframe tbody tr th {\n        vertical-align: top;\n    }\n\n    .dataframe thead th {\n        text-align: right;\n    }\n</style>\n<table border=\"1\" class=\"dataframe\">\n  <thead>\n    <tr style=\"text-align: right;\">\n      <th></th>\n      <th>C</th>\n      <th>D</th>\n    </tr>\n  </thead>\n  <tbody>\n    <tr>\n      <th>b</th>\n      <td>9</td>\n      <td>foo</td>\n    </tr>\n    <tr>\n      <th>c</th>\n      <td>8</td>\n      <td>foo</td>\n    </tr>\n    <tr>\n      <th>d</th>\n      <td>7</td>\n      <td>foo</td>\n    </tr>\n  </tbody>\n</table>\n</div>"
     },
     "execution_count": 509,
     "metadata": {},
     "output_type": "execute_result"
    }
   ],
   "source": [
    "df2.loc[\"b\":\"d\", [\"C\", \"D\"]]"
   ],
   "metadata": {
    "collapsed": false,
    "ExecuteTime": {
     "end_time": "2023-08-20T17:08:41.853533Z",
     "start_time": "2023-08-20T17:08:41.437937Z"
    }
   }
  },
  {
   "cell_type": "markdown",
   "source": [
    "Dobavljanje skalarne vrednosti"
   ],
   "metadata": {
    "collapsed": false
   }
  },
  {
   "cell_type": "code",
   "execution_count": 510,
   "outputs": [
    {
     "data": {
      "text/plain": "4.0"
     },
     "execution_count": 510,
     "metadata": {},
     "output_type": "execute_result"
    }
   ],
   "source": [
    "df2.loc['d', \"A\"]"
   ],
   "metadata": {
    "collapsed": false,
    "ExecuteTime": {
     "end_time": "2023-08-20T17:08:41.859148Z",
     "start_time": "2023-08-20T17:08:41.442390Z"
    }
   }
  },
  {
   "cell_type": "code",
   "execution_count": 511,
   "outputs": [
    {
     "data": {
      "text/plain": "4.0"
     },
     "execution_count": 511,
     "metadata": {},
     "output_type": "execute_result"
    }
   ],
   "source": [
    "df2.at['d', \"A\"]"
   ],
   "metadata": {
    "collapsed": false,
    "ExecuteTime": {
     "end_time": "2023-08-20T17:08:41.859296Z",
     "start_time": "2023-08-20T17:08:41.445050Z"
    }
   }
  },
  {
   "cell_type": "markdown",
   "source": [
    "##### Selekcija po poziciji\n",
    "\n",
    "Metode za indeksiranje na bazi celobrojne pozicije."
   ],
   "metadata": {
    "collapsed": false
   }
  },
  {
   "cell_type": "markdown",
   "source": [
    "*Note*: Kod selekcije po poziciji, početna vrednost je uključna a krajnja isključna!"
   ],
   "metadata": {
    "collapsed": false
   }
  },
  {
   "cell_type": "code",
   "execution_count": 512,
   "outputs": [
    {
     "data": {
      "text/plain": "A    4.0\nB      D\nC      7\nD    foo\nName: d, dtype: object"
     },
     "execution_count": 512,
     "metadata": {},
     "output_type": "execute_result"
    }
   ],
   "source": [
    "df2.iloc[3]"
   ],
   "metadata": {
    "collapsed": false,
    "ExecuteTime": {
     "end_time": "2023-08-20T17:08:41.861027Z",
     "start_time": "2023-08-20T17:08:41.457444Z"
    }
   }
  },
  {
   "cell_type": "code",
   "execution_count": 513,
   "outputs": [
    {
     "data": {
      "text/plain": "     A  B\nd  4.0  D\ne  5.0  E",
      "text/html": "<div>\n<style scoped>\n    .dataframe tbody tr th:only-of-type {\n        vertical-align: middle;\n    }\n\n    .dataframe tbody tr th {\n        vertical-align: top;\n    }\n\n    .dataframe thead th {\n        text-align: right;\n    }\n</style>\n<table border=\"1\" class=\"dataframe\">\n  <thead>\n    <tr style=\"text-align: right;\">\n      <th></th>\n      <th>A</th>\n      <th>B</th>\n    </tr>\n  </thead>\n  <tbody>\n    <tr>\n      <th>d</th>\n      <td>4.0</td>\n      <td>D</td>\n    </tr>\n    <tr>\n      <th>e</th>\n      <td>5.0</td>\n      <td>E</td>\n    </tr>\n  </tbody>\n</table>\n</div>"
     },
     "execution_count": 513,
     "metadata": {},
     "output_type": "execute_result"
    }
   ],
   "source": [
    "df2.iloc[3:5, 0:2]"
   ],
   "metadata": {
    "collapsed": false,
    "ExecuteTime": {
     "end_time": "2023-08-20T17:08:41.861093Z",
     "start_time": "2023-08-20T17:08:41.460861Z"
    }
   }
  },
  {
   "cell_type": "markdown",
   "source": [
    "Isecanje redova"
   ],
   "metadata": {
    "collapsed": false
   }
  },
  {
   "cell_type": "code",
   "execution_count": 514,
   "outputs": [
    {
     "data": {
      "text/plain": "     A  B  C    D\nb  2.0  B  9  foo\nc  3.0  C  8  foo",
      "text/html": "<div>\n<style scoped>\n    .dataframe tbody tr th:only-of-type {\n        vertical-align: middle;\n    }\n\n    .dataframe tbody tr th {\n        vertical-align: top;\n    }\n\n    .dataframe thead th {\n        text-align: right;\n    }\n</style>\n<table border=\"1\" class=\"dataframe\">\n  <thead>\n    <tr style=\"text-align: right;\">\n      <th></th>\n      <th>A</th>\n      <th>B</th>\n      <th>C</th>\n      <th>D</th>\n    </tr>\n  </thead>\n  <tbody>\n    <tr>\n      <th>b</th>\n      <td>2.0</td>\n      <td>B</td>\n      <td>9</td>\n      <td>foo</td>\n    </tr>\n    <tr>\n      <th>c</th>\n      <td>3.0</td>\n      <td>C</td>\n      <td>8</td>\n      <td>foo</td>\n    </tr>\n  </tbody>\n</table>\n</div>"
     },
     "execution_count": 514,
     "metadata": {},
     "output_type": "execute_result"
    }
   ],
   "source": [
    "df2.iloc[1:3, :]"
   ],
   "metadata": {
    "collapsed": false,
    "ExecuteTime": {
     "end_time": "2023-08-20T17:08:41.861973Z",
     "start_time": "2023-08-20T17:08:41.465738Z"
    }
   }
  },
  {
   "cell_type": "markdown",
   "source": [
    "Isecanje kolona"
   ],
   "metadata": {
    "collapsed": false
   }
  },
  {
   "cell_type": "code",
   "execution_count": 515,
   "outputs": [
    {
     "data": {
      "text/plain": "   B   C\na  A  10\nb  B   9\nc  C   8\nd  D   7\ne  E   6\nf  F   5\ng  G   4\nh  H   3\ni  I   2\nj  J   1",
      "text/html": "<div>\n<style scoped>\n    .dataframe tbody tr th:only-of-type {\n        vertical-align: middle;\n    }\n\n    .dataframe tbody tr th {\n        vertical-align: top;\n    }\n\n    .dataframe thead th {\n        text-align: right;\n    }\n</style>\n<table border=\"1\" class=\"dataframe\">\n  <thead>\n    <tr style=\"text-align: right;\">\n      <th></th>\n      <th>B</th>\n      <th>C</th>\n    </tr>\n  </thead>\n  <tbody>\n    <tr>\n      <th>a</th>\n      <td>A</td>\n      <td>10</td>\n    </tr>\n    <tr>\n      <th>b</th>\n      <td>B</td>\n      <td>9</td>\n    </tr>\n    <tr>\n      <th>c</th>\n      <td>C</td>\n      <td>8</td>\n    </tr>\n    <tr>\n      <th>d</th>\n      <td>D</td>\n      <td>7</td>\n    </tr>\n    <tr>\n      <th>e</th>\n      <td>E</td>\n      <td>6</td>\n    </tr>\n    <tr>\n      <th>f</th>\n      <td>F</td>\n      <td>5</td>\n    </tr>\n    <tr>\n      <th>g</th>\n      <td>G</td>\n      <td>4</td>\n    </tr>\n    <tr>\n      <th>h</th>\n      <td>H</td>\n      <td>3</td>\n    </tr>\n    <tr>\n      <th>i</th>\n      <td>I</td>\n      <td>2</td>\n    </tr>\n    <tr>\n      <th>j</th>\n      <td>J</td>\n      <td>1</td>\n    </tr>\n  </tbody>\n</table>\n</div>"
     },
     "execution_count": 515,
     "metadata": {},
     "output_type": "execute_result"
    }
   ],
   "source": [
    "df2.iloc[:, 1:3]"
   ],
   "metadata": {
    "collapsed": false,
    "ExecuteTime": {
     "end_time": "2023-08-20T17:08:41.862854Z",
     "start_time": "2023-08-20T17:08:41.475129Z"
    }
   }
  },
  {
   "cell_type": "markdown",
   "source": [
    "Dobavljanje vrednosti"
   ],
   "metadata": {
    "collapsed": false
   }
  },
  {
   "cell_type": "code",
   "execution_count": 516,
   "outputs": [
    {
     "data": {
      "text/plain": "'B'"
     },
     "execution_count": 516,
     "metadata": {},
     "output_type": "execute_result"
    }
   ],
   "source": [
    "df2.iloc[1, 1]"
   ],
   "metadata": {
    "collapsed": false,
    "ExecuteTime": {
     "end_time": "2023-08-20T17:08:41.867564Z",
     "start_time": "2023-08-20T17:08:41.483356Z"
    }
   }
  },
  {
   "cell_type": "code",
   "execution_count": 517,
   "outputs": [
    {
     "data": {
      "text/plain": "'B'"
     },
     "execution_count": 517,
     "metadata": {},
     "output_type": "execute_result"
    }
   ],
   "source": [
    "df2.iat[1, 1]"
   ],
   "metadata": {
    "collapsed": false,
    "ExecuteTime": {
     "end_time": "2023-08-20T17:08:41.867694Z",
     "start_time": "2023-08-20T17:08:41.485732Z"
    }
   }
  },
  {
   "cell_type": "markdown",
   "source": [
    "##### Boolean indeksiranje\n",
    "\n",
    "Selektovanje podataka na osnovu vrednosti iz jedne kolone"
   ],
   "metadata": {
    "collapsed": false
   }
  },
  {
   "cell_type": "code",
   "execution_count": 518,
   "outputs": [
    {
     "data": {
      "text/plain": "      A  B  C    D\nf   6.0  F  5  foo\ng   7.0  G  4  foo\nh   8.0  H  3  foo\ni   9.0  I  2  foo\nj  10.0  J  1  foo",
      "text/html": "<div>\n<style scoped>\n    .dataframe tbody tr th:only-of-type {\n        vertical-align: middle;\n    }\n\n    .dataframe tbody tr th {\n        vertical-align: top;\n    }\n\n    .dataframe thead th {\n        text-align: right;\n    }\n</style>\n<table border=\"1\" class=\"dataframe\">\n  <thead>\n    <tr style=\"text-align: right;\">\n      <th></th>\n      <th>A</th>\n      <th>B</th>\n      <th>C</th>\n      <th>D</th>\n    </tr>\n  </thead>\n  <tbody>\n    <tr>\n      <th>f</th>\n      <td>6.0</td>\n      <td>F</td>\n      <td>5</td>\n      <td>foo</td>\n    </tr>\n    <tr>\n      <th>g</th>\n      <td>7.0</td>\n      <td>G</td>\n      <td>4</td>\n      <td>foo</td>\n    </tr>\n    <tr>\n      <th>h</th>\n      <td>8.0</td>\n      <td>H</td>\n      <td>3</td>\n      <td>foo</td>\n    </tr>\n    <tr>\n      <th>i</th>\n      <td>9.0</td>\n      <td>I</td>\n      <td>2</td>\n      <td>foo</td>\n    </tr>\n    <tr>\n      <th>j</th>\n      <td>10.0</td>\n      <td>J</td>\n      <td>1</td>\n      <td>foo</td>\n    </tr>\n  </tbody>\n</table>\n</div>"
     },
     "execution_count": 518,
     "metadata": {},
     "output_type": "execute_result"
    }
   ],
   "source": [
    "df2[df2[\"A\"] > 5]"
   ],
   "metadata": {
    "collapsed": false,
    "ExecuteTime": {
     "end_time": "2023-08-20T17:08:41.868789Z",
     "start_time": "2023-08-20T17:08:41.492710Z"
    }
   }
  },
  {
   "cell_type": "markdown",
   "source": [
    "##### Korišćenje isin() za filtriranje"
   ],
   "metadata": {
    "collapsed": false
   }
  },
  {
   "cell_type": "code",
   "execution_count": 519,
   "outputs": [
    {
     "data": {
      "text/plain": "      A  B  C    D\ng   7.0  G  4  foo\nj  10.0  J  1  foo",
      "text/html": "<div>\n<style scoped>\n    .dataframe tbody tr th:only-of-type {\n        vertical-align: middle;\n    }\n\n    .dataframe tbody tr th {\n        vertical-align: top;\n    }\n\n    .dataframe thead th {\n        text-align: right;\n    }\n</style>\n<table border=\"1\" class=\"dataframe\">\n  <thead>\n    <tr style=\"text-align: right;\">\n      <th></th>\n      <th>A</th>\n      <th>B</th>\n      <th>C</th>\n      <th>D</th>\n    </tr>\n  </thead>\n  <tbody>\n    <tr>\n      <th>g</th>\n      <td>7.0</td>\n      <td>G</td>\n      <td>4</td>\n      <td>foo</td>\n    </tr>\n    <tr>\n      <th>j</th>\n      <td>10.0</td>\n      <td>J</td>\n      <td>1</td>\n      <td>foo</td>\n    </tr>\n  </tbody>\n</table>\n</div>"
     },
     "execution_count": 519,
     "metadata": {},
     "output_type": "execute_result"
    }
   ],
   "source": [
    "df2[df2[\"B\"].isin([\"G\", \"J\"])]"
   ],
   "metadata": {
    "collapsed": false,
    "ExecuteTime": {
     "end_time": "2023-08-20T17:08:41.870391Z",
     "start_time": "2023-08-20T17:08:41.502413Z"
    }
   }
  },
  {
   "cell_type": "code",
   "execution_count": 520,
   "outputs": [],
   "source": [
    "### Dodela vrednosti"
   ],
   "metadata": {
    "collapsed": false,
    "ExecuteTime": {
     "end_time": "2023-08-20T17:08:41.870426Z",
     "start_time": "2023-08-20T17:08:41.504573Z"
    }
   }
  },
  {
   "cell_type": "markdown",
   "source": [
    "##### Dodela vrednosti preko labele"
   ],
   "metadata": {
    "collapsed": false
   }
  },
  {
   "cell_type": "code",
   "execution_count": 521,
   "outputs": [
    {
     "data": {
      "text/plain": "      A  B   C    D\na   1.0  A  10  foo\nb  -1.0  B   9  foo\nc   3.0  C   8  foo\nd   4.0  D   7  foo\ne   5.0  E   6  foo\nf   6.0  F   5  foo\ng   7.0  G   4  foo\nh   8.0  H   3  foo\ni   9.0  I   2  foo\nj  10.0  J   1  foo",
      "text/html": "<div>\n<style scoped>\n    .dataframe tbody tr th:only-of-type {\n        vertical-align: middle;\n    }\n\n    .dataframe tbody tr th {\n        vertical-align: top;\n    }\n\n    .dataframe thead th {\n        text-align: right;\n    }\n</style>\n<table border=\"1\" class=\"dataframe\">\n  <thead>\n    <tr style=\"text-align: right;\">\n      <th></th>\n      <th>A</th>\n      <th>B</th>\n      <th>C</th>\n      <th>D</th>\n    </tr>\n  </thead>\n  <tbody>\n    <tr>\n      <th>a</th>\n      <td>1.0</td>\n      <td>A</td>\n      <td>10</td>\n      <td>foo</td>\n    </tr>\n    <tr>\n      <th>b</th>\n      <td>-1.0</td>\n      <td>B</td>\n      <td>9</td>\n      <td>foo</td>\n    </tr>\n    <tr>\n      <th>c</th>\n      <td>3.0</td>\n      <td>C</td>\n      <td>8</td>\n      <td>foo</td>\n    </tr>\n    <tr>\n      <th>d</th>\n      <td>4.0</td>\n      <td>D</td>\n      <td>7</td>\n      <td>foo</td>\n    </tr>\n    <tr>\n      <th>e</th>\n      <td>5.0</td>\n      <td>E</td>\n      <td>6</td>\n      <td>foo</td>\n    </tr>\n    <tr>\n      <th>f</th>\n      <td>6.0</td>\n      <td>F</td>\n      <td>5</td>\n      <td>foo</td>\n    </tr>\n    <tr>\n      <th>g</th>\n      <td>7.0</td>\n      <td>G</td>\n      <td>4</td>\n      <td>foo</td>\n    </tr>\n    <tr>\n      <th>h</th>\n      <td>8.0</td>\n      <td>H</td>\n      <td>3</td>\n      <td>foo</td>\n    </tr>\n    <tr>\n      <th>i</th>\n      <td>9.0</td>\n      <td>I</td>\n      <td>2</td>\n      <td>foo</td>\n    </tr>\n    <tr>\n      <th>j</th>\n      <td>10.0</td>\n      <td>J</td>\n      <td>1</td>\n      <td>foo</td>\n    </tr>\n  </tbody>\n</table>\n</div>"
     },
     "execution_count": 521,
     "metadata": {},
     "output_type": "execute_result"
    }
   ],
   "source": [
    "df2.at['b', \"A\"] = -1\n",
    "df2"
   ],
   "metadata": {
    "collapsed": false,
    "ExecuteTime": {
     "end_time": "2023-08-20T17:08:41.871275Z",
     "start_time": "2023-08-20T17:08:41.509510Z"
    }
   }
  },
  {
   "cell_type": "markdown",
   "source": [
    "##### Dodela vrednosti preko pozicije"
   ],
   "metadata": {
    "collapsed": false
   }
  },
  {
   "cell_type": "code",
   "execution_count": 522,
   "outputs": [
    {
     "data": {
      "text/plain": "      A  B   C    D\na   1.0  M  10  foo\nb  -1.0  B   9  foo\nc   3.0  C   8  foo\nd   4.0  D   7  foo\ne   5.0  E   6  foo\nf   6.0  F   5  foo\ng   7.0  G   4  foo\nh   8.0  H   3  foo\ni   9.0  I   2  foo\nj  10.0  J   1  foo",
      "text/html": "<div>\n<style scoped>\n    .dataframe tbody tr th:only-of-type {\n        vertical-align: middle;\n    }\n\n    .dataframe tbody tr th {\n        vertical-align: top;\n    }\n\n    .dataframe thead th {\n        text-align: right;\n    }\n</style>\n<table border=\"1\" class=\"dataframe\">\n  <thead>\n    <tr style=\"text-align: right;\">\n      <th></th>\n      <th>A</th>\n      <th>B</th>\n      <th>C</th>\n      <th>D</th>\n    </tr>\n  </thead>\n  <tbody>\n    <tr>\n      <th>a</th>\n      <td>1.0</td>\n      <td>M</td>\n      <td>10</td>\n      <td>foo</td>\n    </tr>\n    <tr>\n      <th>b</th>\n      <td>-1.0</td>\n      <td>B</td>\n      <td>9</td>\n      <td>foo</td>\n    </tr>\n    <tr>\n      <th>c</th>\n      <td>3.0</td>\n      <td>C</td>\n      <td>8</td>\n      <td>foo</td>\n    </tr>\n    <tr>\n      <th>d</th>\n      <td>4.0</td>\n      <td>D</td>\n      <td>7</td>\n      <td>foo</td>\n    </tr>\n    <tr>\n      <th>e</th>\n      <td>5.0</td>\n      <td>E</td>\n      <td>6</td>\n      <td>foo</td>\n    </tr>\n    <tr>\n      <th>f</th>\n      <td>6.0</td>\n      <td>F</td>\n      <td>5</td>\n      <td>foo</td>\n    </tr>\n    <tr>\n      <th>g</th>\n      <td>7.0</td>\n      <td>G</td>\n      <td>4</td>\n      <td>foo</td>\n    </tr>\n    <tr>\n      <th>h</th>\n      <td>8.0</td>\n      <td>H</td>\n      <td>3</td>\n      <td>foo</td>\n    </tr>\n    <tr>\n      <th>i</th>\n      <td>9.0</td>\n      <td>I</td>\n      <td>2</td>\n      <td>foo</td>\n    </tr>\n    <tr>\n      <th>j</th>\n      <td>10.0</td>\n      <td>J</td>\n      <td>1</td>\n      <td>foo</td>\n    </tr>\n  </tbody>\n</table>\n</div>"
     },
     "execution_count": 522,
     "metadata": {},
     "output_type": "execute_result"
    }
   ],
   "source": [
    "df2.iat[0, 1] = 'M'\n",
    "df2"
   ],
   "metadata": {
    "collapsed": false,
    "ExecuteTime": {
     "end_time": "2023-08-20T17:08:41.872121Z",
     "start_time": "2023-08-20T17:08:41.518854Z"
    }
   }
  },
  {
   "cell_type": "markdown",
   "source": [
    "Dodela vrednosti pomoću niza"
   ],
   "metadata": {
    "collapsed": false
   }
  },
  {
   "cell_type": "code",
   "execution_count": 523,
   "outputs": [
    {
     "data": {
      "text/plain": "      A  B   C    D\na   1.0  M  10   -1\nb  -1.0  B   9   -2\nc   3.0  C   8   -3\nd   4.0  D   7   -4\ne   5.0  E   6   -5\nf   6.0  F   5   -6\ng   7.0  G   4   -7\nh   8.0  H   3   -8\ni   9.0  I   2   -9\nj  10.0  J   1  -10",
      "text/html": "<div>\n<style scoped>\n    .dataframe tbody tr th:only-of-type {\n        vertical-align: middle;\n    }\n\n    .dataframe tbody tr th {\n        vertical-align: top;\n    }\n\n    .dataframe thead th {\n        text-align: right;\n    }\n</style>\n<table border=\"1\" class=\"dataframe\">\n  <thead>\n    <tr style=\"text-align: right;\">\n      <th></th>\n      <th>A</th>\n      <th>B</th>\n      <th>C</th>\n      <th>D</th>\n    </tr>\n  </thead>\n  <tbody>\n    <tr>\n      <th>a</th>\n      <td>1.0</td>\n      <td>M</td>\n      <td>10</td>\n      <td>-1</td>\n    </tr>\n    <tr>\n      <th>b</th>\n      <td>-1.0</td>\n      <td>B</td>\n      <td>9</td>\n      <td>-2</td>\n    </tr>\n    <tr>\n      <th>c</th>\n      <td>3.0</td>\n      <td>C</td>\n      <td>8</td>\n      <td>-3</td>\n    </tr>\n    <tr>\n      <th>d</th>\n      <td>4.0</td>\n      <td>D</td>\n      <td>7</td>\n      <td>-4</td>\n    </tr>\n    <tr>\n      <th>e</th>\n      <td>5.0</td>\n      <td>E</td>\n      <td>6</td>\n      <td>-5</td>\n    </tr>\n    <tr>\n      <th>f</th>\n      <td>6.0</td>\n      <td>F</td>\n      <td>5</td>\n      <td>-6</td>\n    </tr>\n    <tr>\n      <th>g</th>\n      <td>7.0</td>\n      <td>G</td>\n      <td>4</td>\n      <td>-7</td>\n    </tr>\n    <tr>\n      <th>h</th>\n      <td>8.0</td>\n      <td>H</td>\n      <td>3</td>\n      <td>-8</td>\n    </tr>\n    <tr>\n      <th>i</th>\n      <td>9.0</td>\n      <td>I</td>\n      <td>2</td>\n      <td>-9</td>\n    </tr>\n    <tr>\n      <th>j</th>\n      <td>10.0</td>\n      <td>J</td>\n      <td>1</td>\n      <td>-10</td>\n    </tr>\n  </tbody>\n</table>\n</div>"
     },
     "execution_count": 523,
     "metadata": {},
     "output_type": "execute_result"
    }
   ],
   "source": [
    "df2.loc[:, \"D\"] = [-1, -2, -3, -4, -5, -6, -7, -8, -9, -10]\n",
    "df2"
   ],
   "metadata": {
    "collapsed": false,
    "ExecuteTime": {
     "end_time": "2023-08-20T17:08:41.872999Z",
     "start_time": "2023-08-20T17:08:41.528483Z"
    }
   }
  },
  {
   "cell_type": "markdown",
   "source": [
    "### Nedostajući podaci"
   ],
   "metadata": {
    "collapsed": false
   }
  },
  {
   "cell_type": "code",
   "execution_count": 524,
   "outputs": [],
   "source": [
    "df3 = pd.DataFrame(\n",
    "    {\n",
    "        \"A\": [1.0, 2.0, 3.0, 4.0, 5.0, 6.0, 7.0, 8.0, 9.0, 10.0],\n",
    "        \"B\": [\"A\", \"B\", \"C\", \"D\", \"E\", \"F\", \"G\", \"H\", \"I\", \"J\"],\n",
    "        \"C\": [10, 9, 8, 7, 6, 5, 4, 3, 2, 1],\n",
    "        \"D\": ['dog', 'cat', None, 'lion', 'bear', 'penguin', 'horse', 'dolphin', 'panda', 'seagull'],\n",
    "    },\n",
    "    index=list('abcdefghij')\n",
    ")"
   ],
   "metadata": {
    "collapsed": false,
    "ExecuteTime": {
     "end_time": "2023-08-20T17:08:41.873900Z",
     "start_time": "2023-08-20T17:08:41.536457Z"
    }
   }
  },
  {
   "cell_type": "markdown",
   "source": [
    "Odbacivanje redova koji imaju nedostajajuće podatke"
   ],
   "metadata": {
    "collapsed": false
   }
  },
  {
   "cell_type": "code",
   "execution_count": 525,
   "outputs": [
    {
     "data": {
      "text/plain": "      A  B   C        D\na   1.0  A  10      dog\nb   2.0  B   9      cat\nd   4.0  D   7     lion\ne   5.0  E   6     bear\nf   6.0  F   5  penguin\ng   7.0  G   4    horse\nh   8.0  H   3  dolphin\ni   9.0  I   2    panda\nj  10.0  J   1  seagull",
      "text/html": "<div>\n<style scoped>\n    .dataframe tbody tr th:only-of-type {\n        vertical-align: middle;\n    }\n\n    .dataframe tbody tr th {\n        vertical-align: top;\n    }\n\n    .dataframe thead th {\n        text-align: right;\n    }\n</style>\n<table border=\"1\" class=\"dataframe\">\n  <thead>\n    <tr style=\"text-align: right;\">\n      <th></th>\n      <th>A</th>\n      <th>B</th>\n      <th>C</th>\n      <th>D</th>\n    </tr>\n  </thead>\n  <tbody>\n    <tr>\n      <th>a</th>\n      <td>1.0</td>\n      <td>A</td>\n      <td>10</td>\n      <td>dog</td>\n    </tr>\n    <tr>\n      <th>b</th>\n      <td>2.0</td>\n      <td>B</td>\n      <td>9</td>\n      <td>cat</td>\n    </tr>\n    <tr>\n      <th>d</th>\n      <td>4.0</td>\n      <td>D</td>\n      <td>7</td>\n      <td>lion</td>\n    </tr>\n    <tr>\n      <th>e</th>\n      <td>5.0</td>\n      <td>E</td>\n      <td>6</td>\n      <td>bear</td>\n    </tr>\n    <tr>\n      <th>f</th>\n      <td>6.0</td>\n      <td>F</td>\n      <td>5</td>\n      <td>penguin</td>\n    </tr>\n    <tr>\n      <th>g</th>\n      <td>7.0</td>\n      <td>G</td>\n      <td>4</td>\n      <td>horse</td>\n    </tr>\n    <tr>\n      <th>h</th>\n      <td>8.0</td>\n      <td>H</td>\n      <td>3</td>\n      <td>dolphin</td>\n    </tr>\n    <tr>\n      <th>i</th>\n      <td>9.0</td>\n      <td>I</td>\n      <td>2</td>\n      <td>panda</td>\n    </tr>\n    <tr>\n      <th>j</th>\n      <td>10.0</td>\n      <td>J</td>\n      <td>1</td>\n      <td>seagull</td>\n    </tr>\n  </tbody>\n</table>\n</div>"
     },
     "execution_count": 525,
     "metadata": {},
     "output_type": "execute_result"
    }
   ],
   "source": [
    "df3.dropna(how=\"any\")"
   ],
   "metadata": {
    "collapsed": false,
    "ExecuteTime": {
     "end_time": "2023-08-20T17:08:41.874753Z",
     "start_time": "2023-08-20T17:08:41.544762Z"
    }
   }
  },
  {
   "cell_type": "markdown",
   "source": [
    "Odbacivanje kolona koje imaju nedostajajuće podatke"
   ],
   "metadata": {
    "collapsed": false
   }
  },
  {
   "cell_type": "code",
   "execution_count": 526,
   "outputs": [
    {
     "data": {
      "text/plain": "      A  B   C\na   1.0  A  10\nb   2.0  B   9\nc   3.0  C   8\nd   4.0  D   7\ne   5.0  E   6\nf   6.0  F   5\ng   7.0  G   4\nh   8.0  H   3\ni   9.0  I   2\nj  10.0  J   1",
      "text/html": "<div>\n<style scoped>\n    .dataframe tbody tr th:only-of-type {\n        vertical-align: middle;\n    }\n\n    .dataframe tbody tr th {\n        vertical-align: top;\n    }\n\n    .dataframe thead th {\n        text-align: right;\n    }\n</style>\n<table border=\"1\" class=\"dataframe\">\n  <thead>\n    <tr style=\"text-align: right;\">\n      <th></th>\n      <th>A</th>\n      <th>B</th>\n      <th>C</th>\n    </tr>\n  </thead>\n  <tbody>\n    <tr>\n      <th>a</th>\n      <td>1.0</td>\n      <td>A</td>\n      <td>10</td>\n    </tr>\n    <tr>\n      <th>b</th>\n      <td>2.0</td>\n      <td>B</td>\n      <td>9</td>\n    </tr>\n    <tr>\n      <th>c</th>\n      <td>3.0</td>\n      <td>C</td>\n      <td>8</td>\n    </tr>\n    <tr>\n      <th>d</th>\n      <td>4.0</td>\n      <td>D</td>\n      <td>7</td>\n    </tr>\n    <tr>\n      <th>e</th>\n      <td>5.0</td>\n      <td>E</td>\n      <td>6</td>\n    </tr>\n    <tr>\n      <th>f</th>\n      <td>6.0</td>\n      <td>F</td>\n      <td>5</td>\n    </tr>\n    <tr>\n      <th>g</th>\n      <td>7.0</td>\n      <td>G</td>\n      <td>4</td>\n    </tr>\n    <tr>\n      <th>h</th>\n      <td>8.0</td>\n      <td>H</td>\n      <td>3</td>\n    </tr>\n    <tr>\n      <th>i</th>\n      <td>9.0</td>\n      <td>I</td>\n      <td>2</td>\n    </tr>\n    <tr>\n      <th>j</th>\n      <td>10.0</td>\n      <td>J</td>\n      <td>1</td>\n    </tr>\n  </tbody>\n</table>\n</div>"
     },
     "execution_count": 526,
     "metadata": {},
     "output_type": "execute_result"
    }
   ],
   "source": [
    "df3.dropna(how=\"any\", axis=1)"
   ],
   "metadata": {
    "collapsed": false,
    "ExecuteTime": {
     "end_time": "2023-08-20T17:08:41.875568Z",
     "start_time": "2023-08-20T17:08:41.560866Z"
    }
   }
  },
  {
   "cell_type": "markdown",
   "source": [
    "```fillna()``` popunjava nedostajajuće podatke:"
   ],
   "metadata": {
    "collapsed": false
   }
  },
  {
   "cell_type": "code",
   "execution_count": 527,
   "outputs": [
    {
     "data": {
      "text/plain": "      A  B   C        D\na   1.0  A  10      dog\nb   2.0  B   9      cat\nc   3.0  C   8      555\nd   4.0  D   7     lion\ne   5.0  E   6     bear\nf   6.0  F   5  penguin\ng   7.0  G   4    horse\nh   8.0  H   3  dolphin\ni   9.0  I   2    panda\nj  10.0  J   1  seagull",
      "text/html": "<div>\n<style scoped>\n    .dataframe tbody tr th:only-of-type {\n        vertical-align: middle;\n    }\n\n    .dataframe tbody tr th {\n        vertical-align: top;\n    }\n\n    .dataframe thead th {\n        text-align: right;\n    }\n</style>\n<table border=\"1\" class=\"dataframe\">\n  <thead>\n    <tr style=\"text-align: right;\">\n      <th></th>\n      <th>A</th>\n      <th>B</th>\n      <th>C</th>\n      <th>D</th>\n    </tr>\n  </thead>\n  <tbody>\n    <tr>\n      <th>a</th>\n      <td>1.0</td>\n      <td>A</td>\n      <td>10</td>\n      <td>dog</td>\n    </tr>\n    <tr>\n      <th>b</th>\n      <td>2.0</td>\n      <td>B</td>\n      <td>9</td>\n      <td>cat</td>\n    </tr>\n    <tr>\n      <th>c</th>\n      <td>3.0</td>\n      <td>C</td>\n      <td>8</td>\n      <td>555</td>\n    </tr>\n    <tr>\n      <th>d</th>\n      <td>4.0</td>\n      <td>D</td>\n      <td>7</td>\n      <td>lion</td>\n    </tr>\n    <tr>\n      <th>e</th>\n      <td>5.0</td>\n      <td>E</td>\n      <td>6</td>\n      <td>bear</td>\n    </tr>\n    <tr>\n      <th>f</th>\n      <td>6.0</td>\n      <td>F</td>\n      <td>5</td>\n      <td>penguin</td>\n    </tr>\n    <tr>\n      <th>g</th>\n      <td>7.0</td>\n      <td>G</td>\n      <td>4</td>\n      <td>horse</td>\n    </tr>\n    <tr>\n      <th>h</th>\n      <td>8.0</td>\n      <td>H</td>\n      <td>3</td>\n      <td>dolphin</td>\n    </tr>\n    <tr>\n      <th>i</th>\n      <td>9.0</td>\n      <td>I</td>\n      <td>2</td>\n      <td>panda</td>\n    </tr>\n    <tr>\n      <th>j</th>\n      <td>10.0</td>\n      <td>J</td>\n      <td>1</td>\n      <td>seagull</td>\n    </tr>\n  </tbody>\n</table>\n</div>"
     },
     "execution_count": 527,
     "metadata": {},
     "output_type": "execute_result"
    }
   ],
   "source": [
    "df3.fillna(value=555)"
   ],
   "metadata": {
    "collapsed": false,
    "ExecuteTime": {
     "end_time": "2023-08-20T17:08:41.876375Z",
     "start_time": "2023-08-20T17:08:41.568735Z"
    }
   }
  },
  {
   "cell_type": "markdown",
   "source": [
    "### Kreiranje novih kolona na osnovu postojećih\n"
   ],
   "metadata": {
    "collapsed": false
   }
  },
  {
   "cell_type": "markdown",
   "source": [
    "Kreiranje nove kolone"
   ],
   "metadata": {
    "collapsed": false
   }
  },
  {
   "cell_type": "markdown",
   "source": [
    "Za kreiranje nove kolone, koriste se uglaste zagrade ```[]``` sa nazivom nove kolone sa leve strane dodele"
   ],
   "metadata": {
    "collapsed": false
   }
  },
  {
   "cell_type": "code",
   "execution_count": 528,
   "outputs": [
    {
     "data": {
      "text/plain": "      A  B   C        D  A_double\na   1.0  A  10      dog       2.0\nb   2.0  B   9      cat       4.0\nc   3.0  C   8     None       6.0\nd   4.0  D   7     lion       8.0\ne   5.0  E   6     bear      10.0\nf   6.0  F   5  penguin      12.0\ng   7.0  G   4    horse      14.0\nh   8.0  H   3  dolphin      16.0\ni   9.0  I   2    panda      18.0\nj  10.0  J   1  seagull      20.0",
      "text/html": "<div>\n<style scoped>\n    .dataframe tbody tr th:only-of-type {\n        vertical-align: middle;\n    }\n\n    .dataframe tbody tr th {\n        vertical-align: top;\n    }\n\n    .dataframe thead th {\n        text-align: right;\n    }\n</style>\n<table border=\"1\" class=\"dataframe\">\n  <thead>\n    <tr style=\"text-align: right;\">\n      <th></th>\n      <th>A</th>\n      <th>B</th>\n      <th>C</th>\n      <th>D</th>\n      <th>A_double</th>\n    </tr>\n  </thead>\n  <tbody>\n    <tr>\n      <th>a</th>\n      <td>1.0</td>\n      <td>A</td>\n      <td>10</td>\n      <td>dog</td>\n      <td>2.0</td>\n    </tr>\n    <tr>\n      <th>b</th>\n      <td>2.0</td>\n      <td>B</td>\n      <td>9</td>\n      <td>cat</td>\n      <td>4.0</td>\n    </tr>\n    <tr>\n      <th>c</th>\n      <td>3.0</td>\n      <td>C</td>\n      <td>8</td>\n      <td>None</td>\n      <td>6.0</td>\n    </tr>\n    <tr>\n      <th>d</th>\n      <td>4.0</td>\n      <td>D</td>\n      <td>7</td>\n      <td>lion</td>\n      <td>8.0</td>\n    </tr>\n    <tr>\n      <th>e</th>\n      <td>5.0</td>\n      <td>E</td>\n      <td>6</td>\n      <td>bear</td>\n      <td>10.0</td>\n    </tr>\n    <tr>\n      <th>f</th>\n      <td>6.0</td>\n      <td>F</td>\n      <td>5</td>\n      <td>penguin</td>\n      <td>12.0</td>\n    </tr>\n    <tr>\n      <th>g</th>\n      <td>7.0</td>\n      <td>G</td>\n      <td>4</td>\n      <td>horse</td>\n      <td>14.0</td>\n    </tr>\n    <tr>\n      <th>h</th>\n      <td>8.0</td>\n      <td>H</td>\n      <td>3</td>\n      <td>dolphin</td>\n      <td>16.0</td>\n    </tr>\n    <tr>\n      <th>i</th>\n      <td>9.0</td>\n      <td>I</td>\n      <td>2</td>\n      <td>panda</td>\n      <td>18.0</td>\n    </tr>\n    <tr>\n      <th>j</th>\n      <td>10.0</td>\n      <td>J</td>\n      <td>1</td>\n      <td>seagull</td>\n      <td>20.0</td>\n    </tr>\n  </tbody>\n</table>\n</div>"
     },
     "execution_count": 528,
     "metadata": {},
     "output_type": "execute_result"
    }
   ],
   "source": [
    "df3[\"A_double\"] = df3[\"A\"] * 2\n",
    "df3"
   ],
   "metadata": {
    "collapsed": false,
    "ExecuteTime": {
     "end_time": "2023-08-20T17:08:41.877926Z",
     "start_time": "2023-08-20T17:08:41.598362Z"
    }
   }
  },
  {
   "cell_type": "code",
   "execution_count": 529,
   "outputs": [
    {
     "data": {
      "text/plain": "      A  B   C        D  A_double   A*C\na   1.0  A  10      dog       2.0  10.0\nb   2.0  B   9      cat       4.0  18.0\nc   3.0  C   8     None       6.0  24.0\nd   4.0  D   7     lion       8.0  28.0\ne   5.0  E   6     bear      10.0  30.0\nf   6.0  F   5  penguin      12.0  30.0\ng   7.0  G   4    horse      14.0  28.0\nh   8.0  H   3  dolphin      16.0  24.0\ni   9.0  I   2    panda      18.0  18.0\nj  10.0  J   1  seagull      20.0  10.0",
      "text/html": "<div>\n<style scoped>\n    .dataframe tbody tr th:only-of-type {\n        vertical-align: middle;\n    }\n\n    .dataframe tbody tr th {\n        vertical-align: top;\n    }\n\n    .dataframe thead th {\n        text-align: right;\n    }\n</style>\n<table border=\"1\" class=\"dataframe\">\n  <thead>\n    <tr style=\"text-align: right;\">\n      <th></th>\n      <th>A</th>\n      <th>B</th>\n      <th>C</th>\n      <th>D</th>\n      <th>A_double</th>\n      <th>A*C</th>\n    </tr>\n  </thead>\n  <tbody>\n    <tr>\n      <th>a</th>\n      <td>1.0</td>\n      <td>A</td>\n      <td>10</td>\n      <td>dog</td>\n      <td>2.0</td>\n      <td>10.0</td>\n    </tr>\n    <tr>\n      <th>b</th>\n      <td>2.0</td>\n      <td>B</td>\n      <td>9</td>\n      <td>cat</td>\n      <td>4.0</td>\n      <td>18.0</td>\n    </tr>\n    <tr>\n      <th>c</th>\n      <td>3.0</td>\n      <td>C</td>\n      <td>8</td>\n      <td>None</td>\n      <td>6.0</td>\n      <td>24.0</td>\n    </tr>\n    <tr>\n      <th>d</th>\n      <td>4.0</td>\n      <td>D</td>\n      <td>7</td>\n      <td>lion</td>\n      <td>8.0</td>\n      <td>28.0</td>\n    </tr>\n    <tr>\n      <th>e</th>\n      <td>5.0</td>\n      <td>E</td>\n      <td>6</td>\n      <td>bear</td>\n      <td>10.0</td>\n      <td>30.0</td>\n    </tr>\n    <tr>\n      <th>f</th>\n      <td>6.0</td>\n      <td>F</td>\n      <td>5</td>\n      <td>penguin</td>\n      <td>12.0</td>\n      <td>30.0</td>\n    </tr>\n    <tr>\n      <th>g</th>\n      <td>7.0</td>\n      <td>G</td>\n      <td>4</td>\n      <td>horse</td>\n      <td>14.0</td>\n      <td>28.0</td>\n    </tr>\n    <tr>\n      <th>h</th>\n      <td>8.0</td>\n      <td>H</td>\n      <td>3</td>\n      <td>dolphin</td>\n      <td>16.0</td>\n      <td>24.0</td>\n    </tr>\n    <tr>\n      <th>i</th>\n      <td>9.0</td>\n      <td>I</td>\n      <td>2</td>\n      <td>panda</td>\n      <td>18.0</td>\n      <td>18.0</td>\n    </tr>\n    <tr>\n      <th>j</th>\n      <td>10.0</td>\n      <td>J</td>\n      <td>1</td>\n      <td>seagull</td>\n      <td>20.0</td>\n      <td>10.0</td>\n    </tr>\n  </tbody>\n</table>\n</div>"
     },
     "execution_count": 529,
     "metadata": {},
     "output_type": "execute_result"
    }
   ],
   "source": [
    "df3[\"A*C\"] = df3[\"A\"] * df3[\"C\"]\n",
    "df3"
   ],
   "metadata": {
    "collapsed": false,
    "ExecuteTime": {
     "end_time": "2023-08-20T17:08:41.878730Z",
     "start_time": "2023-08-20T17:08:41.603597Z"
    }
   }
  },
  {
   "cell_type": "markdown",
   "source": [
    "Promena naziva kolona"
   ],
   "metadata": {
    "collapsed": false
   }
  },
  {
   "cell_type": "code",
   "execution_count": 530,
   "outputs": [
    {
     "data": {
      "text/plain": "      A letters   C  animals  A_double   A*C\na   1.0       A  10      dog       2.0  10.0\nb   2.0       B   9      cat       4.0  18.0\nc   3.0       C   8     None       6.0  24.0\nd   4.0       D   7     lion       8.0  28.0\ne   5.0       E   6     bear      10.0  30.0\nf   6.0       F   5  penguin      12.0  30.0\ng   7.0       G   4    horse      14.0  28.0\nh   8.0       H   3  dolphin      16.0  24.0\ni   9.0       I   2    panda      18.0  18.0\nj  10.0       J   1  seagull      20.0  10.0",
      "text/html": "<div>\n<style scoped>\n    .dataframe tbody tr th:only-of-type {\n        vertical-align: middle;\n    }\n\n    .dataframe tbody tr th {\n        vertical-align: top;\n    }\n\n    .dataframe thead th {\n        text-align: right;\n    }\n</style>\n<table border=\"1\" class=\"dataframe\">\n  <thead>\n    <tr style=\"text-align: right;\">\n      <th></th>\n      <th>A</th>\n      <th>letters</th>\n      <th>C</th>\n      <th>animals</th>\n      <th>A_double</th>\n      <th>A*C</th>\n    </tr>\n  </thead>\n  <tbody>\n    <tr>\n      <th>a</th>\n      <td>1.0</td>\n      <td>A</td>\n      <td>10</td>\n      <td>dog</td>\n      <td>2.0</td>\n      <td>10.0</td>\n    </tr>\n    <tr>\n      <th>b</th>\n      <td>2.0</td>\n      <td>B</td>\n      <td>9</td>\n      <td>cat</td>\n      <td>4.0</td>\n      <td>18.0</td>\n    </tr>\n    <tr>\n      <th>c</th>\n      <td>3.0</td>\n      <td>C</td>\n      <td>8</td>\n      <td>None</td>\n      <td>6.0</td>\n      <td>24.0</td>\n    </tr>\n    <tr>\n      <th>d</th>\n      <td>4.0</td>\n      <td>D</td>\n      <td>7</td>\n      <td>lion</td>\n      <td>8.0</td>\n      <td>28.0</td>\n    </tr>\n    <tr>\n      <th>e</th>\n      <td>5.0</td>\n      <td>E</td>\n      <td>6</td>\n      <td>bear</td>\n      <td>10.0</td>\n      <td>30.0</td>\n    </tr>\n    <tr>\n      <th>f</th>\n      <td>6.0</td>\n      <td>F</td>\n      <td>5</td>\n      <td>penguin</td>\n      <td>12.0</td>\n      <td>30.0</td>\n    </tr>\n    <tr>\n      <th>g</th>\n      <td>7.0</td>\n      <td>G</td>\n      <td>4</td>\n      <td>horse</td>\n      <td>14.0</td>\n      <td>28.0</td>\n    </tr>\n    <tr>\n      <th>h</th>\n      <td>8.0</td>\n      <td>H</td>\n      <td>3</td>\n      <td>dolphin</td>\n      <td>16.0</td>\n      <td>24.0</td>\n    </tr>\n    <tr>\n      <th>i</th>\n      <td>9.0</td>\n      <td>I</td>\n      <td>2</td>\n      <td>panda</td>\n      <td>18.0</td>\n      <td>18.0</td>\n    </tr>\n    <tr>\n      <th>j</th>\n      <td>10.0</td>\n      <td>J</td>\n      <td>1</td>\n      <td>seagull</td>\n      <td>20.0</td>\n      <td>10.0</td>\n    </tr>\n  </tbody>\n</table>\n</div>"
     },
     "execution_count": 530,
     "metadata": {},
     "output_type": "execute_result"
    }
   ],
   "source": [
    "df3 = df3.rename(\n",
    "    columns = {\n",
    "        \"B\": \"letters\",\n",
    "        \"D\": \"animals\"\n",
    "    }\n",
    ")\n",
    "\n",
    "df3"
   ],
   "metadata": {
    "collapsed": false,
    "ExecuteTime": {
     "end_time": "2023-08-20T17:08:41.878792Z",
     "start_time": "2023-08-20T17:08:41.606312Z"
    }
   }
  },
  {
   "cell_type": "markdown",
   "source": [
    "### Kombinovanje podataka iz različitih tabela"
   ],
   "metadata": {
    "collapsed": false
   }
  },
  {
   "cell_type": "markdown",
   "source": [
    "##### Concat\n",
    "\n",
    "Spajanje DataFrame-ova po osi preko ```concat()```"
   ],
   "metadata": {
    "collapsed": false
   }
  },
  {
   "cell_type": "code",
   "execution_count": 531,
   "outputs": [],
   "source": [
    "dfa = df2[:3]\n",
    "dfb = df2[3:7]\n",
    "dfc = df2[7:]"
   ],
   "metadata": {
    "collapsed": false,
    "ExecuteTime": {
     "end_time": "2023-08-20T17:08:41.885974Z",
     "start_time": "2023-08-20T17:08:41.626004Z"
    }
   }
  },
  {
   "cell_type": "code",
   "execution_count": 532,
   "outputs": [
    {
     "data": {
      "text/plain": "     A  B   C   D\na  1.0  M  10  -1\nb -1.0  B   9  -2\nc  3.0  C   8  -3",
      "text/html": "<div>\n<style scoped>\n    .dataframe tbody tr th:only-of-type {\n        vertical-align: middle;\n    }\n\n    .dataframe tbody tr th {\n        vertical-align: top;\n    }\n\n    .dataframe thead th {\n        text-align: right;\n    }\n</style>\n<table border=\"1\" class=\"dataframe\">\n  <thead>\n    <tr style=\"text-align: right;\">\n      <th></th>\n      <th>A</th>\n      <th>B</th>\n      <th>C</th>\n      <th>D</th>\n    </tr>\n  </thead>\n  <tbody>\n    <tr>\n      <th>a</th>\n      <td>1.0</td>\n      <td>M</td>\n      <td>10</td>\n      <td>-1</td>\n    </tr>\n    <tr>\n      <th>b</th>\n      <td>-1.0</td>\n      <td>B</td>\n      <td>9</td>\n      <td>-2</td>\n    </tr>\n    <tr>\n      <th>c</th>\n      <td>3.0</td>\n      <td>C</td>\n      <td>8</td>\n      <td>-3</td>\n    </tr>\n  </tbody>\n</table>\n</div>"
     },
     "execution_count": 532,
     "metadata": {},
     "output_type": "execute_result"
    }
   ],
   "source": [
    "dfa"
   ],
   "metadata": {
    "collapsed": false,
    "ExecuteTime": {
     "end_time": "2023-08-20T17:08:41.886131Z",
     "start_time": "2023-08-20T17:08:41.629371Z"
    }
   }
  },
  {
   "cell_type": "code",
   "execution_count": 533,
   "outputs": [
    {
     "data": {
      "text/plain": "     A  B  C   D\nd  4.0  D  7  -4\ne  5.0  E  6  -5\nf  6.0  F  5  -6\ng  7.0  G  4  -7",
      "text/html": "<div>\n<style scoped>\n    .dataframe tbody tr th:only-of-type {\n        vertical-align: middle;\n    }\n\n    .dataframe tbody tr th {\n        vertical-align: top;\n    }\n\n    .dataframe thead th {\n        text-align: right;\n    }\n</style>\n<table border=\"1\" class=\"dataframe\">\n  <thead>\n    <tr style=\"text-align: right;\">\n      <th></th>\n      <th>A</th>\n      <th>B</th>\n      <th>C</th>\n      <th>D</th>\n    </tr>\n  </thead>\n  <tbody>\n    <tr>\n      <th>d</th>\n      <td>4.0</td>\n      <td>D</td>\n      <td>7</td>\n      <td>-4</td>\n    </tr>\n    <tr>\n      <th>e</th>\n      <td>5.0</td>\n      <td>E</td>\n      <td>6</td>\n      <td>-5</td>\n    </tr>\n    <tr>\n      <th>f</th>\n      <td>6.0</td>\n      <td>F</td>\n      <td>5</td>\n      <td>-6</td>\n    </tr>\n    <tr>\n      <th>g</th>\n      <td>7.0</td>\n      <td>G</td>\n      <td>4</td>\n      <td>-7</td>\n    </tr>\n  </tbody>\n</table>\n</div>"
     },
     "execution_count": 533,
     "metadata": {},
     "output_type": "execute_result"
    }
   ],
   "source": [
    "dfb"
   ],
   "metadata": {
    "collapsed": false,
    "ExecuteTime": {
     "end_time": "2023-08-20T17:08:41.888466Z",
     "start_time": "2023-08-20T17:08:41.632910Z"
    }
   }
  },
  {
   "cell_type": "code",
   "execution_count": 534,
   "outputs": [
    {
     "data": {
      "text/plain": "      A  B  C    D\nh   8.0  H  3   -8\ni   9.0  I  2   -9\nj  10.0  J  1  -10",
      "text/html": "<div>\n<style scoped>\n    .dataframe tbody tr th:only-of-type {\n        vertical-align: middle;\n    }\n\n    .dataframe tbody tr th {\n        vertical-align: top;\n    }\n\n    .dataframe thead th {\n        text-align: right;\n    }\n</style>\n<table border=\"1\" class=\"dataframe\">\n  <thead>\n    <tr style=\"text-align: right;\">\n      <th></th>\n      <th>A</th>\n      <th>B</th>\n      <th>C</th>\n      <th>D</th>\n    </tr>\n  </thead>\n  <tbody>\n    <tr>\n      <th>h</th>\n      <td>8.0</td>\n      <td>H</td>\n      <td>3</td>\n      <td>-8</td>\n    </tr>\n    <tr>\n      <th>i</th>\n      <td>9.0</td>\n      <td>I</td>\n      <td>2</td>\n      <td>-9</td>\n    </tr>\n    <tr>\n      <th>j</th>\n      <td>10.0</td>\n      <td>J</td>\n      <td>1</td>\n      <td>-10</td>\n    </tr>\n  </tbody>\n</table>\n</div>"
     },
     "execution_count": 534,
     "metadata": {},
     "output_type": "execute_result"
    }
   ],
   "source": [
    "dfc"
   ],
   "metadata": {
    "collapsed": false,
    "ExecuteTime": {
     "end_time": "2023-08-20T17:08:41.888530Z",
     "start_time": "2023-08-20T17:08:41.636140Z"
    }
   }
  },
  {
   "cell_type": "code",
   "execution_count": 535,
   "outputs": [
    {
     "data": {
      "text/plain": "      A  B   C    D\na   1.0  M  10   -1\nb  -1.0  B   9   -2\nc   3.0  C   8   -3\nd   4.0  D   7   -4\ne   5.0  E   6   -5\nf   6.0  F   5   -6\ng   7.0  G   4   -7\nh   8.0  H   3   -8\ni   9.0  I   2   -9\nj  10.0  J   1  -10",
      "text/html": "<div>\n<style scoped>\n    .dataframe tbody tr th:only-of-type {\n        vertical-align: middle;\n    }\n\n    .dataframe tbody tr th {\n        vertical-align: top;\n    }\n\n    .dataframe thead th {\n        text-align: right;\n    }\n</style>\n<table border=\"1\" class=\"dataframe\">\n  <thead>\n    <tr style=\"text-align: right;\">\n      <th></th>\n      <th>A</th>\n      <th>B</th>\n      <th>C</th>\n      <th>D</th>\n    </tr>\n  </thead>\n  <tbody>\n    <tr>\n      <th>a</th>\n      <td>1.0</td>\n      <td>M</td>\n      <td>10</td>\n      <td>-1</td>\n    </tr>\n    <tr>\n      <th>b</th>\n      <td>-1.0</td>\n      <td>B</td>\n      <td>9</td>\n      <td>-2</td>\n    </tr>\n    <tr>\n      <th>c</th>\n      <td>3.0</td>\n      <td>C</td>\n      <td>8</td>\n      <td>-3</td>\n    </tr>\n    <tr>\n      <th>d</th>\n      <td>4.0</td>\n      <td>D</td>\n      <td>7</td>\n      <td>-4</td>\n    </tr>\n    <tr>\n      <th>e</th>\n      <td>5.0</td>\n      <td>E</td>\n      <td>6</td>\n      <td>-5</td>\n    </tr>\n    <tr>\n      <th>f</th>\n      <td>6.0</td>\n      <td>F</td>\n      <td>5</td>\n      <td>-6</td>\n    </tr>\n    <tr>\n      <th>g</th>\n      <td>7.0</td>\n      <td>G</td>\n      <td>4</td>\n      <td>-7</td>\n    </tr>\n    <tr>\n      <th>h</th>\n      <td>8.0</td>\n      <td>H</td>\n      <td>3</td>\n      <td>-8</td>\n    </tr>\n    <tr>\n      <th>i</th>\n      <td>9.0</td>\n      <td>I</td>\n      <td>2</td>\n      <td>-9</td>\n    </tr>\n    <tr>\n      <th>j</th>\n      <td>10.0</td>\n      <td>J</td>\n      <td>1</td>\n      <td>-10</td>\n    </tr>\n  </tbody>\n</table>\n</div>"
     },
     "execution_count": 535,
     "metadata": {},
     "output_type": "execute_result"
    }
   ],
   "source": [
    "pd.concat([dfa,dfb,dfc])"
   ],
   "metadata": {
    "collapsed": false,
    "ExecuteTime": {
     "end_time": "2023-08-20T17:08:41.888597Z",
     "start_time": "2023-08-20T17:08:41.640534Z"
    }
   }
  },
  {
   "cell_type": "markdown",
   "source": [
    "##### Join\n",
    "\n",
    "```merge()``` omogućava spajanje u SQL stilu"
   ],
   "metadata": {
    "collapsed": false
   }
  },
  {
   "cell_type": "code",
   "execution_count": 536,
   "outputs": [
    {
     "data": {
      "text/plain": "  key   A   B\n0  K0  A0  B0\n1  K1  A1  B1\n2  K2  A2  B2\n3  K3  A3  B3",
      "text/html": "<div>\n<style scoped>\n    .dataframe tbody tr th:only-of-type {\n        vertical-align: middle;\n    }\n\n    .dataframe tbody tr th {\n        vertical-align: top;\n    }\n\n    .dataframe thead th {\n        text-align: right;\n    }\n</style>\n<table border=\"1\" class=\"dataframe\">\n  <thead>\n    <tr style=\"text-align: right;\">\n      <th></th>\n      <th>key</th>\n      <th>A</th>\n      <th>B</th>\n    </tr>\n  </thead>\n  <tbody>\n    <tr>\n      <th>0</th>\n      <td>K0</td>\n      <td>A0</td>\n      <td>B0</td>\n    </tr>\n    <tr>\n      <th>1</th>\n      <td>K1</td>\n      <td>A1</td>\n      <td>B1</td>\n    </tr>\n    <tr>\n      <th>2</th>\n      <td>K2</td>\n      <td>A2</td>\n      <td>B2</td>\n    </tr>\n    <tr>\n      <th>3</th>\n      <td>K3</td>\n      <td>A3</td>\n      <td>B3</td>\n    </tr>\n  </tbody>\n</table>\n</div>"
     },
     "execution_count": 536,
     "metadata": {},
     "output_type": "execute_result"
    }
   ],
   "source": [
    "left = pd.DataFrame(\n",
    "    {\n",
    "        \"key\": [\"K0\", \"K1\", \"K2\", \"K3\"],\n",
    "        \"A\": [\"A0\", \"A1\", \"A2\", \"A3\"],\n",
    "        \"B\": [\"B0\", \"B1\", \"B2\", \"B3\"],\n",
    "    }\n",
    ")\n",
    "left"
   ],
   "metadata": {
    "collapsed": false,
    "ExecuteTime": {
     "end_time": "2023-08-20T17:08:41.888687Z",
     "start_time": "2023-08-20T17:08:41.644268Z"
    }
   }
  },
  {
   "cell_type": "code",
   "execution_count": 537,
   "outputs": [
    {
     "data": {
      "text/plain": "  key   C   D\n0  K0  C0  D0\n1  K1  C1  D1\n2  K2  C2  D2\n3  K3  C3  D3",
      "text/html": "<div>\n<style scoped>\n    .dataframe tbody tr th:only-of-type {\n        vertical-align: middle;\n    }\n\n    .dataframe tbody tr th {\n        vertical-align: top;\n    }\n\n    .dataframe thead th {\n        text-align: right;\n    }\n</style>\n<table border=\"1\" class=\"dataframe\">\n  <thead>\n    <tr style=\"text-align: right;\">\n      <th></th>\n      <th>key</th>\n      <th>C</th>\n      <th>D</th>\n    </tr>\n  </thead>\n  <tbody>\n    <tr>\n      <th>0</th>\n      <td>K0</td>\n      <td>C0</td>\n      <td>D0</td>\n    </tr>\n    <tr>\n      <th>1</th>\n      <td>K1</td>\n      <td>C1</td>\n      <td>D1</td>\n    </tr>\n    <tr>\n      <th>2</th>\n      <td>K2</td>\n      <td>C2</td>\n      <td>D2</td>\n    </tr>\n    <tr>\n      <th>3</th>\n      <td>K3</td>\n      <td>C3</td>\n      <td>D3</td>\n    </tr>\n  </tbody>\n</table>\n</div>"
     },
     "execution_count": 537,
     "metadata": {},
     "output_type": "execute_result"
    }
   ],
   "source": [
    "right = pd.DataFrame(\n",
    "    {\n",
    "        \"key\": [\"K0\", \"K1\", \"K2\", \"K3\"],\n",
    "        \"C\": [\"C0\", \"C1\", \"C2\", \"C3\"],\n",
    "        \"D\": [\"D0\", \"D1\", \"D2\", \"D3\"],\n",
    "    }\n",
    ")\n",
    "right"
   ],
   "metadata": {
    "collapsed": false,
    "ExecuteTime": {
     "end_time": "2023-08-20T17:08:41.889604Z",
     "start_time": "2023-08-20T17:08:41.647995Z"
    }
   }
  },
  {
   "cell_type": "code",
   "execution_count": 538,
   "outputs": [
    {
     "data": {
      "text/plain": "  key   A   B   C   D\n0  K0  A0  B0  C0  D0\n1  K1  A1  B1  C1  D1\n2  K2  A2  B2  C2  D2\n3  K3  A3  B3  C3  D3",
      "text/html": "<div>\n<style scoped>\n    .dataframe tbody tr th:only-of-type {\n        vertical-align: middle;\n    }\n\n    .dataframe tbody tr th {\n        vertical-align: top;\n    }\n\n    .dataframe thead th {\n        text-align: right;\n    }\n</style>\n<table border=\"1\" class=\"dataframe\">\n  <thead>\n    <tr style=\"text-align: right;\">\n      <th></th>\n      <th>key</th>\n      <th>A</th>\n      <th>B</th>\n      <th>C</th>\n      <th>D</th>\n    </tr>\n  </thead>\n  <tbody>\n    <tr>\n      <th>0</th>\n      <td>K0</td>\n      <td>A0</td>\n      <td>B0</td>\n      <td>C0</td>\n      <td>D0</td>\n    </tr>\n    <tr>\n      <th>1</th>\n      <td>K1</td>\n      <td>A1</td>\n      <td>B1</td>\n      <td>C1</td>\n      <td>D1</td>\n    </tr>\n    <tr>\n      <th>2</th>\n      <td>K2</td>\n      <td>A2</td>\n      <td>B2</td>\n      <td>C2</td>\n      <td>D2</td>\n    </tr>\n    <tr>\n      <th>3</th>\n      <td>K3</td>\n      <td>A3</td>\n      <td>B3</td>\n      <td>C3</td>\n      <td>D3</td>\n    </tr>\n  </tbody>\n</table>\n</div>"
     },
     "execution_count": 538,
     "metadata": {},
     "output_type": "execute_result"
    }
   ],
   "source": [
    "result = pd.merge(\n",
    "    left, # DataFrame ili Series objekat\n",
    "    right, # DataFrame ili Series objekat\n",
    "    left_on=\"key\", # kolone levog DataFrame-a po kojima se vrši join\n",
    "    right_on=\"key\", # kolone desnog DataFrame-a po kojima se vrši join\n",
    "    how=\"inner\" # Jedno od: 'left', 'right', 'outer', 'inner', 'cross'\n",
    ")\n",
    "result"
   ],
   "metadata": {
    "collapsed": false,
    "ExecuteTime": {
     "end_time": "2023-08-20T17:08:41.891331Z",
     "start_time": "2023-08-20T17:08:41.655972Z"
    }
   }
  },
  {
   "cell_type": "markdown",
   "source": [
    "```how``` argument specificira koji ključevi će biti uključeni u rezultujuću tabelu:\n",
    "\n",
    "left - LEFT OUTER JOIN - Koristi samo ključeve iz levog DataFrame-a\n",
    "\n",
    "right - RIGHT OUTER JOIN - Koristi samo ključeve iz desnog DataFrame-a\n",
    "\n",
    "outer - FULL OUTER JOIN - Koristi uniju ključeva oba DataFrame-a\n",
    "\n",
    "inner - INNER JOIN - Koristi presek ključeva oba DataFrame-a\n",
    "\n",
    "cross - CROSS JOIN - Kreiraj dekartov proizvod redova oba DataFrame-a"
   ],
   "metadata": {
    "collapsed": false
   }
  },
  {
   "cell_type": "markdown",
   "source": [
    "### Obrada tekstualnih podataka"
   ],
   "metadata": {
    "collapsed": false
   }
  },
  {
   "cell_type": "code",
   "execution_count": 539,
   "outputs": [
    {
     "data": {
      "text/plain": "a    m\nb    b\nc    c\nd    d\ne    e\nf    f\ng    g\nh    h\ni    i\nj    j\nName: B, dtype: object"
     },
     "execution_count": 539,
     "metadata": {},
     "output_type": "execute_result"
    }
   ],
   "source": [
    "df2['B'].str.lower()"
   ],
   "metadata": {
    "collapsed": false,
    "ExecuteTime": {
     "end_time": "2023-08-20T17:08:41.891420Z",
     "start_time": "2023-08-20T17:08:41.659438Z"
    }
   }
  },
  {
   "cell_type": "markdown",
   "source": [
    "### Čitanje i pisanje tabelarnih podataka\n",
    "\n",
    "Pandas ima ugradjenu podršku za razne fajl formate (csv, excel, json.. )\n",
    "Učitavanje podataka iz tih formata radi se preko funkcija sa prefiksom read_*. to_* metode se koriste za čuvanje podataka."
   ],
   "metadata": {
    "collapsed": false
   }
  },
  {
   "cell_type": "code",
   "execution_count": 540,
   "outputs": [
    {
     "data": {
      "text/plain": "       ime   prezime   godine\n0  Michael     Scott       42\n1      Jim   Halpert       31\n2      Pam    Beezly       29",
      "text/html": "<div>\n<style scoped>\n    .dataframe tbody tr th:only-of-type {\n        vertical-align: middle;\n    }\n\n    .dataframe tbody tr th {\n        vertical-align: top;\n    }\n\n    .dataframe thead th {\n        text-align: right;\n    }\n</style>\n<table border=\"1\" class=\"dataframe\">\n  <thead>\n    <tr style=\"text-align: right;\">\n      <th></th>\n      <th>ime</th>\n      <th>prezime</th>\n      <th>godine</th>\n    </tr>\n  </thead>\n  <tbody>\n    <tr>\n      <th>0</th>\n      <td>Michael</td>\n      <td>Scott</td>\n      <td>42</td>\n    </tr>\n    <tr>\n      <th>1</th>\n      <td>Jim</td>\n      <td>Halpert</td>\n      <td>31</td>\n    </tr>\n    <tr>\n      <th>2</th>\n      <td>Pam</td>\n      <td>Beezly</td>\n      <td>29</td>\n    </tr>\n  </tbody>\n</table>\n</div>"
     },
     "execution_count": 540,
     "metadata": {},
     "output_type": "execute_result"
    }
   ],
   "source": [
    "df = pd.read_csv(\"foo.csv\")\n",
    "df"
   ],
   "metadata": {
    "collapsed": false,
    "ExecuteTime": {
     "end_time": "2023-08-20T17:08:41.891493Z",
     "start_time": "2023-08-20T17:08:41.662054Z"
    }
   }
  },
  {
   "cell_type": "code",
   "execution_count": 541,
   "outputs": [],
   "source": [
    "#df.to_csv(\"foo2.csv\")"
   ],
   "metadata": {
    "collapsed": false,
    "ExecuteTime": {
     "end_time": "2023-08-20T17:08:41.891742Z",
     "start_time": "2023-08-20T17:08:41.667581Z"
    }
   }
  },
  {
   "cell_type": "markdown",
   "source": [],
   "metadata": {
    "collapsed": false
   }
  }
 ],
 "metadata": {
  "kernelspec": {
   "display_name": "Python 3",
   "language": "python",
   "name": "python3"
  },
  "language_info": {
   "codemirror_mode": {
    "name": "ipython",
    "version": 2
   },
   "file_extension": ".py",
   "mimetype": "text/x-python",
   "name": "python",
   "nbconvert_exporter": "python",
   "pygments_lexer": "ipython2",
   "version": "2.7.6"
  }
 },
 "nbformat": 4,
 "nbformat_minor": 0
}
