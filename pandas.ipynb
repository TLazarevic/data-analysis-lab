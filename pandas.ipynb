{
 "cells": [
  {
   "cell_type": "markdown",
   "metadata": {
    "collapsed": false
   },
   "source": [
    "# Pandas\n",
    "\n",
    "Pandas je alat za analizu i obradu podataka za Python programski jezik"
   ]
  },
  {
   "cell_type": "code",
   "execution_count": 876,
   "outputs": [
    {
     "name": "stdout",
     "output_type": "stream",
     "text": [
      "Requirement already satisfied: pandas in /opt/homebrew/lib/python3.11/site-packages (2.0.2)\r\n",
      "Requirement already satisfied: python-dateutil>=2.8.2 in /opt/homebrew/lib/python3.11/site-packages (from pandas) (2.8.2)\r\n",
      "Requirement already satisfied: pytz>=2020.1 in /opt/homebrew/lib/python3.11/site-packages (from pandas) (2023.3)\r\n",
      "Requirement already satisfied: tzdata>=2022.1 in /opt/homebrew/lib/python3.11/site-packages (from pandas) (2023.3)\r\n",
      "Requirement already satisfied: numpy>=1.21.0 in /opt/homebrew/lib/python3.11/site-packages (from pandas) (1.25.0)\r\n",
      "Requirement already satisfied: six>=1.5 in /opt/homebrew/lib/python3.11/site-packages (from python-dateutil>=2.8.2->pandas) (1.16.0)\r\n"
     ]
    }
   ],
   "source": [
    "!pip install pandas"
   ],
   "metadata": {
    "collapsed": false,
    "ExecuteTime": {
     "end_time": "2023-08-26T14:15:47.804664Z",
     "start_time": "2023-08-26T14:15:45.366233Z"
    }
   }
  },
  {
   "cell_type": "markdown",
   "metadata": {
    "collapsed": false
   },
   "source": [
    "Najčešće se importuje na sledeći način:"
   ]
  },
  {
   "cell_type": "code",
   "execution_count": 877,
   "metadata": {
    "collapsed": false,
    "ExecuteTime": {
     "end_time": "2023-08-26T14:15:47.804835Z",
     "start_time": "2023-08-26T14:15:46.947469Z"
    }
   },
   "outputs": [],
   "source": [
    "import pandas as pd"
   ]
  },
  {
   "cell_type": "markdown",
   "metadata": {
    "collapsed": false
   },
   "source": [
    "U pandas-u se tabela naziva **DataFrame**."
   ]
  },
  {
   "cell_type": "markdown",
   "source": [
    "![DataFrame](images/dataframe.png)"
   ],
   "metadata": {
    "collapsed": false
   }
  },
  {
   "cell_type": "markdown",
   "source": [
    "Jedan od načina za kreiranje DataFrame-a je preko dictionary-ja:"
   ],
   "metadata": {
    "collapsed": false
   }
  },
  {
   "cell_type": "code",
   "execution_count": 878,
   "metadata": {
    "collapsed": false,
    "ExecuteTime": {
     "end_time": "2023-08-26T14:15:47.804943Z",
     "start_time": "2023-08-26T14:15:46.961481Z"
    }
   },
   "outputs": [],
   "source": [
    "df = pd.DataFrame(\n",
    "    {\n",
    "        \"A\": [1.0, 2.0, 3.0, 4.0, 5.0, 6.0, 7.0, 8.0, 9.0, 10.0],\n",
    "        \"B\": [\"A\", \"B\", \"C\", \"D\", \"E\", \"F\", \"G\", \"H\", \"I\", \"J\"],\n",
    "        \"C\": [10, 9, 8, 7, 6, 5, 4, 3, 2, 1],\n",
    "        \"D\": [\"a\", \"b\", \"c\", \"d\", \"e\", \"f\", \"g\", \"h\", \"i\", \"j\"],\n",
    "    }\n",
    ")"
   ]
  },
  {
   "cell_type": "code",
   "execution_count": 879,
   "outputs": [
    {
     "data": {
      "text/plain": "      A  B   C  D\n0   1.0  A  10  a\n1   2.0  B   9  b\n2   3.0  C   8  c\n3   4.0  D   7  d\n4   5.0  E   6  e\n5   6.0  F   5  f\n6   7.0  G   4  g\n7   8.0  H   3  h\n8   9.0  I   2  i\n9  10.0  J   1  j",
      "text/html": "<div>\n<style scoped>\n    .dataframe tbody tr th:only-of-type {\n        vertical-align: middle;\n    }\n\n    .dataframe tbody tr th {\n        vertical-align: top;\n    }\n\n    .dataframe thead th {\n        text-align: right;\n    }\n</style>\n<table border=\"1\" class=\"dataframe\">\n  <thead>\n    <tr style=\"text-align: right;\">\n      <th></th>\n      <th>A</th>\n      <th>B</th>\n      <th>C</th>\n      <th>D</th>\n    </tr>\n  </thead>\n  <tbody>\n    <tr>\n      <th>0</th>\n      <td>1.0</td>\n      <td>A</td>\n      <td>10</td>\n      <td>a</td>\n    </tr>\n    <tr>\n      <th>1</th>\n      <td>2.0</td>\n      <td>B</td>\n      <td>9</td>\n      <td>b</td>\n    </tr>\n    <tr>\n      <th>2</th>\n      <td>3.0</td>\n      <td>C</td>\n      <td>8</td>\n      <td>c</td>\n    </tr>\n    <tr>\n      <th>3</th>\n      <td>4.0</td>\n      <td>D</td>\n      <td>7</td>\n      <td>d</td>\n    </tr>\n    <tr>\n      <th>4</th>\n      <td>5.0</td>\n      <td>E</td>\n      <td>6</td>\n      <td>e</td>\n    </tr>\n    <tr>\n      <th>5</th>\n      <td>6.0</td>\n      <td>F</td>\n      <td>5</td>\n      <td>f</td>\n    </tr>\n    <tr>\n      <th>6</th>\n      <td>7.0</td>\n      <td>G</td>\n      <td>4</td>\n      <td>g</td>\n    </tr>\n    <tr>\n      <th>7</th>\n      <td>8.0</td>\n      <td>H</td>\n      <td>3</td>\n      <td>h</td>\n    </tr>\n    <tr>\n      <th>8</th>\n      <td>9.0</td>\n      <td>I</td>\n      <td>2</td>\n      <td>i</td>\n    </tr>\n    <tr>\n      <th>9</th>\n      <td>10.0</td>\n      <td>J</td>\n      <td>1</td>\n      <td>j</td>\n    </tr>\n  </tbody>\n</table>\n</div>"
     },
     "execution_count": 879,
     "metadata": {},
     "output_type": "execute_result"
    }
   ],
   "source": [
    "df"
   ],
   "metadata": {
    "collapsed": false,
    "ExecuteTime": {
     "end_time": "2023-08-26T14:15:47.806636Z",
     "start_time": "2023-08-26T14:15:46.969300Z"
    }
   }
  },
  {
   "cell_type": "markdown",
   "metadata": {
    "collapsed": false
   },
   "source": [
    "### Pregled podataka"
   ]
  },
  {
   "cell_type": "markdown",
   "metadata": {
    "collapsed": false
   },
   "source": [
    "Sa ```DataFrame.head()``` i ```DataFrame.tail()``` mogu se videti prvi i poslednji redovi DataFrame-a"
   ]
  },
  {
   "cell_type": "code",
   "execution_count": 880,
   "metadata": {
    "collapsed": false,
    "ExecuteTime": {
     "end_time": "2023-08-26T14:15:47.807854Z",
     "start_time": "2023-08-26T14:15:46.976479Z"
    }
   },
   "outputs": [
    {
     "data": {
      "text/plain": "     A  B   C  D\n0  1.0  A  10  a\n1  2.0  B   9  b\n2  3.0  C   8  c\n3  4.0  D   7  d\n4  5.0  E   6  e",
      "text/html": "<div>\n<style scoped>\n    .dataframe tbody tr th:only-of-type {\n        vertical-align: middle;\n    }\n\n    .dataframe tbody tr th {\n        vertical-align: top;\n    }\n\n    .dataframe thead th {\n        text-align: right;\n    }\n</style>\n<table border=\"1\" class=\"dataframe\">\n  <thead>\n    <tr style=\"text-align: right;\">\n      <th></th>\n      <th>A</th>\n      <th>B</th>\n      <th>C</th>\n      <th>D</th>\n    </tr>\n  </thead>\n  <tbody>\n    <tr>\n      <th>0</th>\n      <td>1.0</td>\n      <td>A</td>\n      <td>10</td>\n      <td>a</td>\n    </tr>\n    <tr>\n      <th>1</th>\n      <td>2.0</td>\n      <td>B</td>\n      <td>9</td>\n      <td>b</td>\n    </tr>\n    <tr>\n      <th>2</th>\n      <td>3.0</td>\n      <td>C</td>\n      <td>8</td>\n      <td>c</td>\n    </tr>\n    <tr>\n      <th>3</th>\n      <td>4.0</td>\n      <td>D</td>\n      <td>7</td>\n      <td>d</td>\n    </tr>\n    <tr>\n      <th>4</th>\n      <td>5.0</td>\n      <td>E</td>\n      <td>6</td>\n      <td>e</td>\n    </tr>\n  </tbody>\n</table>\n</div>"
     },
     "execution_count": 880,
     "metadata": {},
     "output_type": "execute_result"
    }
   ],
   "source": [
    "df.head()"
   ]
  },
  {
   "cell_type": "code",
   "execution_count": 881,
   "metadata": {
    "collapsed": false,
    "ExecuteTime": {
     "end_time": "2023-08-26T14:15:47.808411Z",
     "start_time": "2023-08-26T14:15:46.983161Z"
    }
   },
   "outputs": [
    {
     "data": {
      "text/plain": "      A  B  C  D\n7   8.0  H  3  h\n8   9.0  I  2  i\n9  10.0  J  1  j",
      "text/html": "<div>\n<style scoped>\n    .dataframe tbody tr th:only-of-type {\n        vertical-align: middle;\n    }\n\n    .dataframe tbody tr th {\n        vertical-align: top;\n    }\n\n    .dataframe thead th {\n        text-align: right;\n    }\n</style>\n<table border=\"1\" class=\"dataframe\">\n  <thead>\n    <tr style=\"text-align: right;\">\n      <th></th>\n      <th>A</th>\n      <th>B</th>\n      <th>C</th>\n      <th>D</th>\n    </tr>\n  </thead>\n  <tbody>\n    <tr>\n      <th>7</th>\n      <td>8.0</td>\n      <td>H</td>\n      <td>3</td>\n      <td>h</td>\n    </tr>\n    <tr>\n      <th>8</th>\n      <td>9.0</td>\n      <td>I</td>\n      <td>2</td>\n      <td>i</td>\n    </tr>\n    <tr>\n      <th>9</th>\n      <td>10.0</td>\n      <td>J</td>\n      <td>1</td>\n      <td>j</td>\n    </tr>\n  </tbody>\n</table>\n</div>"
     },
     "execution_count": 881,
     "metadata": {},
     "output_type": "execute_result"
    }
   ],
   "source": [
    "df.tail(3)"
   ]
  },
  {
   "cell_type": "markdown",
   "metadata": {
    "collapsed": false
   },
   "source": [
    "```info()``` metoda prikazuje osnovne informacije o DataFrame-u uključujući kolone i njihove tipove podataka, ne-nedostajajućim vrednostima, indeksu"
   ]
  },
  {
   "cell_type": "code",
   "execution_count": 882,
   "metadata": {
    "collapsed": false,
    "ExecuteTime": {
     "end_time": "2023-08-26T14:15:47.808991Z",
     "start_time": "2023-08-26T14:15:46.986447Z"
    }
   },
   "outputs": [
    {
     "name": "stdout",
     "output_type": "stream",
     "text": [
      "<class 'pandas.core.frame.DataFrame'>\n",
      "RangeIndex: 10 entries, 0 to 9\n",
      "Data columns (total 4 columns):\n",
      " #   Column  Non-Null Count  Dtype  \n",
      "---  ------  --------------  -----  \n",
      " 0   A       10 non-null     float64\n",
      " 1   B       10 non-null     object \n",
      " 2   C       10 non-null     int64  \n",
      " 3   D       10 non-null     object \n",
      "dtypes: float64(1), int64(1), object(2)\n",
      "memory usage: 452.0+ bytes\n"
     ]
    }
   ],
   "source": [
    "df.info()"
   ]
  },
  {
   "cell_type": "markdown",
   "source": [
    "Sa ```describe()``` mogu se dobiti osnovni statistički podaci"
   ],
   "metadata": {
    "collapsed": false
   }
  },
  {
   "cell_type": "code",
   "execution_count": 883,
   "metadata": {
    "collapsed": false,
    "ExecuteTime": {
     "end_time": "2023-08-26T14:15:47.811186Z",
     "start_time": "2023-08-26T14:15:47.001955Z"
    }
   },
   "outputs": [
    {
     "data": {
      "text/plain": "              A         C\ncount  10.00000  10.00000\nmean    5.50000   5.50000\nstd     3.02765   3.02765\nmin     1.00000   1.00000\n25%     3.25000   3.25000\n50%     5.50000   5.50000\n75%     7.75000   7.75000\nmax    10.00000  10.00000",
      "text/html": "<div>\n<style scoped>\n    .dataframe tbody tr th:only-of-type {\n        vertical-align: middle;\n    }\n\n    .dataframe tbody tr th {\n        vertical-align: top;\n    }\n\n    .dataframe thead th {\n        text-align: right;\n    }\n</style>\n<table border=\"1\" class=\"dataframe\">\n  <thead>\n    <tr style=\"text-align: right;\">\n      <th></th>\n      <th>A</th>\n      <th>C</th>\n    </tr>\n  </thead>\n  <tbody>\n    <tr>\n      <th>count</th>\n      <td>10.00000</td>\n      <td>10.00000</td>\n    </tr>\n    <tr>\n      <th>mean</th>\n      <td>5.50000</td>\n      <td>5.50000</td>\n    </tr>\n    <tr>\n      <th>std</th>\n      <td>3.02765</td>\n      <td>3.02765</td>\n    </tr>\n    <tr>\n      <th>min</th>\n      <td>1.00000</td>\n      <td>1.00000</td>\n    </tr>\n    <tr>\n      <th>25%</th>\n      <td>3.25000</td>\n      <td>3.25000</td>\n    </tr>\n    <tr>\n      <th>50%</th>\n      <td>5.50000</td>\n      <td>5.50000</td>\n    </tr>\n    <tr>\n      <th>75%</th>\n      <td>7.75000</td>\n      <td>7.75000</td>\n    </tr>\n    <tr>\n      <th>max</th>\n      <td>10.00000</td>\n      <td>10.00000</td>\n    </tr>\n  </tbody>\n</table>\n</div>"
     },
     "execution_count": 883,
     "metadata": {},
     "output_type": "execute_result"
    }
   ],
   "source": [
    "df.describe()"
   ]
  },
  {
   "cell_type": "code",
   "execution_count": 884,
   "metadata": {
    "collapsed": false,
    "ExecuteTime": {
     "end_time": "2023-08-26T14:15:47.811454Z",
     "start_time": "2023-08-26T14:15:47.010405Z"
    }
   },
   "outputs": [
    {
     "data": {
      "text/plain": "      A  B   C  D\n9  10.0  J   1  j\n8   9.0  I   2  i\n7   8.0  H   3  h\n6   7.0  G   4  g\n5   6.0  F   5  f\n4   5.0  E   6  e\n3   4.0  D   7  d\n2   3.0  C   8  c\n1   2.0  B   9  b\n0   1.0  A  10  a",
      "text/html": "<div>\n<style scoped>\n    .dataframe tbody tr th:only-of-type {\n        vertical-align: middle;\n    }\n\n    .dataframe tbody tr th {\n        vertical-align: top;\n    }\n\n    .dataframe thead th {\n        text-align: right;\n    }\n</style>\n<table border=\"1\" class=\"dataframe\">\n  <thead>\n    <tr style=\"text-align: right;\">\n      <th></th>\n      <th>A</th>\n      <th>B</th>\n      <th>C</th>\n      <th>D</th>\n    </tr>\n  </thead>\n  <tbody>\n    <tr>\n      <th>9</th>\n      <td>10.0</td>\n      <td>J</td>\n      <td>1</td>\n      <td>j</td>\n    </tr>\n    <tr>\n      <th>8</th>\n      <td>9.0</td>\n      <td>I</td>\n      <td>2</td>\n      <td>i</td>\n    </tr>\n    <tr>\n      <th>7</th>\n      <td>8.0</td>\n      <td>H</td>\n      <td>3</td>\n      <td>h</td>\n    </tr>\n    <tr>\n      <th>6</th>\n      <td>7.0</td>\n      <td>G</td>\n      <td>4</td>\n      <td>g</td>\n    </tr>\n    <tr>\n      <th>5</th>\n      <td>6.0</td>\n      <td>F</td>\n      <td>5</td>\n      <td>f</td>\n    </tr>\n    <tr>\n      <th>4</th>\n      <td>5.0</td>\n      <td>E</td>\n      <td>6</td>\n      <td>e</td>\n    </tr>\n    <tr>\n      <th>3</th>\n      <td>4.0</td>\n      <td>D</td>\n      <td>7</td>\n      <td>d</td>\n    </tr>\n    <tr>\n      <th>2</th>\n      <td>3.0</td>\n      <td>C</td>\n      <td>8</td>\n      <td>c</td>\n    </tr>\n    <tr>\n      <th>1</th>\n      <td>2.0</td>\n      <td>B</td>\n      <td>9</td>\n      <td>b</td>\n    </tr>\n    <tr>\n      <th>0</th>\n      <td>1.0</td>\n      <td>A</td>\n      <td>10</td>\n      <td>a</td>\n    </tr>\n  </tbody>\n</table>\n</div>"
     },
     "execution_count": 884,
     "metadata": {},
     "output_type": "execute_result"
    }
   ],
   "source": [
    "df.sort_values(by=\"C\")"
   ]
  },
  {
   "cell_type": "markdown",
   "source": [
    "*Napomena*: dodela vrednosti"
   ],
   "metadata": {
    "collapsed": false
   }
  },
  {
   "cell_type": "code",
   "execution_count": 885,
   "outputs": [
    {
     "data": {
      "text/plain": "      A  B   C  D\n0   1.0  A  10  a\n1   2.0  B   9  b\n2   3.0  C   8  c\n3   4.0  D   7  d\n4   5.0  E   6  e\n5   6.0  F   5  f\n6   7.0  G   4  g\n7   8.0  H   3  h\n8   9.0  I   2  i\n9  10.0  J   1  j",
      "text/html": "<div>\n<style scoped>\n    .dataframe tbody tr th:only-of-type {\n        vertical-align: middle;\n    }\n\n    .dataframe tbody tr th {\n        vertical-align: top;\n    }\n\n    .dataframe thead th {\n        text-align: right;\n    }\n</style>\n<table border=\"1\" class=\"dataframe\">\n  <thead>\n    <tr style=\"text-align: right;\">\n      <th></th>\n      <th>A</th>\n      <th>B</th>\n      <th>C</th>\n      <th>D</th>\n    </tr>\n  </thead>\n  <tbody>\n    <tr>\n      <th>0</th>\n      <td>1.0</td>\n      <td>A</td>\n      <td>10</td>\n      <td>a</td>\n    </tr>\n    <tr>\n      <th>1</th>\n      <td>2.0</td>\n      <td>B</td>\n      <td>9</td>\n      <td>b</td>\n    </tr>\n    <tr>\n      <th>2</th>\n      <td>3.0</td>\n      <td>C</td>\n      <td>8</td>\n      <td>c</td>\n    </tr>\n    <tr>\n      <th>3</th>\n      <td>4.0</td>\n      <td>D</td>\n      <td>7</td>\n      <td>d</td>\n    </tr>\n    <tr>\n      <th>4</th>\n      <td>5.0</td>\n      <td>E</td>\n      <td>6</td>\n      <td>e</td>\n    </tr>\n    <tr>\n      <th>5</th>\n      <td>6.0</td>\n      <td>F</td>\n      <td>5</td>\n      <td>f</td>\n    </tr>\n    <tr>\n      <th>6</th>\n      <td>7.0</td>\n      <td>G</td>\n      <td>4</td>\n      <td>g</td>\n    </tr>\n    <tr>\n      <th>7</th>\n      <td>8.0</td>\n      <td>H</td>\n      <td>3</td>\n      <td>h</td>\n    </tr>\n    <tr>\n      <th>8</th>\n      <td>9.0</td>\n      <td>I</td>\n      <td>2</td>\n      <td>i</td>\n    </tr>\n    <tr>\n      <th>9</th>\n      <td>10.0</td>\n      <td>J</td>\n      <td>1</td>\n      <td>j</td>\n    </tr>\n  </tbody>\n</table>\n</div>"
     },
     "execution_count": 885,
     "metadata": {},
     "output_type": "execute_result"
    }
   ],
   "source": [
    "df"
   ],
   "metadata": {
    "collapsed": false,
    "ExecuteTime": {
     "end_time": "2023-08-26T14:15:47.811714Z",
     "start_time": "2023-08-26T14:15:47.014682Z"
    }
   }
  },
  {
   "cell_type": "code",
   "execution_count": 886,
   "outputs": [],
   "source": [
    "df = df.sort_values(by=\"C\")"
   ],
   "metadata": {
    "collapsed": false,
    "ExecuteTime": {
     "end_time": "2023-08-26T14:15:47.811769Z",
     "start_time": "2023-08-26T14:15:47.017835Z"
    }
   }
  },
  {
   "cell_type": "code",
   "execution_count": 887,
   "outputs": [
    {
     "data": {
      "text/plain": "      A  B   C  D\n9  10.0  J   1  j\n8   9.0  I   2  i\n7   8.0  H   3  h\n6   7.0  G   4  g\n5   6.0  F   5  f\n4   5.0  E   6  e\n3   4.0  D   7  d\n2   3.0  C   8  c\n1   2.0  B   9  b\n0   1.0  A  10  a",
      "text/html": "<div>\n<style scoped>\n    .dataframe tbody tr th:only-of-type {\n        vertical-align: middle;\n    }\n\n    .dataframe tbody tr th {\n        vertical-align: top;\n    }\n\n    .dataframe thead th {\n        text-align: right;\n    }\n</style>\n<table border=\"1\" class=\"dataframe\">\n  <thead>\n    <tr style=\"text-align: right;\">\n      <th></th>\n      <th>A</th>\n      <th>B</th>\n      <th>C</th>\n      <th>D</th>\n    </tr>\n  </thead>\n  <tbody>\n    <tr>\n      <th>9</th>\n      <td>10.0</td>\n      <td>J</td>\n      <td>1</td>\n      <td>j</td>\n    </tr>\n    <tr>\n      <th>8</th>\n      <td>9.0</td>\n      <td>I</td>\n      <td>2</td>\n      <td>i</td>\n    </tr>\n    <tr>\n      <th>7</th>\n      <td>8.0</td>\n      <td>H</td>\n      <td>3</td>\n      <td>h</td>\n    </tr>\n    <tr>\n      <th>6</th>\n      <td>7.0</td>\n      <td>G</td>\n      <td>4</td>\n      <td>g</td>\n    </tr>\n    <tr>\n      <th>5</th>\n      <td>6.0</td>\n      <td>F</td>\n      <td>5</td>\n      <td>f</td>\n    </tr>\n    <tr>\n      <th>4</th>\n      <td>5.0</td>\n      <td>E</td>\n      <td>6</td>\n      <td>e</td>\n    </tr>\n    <tr>\n      <th>3</th>\n      <td>4.0</td>\n      <td>D</td>\n      <td>7</td>\n      <td>d</td>\n    </tr>\n    <tr>\n      <th>2</th>\n      <td>3.0</td>\n      <td>C</td>\n      <td>8</td>\n      <td>c</td>\n    </tr>\n    <tr>\n      <th>1</th>\n      <td>2.0</td>\n      <td>B</td>\n      <td>9</td>\n      <td>b</td>\n    </tr>\n    <tr>\n      <th>0</th>\n      <td>1.0</td>\n      <td>A</td>\n      <td>10</td>\n      <td>a</td>\n    </tr>\n  </tbody>\n</table>\n</div>"
     },
     "execution_count": 887,
     "metadata": {},
     "output_type": "execute_result"
    }
   ],
   "source": [
    "df"
   ],
   "metadata": {
    "collapsed": false,
    "ExecuteTime": {
     "end_time": "2023-08-26T14:15:47.812038Z",
     "start_time": "2023-08-26T14:15:47.023183Z"
    }
   }
  },
  {
   "cell_type": "markdown",
   "metadata": {
    "collapsed": false
   },
   "source": [
    "### Selekcija\n",
    "\n",
    "Selekcija i filtriranje specifičnih redova/kolona, filtriranje podataka na osnovu uslova"
   ]
  },
  {
   "cell_type": "markdown",
   "metadata": {
    "collapsed": false
   },
   "source": [
    "Selekcija jedne kolone. Vraća ```Series``` objekat.\n",
    "\n",
    "Series je još jedna osnovna struktura podataka u pandas-u. Predstavlja jednodimenzionalni niz sa labelama."
   ]
  },
  {
   "cell_type": "code",
   "execution_count": 888,
   "metadata": {
    "collapsed": false,
    "ExecuteTime": {
     "end_time": "2023-08-26T14:15:47.812180Z",
     "start_time": "2023-08-26T14:15:47.026073Z"
    }
   },
   "outputs": [
    {
     "data": {
      "text/plain": "9    10.0\n8     9.0\n7     8.0\n6     7.0\n5     6.0\n4     5.0\n3     4.0\n2     3.0\n1     2.0\n0     1.0\nName: A, dtype: float64"
     },
     "execution_count": 888,
     "metadata": {},
     "output_type": "execute_result"
    }
   ],
   "source": [
    "df[\"A\"]"
   ]
  },
  {
   "cell_type": "markdown",
   "source": [
    "Selekcija više kolona"
   ],
   "metadata": {
    "collapsed": false
   }
  },
  {
   "cell_type": "code",
   "execution_count": 889,
   "outputs": [
    {
     "data": {
      "text/plain": "      A  B\n9  10.0  J\n8   9.0  I\n7   8.0  H\n6   7.0  G\n5   6.0  F\n4   5.0  E\n3   4.0  D\n2   3.0  C\n1   2.0  B\n0   1.0  A",
      "text/html": "<div>\n<style scoped>\n    .dataframe tbody tr th:only-of-type {\n        vertical-align: middle;\n    }\n\n    .dataframe tbody tr th {\n        vertical-align: top;\n    }\n\n    .dataframe thead th {\n        text-align: right;\n    }\n</style>\n<table border=\"1\" class=\"dataframe\">\n  <thead>\n    <tr style=\"text-align: right;\">\n      <th></th>\n      <th>A</th>\n      <th>B</th>\n    </tr>\n  </thead>\n  <tbody>\n    <tr>\n      <th>9</th>\n      <td>10.0</td>\n      <td>J</td>\n    </tr>\n    <tr>\n      <th>8</th>\n      <td>9.0</td>\n      <td>I</td>\n    </tr>\n    <tr>\n      <th>7</th>\n      <td>8.0</td>\n      <td>H</td>\n    </tr>\n    <tr>\n      <th>6</th>\n      <td>7.0</td>\n      <td>G</td>\n    </tr>\n    <tr>\n      <th>5</th>\n      <td>6.0</td>\n      <td>F</td>\n    </tr>\n    <tr>\n      <th>4</th>\n      <td>5.0</td>\n      <td>E</td>\n    </tr>\n    <tr>\n      <th>3</th>\n      <td>4.0</td>\n      <td>D</td>\n    </tr>\n    <tr>\n      <th>2</th>\n      <td>3.0</td>\n      <td>C</td>\n    </tr>\n    <tr>\n      <th>1</th>\n      <td>2.0</td>\n      <td>B</td>\n    </tr>\n    <tr>\n      <th>0</th>\n      <td>1.0</td>\n      <td>A</td>\n    </tr>\n  </tbody>\n</table>\n</div>"
     },
     "execution_count": 889,
     "metadata": {},
     "output_type": "execute_result"
    }
   ],
   "source": [
    "df[['A', 'B']]"
   ],
   "metadata": {
    "collapsed": false,
    "ExecuteTime": {
     "end_time": "2023-08-26T14:15:47.812380Z",
     "start_time": "2023-08-26T14:15:47.032982Z"
    }
   }
  },
  {
   "cell_type": "markdown",
   "metadata": {
    "collapsed": false
   },
   "source": [
    "Selekcija preko [] 'iseca' redove po poziciji"
   ]
  },
  {
   "cell_type": "code",
   "execution_count": 890,
   "metadata": {
    "collapsed": false,
    "ExecuteTime": {
     "end_time": "2023-08-26T14:15:47.812547Z",
     "start_time": "2023-08-26T14:15:47.038232Z"
    }
   },
   "outputs": [
    {
     "data": {
      "text/plain": "      A  B  C  D\n9  10.0  J  1  j\n8   9.0  I  2  i\n7   8.0  H  3  h",
      "text/html": "<div>\n<style scoped>\n    .dataframe tbody tr th:only-of-type {\n        vertical-align: middle;\n    }\n\n    .dataframe tbody tr th {\n        vertical-align: top;\n    }\n\n    .dataframe thead th {\n        text-align: right;\n    }\n</style>\n<table border=\"1\" class=\"dataframe\">\n  <thead>\n    <tr style=\"text-align: right;\">\n      <th></th>\n      <th>A</th>\n      <th>B</th>\n      <th>C</th>\n      <th>D</th>\n    </tr>\n  </thead>\n  <tbody>\n    <tr>\n      <th>9</th>\n      <td>10.0</td>\n      <td>J</td>\n      <td>1</td>\n      <td>j</td>\n    </tr>\n    <tr>\n      <th>8</th>\n      <td>9.0</td>\n      <td>I</td>\n      <td>2</td>\n      <td>i</td>\n    </tr>\n    <tr>\n      <th>7</th>\n      <td>8.0</td>\n      <td>H</td>\n      <td>3</td>\n      <td>h</td>\n    </tr>\n  </tbody>\n</table>\n</div>"
     },
     "execution_count": 890,
     "metadata": {},
     "output_type": "execute_result"
    }
   ],
   "source": [
    "df[0:3]"
   ]
  },
  {
   "cell_type": "markdown",
   "metadata": {
    "collapsed": false
   },
   "source": [
    "##### Selekcija preko labele\n",
    "\n",
    "Metode za indeksiranje na bazi celobrojne labele"
   ]
  },
  {
   "cell_type": "code",
   "execution_count": 891,
   "metadata": {
    "collapsed": false,
    "ExecuteTime": {
     "end_time": "2023-08-26T14:15:47.812596Z",
     "start_time": "2023-08-26T14:15:47.044817Z"
    }
   },
   "outputs": [],
   "source": [
    "df2 = pd.DataFrame(\n",
    "    {\n",
    "        \"A\": [1.0, 2.0, 3.0, 4.0, 5.0, 6.0, 7.0, 8.0, 9.0, 10.0],\n",
    "        \"B\": [\"A\", \"B\", \"C\", \"D\", \"E\", \"F\", \"G\", \"H\", \"I\", \"J\"],\n",
    "        \"C\": [10, 9, 8, 7, 6, 5, 4, 3, 2, 1],\n",
    "        \"D\": [\"aa\", \"bb\", \"cc\", \"dd\", \"ee\", \"ff\", \"gg\", \"hh\", \"ii\", \"jj\"],\n",
    "    },\n",
    "    index=['a', 'b', 'c', 'd', 'e', 'f', 'g', 'h', 'i', 'j']\n",
    ")"
   ]
  },
  {
   "cell_type": "code",
   "execution_count": 892,
   "outputs": [
    {
     "data": {
      "text/plain": "      A  B   C   D\na   1.0  A  10  aa\nb   2.0  B   9  bb\nc   3.0  C   8  cc\nd   4.0  D   7  dd\ne   5.0  E   6  ee\nf   6.0  F   5  ff\ng   7.0  G   4  gg\nh   8.0  H   3  hh\ni   9.0  I   2  ii\nj  10.0  J   1  jj",
      "text/html": "<div>\n<style scoped>\n    .dataframe tbody tr th:only-of-type {\n        vertical-align: middle;\n    }\n\n    .dataframe tbody tr th {\n        vertical-align: top;\n    }\n\n    .dataframe thead th {\n        text-align: right;\n    }\n</style>\n<table border=\"1\" class=\"dataframe\">\n  <thead>\n    <tr style=\"text-align: right;\">\n      <th></th>\n      <th>A</th>\n      <th>B</th>\n      <th>C</th>\n      <th>D</th>\n    </tr>\n  </thead>\n  <tbody>\n    <tr>\n      <th>a</th>\n      <td>1.0</td>\n      <td>A</td>\n      <td>10</td>\n      <td>aa</td>\n    </tr>\n    <tr>\n      <th>b</th>\n      <td>2.0</td>\n      <td>B</td>\n      <td>9</td>\n      <td>bb</td>\n    </tr>\n    <tr>\n      <th>c</th>\n      <td>3.0</td>\n      <td>C</td>\n      <td>8</td>\n      <td>cc</td>\n    </tr>\n    <tr>\n      <th>d</th>\n      <td>4.0</td>\n      <td>D</td>\n      <td>7</td>\n      <td>dd</td>\n    </tr>\n    <tr>\n      <th>e</th>\n      <td>5.0</td>\n      <td>E</td>\n      <td>6</td>\n      <td>ee</td>\n    </tr>\n    <tr>\n      <th>f</th>\n      <td>6.0</td>\n      <td>F</td>\n      <td>5</td>\n      <td>ff</td>\n    </tr>\n    <tr>\n      <th>g</th>\n      <td>7.0</td>\n      <td>G</td>\n      <td>4</td>\n      <td>gg</td>\n    </tr>\n    <tr>\n      <th>h</th>\n      <td>8.0</td>\n      <td>H</td>\n      <td>3</td>\n      <td>hh</td>\n    </tr>\n    <tr>\n      <th>i</th>\n      <td>9.0</td>\n      <td>I</td>\n      <td>2</td>\n      <td>ii</td>\n    </tr>\n    <tr>\n      <th>j</th>\n      <td>10.0</td>\n      <td>J</td>\n      <td>1</td>\n      <td>jj</td>\n    </tr>\n  </tbody>\n</table>\n</div>"
     },
     "execution_count": 892,
     "metadata": {},
     "output_type": "execute_result"
    }
   ],
   "source": [
    "df2"
   ],
   "metadata": {
    "collapsed": false,
    "ExecuteTime": {
     "end_time": "2023-08-26T14:15:47.812807Z",
     "start_time": "2023-08-26T14:15:47.049401Z"
    }
   }
  },
  {
   "cell_type": "code",
   "execution_count": 893,
   "metadata": {
    "collapsed": false,
    "ExecuteTime": {
     "end_time": "2023-08-26T14:15:47.812924Z",
     "start_time": "2023-08-26T14:15:47.052859Z"
    }
   },
   "outputs": [
    {
     "data": {
      "text/plain": "A    4.0\nB      D\nC      7\nD     dd\nName: d, dtype: object"
     },
     "execution_count": 893,
     "metadata": {},
     "output_type": "execute_result"
    }
   ],
   "source": [
    "df2.loc['d']"
   ]
  },
  {
   "cell_type": "markdown",
   "metadata": {
    "collapsed": false
   },
   "source": [
    "Selekcija više osa preko labele"
   ]
  },
  {
   "cell_type": "code",
   "execution_count": 894,
   "metadata": {
    "collapsed": false,
    "ExecuteTime": {
     "end_time": "2023-08-26T14:15:47.813054Z",
     "start_time": "2023-08-26T14:15:47.056080Z"
    }
   },
   "outputs": [
    {
     "data": {
      "text/plain": "A    4.0\nB      D\nName: d, dtype: object"
     },
     "execution_count": 894,
     "metadata": {},
     "output_type": "execute_result"
    }
   ],
   "source": [
    "df2.loc['d', [\"A\", \"B\"]]"
   ]
  },
  {
   "cell_type": "markdown",
   "metadata": {
    "collapsed": false
   },
   "source": [
    "*Note:* Kod selekcije preko labele, selektovanje je uključno sa obe strane"
   ]
  },
  {
   "cell_type": "code",
   "execution_count": 895,
   "metadata": {
    "collapsed": false,
    "ExecuteTime": {
     "end_time": "2023-08-26T14:15:47.813225Z",
     "start_time": "2023-08-26T14:15:47.063466Z"
    }
   },
   "outputs": [
    {
     "data": {
      "text/plain": "   C   D\nb  9  bb\nc  8  cc\nd  7  dd",
      "text/html": "<div>\n<style scoped>\n    .dataframe tbody tr th:only-of-type {\n        vertical-align: middle;\n    }\n\n    .dataframe tbody tr th {\n        vertical-align: top;\n    }\n\n    .dataframe thead th {\n        text-align: right;\n    }\n</style>\n<table border=\"1\" class=\"dataframe\">\n  <thead>\n    <tr style=\"text-align: right;\">\n      <th></th>\n      <th>C</th>\n      <th>D</th>\n    </tr>\n  </thead>\n  <tbody>\n    <tr>\n      <th>b</th>\n      <td>9</td>\n      <td>bb</td>\n    </tr>\n    <tr>\n      <th>c</th>\n      <td>8</td>\n      <td>cc</td>\n    </tr>\n    <tr>\n      <th>d</th>\n      <td>7</td>\n      <td>dd</td>\n    </tr>\n  </tbody>\n</table>\n</div>"
     },
     "execution_count": 895,
     "metadata": {},
     "output_type": "execute_result"
    }
   ],
   "source": [
    "df2.loc[\"b\":\"d\", [\"C\", \"D\"]]"
   ]
  },
  {
   "cell_type": "markdown",
   "metadata": {
    "collapsed": false
   },
   "source": [
    "Dobavljanje skalarne vrednosti"
   ]
  },
  {
   "cell_type": "code",
   "execution_count": 896,
   "metadata": {
    "collapsed": false,
    "ExecuteTime": {
     "end_time": "2023-08-26T14:15:47.813335Z",
     "start_time": "2023-08-26T14:15:47.066204Z"
    }
   },
   "outputs": [
    {
     "data": {
      "text/plain": "4.0"
     },
     "execution_count": 896,
     "metadata": {},
     "output_type": "execute_result"
    }
   ],
   "source": [
    "df2.loc['d', \"A\"]"
   ]
  },
  {
   "cell_type": "code",
   "execution_count": 897,
   "metadata": {
    "collapsed": false,
    "ExecuteTime": {
     "end_time": "2023-08-26T14:15:47.813443Z",
     "start_time": "2023-08-26T14:15:47.068862Z"
    }
   },
   "outputs": [
    {
     "data": {
      "text/plain": "4.0"
     },
     "execution_count": 897,
     "metadata": {},
     "output_type": "execute_result"
    }
   ],
   "source": [
    "df2.at['d', \"A\"]"
   ]
  },
  {
   "cell_type": "markdown",
   "metadata": {
    "collapsed": false
   },
   "source": [
    "##### Selekcija po poziciji\n",
    "\n",
    "Metode za indeksiranje na bazi celobrojne pozicije."
   ]
  },
  {
   "cell_type": "markdown",
   "metadata": {
    "collapsed": false
   },
   "source": [
    "*Note*: Kod selekcije po poziciji, početna vrednost je uključna a krajnja isključna!"
   ]
  },
  {
   "cell_type": "code",
   "execution_count": 898,
   "metadata": {
    "collapsed": false,
    "ExecuteTime": {
     "end_time": "2023-08-26T14:15:47.813554Z",
     "start_time": "2023-08-26T14:15:47.072175Z"
    }
   },
   "outputs": [
    {
     "data": {
      "text/plain": "A    4.0\nB      D\nC      7\nD     dd\nName: d, dtype: object"
     },
     "execution_count": 898,
     "metadata": {},
     "output_type": "execute_result"
    }
   ],
   "source": [
    "df2.iloc[3]"
   ]
  },
  {
   "cell_type": "code",
   "execution_count": 899,
   "metadata": {
    "collapsed": false,
    "ExecuteTime": {
     "end_time": "2023-08-26T14:15:47.813737Z",
     "start_time": "2023-08-26T14:15:47.075853Z"
    }
   },
   "outputs": [
    {
     "data": {
      "text/plain": "     A  B\nd  4.0  D\ne  5.0  E",
      "text/html": "<div>\n<style scoped>\n    .dataframe tbody tr th:only-of-type {\n        vertical-align: middle;\n    }\n\n    .dataframe tbody tr th {\n        vertical-align: top;\n    }\n\n    .dataframe thead th {\n        text-align: right;\n    }\n</style>\n<table border=\"1\" class=\"dataframe\">\n  <thead>\n    <tr style=\"text-align: right;\">\n      <th></th>\n      <th>A</th>\n      <th>B</th>\n    </tr>\n  </thead>\n  <tbody>\n    <tr>\n      <th>d</th>\n      <td>4.0</td>\n      <td>D</td>\n    </tr>\n    <tr>\n      <th>e</th>\n      <td>5.0</td>\n      <td>E</td>\n    </tr>\n  </tbody>\n</table>\n</div>"
     },
     "execution_count": 899,
     "metadata": {},
     "output_type": "execute_result"
    }
   ],
   "source": [
    "df2.iloc[3:5, 0:2]"
   ]
  },
  {
   "cell_type": "markdown",
   "metadata": {
    "collapsed": false
   },
   "source": [
    "Isecanje redova"
   ]
  },
  {
   "cell_type": "code",
   "execution_count": 900,
   "metadata": {
    "collapsed": false,
    "ExecuteTime": {
     "end_time": "2023-08-26T14:15:47.813913Z",
     "start_time": "2023-08-26T14:15:47.079356Z"
    }
   },
   "outputs": [
    {
     "data": {
      "text/plain": "     A  B  C   D\nb  2.0  B  9  bb\nc  3.0  C  8  cc",
      "text/html": "<div>\n<style scoped>\n    .dataframe tbody tr th:only-of-type {\n        vertical-align: middle;\n    }\n\n    .dataframe tbody tr th {\n        vertical-align: top;\n    }\n\n    .dataframe thead th {\n        text-align: right;\n    }\n</style>\n<table border=\"1\" class=\"dataframe\">\n  <thead>\n    <tr style=\"text-align: right;\">\n      <th></th>\n      <th>A</th>\n      <th>B</th>\n      <th>C</th>\n      <th>D</th>\n    </tr>\n  </thead>\n  <tbody>\n    <tr>\n      <th>b</th>\n      <td>2.0</td>\n      <td>B</td>\n      <td>9</td>\n      <td>bb</td>\n    </tr>\n    <tr>\n      <th>c</th>\n      <td>3.0</td>\n      <td>C</td>\n      <td>8</td>\n      <td>cc</td>\n    </tr>\n  </tbody>\n</table>\n</div>"
     },
     "execution_count": 900,
     "metadata": {},
     "output_type": "execute_result"
    }
   ],
   "source": [
    "df2.iloc[1:3, :]"
   ]
  },
  {
   "cell_type": "markdown",
   "metadata": {
    "collapsed": false
   },
   "source": [
    "Isecanje kolona"
   ]
  },
  {
   "cell_type": "code",
   "execution_count": 901,
   "metadata": {
    "collapsed": false,
    "ExecuteTime": {
     "end_time": "2023-08-26T14:15:47.814142Z",
     "start_time": "2023-08-26T14:15:47.082853Z"
    }
   },
   "outputs": [
    {
     "data": {
      "text/plain": "   B   C\na  A  10\nb  B   9\nc  C   8\nd  D   7\ne  E   6\nf  F   5\ng  G   4\nh  H   3\ni  I   2\nj  J   1",
      "text/html": "<div>\n<style scoped>\n    .dataframe tbody tr th:only-of-type {\n        vertical-align: middle;\n    }\n\n    .dataframe tbody tr th {\n        vertical-align: top;\n    }\n\n    .dataframe thead th {\n        text-align: right;\n    }\n</style>\n<table border=\"1\" class=\"dataframe\">\n  <thead>\n    <tr style=\"text-align: right;\">\n      <th></th>\n      <th>B</th>\n      <th>C</th>\n    </tr>\n  </thead>\n  <tbody>\n    <tr>\n      <th>a</th>\n      <td>A</td>\n      <td>10</td>\n    </tr>\n    <tr>\n      <th>b</th>\n      <td>B</td>\n      <td>9</td>\n    </tr>\n    <tr>\n      <th>c</th>\n      <td>C</td>\n      <td>8</td>\n    </tr>\n    <tr>\n      <th>d</th>\n      <td>D</td>\n      <td>7</td>\n    </tr>\n    <tr>\n      <th>e</th>\n      <td>E</td>\n      <td>6</td>\n    </tr>\n    <tr>\n      <th>f</th>\n      <td>F</td>\n      <td>5</td>\n    </tr>\n    <tr>\n      <th>g</th>\n      <td>G</td>\n      <td>4</td>\n    </tr>\n    <tr>\n      <th>h</th>\n      <td>H</td>\n      <td>3</td>\n    </tr>\n    <tr>\n      <th>i</th>\n      <td>I</td>\n      <td>2</td>\n    </tr>\n    <tr>\n      <th>j</th>\n      <td>J</td>\n      <td>1</td>\n    </tr>\n  </tbody>\n</table>\n</div>"
     },
     "execution_count": 901,
     "metadata": {},
     "output_type": "execute_result"
    }
   ],
   "source": [
    "df2.iloc[:, 1:3]"
   ]
  },
  {
   "cell_type": "markdown",
   "metadata": {
    "collapsed": false
   },
   "source": [
    "Dobavljanje skalarne vrednosti"
   ]
  },
  {
   "cell_type": "code",
   "execution_count": 902,
   "metadata": {
    "collapsed": false,
    "ExecuteTime": {
     "end_time": "2023-08-26T14:15:47.814257Z",
     "start_time": "2023-08-26T14:15:47.085643Z"
    }
   },
   "outputs": [
    {
     "data": {
      "text/plain": "'B'"
     },
     "execution_count": 902,
     "metadata": {},
     "output_type": "execute_result"
    }
   ],
   "source": [
    "df2.iloc[1, 1]"
   ]
  },
  {
   "cell_type": "code",
   "execution_count": 903,
   "metadata": {
    "collapsed": false,
    "ExecuteTime": {
     "end_time": "2023-08-26T14:15:47.814376Z",
     "start_time": "2023-08-26T14:15:47.088304Z"
    }
   },
   "outputs": [
    {
     "data": {
      "text/plain": "'B'"
     },
     "execution_count": 903,
     "metadata": {},
     "output_type": "execute_result"
    }
   ],
   "source": [
    "df2.iat[1, 1]"
   ]
  },
  {
   "cell_type": "markdown",
   "metadata": {
    "collapsed": false
   },
   "source": [
    "##### Boolean indeksiranje\n",
    "\n",
    "Selektovanje podataka na osnovu vrednosti iz jedne kolone"
   ]
  },
  {
   "cell_type": "code",
   "execution_count": 904,
   "metadata": {
    "collapsed": false,
    "ExecuteTime": {
     "end_time": "2023-08-26T14:15:47.814574Z",
     "start_time": "2023-08-26T14:15:47.092836Z"
    }
   },
   "outputs": [
    {
     "data": {
      "text/plain": "      A  B  C   D\nf   6.0  F  5  ff\ng   7.0  G  4  gg\nh   8.0  H  3  hh\ni   9.0  I  2  ii\nj  10.0  J  1  jj",
      "text/html": "<div>\n<style scoped>\n    .dataframe tbody tr th:only-of-type {\n        vertical-align: middle;\n    }\n\n    .dataframe tbody tr th {\n        vertical-align: top;\n    }\n\n    .dataframe thead th {\n        text-align: right;\n    }\n</style>\n<table border=\"1\" class=\"dataframe\">\n  <thead>\n    <tr style=\"text-align: right;\">\n      <th></th>\n      <th>A</th>\n      <th>B</th>\n      <th>C</th>\n      <th>D</th>\n    </tr>\n  </thead>\n  <tbody>\n    <tr>\n      <th>f</th>\n      <td>6.0</td>\n      <td>F</td>\n      <td>5</td>\n      <td>ff</td>\n    </tr>\n    <tr>\n      <th>g</th>\n      <td>7.0</td>\n      <td>G</td>\n      <td>4</td>\n      <td>gg</td>\n    </tr>\n    <tr>\n      <th>h</th>\n      <td>8.0</td>\n      <td>H</td>\n      <td>3</td>\n      <td>hh</td>\n    </tr>\n    <tr>\n      <th>i</th>\n      <td>9.0</td>\n      <td>I</td>\n      <td>2</td>\n      <td>ii</td>\n    </tr>\n    <tr>\n      <th>j</th>\n      <td>10.0</td>\n      <td>J</td>\n      <td>1</td>\n      <td>jj</td>\n    </tr>\n  </tbody>\n</table>\n</div>"
     },
     "execution_count": 904,
     "metadata": {},
     "output_type": "execute_result"
    }
   ],
   "source": [
    "df2[df2[\"A\"] > 5]"
   ]
  },
  {
   "cell_type": "code",
   "execution_count": 905,
   "outputs": [
    {
     "data": {
      "text/plain": "a    False\nb    False\nc    False\nd    False\ne    False\nf     True\ng     True\nh     True\ni     True\nj     True\nName: A, dtype: bool"
     },
     "execution_count": 905,
     "metadata": {},
     "output_type": "execute_result"
    }
   ],
   "source": [
    "df2[\"A\"] > 5"
   ],
   "metadata": {
    "collapsed": false,
    "ExecuteTime": {
     "end_time": "2023-08-26T14:15:47.814700Z",
     "start_time": "2023-08-26T14:15:47.095813Z"
    }
   }
  },
  {
   "cell_type": "code",
   "execution_count": 906,
   "outputs": [
    {
     "data": {
      "text/plain": "a    False\nb    False\nc    False\nd    False\ne    False\nf    False\ng    False\nh    False\ni     True\nj    False\ndtype: bool"
     },
     "execution_count": 906,
     "metadata": {},
     "output_type": "execute_result"
    }
   ],
   "source": [
    "(df2[\"A\"] > 5) & (df2[\"B\"]==\"I\")"
   ],
   "metadata": {
    "collapsed": false,
    "ExecuteTime": {
     "end_time": "2023-08-26T14:15:47.814829Z",
     "start_time": "2023-08-26T14:15:47.099522Z"
    }
   }
  },
  {
   "cell_type": "markdown",
   "metadata": {
    "collapsed": false
   },
   "source": [
    "##### Korišćenje isin() za filtriranje"
   ]
  },
  {
   "cell_type": "code",
   "execution_count": 907,
   "metadata": {
    "collapsed": false,
    "ExecuteTime": {
     "end_time": "2023-08-26T14:15:47.815666Z",
     "start_time": "2023-08-26T14:15:47.104678Z"
    }
   },
   "outputs": [
    {
     "data": {
      "text/plain": "      A  B  C   D\ng   7.0  G  4  gg\nj  10.0  J  1  jj",
      "text/html": "<div>\n<style scoped>\n    .dataframe tbody tr th:only-of-type {\n        vertical-align: middle;\n    }\n\n    .dataframe tbody tr th {\n        vertical-align: top;\n    }\n\n    .dataframe thead th {\n        text-align: right;\n    }\n</style>\n<table border=\"1\" class=\"dataframe\">\n  <thead>\n    <tr style=\"text-align: right;\">\n      <th></th>\n      <th>A</th>\n      <th>B</th>\n      <th>C</th>\n      <th>D</th>\n    </tr>\n  </thead>\n  <tbody>\n    <tr>\n      <th>g</th>\n      <td>7.0</td>\n      <td>G</td>\n      <td>4</td>\n      <td>gg</td>\n    </tr>\n    <tr>\n      <th>j</th>\n      <td>10.0</td>\n      <td>J</td>\n      <td>1</td>\n      <td>jj</td>\n    </tr>\n  </tbody>\n</table>\n</div>"
     },
     "execution_count": 907,
     "metadata": {},
     "output_type": "execute_result"
    }
   ],
   "source": [
    "df2[df2[\"B\"].isin([\"G\", \"J\"])]"
   ]
  },
  {
   "cell_type": "markdown",
   "source": [
    "### Dodela vrednosti"
   ],
   "metadata": {
    "collapsed": false
   }
  },
  {
   "cell_type": "markdown",
   "metadata": {
    "collapsed": false
   },
   "source": [
    "##### Dodela vrednosti preko labele"
   ]
  },
  {
   "cell_type": "code",
   "execution_count": 908,
   "outputs": [],
   "source": [
    "df3 = pd.DataFrame(\n",
    "    {\n",
    "        \"A\": [1.0, 2.0, 3.0, 4.0, 5.0, 6.0, 7.0, 8.0, 9.0, 10.0],\n",
    "        \"B\": [\"A\", \"B\", \"C\", \"D\", \"E\", \"F\", \"G\", \"H\", \"I\", \"J\"],\n",
    "        \"C\": [10, 9, 8, 7, 6, 5, 4, 3, 2, 1],\n",
    "        \"D\": [\"a\", \"b\", \"c\", \"d\", \"e\", \"f\", \"g\", \"h\", \"i\", \"j\"],\n",
    "    },\n",
    "    index=['a', 'b', 'c', 'd', 'e', 'f', 'g', 'h', 'i', 'j']\n",
    ")"
   ],
   "metadata": {
    "collapsed": false,
    "ExecuteTime": {
     "end_time": "2023-08-26T14:15:47.815724Z",
     "start_time": "2023-08-26T14:15:47.108219Z"
    }
   }
  },
  {
   "cell_type": "code",
   "execution_count": 909,
   "metadata": {
    "collapsed": false,
    "ExecuteTime": {
     "end_time": "2023-08-26T14:15:47.815771Z",
     "start_time": "2023-08-26T14:15:47.110104Z"
    }
   },
   "outputs": [],
   "source": [
    "df3.at['b', \"A\"] = -1"
   ]
  },
  {
   "cell_type": "code",
   "execution_count": 910,
   "outputs": [
    {
     "data": {
      "text/plain": "      A  B   C  D\na   1.0  A  10  a\nb  -1.0  B   9  b\nc   3.0  C   8  c\nd   4.0  D   7  d\ne   5.0  E   6  e\nf   6.0  F   5  f\ng   7.0  G   4  g\nh   8.0  H   3  h\ni   9.0  I   2  i\nj  10.0  J   1  j",
      "text/html": "<div>\n<style scoped>\n    .dataframe tbody tr th:only-of-type {\n        vertical-align: middle;\n    }\n\n    .dataframe tbody tr th {\n        vertical-align: top;\n    }\n\n    .dataframe thead th {\n        text-align: right;\n    }\n</style>\n<table border=\"1\" class=\"dataframe\">\n  <thead>\n    <tr style=\"text-align: right;\">\n      <th></th>\n      <th>A</th>\n      <th>B</th>\n      <th>C</th>\n      <th>D</th>\n    </tr>\n  </thead>\n  <tbody>\n    <tr>\n      <th>a</th>\n      <td>1.0</td>\n      <td>A</td>\n      <td>10</td>\n      <td>a</td>\n    </tr>\n    <tr>\n      <th>b</th>\n      <td>-1.0</td>\n      <td>B</td>\n      <td>9</td>\n      <td>b</td>\n    </tr>\n    <tr>\n      <th>c</th>\n      <td>3.0</td>\n      <td>C</td>\n      <td>8</td>\n      <td>c</td>\n    </tr>\n    <tr>\n      <th>d</th>\n      <td>4.0</td>\n      <td>D</td>\n      <td>7</td>\n      <td>d</td>\n    </tr>\n    <tr>\n      <th>e</th>\n      <td>5.0</td>\n      <td>E</td>\n      <td>6</td>\n      <td>e</td>\n    </tr>\n    <tr>\n      <th>f</th>\n      <td>6.0</td>\n      <td>F</td>\n      <td>5</td>\n      <td>f</td>\n    </tr>\n    <tr>\n      <th>g</th>\n      <td>7.0</td>\n      <td>G</td>\n      <td>4</td>\n      <td>g</td>\n    </tr>\n    <tr>\n      <th>h</th>\n      <td>8.0</td>\n      <td>H</td>\n      <td>3</td>\n      <td>h</td>\n    </tr>\n    <tr>\n      <th>i</th>\n      <td>9.0</td>\n      <td>I</td>\n      <td>2</td>\n      <td>i</td>\n    </tr>\n    <tr>\n      <th>j</th>\n      <td>10.0</td>\n      <td>J</td>\n      <td>1</td>\n      <td>j</td>\n    </tr>\n  </tbody>\n</table>\n</div>"
     },
     "execution_count": 910,
     "metadata": {},
     "output_type": "execute_result"
    }
   ],
   "source": [
    "df3"
   ],
   "metadata": {
    "collapsed": false,
    "ExecuteTime": {
     "end_time": "2023-08-26T14:15:47.815980Z",
     "start_time": "2023-08-26T14:15:47.114106Z"
    }
   }
  },
  {
   "cell_type": "markdown",
   "metadata": {
    "collapsed": false
   },
   "source": [
    "##### Dodela vrednosti preko pozicije"
   ]
  },
  {
   "cell_type": "code",
   "execution_count": 911,
   "outputs": [],
   "source": [
    "df4 = pd.DataFrame(\n",
    "    {\n",
    "        \"A\": [1.0, 2.0, 3.0, 4.0, 5.0, 6.0, 7.0, 8.0, 9.0, 10.0],\n",
    "        \"B\": [\"A\", \"B\", \"C\", \"D\", \"E\", \"F\", \"G\", \"H\", \"I\", \"J\"],\n",
    "        \"C\": [10, 9, 8, 7, 6, 5, 4, 3, 2, 1],\n",
    "        \"D\": [\"a\", \"b\", \"c\", \"d\", \"e\", \"f\", \"g\", \"h\", \"i\", \"j\"],\n",
    "    },\n",
    "    index=['a', 'b', 'c', 'd', 'e', 'f', 'g', 'h', 'i', 'j']\n",
    ")"
   ],
   "metadata": {
    "collapsed": false,
    "ExecuteTime": {
     "end_time": "2023-08-26T14:15:47.816543Z",
     "start_time": "2023-08-26T14:15:47.118546Z"
    }
   }
  },
  {
   "cell_type": "code",
   "execution_count": 912,
   "metadata": {
    "collapsed": false,
    "ExecuteTime": {
     "end_time": "2023-08-26T14:15:47.816610Z",
     "start_time": "2023-08-26T14:15:47.120968Z"
    }
   },
   "outputs": [],
   "source": [
    "df4.iat[0, 1] = 'M'"
   ]
  },
  {
   "cell_type": "code",
   "execution_count": 913,
   "outputs": [
    {
     "data": {
      "text/plain": "      A  B   C  D\na   1.0  M  10  a\nb   2.0  B   9  b\nc   3.0  C   8  c\nd   4.0  D   7  d\ne   5.0  E   6  e\nf   6.0  F   5  f\ng   7.0  G   4  g\nh   8.0  H   3  h\ni   9.0  I   2  i\nj  10.0  J   1  j",
      "text/html": "<div>\n<style scoped>\n    .dataframe tbody tr th:only-of-type {\n        vertical-align: middle;\n    }\n\n    .dataframe tbody tr th {\n        vertical-align: top;\n    }\n\n    .dataframe thead th {\n        text-align: right;\n    }\n</style>\n<table border=\"1\" class=\"dataframe\">\n  <thead>\n    <tr style=\"text-align: right;\">\n      <th></th>\n      <th>A</th>\n      <th>B</th>\n      <th>C</th>\n      <th>D</th>\n    </tr>\n  </thead>\n  <tbody>\n    <tr>\n      <th>a</th>\n      <td>1.0</td>\n      <td>M</td>\n      <td>10</td>\n      <td>a</td>\n    </tr>\n    <tr>\n      <th>b</th>\n      <td>2.0</td>\n      <td>B</td>\n      <td>9</td>\n      <td>b</td>\n    </tr>\n    <tr>\n      <th>c</th>\n      <td>3.0</td>\n      <td>C</td>\n      <td>8</td>\n      <td>c</td>\n    </tr>\n    <tr>\n      <th>d</th>\n      <td>4.0</td>\n      <td>D</td>\n      <td>7</td>\n      <td>d</td>\n    </tr>\n    <tr>\n      <th>e</th>\n      <td>5.0</td>\n      <td>E</td>\n      <td>6</td>\n      <td>e</td>\n    </tr>\n    <tr>\n      <th>f</th>\n      <td>6.0</td>\n      <td>F</td>\n      <td>5</td>\n      <td>f</td>\n    </tr>\n    <tr>\n      <th>g</th>\n      <td>7.0</td>\n      <td>G</td>\n      <td>4</td>\n      <td>g</td>\n    </tr>\n    <tr>\n      <th>h</th>\n      <td>8.0</td>\n      <td>H</td>\n      <td>3</td>\n      <td>h</td>\n    </tr>\n    <tr>\n      <th>i</th>\n      <td>9.0</td>\n      <td>I</td>\n      <td>2</td>\n      <td>i</td>\n    </tr>\n    <tr>\n      <th>j</th>\n      <td>10.0</td>\n      <td>J</td>\n      <td>1</td>\n      <td>j</td>\n    </tr>\n  </tbody>\n</table>\n</div>"
     },
     "execution_count": 913,
     "metadata": {},
     "output_type": "execute_result"
    }
   ],
   "source": [
    "df4"
   ],
   "metadata": {
    "collapsed": false,
    "ExecuteTime": {
     "end_time": "2023-08-26T14:15:47.816845Z",
     "start_time": "2023-08-26T14:15:47.124614Z"
    }
   }
  },
  {
   "cell_type": "markdown",
   "metadata": {
    "collapsed": false
   },
   "source": [
    "Dodela vrednosti pomoću niza"
   ]
  },
  {
   "cell_type": "code",
   "execution_count": 914,
   "outputs": [],
   "source": [
    "df5 = pd.DataFrame(\n",
    "    {\n",
    "        \"A\": [1.0, 2.0, 3.0, 4.0, 5.0, 6.0, 7.0, 8.0, 9.0, 10.0],\n",
    "        \"B\": [\"A\", \"B\", \"C\", \"D\", \"E\", \"F\", \"G\", \"H\", \"I\", \"J\"],\n",
    "        \"C\": [10, 9, 8, 7, 6, 5, 4, 3, 2, 1],\n",
    "        \"D\": [\"a\", \"b\", \"c\", \"d\", \"e\", \"f\", \"g\", \"h\", \"i\", \"j\"],\n",
    "    },\n",
    "    index=['a', 'b', 'c', 'd', 'e', 'f', 'g', 'h', 'i', 'j']\n",
    ")"
   ],
   "metadata": {
    "collapsed": false,
    "ExecuteTime": {
     "end_time": "2023-08-26T14:15:47.816899Z",
     "start_time": "2023-08-26T14:15:47.127621Z"
    }
   }
  },
  {
   "cell_type": "code",
   "execution_count": 915,
   "metadata": {
    "collapsed": false,
    "ExecuteTime": {
     "end_time": "2023-08-26T14:15:47.816964Z",
     "start_time": "2023-08-26T14:15:47.129970Z"
    }
   },
   "outputs": [],
   "source": [
    "df5.loc[:, \"D\"] = [-1, -2, -3, -4, -5, -6, -7, -8, -9, -10]"
   ]
  },
  {
   "cell_type": "code",
   "execution_count": 916,
   "outputs": [
    {
     "data": {
      "text/plain": "      A  B   C    D\na   1.0  A  10   -1\nb   2.0  B   9   -2\nc   3.0  C   8   -3\nd   4.0  D   7   -4\ne   5.0  E   6   -5\nf   6.0  F   5   -6\ng   7.0  G   4   -7\nh   8.0  H   3   -8\ni   9.0  I   2   -9\nj  10.0  J   1  -10",
      "text/html": "<div>\n<style scoped>\n    .dataframe tbody tr th:only-of-type {\n        vertical-align: middle;\n    }\n\n    .dataframe tbody tr th {\n        vertical-align: top;\n    }\n\n    .dataframe thead th {\n        text-align: right;\n    }\n</style>\n<table border=\"1\" class=\"dataframe\">\n  <thead>\n    <tr style=\"text-align: right;\">\n      <th></th>\n      <th>A</th>\n      <th>B</th>\n      <th>C</th>\n      <th>D</th>\n    </tr>\n  </thead>\n  <tbody>\n    <tr>\n      <th>a</th>\n      <td>1.0</td>\n      <td>A</td>\n      <td>10</td>\n      <td>-1</td>\n    </tr>\n    <tr>\n      <th>b</th>\n      <td>2.0</td>\n      <td>B</td>\n      <td>9</td>\n      <td>-2</td>\n    </tr>\n    <tr>\n      <th>c</th>\n      <td>3.0</td>\n      <td>C</td>\n      <td>8</td>\n      <td>-3</td>\n    </tr>\n    <tr>\n      <th>d</th>\n      <td>4.0</td>\n      <td>D</td>\n      <td>7</td>\n      <td>-4</td>\n    </tr>\n    <tr>\n      <th>e</th>\n      <td>5.0</td>\n      <td>E</td>\n      <td>6</td>\n      <td>-5</td>\n    </tr>\n    <tr>\n      <th>f</th>\n      <td>6.0</td>\n      <td>F</td>\n      <td>5</td>\n      <td>-6</td>\n    </tr>\n    <tr>\n      <th>g</th>\n      <td>7.0</td>\n      <td>G</td>\n      <td>4</td>\n      <td>-7</td>\n    </tr>\n    <tr>\n      <th>h</th>\n      <td>8.0</td>\n      <td>H</td>\n      <td>3</td>\n      <td>-8</td>\n    </tr>\n    <tr>\n      <th>i</th>\n      <td>9.0</td>\n      <td>I</td>\n      <td>2</td>\n      <td>-9</td>\n    </tr>\n    <tr>\n      <th>j</th>\n      <td>10.0</td>\n      <td>J</td>\n      <td>1</td>\n      <td>-10</td>\n    </tr>\n  </tbody>\n</table>\n</div>"
     },
     "execution_count": 916,
     "metadata": {},
     "output_type": "execute_result"
    }
   ],
   "source": [
    "df5"
   ],
   "metadata": {
    "collapsed": false,
    "ExecuteTime": {
     "end_time": "2023-08-26T14:15:47.817259Z",
     "start_time": "2023-08-26T14:15:47.137812Z"
    }
   }
  },
  {
   "cell_type": "markdown",
   "metadata": {
    "collapsed": false
   },
   "source": [
    "### Nedostajući podaci"
   ]
  },
  {
   "cell_type": "code",
   "execution_count": 917,
   "metadata": {
    "collapsed": false,
    "ExecuteTime": {
     "end_time": "2023-08-26T14:15:47.817311Z",
     "start_time": "2023-08-26T14:15:47.141875Z"
    }
   },
   "outputs": [],
   "source": [
    "df6 = pd.DataFrame(\n",
    "    {\n",
    "        \"A\": [1.0, 2.0, 3.0, 4.0, 5.0, 6.0, 7.0, 8.0, 9.0, 10.0],\n",
    "        \"B\": [\"A\", \"B\", \"C\", \"D\", \"E\", \"F\", \"G\", \"H\", \"I\", \"J\"],\n",
    "        \"C\": [10, 9, 8, 7, 6, 5, 4, 3, 2, 1],\n",
    "        \"D\": ['dog', 'cat', None, 'lion', 'bear', 'penguin', 'horse', 'dolphin', 'panda', 'seagull'],\n",
    "    },\n",
    "    index=list('abcdefghij')\n",
    ")"
   ]
  },
  {
   "cell_type": "code",
   "execution_count": 918,
   "outputs": [
    {
     "data": {
      "text/plain": "      A  B   C        D\na   1.0  A  10      dog\nb   2.0  B   9      cat\nc   3.0  C   8     None\nd   4.0  D   7     lion\ne   5.0  E   6     bear\nf   6.0  F   5  penguin\ng   7.0  G   4    horse\nh   8.0  H   3  dolphin\ni   9.0  I   2    panda\nj  10.0  J   1  seagull",
      "text/html": "<div>\n<style scoped>\n    .dataframe tbody tr th:only-of-type {\n        vertical-align: middle;\n    }\n\n    .dataframe tbody tr th {\n        vertical-align: top;\n    }\n\n    .dataframe thead th {\n        text-align: right;\n    }\n</style>\n<table border=\"1\" class=\"dataframe\">\n  <thead>\n    <tr style=\"text-align: right;\">\n      <th></th>\n      <th>A</th>\n      <th>B</th>\n      <th>C</th>\n      <th>D</th>\n    </tr>\n  </thead>\n  <tbody>\n    <tr>\n      <th>a</th>\n      <td>1.0</td>\n      <td>A</td>\n      <td>10</td>\n      <td>dog</td>\n    </tr>\n    <tr>\n      <th>b</th>\n      <td>2.0</td>\n      <td>B</td>\n      <td>9</td>\n      <td>cat</td>\n    </tr>\n    <tr>\n      <th>c</th>\n      <td>3.0</td>\n      <td>C</td>\n      <td>8</td>\n      <td>None</td>\n    </tr>\n    <tr>\n      <th>d</th>\n      <td>4.0</td>\n      <td>D</td>\n      <td>7</td>\n      <td>lion</td>\n    </tr>\n    <tr>\n      <th>e</th>\n      <td>5.0</td>\n      <td>E</td>\n      <td>6</td>\n      <td>bear</td>\n    </tr>\n    <tr>\n      <th>f</th>\n      <td>6.0</td>\n      <td>F</td>\n      <td>5</td>\n      <td>penguin</td>\n    </tr>\n    <tr>\n      <th>g</th>\n      <td>7.0</td>\n      <td>G</td>\n      <td>4</td>\n      <td>horse</td>\n    </tr>\n    <tr>\n      <th>h</th>\n      <td>8.0</td>\n      <td>H</td>\n      <td>3</td>\n      <td>dolphin</td>\n    </tr>\n    <tr>\n      <th>i</th>\n      <td>9.0</td>\n      <td>I</td>\n      <td>2</td>\n      <td>panda</td>\n    </tr>\n    <tr>\n      <th>j</th>\n      <td>10.0</td>\n      <td>J</td>\n      <td>1</td>\n      <td>seagull</td>\n    </tr>\n  </tbody>\n</table>\n</div>"
     },
     "execution_count": 918,
     "metadata": {},
     "output_type": "execute_result"
    }
   ],
   "source": [
    "df6"
   ],
   "metadata": {
    "collapsed": false,
    "ExecuteTime": {
     "end_time": "2023-08-26T14:15:47.817542Z",
     "start_time": "2023-08-26T14:15:47.145778Z"
    }
   }
  },
  {
   "cell_type": "markdown",
   "metadata": {
    "collapsed": false
   },
   "source": [
    "Odbacivanje redova koji imaju nedostajajuće podatke"
   ]
  },
  {
   "cell_type": "code",
   "execution_count": 919,
   "metadata": {
    "collapsed": false,
    "ExecuteTime": {
     "end_time": "2023-08-26T14:15:47.817753Z",
     "start_time": "2023-08-26T14:15:47.150472Z"
    }
   },
   "outputs": [
    {
     "data": {
      "text/plain": "      A  B   C        D\na   1.0  A  10      dog\nb   2.0  B   9      cat\nd   4.0  D   7     lion\ne   5.0  E   6     bear\nf   6.0  F   5  penguin\ng   7.0  G   4    horse\nh   8.0  H   3  dolphin\ni   9.0  I   2    panda\nj  10.0  J   1  seagull",
      "text/html": "<div>\n<style scoped>\n    .dataframe tbody tr th:only-of-type {\n        vertical-align: middle;\n    }\n\n    .dataframe tbody tr th {\n        vertical-align: top;\n    }\n\n    .dataframe thead th {\n        text-align: right;\n    }\n</style>\n<table border=\"1\" class=\"dataframe\">\n  <thead>\n    <tr style=\"text-align: right;\">\n      <th></th>\n      <th>A</th>\n      <th>B</th>\n      <th>C</th>\n      <th>D</th>\n    </tr>\n  </thead>\n  <tbody>\n    <tr>\n      <th>a</th>\n      <td>1.0</td>\n      <td>A</td>\n      <td>10</td>\n      <td>dog</td>\n    </tr>\n    <tr>\n      <th>b</th>\n      <td>2.0</td>\n      <td>B</td>\n      <td>9</td>\n      <td>cat</td>\n    </tr>\n    <tr>\n      <th>d</th>\n      <td>4.0</td>\n      <td>D</td>\n      <td>7</td>\n      <td>lion</td>\n    </tr>\n    <tr>\n      <th>e</th>\n      <td>5.0</td>\n      <td>E</td>\n      <td>6</td>\n      <td>bear</td>\n    </tr>\n    <tr>\n      <th>f</th>\n      <td>6.0</td>\n      <td>F</td>\n      <td>5</td>\n      <td>penguin</td>\n    </tr>\n    <tr>\n      <th>g</th>\n      <td>7.0</td>\n      <td>G</td>\n      <td>4</td>\n      <td>horse</td>\n    </tr>\n    <tr>\n      <th>h</th>\n      <td>8.0</td>\n      <td>H</td>\n      <td>3</td>\n      <td>dolphin</td>\n    </tr>\n    <tr>\n      <th>i</th>\n      <td>9.0</td>\n      <td>I</td>\n      <td>2</td>\n      <td>panda</td>\n    </tr>\n    <tr>\n      <th>j</th>\n      <td>10.0</td>\n      <td>J</td>\n      <td>1</td>\n      <td>seagull</td>\n    </tr>\n  </tbody>\n</table>\n</div>"
     },
     "execution_count": 919,
     "metadata": {},
     "output_type": "execute_result"
    }
   ],
   "source": [
    "df6.dropna(how=\"any\")"
   ]
  },
  {
   "cell_type": "markdown",
   "metadata": {
    "collapsed": false
   },
   "source": [
    "Odbacivanje kolona koje imaju nedostajajuće podatke"
   ]
  },
  {
   "cell_type": "code",
   "execution_count": 920,
   "metadata": {
    "collapsed": false,
    "ExecuteTime": {
     "end_time": "2023-08-26T14:15:47.817952Z",
     "start_time": "2023-08-26T14:15:47.154985Z"
    }
   },
   "outputs": [
    {
     "data": {
      "text/plain": "      A  B   C\na   1.0  A  10\nb   2.0  B   9\nc   3.0  C   8\nd   4.0  D   7\ne   5.0  E   6\nf   6.0  F   5\ng   7.0  G   4\nh   8.0  H   3\ni   9.0  I   2\nj  10.0  J   1",
      "text/html": "<div>\n<style scoped>\n    .dataframe tbody tr th:only-of-type {\n        vertical-align: middle;\n    }\n\n    .dataframe tbody tr th {\n        vertical-align: top;\n    }\n\n    .dataframe thead th {\n        text-align: right;\n    }\n</style>\n<table border=\"1\" class=\"dataframe\">\n  <thead>\n    <tr style=\"text-align: right;\">\n      <th></th>\n      <th>A</th>\n      <th>B</th>\n      <th>C</th>\n    </tr>\n  </thead>\n  <tbody>\n    <tr>\n      <th>a</th>\n      <td>1.0</td>\n      <td>A</td>\n      <td>10</td>\n    </tr>\n    <tr>\n      <th>b</th>\n      <td>2.0</td>\n      <td>B</td>\n      <td>9</td>\n    </tr>\n    <tr>\n      <th>c</th>\n      <td>3.0</td>\n      <td>C</td>\n      <td>8</td>\n    </tr>\n    <tr>\n      <th>d</th>\n      <td>4.0</td>\n      <td>D</td>\n      <td>7</td>\n    </tr>\n    <tr>\n      <th>e</th>\n      <td>5.0</td>\n      <td>E</td>\n      <td>6</td>\n    </tr>\n    <tr>\n      <th>f</th>\n      <td>6.0</td>\n      <td>F</td>\n      <td>5</td>\n    </tr>\n    <tr>\n      <th>g</th>\n      <td>7.0</td>\n      <td>G</td>\n      <td>4</td>\n    </tr>\n    <tr>\n      <th>h</th>\n      <td>8.0</td>\n      <td>H</td>\n      <td>3</td>\n    </tr>\n    <tr>\n      <th>i</th>\n      <td>9.0</td>\n      <td>I</td>\n      <td>2</td>\n    </tr>\n    <tr>\n      <th>j</th>\n      <td>10.0</td>\n      <td>J</td>\n      <td>1</td>\n    </tr>\n  </tbody>\n</table>\n</div>"
     },
     "execution_count": 920,
     "metadata": {},
     "output_type": "execute_result"
    }
   ],
   "source": [
    "df6.dropna(how=\"any\", axis=1)"
   ]
  },
  {
   "cell_type": "markdown",
   "metadata": {
    "collapsed": false
   },
   "source": [
    "```fillna()``` popunjava nedostajajuće podatke:"
   ]
  },
  {
   "cell_type": "code",
   "execution_count": 921,
   "metadata": {
    "collapsed": false,
    "ExecuteTime": {
     "end_time": "2023-08-26T14:15:47.818175Z",
     "start_time": "2023-08-26T14:15:47.160377Z"
    }
   },
   "outputs": [
    {
     "data": {
      "text/plain": "      A  B   C        D\na   1.0  A  10      dog\nb   2.0  B   9      cat\nc   3.0  C   8     None\nd   4.0  D   7     lion\ne   5.0  E   6     bear\nf   6.0  F   5  penguin\ng   7.0  G   4    horse\nh   8.0  H   3  dolphin\ni   9.0  I   2    panda\nj  10.0  J   1  seagull",
      "text/html": "<div>\n<style scoped>\n    .dataframe tbody tr th:only-of-type {\n        vertical-align: middle;\n    }\n\n    .dataframe tbody tr th {\n        vertical-align: top;\n    }\n\n    .dataframe thead th {\n        text-align: right;\n    }\n</style>\n<table border=\"1\" class=\"dataframe\">\n  <thead>\n    <tr style=\"text-align: right;\">\n      <th></th>\n      <th>A</th>\n      <th>B</th>\n      <th>C</th>\n      <th>D</th>\n    </tr>\n  </thead>\n  <tbody>\n    <tr>\n      <th>a</th>\n      <td>1.0</td>\n      <td>A</td>\n      <td>10</td>\n      <td>dog</td>\n    </tr>\n    <tr>\n      <th>b</th>\n      <td>2.0</td>\n      <td>B</td>\n      <td>9</td>\n      <td>cat</td>\n    </tr>\n    <tr>\n      <th>c</th>\n      <td>3.0</td>\n      <td>C</td>\n      <td>8</td>\n      <td>None</td>\n    </tr>\n    <tr>\n      <th>d</th>\n      <td>4.0</td>\n      <td>D</td>\n      <td>7</td>\n      <td>lion</td>\n    </tr>\n    <tr>\n      <th>e</th>\n      <td>5.0</td>\n      <td>E</td>\n      <td>6</td>\n      <td>bear</td>\n    </tr>\n    <tr>\n      <th>f</th>\n      <td>6.0</td>\n      <td>F</td>\n      <td>5</td>\n      <td>penguin</td>\n    </tr>\n    <tr>\n      <th>g</th>\n      <td>7.0</td>\n      <td>G</td>\n      <td>4</td>\n      <td>horse</td>\n    </tr>\n    <tr>\n      <th>h</th>\n      <td>8.0</td>\n      <td>H</td>\n      <td>3</td>\n      <td>dolphin</td>\n    </tr>\n    <tr>\n      <th>i</th>\n      <td>9.0</td>\n      <td>I</td>\n      <td>2</td>\n      <td>panda</td>\n    </tr>\n    <tr>\n      <th>j</th>\n      <td>10.0</td>\n      <td>J</td>\n      <td>1</td>\n      <td>seagull</td>\n    </tr>\n  </tbody>\n</table>\n</div>"
     },
     "execution_count": 921,
     "metadata": {},
     "output_type": "execute_result"
    }
   ],
   "source": [
    "df6.fillna(value=555)\n",
    "df6"
   ]
  },
  {
   "cell_type": "markdown",
   "metadata": {
    "collapsed": false
   },
   "source": [
    "### Kreiranje novih kolona na osnovu postojećih\n"
   ]
  },
  {
   "cell_type": "markdown",
   "metadata": {
    "collapsed": false
   },
   "source": [
    "Kreiranje nove kolone"
   ]
  },
  {
   "cell_type": "markdown",
   "metadata": {
    "collapsed": false
   },
   "source": [
    "Za kreiranje nove kolone, koriste se uglaste zagrade ```[]``` sa nazivom nove kolone sa leve strane dodele"
   ]
  },
  {
   "cell_type": "code",
   "execution_count": 922,
   "outputs": [],
   "source": [
    "df7 = pd.DataFrame(\n",
    "    {\n",
    "        \"A\": [1.0, 2.0, 3.0, 4.0, 5.0, 6.0, 7.0, 8.0, 9.0, 10.0],\n",
    "        \"B\": [\"A\", \"B\", \"C\", \"D\", \"E\", \"F\", \"G\", \"H\", \"I\", \"J\"],\n",
    "        \"C\": [10, 9, 8, 7, 6, 5, 4, 3, 2, 1],\n",
    "        \"D\": ['dog', 'cat', None, 'lion', 'bear', 'penguin', 'horse', 'dolphin', 'panda', 'seagull'],\n",
    "    },\n",
    "    index=list('abcdefghij')\n",
    ")"
   ],
   "metadata": {
    "collapsed": false,
    "ExecuteTime": {
     "end_time": "2023-08-26T14:15:47.820293Z",
     "start_time": "2023-08-26T14:15:47.163621Z"
    }
   }
  },
  {
   "cell_type": "code",
   "execution_count": 923,
   "metadata": {
    "collapsed": false,
    "ExecuteTime": {
     "end_time": "2023-08-26T14:15:47.820348Z",
     "start_time": "2023-08-26T14:15:47.166338Z"
    }
   },
   "outputs": [],
   "source": [
    "df7[\"A_double\"] = df7[\"A\"] * 2"
   ]
  },
  {
   "cell_type": "code",
   "execution_count": 924,
   "outputs": [],
   "source": [
    "df7[\"A*C\"] = df7[\"A\"] * df7[\"C\"]"
   ],
   "metadata": {
    "collapsed": false,
    "ExecuteTime": {
     "end_time": "2023-08-26T14:15:47.820395Z",
     "start_time": "2023-08-26T14:15:47.168329Z"
    }
   }
  },
  {
   "cell_type": "code",
   "execution_count": 925,
   "metadata": {
    "collapsed": false,
    "ExecuteTime": {
     "end_time": "2023-08-26T14:15:47.820639Z",
     "start_time": "2023-08-26T14:15:47.173235Z"
    }
   },
   "outputs": [
    {
     "data": {
      "text/plain": "      A  B   C        D  A_double   A*C\na   1.0  A  10      dog       2.0  10.0\nb   2.0  B   9      cat       4.0  18.0\nc   3.0  C   8     None       6.0  24.0\nd   4.0  D   7     lion       8.0  28.0\ne   5.0  E   6     bear      10.0  30.0\nf   6.0  F   5  penguin      12.0  30.0\ng   7.0  G   4    horse      14.0  28.0\nh   8.0  H   3  dolphin      16.0  24.0\ni   9.0  I   2    panda      18.0  18.0\nj  10.0  J   1  seagull      20.0  10.0",
      "text/html": "<div>\n<style scoped>\n    .dataframe tbody tr th:only-of-type {\n        vertical-align: middle;\n    }\n\n    .dataframe tbody tr th {\n        vertical-align: top;\n    }\n\n    .dataframe thead th {\n        text-align: right;\n    }\n</style>\n<table border=\"1\" class=\"dataframe\">\n  <thead>\n    <tr style=\"text-align: right;\">\n      <th></th>\n      <th>A</th>\n      <th>B</th>\n      <th>C</th>\n      <th>D</th>\n      <th>A_double</th>\n      <th>A*C</th>\n    </tr>\n  </thead>\n  <tbody>\n    <tr>\n      <th>a</th>\n      <td>1.0</td>\n      <td>A</td>\n      <td>10</td>\n      <td>dog</td>\n      <td>2.0</td>\n      <td>10.0</td>\n    </tr>\n    <tr>\n      <th>b</th>\n      <td>2.0</td>\n      <td>B</td>\n      <td>9</td>\n      <td>cat</td>\n      <td>4.0</td>\n      <td>18.0</td>\n    </tr>\n    <tr>\n      <th>c</th>\n      <td>3.0</td>\n      <td>C</td>\n      <td>8</td>\n      <td>None</td>\n      <td>6.0</td>\n      <td>24.0</td>\n    </tr>\n    <tr>\n      <th>d</th>\n      <td>4.0</td>\n      <td>D</td>\n      <td>7</td>\n      <td>lion</td>\n      <td>8.0</td>\n      <td>28.0</td>\n    </tr>\n    <tr>\n      <th>e</th>\n      <td>5.0</td>\n      <td>E</td>\n      <td>6</td>\n      <td>bear</td>\n      <td>10.0</td>\n      <td>30.0</td>\n    </tr>\n    <tr>\n      <th>f</th>\n      <td>6.0</td>\n      <td>F</td>\n      <td>5</td>\n      <td>penguin</td>\n      <td>12.0</td>\n      <td>30.0</td>\n    </tr>\n    <tr>\n      <th>g</th>\n      <td>7.0</td>\n      <td>G</td>\n      <td>4</td>\n      <td>horse</td>\n      <td>14.0</td>\n      <td>28.0</td>\n    </tr>\n    <tr>\n      <th>h</th>\n      <td>8.0</td>\n      <td>H</td>\n      <td>3</td>\n      <td>dolphin</td>\n      <td>16.0</td>\n      <td>24.0</td>\n    </tr>\n    <tr>\n      <th>i</th>\n      <td>9.0</td>\n      <td>I</td>\n      <td>2</td>\n      <td>panda</td>\n      <td>18.0</td>\n      <td>18.0</td>\n    </tr>\n    <tr>\n      <th>j</th>\n      <td>10.0</td>\n      <td>J</td>\n      <td>1</td>\n      <td>seagull</td>\n      <td>20.0</td>\n      <td>10.0</td>\n    </tr>\n  </tbody>\n</table>\n</div>"
     },
     "execution_count": 925,
     "metadata": {},
     "output_type": "execute_result"
    }
   ],
   "source": [
    "df7"
   ]
  },
  {
   "cell_type": "markdown",
   "metadata": {
    "collapsed": false
   },
   "source": [
    "Promena naziva kolona"
   ]
  },
  {
   "cell_type": "code",
   "execution_count": 926,
   "metadata": {
    "collapsed": false,
    "ExecuteTime": {
     "end_time": "2023-08-26T14:15:47.820694Z",
     "start_time": "2023-08-26T14:15:47.177236Z"
    }
   },
   "outputs": [],
   "source": [
    "df8 = df7.rename(\n",
    "    columns = {\n",
    "        \"B\": \"letters\",\n",
    "        \"D\": \"animals\"\n",
    "    }\n",
    ")"
   ]
  },
  {
   "cell_type": "code",
   "execution_count": 927,
   "outputs": [
    {
     "data": {
      "text/plain": "      A letters   C  animals  A_double   A*C\na   1.0       A  10      dog       2.0  10.0\nb   2.0       B   9      cat       4.0  18.0\nc   3.0       C   8     None       6.0  24.0\nd   4.0       D   7     lion       8.0  28.0\ne   5.0       E   6     bear      10.0  30.0\nf   6.0       F   5  penguin      12.0  30.0\ng   7.0       G   4    horse      14.0  28.0\nh   8.0       H   3  dolphin      16.0  24.0\ni   9.0       I   2    panda      18.0  18.0\nj  10.0       J   1  seagull      20.0  10.0",
      "text/html": "<div>\n<style scoped>\n    .dataframe tbody tr th:only-of-type {\n        vertical-align: middle;\n    }\n\n    .dataframe tbody tr th {\n        vertical-align: top;\n    }\n\n    .dataframe thead th {\n        text-align: right;\n    }\n</style>\n<table border=\"1\" class=\"dataframe\">\n  <thead>\n    <tr style=\"text-align: right;\">\n      <th></th>\n      <th>A</th>\n      <th>letters</th>\n      <th>C</th>\n      <th>animals</th>\n      <th>A_double</th>\n      <th>A*C</th>\n    </tr>\n  </thead>\n  <tbody>\n    <tr>\n      <th>a</th>\n      <td>1.0</td>\n      <td>A</td>\n      <td>10</td>\n      <td>dog</td>\n      <td>2.0</td>\n      <td>10.0</td>\n    </tr>\n    <tr>\n      <th>b</th>\n      <td>2.0</td>\n      <td>B</td>\n      <td>9</td>\n      <td>cat</td>\n      <td>4.0</td>\n      <td>18.0</td>\n    </tr>\n    <tr>\n      <th>c</th>\n      <td>3.0</td>\n      <td>C</td>\n      <td>8</td>\n      <td>None</td>\n      <td>6.0</td>\n      <td>24.0</td>\n    </tr>\n    <tr>\n      <th>d</th>\n      <td>4.0</td>\n      <td>D</td>\n      <td>7</td>\n      <td>lion</td>\n      <td>8.0</td>\n      <td>28.0</td>\n    </tr>\n    <tr>\n      <th>e</th>\n      <td>5.0</td>\n      <td>E</td>\n      <td>6</td>\n      <td>bear</td>\n      <td>10.0</td>\n      <td>30.0</td>\n    </tr>\n    <tr>\n      <th>f</th>\n      <td>6.0</td>\n      <td>F</td>\n      <td>5</td>\n      <td>penguin</td>\n      <td>12.0</td>\n      <td>30.0</td>\n    </tr>\n    <tr>\n      <th>g</th>\n      <td>7.0</td>\n      <td>G</td>\n      <td>4</td>\n      <td>horse</td>\n      <td>14.0</td>\n      <td>28.0</td>\n    </tr>\n    <tr>\n      <th>h</th>\n      <td>8.0</td>\n      <td>H</td>\n      <td>3</td>\n      <td>dolphin</td>\n      <td>16.0</td>\n      <td>24.0</td>\n    </tr>\n    <tr>\n      <th>i</th>\n      <td>9.0</td>\n      <td>I</td>\n      <td>2</td>\n      <td>panda</td>\n      <td>18.0</td>\n      <td>18.0</td>\n    </tr>\n    <tr>\n      <th>j</th>\n      <td>10.0</td>\n      <td>J</td>\n      <td>1</td>\n      <td>seagull</td>\n      <td>20.0</td>\n      <td>10.0</td>\n    </tr>\n  </tbody>\n</table>\n</div>"
     },
     "execution_count": 927,
     "metadata": {},
     "output_type": "execute_result"
    }
   ],
   "source": [
    "df8"
   ],
   "metadata": {
    "collapsed": false,
    "ExecuteTime": {
     "end_time": "2023-08-26T14:15:47.820927Z",
     "start_time": "2023-08-26T14:15:47.183014Z"
    }
   }
  },
  {
   "cell_type": "markdown",
   "metadata": {
    "collapsed": false
   },
   "source": [
    "### Kombinovanje podataka iz različitih tabela"
   ]
  },
  {
   "cell_type": "markdown",
   "metadata": {
    "collapsed": false
   },
   "source": [
    "##### Concat\n",
    "\n",
    "Spajanje DataFrame-ova po osi preko ```concat()```"
   ]
  },
  {
   "cell_type": "code",
   "execution_count": 928,
   "metadata": {
    "collapsed": false,
    "ExecuteTime": {
     "end_time": "2023-08-26T14:15:47.820973Z",
     "start_time": "2023-08-26T14:15:47.191358Z"
    }
   },
   "outputs": [],
   "source": [
    "dfa = df2[:3]\n",
    "dfb = df2[3:7]\n",
    "dfc = df2[7:]"
   ]
  },
  {
   "cell_type": "code",
   "execution_count": 929,
   "metadata": {
    "collapsed": false,
    "ExecuteTime": {
     "end_time": "2023-08-26T14:15:47.821148Z",
     "start_time": "2023-08-26T14:15:47.195147Z"
    }
   },
   "outputs": [
    {
     "data": {
      "text/plain": "     A  B   C   D\na  1.0  A  10  aa\nb  2.0  B   9  bb\nc  3.0  C   8  cc",
      "text/html": "<div>\n<style scoped>\n    .dataframe tbody tr th:only-of-type {\n        vertical-align: middle;\n    }\n\n    .dataframe tbody tr th {\n        vertical-align: top;\n    }\n\n    .dataframe thead th {\n        text-align: right;\n    }\n</style>\n<table border=\"1\" class=\"dataframe\">\n  <thead>\n    <tr style=\"text-align: right;\">\n      <th></th>\n      <th>A</th>\n      <th>B</th>\n      <th>C</th>\n      <th>D</th>\n    </tr>\n  </thead>\n  <tbody>\n    <tr>\n      <th>a</th>\n      <td>1.0</td>\n      <td>A</td>\n      <td>10</td>\n      <td>aa</td>\n    </tr>\n    <tr>\n      <th>b</th>\n      <td>2.0</td>\n      <td>B</td>\n      <td>9</td>\n      <td>bb</td>\n    </tr>\n    <tr>\n      <th>c</th>\n      <td>3.0</td>\n      <td>C</td>\n      <td>8</td>\n      <td>cc</td>\n    </tr>\n  </tbody>\n</table>\n</div>"
     },
     "execution_count": 929,
     "metadata": {},
     "output_type": "execute_result"
    }
   ],
   "source": [
    "dfa"
   ]
  },
  {
   "cell_type": "code",
   "execution_count": 930,
   "metadata": {
    "collapsed": false,
    "ExecuteTime": {
     "end_time": "2023-08-26T14:15:47.821338Z",
     "start_time": "2023-08-26T14:15:47.198584Z"
    }
   },
   "outputs": [
    {
     "data": {
      "text/plain": "     A  B  C   D\nd  4.0  D  7  dd\ne  5.0  E  6  ee\nf  6.0  F  5  ff\ng  7.0  G  4  gg",
      "text/html": "<div>\n<style scoped>\n    .dataframe tbody tr th:only-of-type {\n        vertical-align: middle;\n    }\n\n    .dataframe tbody tr th {\n        vertical-align: top;\n    }\n\n    .dataframe thead th {\n        text-align: right;\n    }\n</style>\n<table border=\"1\" class=\"dataframe\">\n  <thead>\n    <tr style=\"text-align: right;\">\n      <th></th>\n      <th>A</th>\n      <th>B</th>\n      <th>C</th>\n      <th>D</th>\n    </tr>\n  </thead>\n  <tbody>\n    <tr>\n      <th>d</th>\n      <td>4.0</td>\n      <td>D</td>\n      <td>7</td>\n      <td>dd</td>\n    </tr>\n    <tr>\n      <th>e</th>\n      <td>5.0</td>\n      <td>E</td>\n      <td>6</td>\n      <td>ee</td>\n    </tr>\n    <tr>\n      <th>f</th>\n      <td>6.0</td>\n      <td>F</td>\n      <td>5</td>\n      <td>ff</td>\n    </tr>\n    <tr>\n      <th>g</th>\n      <td>7.0</td>\n      <td>G</td>\n      <td>4</td>\n      <td>gg</td>\n    </tr>\n  </tbody>\n</table>\n</div>"
     },
     "execution_count": 930,
     "metadata": {},
     "output_type": "execute_result"
    }
   ],
   "source": [
    "dfb"
   ]
  },
  {
   "cell_type": "code",
   "execution_count": 931,
   "metadata": {
    "collapsed": false,
    "ExecuteTime": {
     "end_time": "2023-08-26T14:15:47.821507Z",
     "start_time": "2023-08-26T14:15:47.202520Z"
    }
   },
   "outputs": [
    {
     "data": {
      "text/plain": "      A  B  C   D\nh   8.0  H  3  hh\ni   9.0  I  2  ii\nj  10.0  J  1  jj",
      "text/html": "<div>\n<style scoped>\n    .dataframe tbody tr th:only-of-type {\n        vertical-align: middle;\n    }\n\n    .dataframe tbody tr th {\n        vertical-align: top;\n    }\n\n    .dataframe thead th {\n        text-align: right;\n    }\n</style>\n<table border=\"1\" class=\"dataframe\">\n  <thead>\n    <tr style=\"text-align: right;\">\n      <th></th>\n      <th>A</th>\n      <th>B</th>\n      <th>C</th>\n      <th>D</th>\n    </tr>\n  </thead>\n  <tbody>\n    <tr>\n      <th>h</th>\n      <td>8.0</td>\n      <td>H</td>\n      <td>3</td>\n      <td>hh</td>\n    </tr>\n    <tr>\n      <th>i</th>\n      <td>9.0</td>\n      <td>I</td>\n      <td>2</td>\n      <td>ii</td>\n    </tr>\n    <tr>\n      <th>j</th>\n      <td>10.0</td>\n      <td>J</td>\n      <td>1</td>\n      <td>jj</td>\n    </tr>\n  </tbody>\n</table>\n</div>"
     },
     "execution_count": 931,
     "metadata": {},
     "output_type": "execute_result"
    }
   ],
   "source": [
    "dfc"
   ]
  },
  {
   "cell_type": "code",
   "execution_count": 932,
   "metadata": {
    "collapsed": false,
    "ExecuteTime": {
     "end_time": "2023-08-26T14:15:47.821719Z",
     "start_time": "2023-08-26T14:15:47.206499Z"
    }
   },
   "outputs": [
    {
     "data": {
      "text/plain": "      A  B   C   D\na   1.0  A  10  aa\nb   2.0  B   9  bb\nc   3.0  C   8  cc\nd   4.0  D   7  dd\ne   5.0  E   6  ee\nf   6.0  F   5  ff\ng   7.0  G   4  gg\nh   8.0  H   3  hh\ni   9.0  I   2  ii\nj  10.0  J   1  jj",
      "text/html": "<div>\n<style scoped>\n    .dataframe tbody tr th:only-of-type {\n        vertical-align: middle;\n    }\n\n    .dataframe tbody tr th {\n        vertical-align: top;\n    }\n\n    .dataframe thead th {\n        text-align: right;\n    }\n</style>\n<table border=\"1\" class=\"dataframe\">\n  <thead>\n    <tr style=\"text-align: right;\">\n      <th></th>\n      <th>A</th>\n      <th>B</th>\n      <th>C</th>\n      <th>D</th>\n    </tr>\n  </thead>\n  <tbody>\n    <tr>\n      <th>a</th>\n      <td>1.0</td>\n      <td>A</td>\n      <td>10</td>\n      <td>aa</td>\n    </tr>\n    <tr>\n      <th>b</th>\n      <td>2.0</td>\n      <td>B</td>\n      <td>9</td>\n      <td>bb</td>\n    </tr>\n    <tr>\n      <th>c</th>\n      <td>3.0</td>\n      <td>C</td>\n      <td>8</td>\n      <td>cc</td>\n    </tr>\n    <tr>\n      <th>d</th>\n      <td>4.0</td>\n      <td>D</td>\n      <td>7</td>\n      <td>dd</td>\n    </tr>\n    <tr>\n      <th>e</th>\n      <td>5.0</td>\n      <td>E</td>\n      <td>6</td>\n      <td>ee</td>\n    </tr>\n    <tr>\n      <th>f</th>\n      <td>6.0</td>\n      <td>F</td>\n      <td>5</td>\n      <td>ff</td>\n    </tr>\n    <tr>\n      <th>g</th>\n      <td>7.0</td>\n      <td>G</td>\n      <td>4</td>\n      <td>gg</td>\n    </tr>\n    <tr>\n      <th>h</th>\n      <td>8.0</td>\n      <td>H</td>\n      <td>3</td>\n      <td>hh</td>\n    </tr>\n    <tr>\n      <th>i</th>\n      <td>9.0</td>\n      <td>I</td>\n      <td>2</td>\n      <td>ii</td>\n    </tr>\n    <tr>\n      <th>j</th>\n      <td>10.0</td>\n      <td>J</td>\n      <td>1</td>\n      <td>jj</td>\n    </tr>\n  </tbody>\n</table>\n</div>"
     },
     "execution_count": 932,
     "metadata": {},
     "output_type": "execute_result"
    }
   ],
   "source": [
    "pd.concat([dfa,dfb,dfc])"
   ]
  },
  {
   "cell_type": "markdown",
   "metadata": {
    "collapsed": false
   },
   "source": [
    "##### Join\n",
    "\n",
    "```merge()``` omogućava spajanje u SQL stilu"
   ]
  },
  {
   "cell_type": "code",
   "execution_count": 933,
   "metadata": {
    "collapsed": false,
    "ExecuteTime": {
     "end_time": "2023-08-26T14:15:47.821905Z",
     "start_time": "2023-08-26T14:15:47.210741Z"
    }
   },
   "outputs": [
    {
     "data": {
      "text/plain": "  key   A   B\n0  K0  A0  B0\n1  K1  A1  B1\n2  K2  A2  B2\n3  K3  A3  B3",
      "text/html": "<div>\n<style scoped>\n    .dataframe tbody tr th:only-of-type {\n        vertical-align: middle;\n    }\n\n    .dataframe tbody tr th {\n        vertical-align: top;\n    }\n\n    .dataframe thead th {\n        text-align: right;\n    }\n</style>\n<table border=\"1\" class=\"dataframe\">\n  <thead>\n    <tr style=\"text-align: right;\">\n      <th></th>\n      <th>key</th>\n      <th>A</th>\n      <th>B</th>\n    </tr>\n  </thead>\n  <tbody>\n    <tr>\n      <th>0</th>\n      <td>K0</td>\n      <td>A0</td>\n      <td>B0</td>\n    </tr>\n    <tr>\n      <th>1</th>\n      <td>K1</td>\n      <td>A1</td>\n      <td>B1</td>\n    </tr>\n    <tr>\n      <th>2</th>\n      <td>K2</td>\n      <td>A2</td>\n      <td>B2</td>\n    </tr>\n    <tr>\n      <th>3</th>\n      <td>K3</td>\n      <td>A3</td>\n      <td>B3</td>\n    </tr>\n  </tbody>\n</table>\n</div>"
     },
     "execution_count": 933,
     "metadata": {},
     "output_type": "execute_result"
    }
   ],
   "source": [
    "left = pd.DataFrame(\n",
    "    {\n",
    "        \"key\": [\"K0\", \"K1\", \"K2\", \"K3\"],\n",
    "        \"A\": [\"A0\", \"A1\", \"A2\", \"A3\"],\n",
    "        \"B\": [\"B0\", \"B1\", \"B2\", \"B3\"],\n",
    "    }\n",
    ")\n",
    "left"
   ]
  },
  {
   "cell_type": "code",
   "execution_count": 934,
   "metadata": {
    "collapsed": false,
    "ExecuteTime": {
     "end_time": "2023-08-26T14:15:47.830392Z",
     "start_time": "2023-08-26T14:15:47.212306Z"
    }
   },
   "outputs": [
    {
     "data": {
      "text/plain": "  key   C   D\n0  K0  C0  D0\n1  K1  C1  D1\n2  K2  C2  D2",
      "text/html": "<div>\n<style scoped>\n    .dataframe tbody tr th:only-of-type {\n        vertical-align: middle;\n    }\n\n    .dataframe tbody tr th {\n        vertical-align: top;\n    }\n\n    .dataframe thead th {\n        text-align: right;\n    }\n</style>\n<table border=\"1\" class=\"dataframe\">\n  <thead>\n    <tr style=\"text-align: right;\">\n      <th></th>\n      <th>key</th>\n      <th>C</th>\n      <th>D</th>\n    </tr>\n  </thead>\n  <tbody>\n    <tr>\n      <th>0</th>\n      <td>K0</td>\n      <td>C0</td>\n      <td>D0</td>\n    </tr>\n    <tr>\n      <th>1</th>\n      <td>K1</td>\n      <td>C1</td>\n      <td>D1</td>\n    </tr>\n    <tr>\n      <th>2</th>\n      <td>K2</td>\n      <td>C2</td>\n      <td>D2</td>\n    </tr>\n  </tbody>\n</table>\n</div>"
     },
     "execution_count": 934,
     "metadata": {},
     "output_type": "execute_result"
    }
   ],
   "source": [
    "right = pd.DataFrame(\n",
    "    {\n",
    "        \"key\": [\"K0\", \"K1\", \"K2\"],\n",
    "        \"C\": [\"C0\", \"C1\", \"C2\",],\n",
    "        \"D\": [\"D0\", \"D1\", \"D2\"],\n",
    "    }\n",
    ")\n",
    "right"
   ]
  },
  {
   "cell_type": "code",
   "execution_count": 935,
   "metadata": {
    "collapsed": false,
    "ExecuteTime": {
     "end_time": "2023-08-26T14:15:47.833108Z",
     "start_time": "2023-08-26T14:15:47.217527Z"
    }
   },
   "outputs": [
    {
     "data": {
      "text/plain": "  key   A   B    C    D\n0  K0  A0  B0   C0   D0\n1  K1  A1  B1   C1   D1\n2  K2  A2  B2   C2   D2\n3  K3  A3  B3  NaN  NaN",
      "text/html": "<div>\n<style scoped>\n    .dataframe tbody tr th:only-of-type {\n        vertical-align: middle;\n    }\n\n    .dataframe tbody tr th {\n        vertical-align: top;\n    }\n\n    .dataframe thead th {\n        text-align: right;\n    }\n</style>\n<table border=\"1\" class=\"dataframe\">\n  <thead>\n    <tr style=\"text-align: right;\">\n      <th></th>\n      <th>key</th>\n      <th>A</th>\n      <th>B</th>\n      <th>C</th>\n      <th>D</th>\n    </tr>\n  </thead>\n  <tbody>\n    <tr>\n      <th>0</th>\n      <td>K0</td>\n      <td>A0</td>\n      <td>B0</td>\n      <td>C0</td>\n      <td>D0</td>\n    </tr>\n    <tr>\n      <th>1</th>\n      <td>K1</td>\n      <td>A1</td>\n      <td>B1</td>\n      <td>C1</td>\n      <td>D1</td>\n    </tr>\n    <tr>\n      <th>2</th>\n      <td>K2</td>\n      <td>A2</td>\n      <td>B2</td>\n      <td>C2</td>\n      <td>D2</td>\n    </tr>\n    <tr>\n      <th>3</th>\n      <td>K3</td>\n      <td>A3</td>\n      <td>B3</td>\n      <td>NaN</td>\n      <td>NaN</td>\n    </tr>\n  </tbody>\n</table>\n</div>"
     },
     "execution_count": 935,
     "metadata": {},
     "output_type": "execute_result"
    }
   ],
   "source": [
    "result = pd.merge(\n",
    "    left, # DataFrame ili Series objekat\n",
    "    right, # DataFrame ili Series objekat\n",
    "    left_on=\"key\", # kolone levog DataFrame-a po kojima se vrši join\n",
    "    right_on=\"key\", # kolone desnog DataFrame-a po kojima se vrši join\n",
    "    how=\"left\" # Jedno od: 'left', 'right', 'outer', 'inner', 'cross'\n",
    ")\n",
    "result"
   ]
  },
  {
   "cell_type": "markdown",
   "metadata": {
    "collapsed": false
   },
   "source": [
    "```how``` argument specificira koji ključevi će biti uključeni u rezultujuću tabelu:\n",
    "\n",
    "left - LEFT OUTER JOIN - Koristi samo ključeve iz levog DataFrame-a\n",
    "\n",
    "right - RIGHT OUTER JOIN - Koristi samo ključeve iz desnog DataFrame-a\n",
    "\n",
    "outer - FULL OUTER JOIN - Koristi uniju ključeva oba DataFrame-a\n",
    "\n",
    "inner - INNER JOIN - Koristi presek ključeva oba DataFrame-a\n",
    "\n",
    "cross - CROSS JOIN - Kreiraj dekartov proizvod redova oba DataFrame-a. Svaki red iz prve tabele se uparuje sa svakim redom iz druge tabele, rezultirajući u novoj tabeli sa brojem redova jednakim proizvodu broja redova u učestvujućim tabelama."
   ]
  },
  {
   "cell_type": "code",
   "execution_count": 936,
   "outputs": [
    {
     "data": {
      "text/plain": "  key   A   B   C   D\n0  K0  A0  B0  C0  D0\n1  K1  A1  B1  C1  D1\n2  K2  A2  B2  C2  D2",
      "text/html": "<div>\n<style scoped>\n    .dataframe tbody tr th:only-of-type {\n        vertical-align: middle;\n    }\n\n    .dataframe tbody tr th {\n        vertical-align: top;\n    }\n\n    .dataframe thead th {\n        text-align: right;\n    }\n</style>\n<table border=\"1\" class=\"dataframe\">\n  <thead>\n    <tr style=\"text-align: right;\">\n      <th></th>\n      <th>key</th>\n      <th>A</th>\n      <th>B</th>\n      <th>C</th>\n      <th>D</th>\n    </tr>\n  </thead>\n  <tbody>\n    <tr>\n      <th>0</th>\n      <td>K0</td>\n      <td>A0</td>\n      <td>B0</td>\n      <td>C0</td>\n      <td>D0</td>\n    </tr>\n    <tr>\n      <th>1</th>\n      <td>K1</td>\n      <td>A1</td>\n      <td>B1</td>\n      <td>C1</td>\n      <td>D1</td>\n    </tr>\n    <tr>\n      <th>2</th>\n      <td>K2</td>\n      <td>A2</td>\n      <td>B2</td>\n      <td>C2</td>\n      <td>D2</td>\n    </tr>\n  </tbody>\n</table>\n</div>"
     },
     "execution_count": 936,
     "metadata": {},
     "output_type": "execute_result"
    }
   ],
   "source": [
    "result2 = pd.merge(\n",
    "    left, # DataFrame ili Series objekat\n",
    "    right, # DataFrame ili Series objekat\n",
    "    left_on=\"key\", # kolone levog DataFrame-a po kojima se vrši join\n",
    "    right_on=\"key\", # kolone desnog DataFrame-a po kojima se vrši join\n",
    "    how=\"inner\" # Jedno od: 'left', 'right', 'outer', 'inner', 'cross'\n",
    ")\n",
    "result2"
   ],
   "metadata": {
    "collapsed": false,
    "ExecuteTime": {
     "end_time": "2023-08-26T14:15:47.833303Z",
     "start_time": "2023-08-26T14:15:47.234086Z"
    }
   }
  },
  {
   "cell_type": "code",
   "execution_count": 937,
   "outputs": [
    {
     "data": {
      "text/plain": "   key_x   A   B key_y   C   D\n0     K0  A0  B0    K0  C0  D0\n1     K0  A0  B0    K1  C1  D1\n2     K0  A0  B0    K2  C2  D2\n3     K1  A1  B1    K0  C0  D0\n4     K1  A1  B1    K1  C1  D1\n5     K1  A1  B1    K2  C2  D2\n6     K2  A2  B2    K0  C0  D0\n7     K2  A2  B2    K1  C1  D1\n8     K2  A2  B2    K2  C2  D2\n9     K3  A3  B3    K0  C0  D0\n10    K3  A3  B3    K1  C1  D1\n11    K3  A3  B3    K2  C2  D2",
      "text/html": "<div>\n<style scoped>\n    .dataframe tbody tr th:only-of-type {\n        vertical-align: middle;\n    }\n\n    .dataframe tbody tr th {\n        vertical-align: top;\n    }\n\n    .dataframe thead th {\n        text-align: right;\n    }\n</style>\n<table border=\"1\" class=\"dataframe\">\n  <thead>\n    <tr style=\"text-align: right;\">\n      <th></th>\n      <th>key_x</th>\n      <th>A</th>\n      <th>B</th>\n      <th>key_y</th>\n      <th>C</th>\n      <th>D</th>\n    </tr>\n  </thead>\n  <tbody>\n    <tr>\n      <th>0</th>\n      <td>K0</td>\n      <td>A0</td>\n      <td>B0</td>\n      <td>K0</td>\n      <td>C0</td>\n      <td>D0</td>\n    </tr>\n    <tr>\n      <th>1</th>\n      <td>K0</td>\n      <td>A0</td>\n      <td>B0</td>\n      <td>K1</td>\n      <td>C1</td>\n      <td>D1</td>\n    </tr>\n    <tr>\n      <th>2</th>\n      <td>K0</td>\n      <td>A0</td>\n      <td>B0</td>\n      <td>K2</td>\n      <td>C2</td>\n      <td>D2</td>\n    </tr>\n    <tr>\n      <th>3</th>\n      <td>K1</td>\n      <td>A1</td>\n      <td>B1</td>\n      <td>K0</td>\n      <td>C0</td>\n      <td>D0</td>\n    </tr>\n    <tr>\n      <th>4</th>\n      <td>K1</td>\n      <td>A1</td>\n      <td>B1</td>\n      <td>K1</td>\n      <td>C1</td>\n      <td>D1</td>\n    </tr>\n    <tr>\n      <th>5</th>\n      <td>K1</td>\n      <td>A1</td>\n      <td>B1</td>\n      <td>K2</td>\n      <td>C2</td>\n      <td>D2</td>\n    </tr>\n    <tr>\n      <th>6</th>\n      <td>K2</td>\n      <td>A2</td>\n      <td>B2</td>\n      <td>K0</td>\n      <td>C0</td>\n      <td>D0</td>\n    </tr>\n    <tr>\n      <th>7</th>\n      <td>K2</td>\n      <td>A2</td>\n      <td>B2</td>\n      <td>K1</td>\n      <td>C1</td>\n      <td>D1</td>\n    </tr>\n    <tr>\n      <th>8</th>\n      <td>K2</td>\n      <td>A2</td>\n      <td>B2</td>\n      <td>K2</td>\n      <td>C2</td>\n      <td>D2</td>\n    </tr>\n    <tr>\n      <th>9</th>\n      <td>K3</td>\n      <td>A3</td>\n      <td>B3</td>\n      <td>K0</td>\n      <td>C0</td>\n      <td>D0</td>\n    </tr>\n    <tr>\n      <th>10</th>\n      <td>K3</td>\n      <td>A3</td>\n      <td>B3</td>\n      <td>K1</td>\n      <td>C1</td>\n      <td>D1</td>\n    </tr>\n    <tr>\n      <th>11</th>\n      <td>K3</td>\n      <td>A3</td>\n      <td>B3</td>\n      <td>K2</td>\n      <td>C2</td>\n      <td>D2</td>\n    </tr>\n  </tbody>\n</table>\n</div>"
     },
     "execution_count": 937,
     "metadata": {},
     "output_type": "execute_result"
    }
   ],
   "source": [
    "result3 = pd.merge(\n",
    "    left, # DataFrame ili Series objekat\n",
    "    right, # DataFrame ili Series objekat\n",
    "    how=\"cross\" # Jedno od: 'left', 'right', 'outer', 'inner', 'cross'\n",
    ")\n",
    "result3"
   ],
   "metadata": {
    "collapsed": false,
    "ExecuteTime": {
     "end_time": "2023-08-26T14:15:47.833550Z",
     "start_time": "2023-08-26T14:15:47.237402Z"
    }
   }
  },
  {
   "cell_type": "markdown",
   "metadata": {},
   "source": [
    "### Grupisanje"
   ]
  },
  {
   "cell_type": "markdown",
   "metadata": {},
   "source": [
    "Grupisanje obuhvata:\n",
    "\t1\tPodelu podataka na grupe na osnovu nekih kriterijuma\n",
    "\t2\tPrimenu funkcije nezavisno na svaku od grupa\n",
    "\t3\tKombinovanje rezultata u strukturu podataka"
   ]
  },
  {
   "cell_type": "code",
   "execution_count": 938,
   "metadata": {
    "ExecuteTime": {
     "end_time": "2023-08-26T14:15:47.833749Z",
     "start_time": "2023-08-26T14:15:47.247236Z"
    }
   },
   "outputs": [
    {
     "data": {
      "text/plain": "     A      B  C  D\n0  foo    one  1  0\n1  bar    one  2  1\n2  foo    two  3  2\n3  bar  three  4  3\n4  foo    two  5  4\n5  bar    two  6  5\n6  foo    one  7  6\n7  foo  three  8  7",
      "text/html": "<div>\n<style scoped>\n    .dataframe tbody tr th:only-of-type {\n        vertical-align: middle;\n    }\n\n    .dataframe tbody tr th {\n        vertical-align: top;\n    }\n\n    .dataframe thead th {\n        text-align: right;\n    }\n</style>\n<table border=\"1\" class=\"dataframe\">\n  <thead>\n    <tr style=\"text-align: right;\">\n      <th></th>\n      <th>A</th>\n      <th>B</th>\n      <th>C</th>\n      <th>D</th>\n    </tr>\n  </thead>\n  <tbody>\n    <tr>\n      <th>0</th>\n      <td>foo</td>\n      <td>one</td>\n      <td>1</td>\n      <td>0</td>\n    </tr>\n    <tr>\n      <th>1</th>\n      <td>bar</td>\n      <td>one</td>\n      <td>2</td>\n      <td>1</td>\n    </tr>\n    <tr>\n      <th>2</th>\n      <td>foo</td>\n      <td>two</td>\n      <td>3</td>\n      <td>2</td>\n    </tr>\n    <tr>\n      <th>3</th>\n      <td>bar</td>\n      <td>three</td>\n      <td>4</td>\n      <td>3</td>\n    </tr>\n    <tr>\n      <th>4</th>\n      <td>foo</td>\n      <td>two</td>\n      <td>5</td>\n      <td>4</td>\n    </tr>\n    <tr>\n      <th>5</th>\n      <td>bar</td>\n      <td>two</td>\n      <td>6</td>\n      <td>5</td>\n    </tr>\n    <tr>\n      <th>6</th>\n      <td>foo</td>\n      <td>one</td>\n      <td>7</td>\n      <td>6</td>\n    </tr>\n    <tr>\n      <th>7</th>\n      <td>foo</td>\n      <td>three</td>\n      <td>8</td>\n      <td>7</td>\n    </tr>\n  </tbody>\n</table>\n</div>"
     },
     "execution_count": 938,
     "metadata": {},
     "output_type": "execute_result"
    }
   ],
   "source": [
    "df8 = pd.DataFrame(\n",
    "    {\n",
    "        \"A\": [\"foo\", \"bar\", \"foo\", \"bar\", \"foo\", \"bar\", \"foo\", \"foo\"],\n",
    "        \"B\": [\"one\", \"one\", \"two\", \"three\", \"two\", \"two\", \"one\", \"three\"],\n",
    "        \"C\": [1, 2, 3, 4, 5, 6, 7, 8],\n",
    "        \"D\": [0, 1, 2, 3, 4, 5, 6, 7],\n",
    "    }\n",
    ")\n",
    "df8"
   ]
  },
  {
   "cell_type": "markdown",
   "metadata": {},
   "source": [
    "Grupisanje pa primena ```sum()``` funkcije na grupe:"
   ]
  },
  {
   "cell_type": "code",
   "execution_count": 939,
   "metadata": {
    "ExecuteTime": {
     "end_time": "2023-08-26T14:15:47.833870Z",
     "start_time": "2023-08-26T14:15:47.250635Z"
    }
   },
   "outputs": [
    {
     "data": {
      "text/plain": "A\nbar    12\nfoo    24\nName: C, dtype: int64"
     },
     "execution_count": 939,
     "metadata": {},
     "output_type": "execute_result"
    }
   ],
   "source": [
    "df8.groupby(\"A\")[\"C\"].sum()"
   ]
  },
  {
   "cell_type": "code",
   "execution_count": 940,
   "outputs": [
    {
     "data": {
      "text/plain": "      C   D\nA          \nbar  12   9\nfoo  24  19",
      "text/html": "<div>\n<style scoped>\n    .dataframe tbody tr th:only-of-type {\n        vertical-align: middle;\n    }\n\n    .dataframe tbody tr th {\n        vertical-align: top;\n    }\n\n    .dataframe thead th {\n        text-align: right;\n    }\n</style>\n<table border=\"1\" class=\"dataframe\">\n  <thead>\n    <tr style=\"text-align: right;\">\n      <th></th>\n      <th>C</th>\n      <th>D</th>\n    </tr>\n    <tr>\n      <th>A</th>\n      <th></th>\n      <th></th>\n    </tr>\n  </thead>\n  <tbody>\n    <tr>\n      <th>bar</th>\n      <td>12</td>\n      <td>9</td>\n    </tr>\n    <tr>\n      <th>foo</th>\n      <td>24</td>\n      <td>19</td>\n    </tr>\n  </tbody>\n</table>\n</div>"
     },
     "execution_count": 940,
     "metadata": {},
     "output_type": "execute_result"
    }
   ],
   "source": [
    "df8.groupby(\"A\")[[\"C\", \"D\"]].sum()"
   ],
   "metadata": {
    "collapsed": false,
    "ExecuteTime": {
     "end_time": "2023-08-26T14:15:47.834026Z",
     "start_time": "2023-08-26T14:15:47.255933Z"
    }
   }
  },
  {
   "cell_type": "code",
   "execution_count": 941,
   "metadata": {
    "ExecuteTime": {
     "end_time": "2023-08-26T14:15:47.834218Z",
     "start_time": "2023-08-26T14:15:47.259356Z"
    }
   },
   "outputs": [
    {
     "data": {
      "text/plain": "           C  D\nA   B          \nbar one    2  1\n    three  4  3\n    two    6  5\nfoo one    8  6\n    three  8  7\n    two    8  6",
      "text/html": "<div>\n<style scoped>\n    .dataframe tbody tr th:only-of-type {\n        vertical-align: middle;\n    }\n\n    .dataframe tbody tr th {\n        vertical-align: top;\n    }\n\n    .dataframe thead th {\n        text-align: right;\n    }\n</style>\n<table border=\"1\" class=\"dataframe\">\n  <thead>\n    <tr style=\"text-align: right;\">\n      <th></th>\n      <th></th>\n      <th>C</th>\n      <th>D</th>\n    </tr>\n    <tr>\n      <th>A</th>\n      <th>B</th>\n      <th></th>\n      <th></th>\n    </tr>\n  </thead>\n  <tbody>\n    <tr>\n      <th rowspan=\"3\" valign=\"top\">bar</th>\n      <th>one</th>\n      <td>2</td>\n      <td>1</td>\n    </tr>\n    <tr>\n      <th>three</th>\n      <td>4</td>\n      <td>3</td>\n    </tr>\n    <tr>\n      <th>two</th>\n      <td>6</td>\n      <td>5</td>\n    </tr>\n    <tr>\n      <th rowspan=\"3\" valign=\"top\">foo</th>\n      <th>one</th>\n      <td>8</td>\n      <td>6</td>\n    </tr>\n    <tr>\n      <th>three</th>\n      <td>8</td>\n      <td>7</td>\n    </tr>\n    <tr>\n      <th>two</th>\n      <td>8</td>\n      <td>6</td>\n    </tr>\n  </tbody>\n</table>\n</div>"
     },
     "execution_count": 941,
     "metadata": {},
     "output_type": "execute_result"
    }
   ],
   "source": [
    "df8.groupby([\"A\", \"B\"]).sum()"
   ]
  },
  {
   "cell_type": "markdown",
   "metadata": {
    "ExecuteTime": {
     "end_time": "2023-08-22T20:32:52.623420Z",
     "start_time": "2023-08-22T20:32:52.600006Z"
    },
    "collapsed": false
   },
   "source": [
    "### Obrada tekstualnih podataka"
   ]
  },
  {
   "cell_type": "code",
   "execution_count": 942,
   "outputs": [
    {
     "name": "stdout",
     "output_type": "stream",
     "text": [
      "   A                               B\n",
      "0  1             ThiS TeXt iS Wobbly\n",
      "1  2          this text is lowercase\n",
      "2  3          THIS TEXT IS UPPERCASE\n",
      "3  4     has whitespace             \n"
     ]
    }
   ],
   "source": [
    "df_text = pd.DataFrame({\n",
    "    \"A\" : [1, 2, 3, 4],\n",
    "    \"B\": [\"ThiS TeXt iS Wobbly\", \"this text is lowercase\", \"THIS TEXT IS UPPERCASE\", \"   has whitespace             \"]\n",
    "})\n",
    "print(df_text)"
   ],
   "metadata": {
    "collapsed": false,
    "ExecuteTime": {
     "end_time": "2023-08-26T14:15:47.834339Z",
     "start_time": "2023-08-26T14:15:47.264648Z"
    }
   }
  },
  {
   "cell_type": "code",
   "execution_count": 943,
   "metadata": {
    "collapsed": false,
    "ExecuteTime": {
     "end_time": "2023-08-26T14:15:47.834445Z",
     "start_time": "2023-08-26T14:15:47.267067Z"
    }
   },
   "outputs": [
    {
     "name": "stdout",
     "output_type": "stream",
     "text": [
      "0               this text is wobbly\n",
      "1            this text is lowercase\n",
      "2            this text is uppercase\n",
      "3       has whitespace             \n",
      "Name: B, dtype: object\n"
     ]
    }
   ],
   "source": [
    "print(df_text['B'].str.lower())"
   ]
  },
  {
   "cell_type": "code",
   "execution_count": 944,
   "outputs": [
    {
     "name": "stdout",
     "output_type": "stream",
     "text": [
      "0               THIS TEXT IS WOBBLY\n",
      "1            THIS TEXT IS LOWERCASE\n",
      "2            THIS TEXT IS UPPERCASE\n",
      "3       HAS WHITESPACE             \n",
      "Name: B, dtype: object\n"
     ]
    }
   ],
   "source": [
    "print(df_text['B'].str.upper())"
   ],
   "metadata": {
    "collapsed": false,
    "ExecuteTime": {
     "end_time": "2023-08-26T14:15:47.834556Z",
     "start_time": "2023-08-26T14:15:47.269128Z"
    }
   }
  },
  {
   "cell_type": "code",
   "execution_count": 945,
   "outputs": [
    {
     "name": "stdout",
     "output_type": "stream",
     "text": [
      "0       ThiS TeXt iS Wobbly\n",
      "1    this text is lowercase\n",
      "2    THIS TEXT IS UPPERCASE\n",
      "3            has whitespace\n",
      "Name: B, dtype: object\n"
     ]
    }
   ],
   "source": [
    "print(df_text[\"B\"].str.strip())"
   ],
   "metadata": {
    "collapsed": false,
    "ExecuteTime": {
     "end_time": "2023-08-26T14:15:47.834666Z",
     "start_time": "2023-08-26T14:15:47.271201Z"
    }
   }
  },
  {
   "cell_type": "code",
   "execution_count": 946,
   "outputs": [
    {
     "name": "stdout",
     "output_type": "stream",
     "text": [
      "0    19\n",
      "1    22\n",
      "2    22\n",
      "3    30\n",
      "Name: B, dtype: int64\n"
     ]
    }
   ],
   "source": [
    "print(df_text[\"B\"].str.len())"
   ],
   "metadata": {
    "collapsed": false,
    "ExecuteTime": {
     "end_time": "2023-08-26T14:15:47.834767Z",
     "start_time": "2023-08-26T14:15:47.273523Z"
    }
   }
  },
  {
   "cell_type": "markdown",
   "metadata": {
    "ExecuteTime": {
     "end_time": "2023-08-22T20:32:45.911810Z",
     "start_time": "2023-08-22T20:32:45.093517Z"
    },
    "collapsed": false
   },
   "source": [
    "### Čitanje i pisanje tabelarnih podataka\n",
    "\n",
    "Pandas ima ugradjenu podršku za razne fajl formate (csv, excel, json.. )\n",
    "Učitavanje podataka iz tih formata radi se preko funkcija sa prefiksom read_*. to_* metode se koriste za skladištenje podataka."
   ]
  },
  {
   "cell_type": "markdown",
   "source": [
    "![Učitavanje i skladištenje podataka](images/pandas_read_write.png)"
   ],
   "metadata": {
    "collapsed": false
   }
  },
  {
   "cell_type": "code",
   "execution_count": 947,
   "metadata": {
    "collapsed": false,
    "ExecuteTime": {
     "end_time": "2023-08-26T14:15:47.834957Z",
     "start_time": "2023-08-26T14:15:47.276677Z"
    }
   },
   "outputs": [
    {
     "data": {
      "text/plain": "       ime  prezime  godine\n0  Michael    Scott      42\n1      Jim  Halpert      31\n2      Pam   Beezly      29",
      "text/html": "<div>\n<style scoped>\n    .dataframe tbody tr th:only-of-type {\n        vertical-align: middle;\n    }\n\n    .dataframe tbody tr th {\n        vertical-align: top;\n    }\n\n    .dataframe thead th {\n        text-align: right;\n    }\n</style>\n<table border=\"1\" class=\"dataframe\">\n  <thead>\n    <tr style=\"text-align: right;\">\n      <th></th>\n      <th>ime</th>\n      <th>prezime</th>\n      <th>godine</th>\n    </tr>\n  </thead>\n  <tbody>\n    <tr>\n      <th>0</th>\n      <td>Michael</td>\n      <td>Scott</td>\n      <td>42</td>\n    </tr>\n    <tr>\n      <th>1</th>\n      <td>Jim</td>\n      <td>Halpert</td>\n      <td>31</td>\n    </tr>\n    <tr>\n      <th>2</th>\n      <td>Pam</td>\n      <td>Beezly</td>\n      <td>29</td>\n    </tr>\n  </tbody>\n</table>\n</div>"
     },
     "execution_count": 947,
     "metadata": {},
     "output_type": "execute_result"
    }
   ],
   "source": [
    "df_foo = pd.read_csv(\"data/foo.csv\")\n",
    "df_foo"
   ]
  },
  {
   "cell_type": "code",
   "execution_count": 948,
   "metadata": {
    "collapsed": false,
    "ExecuteTime": {
     "end_time": "2023-08-26T14:15:47.835005Z",
     "start_time": "2023-08-26T14:15:47.282831Z"
    }
   },
   "outputs": [],
   "source": [
    "#df_foo.to_csv(\"foo2.csv\")"
   ]
  },
  {
   "cell_type": "code",
   "execution_count": 949,
   "outputs": [],
   "source": [
    "#df_foo.to_json(\"foo2.json\", orient = \"table\", index=False)"
   ],
   "metadata": {
    "collapsed": false,
    "ExecuteTime": {
     "end_time": "2023-08-26T14:15:47.835050Z",
     "start_time": "2023-08-26T14:15:47.284734Z"
    }
   }
  },
  {
   "cell_type": "markdown",
   "metadata": {
    "ExecuteTime": {
     "end_time": "2023-08-22T20:32:45.912592Z",
     "start_time": "2023-08-22T20:32:45.111227Z"
    },
    "collapsed": false
   },
   "source": []
  }
 ],
 "metadata": {
  "kernelspec": {
   "display_name": "Python 3",
   "language": "python",
   "name": "python3"
  },
  "language_info": {
   "codemirror_mode": {
    "name": "ipython",
    "version": 3
   },
   "file_extension": ".py",
   "mimetype": "text/x-python",
   "name": "python",
   "nbconvert_exporter": "python",
   "pygments_lexer": "ipython3",
   "version": "3.11.4"
  }
 },
 "nbformat": 4,
 "nbformat_minor": 0
}
