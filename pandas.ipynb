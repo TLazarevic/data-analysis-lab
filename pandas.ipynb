{
 "cells": [
  {
   "cell_type": "markdown",
   "metadata": {
    "collapsed": false
   },
   "source": [
    "# Pandas\n",
    "\n",
    "Pandas je alat za analizu i obradu podataka za Python programski jezik"
   ]
  },
  {
   "cell_type": "markdown",
   "metadata": {
    "collapsed": false
   },
   "source": [
    "Najčešće se importuje na sledeći način:"
   ]
  },
  {
   "cell_type": "code",
   "execution_count": 2239,
   "metadata": {
    "collapsed": false,
    "ExecuteTime": {
     "end_time": "2023-08-25T16:35:26.359027Z",
     "start_time": "2023-08-25T16:35:25.885596Z"
    }
   },
   "outputs": [],
   "source": [
    "import pandas as pd"
   ]
  },
  {
   "cell_type": "markdown",
   "metadata": {
    "collapsed": false
   },
   "source": [
    "U pandas-u se tabela naziva **DataFrame**."
   ]
  },
  {
   "cell_type": "markdown",
   "source": [
    "![DataFrame](dataframe.png)"
   ],
   "metadata": {
    "collapsed": false
   }
  },
  {
   "cell_type": "markdown",
   "source": [
    "Jedan od načina za kreiranje DataFrame-a je preko dictionary-ja:"
   ],
   "metadata": {
    "collapsed": false
   }
  },
  {
   "cell_type": "code",
   "execution_count": 2240,
   "metadata": {
    "collapsed": false,
    "ExecuteTime": {
     "end_time": "2023-08-25T16:35:26.621460Z",
     "start_time": "2023-08-25T16:35:25.901444Z"
    }
   },
   "outputs": [],
   "source": [
    "df = pd.DataFrame(\n",
    "    {\n",
    "        \"A\": [1.0, 2.0, 3.0, 4.0, 5.0, 6.0, 7.0, 8.0, 9.0, 10.0],\n",
    "        \"B\": [\"A\", \"B\", \"C\", \"D\", \"E\", \"F\", \"G\", \"H\", \"I\", \"J\"],\n",
    "        \"C\": [10, 9, 8, 7, 6, 5, 4, 3, 2, 1],\n",
    "        \"D\": [\"a\", \"b\", \"c\", \"d\", \"e\", \"f\", \"g\", \"h\", \"i\", \"j\"],\n",
    "    }\n",
    ")"
   ]
  },
  {
   "cell_type": "code",
   "execution_count": 2241,
   "outputs": [
    {
     "data": {
      "text/plain": "      A  B   C  D\n0   1.0  A  10  a\n1   2.0  B   9  b\n2   3.0  C   8  c\n3   4.0  D   7  d\n4   5.0  E   6  e\n5   6.0  F   5  f\n6   7.0  G   4  g\n7   8.0  H   3  h\n8   9.0  I   2  i\n9  10.0  J   1  j",
      "text/html": "<div>\n<style scoped>\n    .dataframe tbody tr th:only-of-type {\n        vertical-align: middle;\n    }\n\n    .dataframe tbody tr th {\n        vertical-align: top;\n    }\n\n    .dataframe thead th {\n        text-align: right;\n    }\n</style>\n<table border=\"1\" class=\"dataframe\">\n  <thead>\n    <tr style=\"text-align: right;\">\n      <th></th>\n      <th>A</th>\n      <th>B</th>\n      <th>C</th>\n      <th>D</th>\n    </tr>\n  </thead>\n  <tbody>\n    <tr>\n      <th>0</th>\n      <td>1.0</td>\n      <td>A</td>\n      <td>10</td>\n      <td>a</td>\n    </tr>\n    <tr>\n      <th>1</th>\n      <td>2.0</td>\n      <td>B</td>\n      <td>9</td>\n      <td>b</td>\n    </tr>\n    <tr>\n      <th>2</th>\n      <td>3.0</td>\n      <td>C</td>\n      <td>8</td>\n      <td>c</td>\n    </tr>\n    <tr>\n      <th>3</th>\n      <td>4.0</td>\n      <td>D</td>\n      <td>7</td>\n      <td>d</td>\n    </tr>\n    <tr>\n      <th>4</th>\n      <td>5.0</td>\n      <td>E</td>\n      <td>6</td>\n      <td>e</td>\n    </tr>\n    <tr>\n      <th>5</th>\n      <td>6.0</td>\n      <td>F</td>\n      <td>5</td>\n      <td>f</td>\n    </tr>\n    <tr>\n      <th>6</th>\n      <td>7.0</td>\n      <td>G</td>\n      <td>4</td>\n      <td>g</td>\n    </tr>\n    <tr>\n      <th>7</th>\n      <td>8.0</td>\n      <td>H</td>\n      <td>3</td>\n      <td>h</td>\n    </tr>\n    <tr>\n      <th>8</th>\n      <td>9.0</td>\n      <td>I</td>\n      <td>2</td>\n      <td>i</td>\n    </tr>\n    <tr>\n      <th>9</th>\n      <td>10.0</td>\n      <td>J</td>\n      <td>1</td>\n      <td>j</td>\n    </tr>\n  </tbody>\n</table>\n</div>"
     },
     "execution_count": 2241,
     "metadata": {},
     "output_type": "execute_result"
    }
   ],
   "source": [
    "df"
   ],
   "metadata": {
    "collapsed": false,
    "ExecuteTime": {
     "end_time": "2023-08-25T16:35:26.643914Z",
     "start_time": "2023-08-25T16:35:25.907749Z"
    }
   }
  },
  {
   "cell_type": "markdown",
   "metadata": {
    "collapsed": false
   },
   "source": [
    "### Pregled podataka"
   ]
  },
  {
   "cell_type": "markdown",
   "metadata": {
    "collapsed": false
   },
   "source": [
    "Sa ```DataFrame.head()``` i ```DataFrame.tail()``` mogu se videti prvi i poslednji redovi DataFrame-a"
   ]
  },
  {
   "cell_type": "code",
   "execution_count": 2242,
   "metadata": {
    "collapsed": false,
    "ExecuteTime": {
     "end_time": "2023-08-25T16:35:26.655131Z",
     "start_time": "2023-08-25T16:35:25.912702Z"
    }
   },
   "outputs": [
    {
     "data": {
      "text/plain": "     A  B   C  D\n0  1.0  A  10  a\n1  2.0  B   9  b\n2  3.0  C   8  c\n3  4.0  D   7  d\n4  5.0  E   6  e",
      "text/html": "<div>\n<style scoped>\n    .dataframe tbody tr th:only-of-type {\n        vertical-align: middle;\n    }\n\n    .dataframe tbody tr th {\n        vertical-align: top;\n    }\n\n    .dataframe thead th {\n        text-align: right;\n    }\n</style>\n<table border=\"1\" class=\"dataframe\">\n  <thead>\n    <tr style=\"text-align: right;\">\n      <th></th>\n      <th>A</th>\n      <th>B</th>\n      <th>C</th>\n      <th>D</th>\n    </tr>\n  </thead>\n  <tbody>\n    <tr>\n      <th>0</th>\n      <td>1.0</td>\n      <td>A</td>\n      <td>10</td>\n      <td>a</td>\n    </tr>\n    <tr>\n      <th>1</th>\n      <td>2.0</td>\n      <td>B</td>\n      <td>9</td>\n      <td>b</td>\n    </tr>\n    <tr>\n      <th>2</th>\n      <td>3.0</td>\n      <td>C</td>\n      <td>8</td>\n      <td>c</td>\n    </tr>\n    <tr>\n      <th>3</th>\n      <td>4.0</td>\n      <td>D</td>\n      <td>7</td>\n      <td>d</td>\n    </tr>\n    <tr>\n      <th>4</th>\n      <td>5.0</td>\n      <td>E</td>\n      <td>6</td>\n      <td>e</td>\n    </tr>\n  </tbody>\n</table>\n</div>"
     },
     "execution_count": 2242,
     "metadata": {},
     "output_type": "execute_result"
    }
   ],
   "source": [
    "df.head()"
   ]
  },
  {
   "cell_type": "code",
   "execution_count": 2243,
   "metadata": {
    "collapsed": false,
    "ExecuteTime": {
     "end_time": "2023-08-25T16:35:26.665110Z",
     "start_time": "2023-08-25T16:35:25.917903Z"
    }
   },
   "outputs": [
    {
     "data": {
      "text/plain": "      A  B  C  D\n7   8.0  H  3  h\n8   9.0  I  2  i\n9  10.0  J  1  j",
      "text/html": "<div>\n<style scoped>\n    .dataframe tbody tr th:only-of-type {\n        vertical-align: middle;\n    }\n\n    .dataframe tbody tr th {\n        vertical-align: top;\n    }\n\n    .dataframe thead th {\n        text-align: right;\n    }\n</style>\n<table border=\"1\" class=\"dataframe\">\n  <thead>\n    <tr style=\"text-align: right;\">\n      <th></th>\n      <th>A</th>\n      <th>B</th>\n      <th>C</th>\n      <th>D</th>\n    </tr>\n  </thead>\n  <tbody>\n    <tr>\n      <th>7</th>\n      <td>8.0</td>\n      <td>H</td>\n      <td>3</td>\n      <td>h</td>\n    </tr>\n    <tr>\n      <th>8</th>\n      <td>9.0</td>\n      <td>I</td>\n      <td>2</td>\n      <td>i</td>\n    </tr>\n    <tr>\n      <th>9</th>\n      <td>10.0</td>\n      <td>J</td>\n      <td>1</td>\n      <td>j</td>\n    </tr>\n  </tbody>\n</table>\n</div>"
     },
     "execution_count": 2243,
     "metadata": {},
     "output_type": "execute_result"
    }
   ],
   "source": [
    "df.tail(3)"
   ]
  },
  {
   "cell_type": "markdown",
   "metadata": {
    "collapsed": false
   },
   "source": [
    "```info()``` metoda prikazuje osnovne informacije o DataFrame-u uključujući kolone i njihove tipove podataka, ne-nedostajajućim vrednostima, indeksu"
   ]
  },
  {
   "cell_type": "code",
   "execution_count": 2244,
   "metadata": {
    "collapsed": false,
    "ExecuteTime": {
     "end_time": "2023-08-25T16:35:26.665393Z",
     "start_time": "2023-08-25T16:35:25.925124Z"
    }
   },
   "outputs": [
    {
     "name": "stdout",
     "output_type": "stream",
     "text": [
      "<class 'pandas.core.frame.DataFrame'>\n",
      "RangeIndex: 10 entries, 0 to 9\n",
      "Data columns (total 4 columns):\n",
      " #   Column  Non-Null Count  Dtype  \n",
      "---  ------  --------------  -----  \n",
      " 0   A       10 non-null     float64\n",
      " 1   B       10 non-null     object \n",
      " 2   C       10 non-null     int64  \n",
      " 3   D       10 non-null     object \n",
      "dtypes: float64(1), int64(1), object(2)\n",
      "memory usage: 452.0+ bytes\n"
     ]
    }
   ],
   "source": [
    "df.info()"
   ]
  },
  {
   "cell_type": "markdown",
   "source": [
    "Sa ```describe()``` mogu se dobiti osnovni statistički podaci"
   ],
   "metadata": {
    "collapsed": false
   }
  },
  {
   "cell_type": "code",
   "execution_count": 2245,
   "metadata": {
    "collapsed": false,
    "ExecuteTime": {
     "end_time": "2023-08-25T16:35:26.706634Z",
     "start_time": "2023-08-25T16:35:25.949911Z"
    }
   },
   "outputs": [
    {
     "data": {
      "text/plain": "              A         C\ncount  10.00000  10.00000\nmean    5.50000   5.50000\nstd     3.02765   3.02765\nmin     1.00000   1.00000\n25%     3.25000   3.25000\n50%     5.50000   5.50000\n75%     7.75000   7.75000\nmax    10.00000  10.00000",
      "text/html": "<div>\n<style scoped>\n    .dataframe tbody tr th:only-of-type {\n        vertical-align: middle;\n    }\n\n    .dataframe tbody tr th {\n        vertical-align: top;\n    }\n\n    .dataframe thead th {\n        text-align: right;\n    }\n</style>\n<table border=\"1\" class=\"dataframe\">\n  <thead>\n    <tr style=\"text-align: right;\">\n      <th></th>\n      <th>A</th>\n      <th>C</th>\n    </tr>\n  </thead>\n  <tbody>\n    <tr>\n      <th>count</th>\n      <td>10.00000</td>\n      <td>10.00000</td>\n    </tr>\n    <tr>\n      <th>mean</th>\n      <td>5.50000</td>\n      <td>5.50000</td>\n    </tr>\n    <tr>\n      <th>std</th>\n      <td>3.02765</td>\n      <td>3.02765</td>\n    </tr>\n    <tr>\n      <th>min</th>\n      <td>1.00000</td>\n      <td>1.00000</td>\n    </tr>\n    <tr>\n      <th>25%</th>\n      <td>3.25000</td>\n      <td>3.25000</td>\n    </tr>\n    <tr>\n      <th>50%</th>\n      <td>5.50000</td>\n      <td>5.50000</td>\n    </tr>\n    <tr>\n      <th>75%</th>\n      <td>7.75000</td>\n      <td>7.75000</td>\n    </tr>\n    <tr>\n      <th>max</th>\n      <td>10.00000</td>\n      <td>10.00000</td>\n    </tr>\n  </tbody>\n</table>\n</div>"
     },
     "execution_count": 2245,
     "metadata": {},
     "output_type": "execute_result"
    }
   ],
   "source": [
    "df.describe()"
   ]
  },
  {
   "cell_type": "code",
   "execution_count": 2246,
   "metadata": {
    "collapsed": false,
    "ExecuteTime": {
     "end_time": "2023-08-25T16:35:26.707005Z",
     "start_time": "2023-08-25T16:35:25.954691Z"
    }
   },
   "outputs": [
    {
     "data": {
      "text/plain": "      A  B   C  D\n9  10.0  J   1  j\n8   9.0  I   2  i\n7   8.0  H   3  h\n6   7.0  G   4  g\n5   6.0  F   5  f\n4   5.0  E   6  e\n3   4.0  D   7  d\n2   3.0  C   8  c\n1   2.0  B   9  b\n0   1.0  A  10  a",
      "text/html": "<div>\n<style scoped>\n    .dataframe tbody tr th:only-of-type {\n        vertical-align: middle;\n    }\n\n    .dataframe tbody tr th {\n        vertical-align: top;\n    }\n\n    .dataframe thead th {\n        text-align: right;\n    }\n</style>\n<table border=\"1\" class=\"dataframe\">\n  <thead>\n    <tr style=\"text-align: right;\">\n      <th></th>\n      <th>A</th>\n      <th>B</th>\n      <th>C</th>\n      <th>D</th>\n    </tr>\n  </thead>\n  <tbody>\n    <tr>\n      <th>9</th>\n      <td>10.0</td>\n      <td>J</td>\n      <td>1</td>\n      <td>j</td>\n    </tr>\n    <tr>\n      <th>8</th>\n      <td>9.0</td>\n      <td>I</td>\n      <td>2</td>\n      <td>i</td>\n    </tr>\n    <tr>\n      <th>7</th>\n      <td>8.0</td>\n      <td>H</td>\n      <td>3</td>\n      <td>h</td>\n    </tr>\n    <tr>\n      <th>6</th>\n      <td>7.0</td>\n      <td>G</td>\n      <td>4</td>\n      <td>g</td>\n    </tr>\n    <tr>\n      <th>5</th>\n      <td>6.0</td>\n      <td>F</td>\n      <td>5</td>\n      <td>f</td>\n    </tr>\n    <tr>\n      <th>4</th>\n      <td>5.0</td>\n      <td>E</td>\n      <td>6</td>\n      <td>e</td>\n    </tr>\n    <tr>\n      <th>3</th>\n      <td>4.0</td>\n      <td>D</td>\n      <td>7</td>\n      <td>d</td>\n    </tr>\n    <tr>\n      <th>2</th>\n      <td>3.0</td>\n      <td>C</td>\n      <td>8</td>\n      <td>c</td>\n    </tr>\n    <tr>\n      <th>1</th>\n      <td>2.0</td>\n      <td>B</td>\n      <td>9</td>\n      <td>b</td>\n    </tr>\n    <tr>\n      <th>0</th>\n      <td>1.0</td>\n      <td>A</td>\n      <td>10</td>\n      <td>a</td>\n    </tr>\n  </tbody>\n</table>\n</div>"
     },
     "execution_count": 2246,
     "metadata": {},
     "output_type": "execute_result"
    }
   ],
   "source": [
    "df.sort_values(by=\"C\")"
   ]
  },
  {
   "cell_type": "markdown",
   "source": [
    "*Napomena*: dodela vrednosti"
   ],
   "metadata": {
    "collapsed": false
   }
  },
  {
   "cell_type": "code",
   "execution_count": 2247,
   "outputs": [
    {
     "data": {
      "text/plain": "      A  B   C  D\n0   1.0  A  10  a\n1   2.0  B   9  b\n2   3.0  C   8  c\n3   4.0  D   7  d\n4   5.0  E   6  e\n5   6.0  F   5  f\n6   7.0  G   4  g\n7   8.0  H   3  h\n8   9.0  I   2  i\n9  10.0  J   1  j",
      "text/html": "<div>\n<style scoped>\n    .dataframe tbody tr th:only-of-type {\n        vertical-align: middle;\n    }\n\n    .dataframe tbody tr th {\n        vertical-align: top;\n    }\n\n    .dataframe thead th {\n        text-align: right;\n    }\n</style>\n<table border=\"1\" class=\"dataframe\">\n  <thead>\n    <tr style=\"text-align: right;\">\n      <th></th>\n      <th>A</th>\n      <th>B</th>\n      <th>C</th>\n      <th>D</th>\n    </tr>\n  </thead>\n  <tbody>\n    <tr>\n      <th>0</th>\n      <td>1.0</td>\n      <td>A</td>\n      <td>10</td>\n      <td>a</td>\n    </tr>\n    <tr>\n      <th>1</th>\n      <td>2.0</td>\n      <td>B</td>\n      <td>9</td>\n      <td>b</td>\n    </tr>\n    <tr>\n      <th>2</th>\n      <td>3.0</td>\n      <td>C</td>\n      <td>8</td>\n      <td>c</td>\n    </tr>\n    <tr>\n      <th>3</th>\n      <td>4.0</td>\n      <td>D</td>\n      <td>7</td>\n      <td>d</td>\n    </tr>\n    <tr>\n      <th>4</th>\n      <td>5.0</td>\n      <td>E</td>\n      <td>6</td>\n      <td>e</td>\n    </tr>\n    <tr>\n      <th>5</th>\n      <td>6.0</td>\n      <td>F</td>\n      <td>5</td>\n      <td>f</td>\n    </tr>\n    <tr>\n      <th>6</th>\n      <td>7.0</td>\n      <td>G</td>\n      <td>4</td>\n      <td>g</td>\n    </tr>\n    <tr>\n      <th>7</th>\n      <td>8.0</td>\n      <td>H</td>\n      <td>3</td>\n      <td>h</td>\n    </tr>\n    <tr>\n      <th>8</th>\n      <td>9.0</td>\n      <td>I</td>\n      <td>2</td>\n      <td>i</td>\n    </tr>\n    <tr>\n      <th>9</th>\n      <td>10.0</td>\n      <td>J</td>\n      <td>1</td>\n      <td>j</td>\n    </tr>\n  </tbody>\n</table>\n</div>"
     },
     "execution_count": 2247,
     "metadata": {},
     "output_type": "execute_result"
    }
   ],
   "source": [
    "df"
   ],
   "metadata": {
    "collapsed": false,
    "ExecuteTime": {
     "end_time": "2023-08-25T16:35:26.707205Z",
     "start_time": "2023-08-25T16:35:25.958279Z"
    }
   }
  },
  {
   "cell_type": "code",
   "execution_count": 2248,
   "outputs": [],
   "source": [
    "df = df.sort_values(by=\"C\")"
   ],
   "metadata": {
    "collapsed": false,
    "ExecuteTime": {
     "end_time": "2023-08-25T16:35:26.707252Z",
     "start_time": "2023-08-25T16:35:25.960416Z"
    }
   }
  },
  {
   "cell_type": "code",
   "execution_count": 2249,
   "outputs": [
    {
     "data": {
      "text/plain": "      A  B   C  D\n9  10.0  J   1  j\n8   9.0  I   2  i\n7   8.0  H   3  h\n6   7.0  G   4  g\n5   6.0  F   5  f\n4   5.0  E   6  e\n3   4.0  D   7  d\n2   3.0  C   8  c\n1   2.0  B   9  b\n0   1.0  A  10  a",
      "text/html": "<div>\n<style scoped>\n    .dataframe tbody tr th:only-of-type {\n        vertical-align: middle;\n    }\n\n    .dataframe tbody tr th {\n        vertical-align: top;\n    }\n\n    .dataframe thead th {\n        text-align: right;\n    }\n</style>\n<table border=\"1\" class=\"dataframe\">\n  <thead>\n    <tr style=\"text-align: right;\">\n      <th></th>\n      <th>A</th>\n      <th>B</th>\n      <th>C</th>\n      <th>D</th>\n    </tr>\n  </thead>\n  <tbody>\n    <tr>\n      <th>9</th>\n      <td>10.0</td>\n      <td>J</td>\n      <td>1</td>\n      <td>j</td>\n    </tr>\n    <tr>\n      <th>8</th>\n      <td>9.0</td>\n      <td>I</td>\n      <td>2</td>\n      <td>i</td>\n    </tr>\n    <tr>\n      <th>7</th>\n      <td>8.0</td>\n      <td>H</td>\n      <td>3</td>\n      <td>h</td>\n    </tr>\n    <tr>\n      <th>6</th>\n      <td>7.0</td>\n      <td>G</td>\n      <td>4</td>\n      <td>g</td>\n    </tr>\n    <tr>\n      <th>5</th>\n      <td>6.0</td>\n      <td>F</td>\n      <td>5</td>\n      <td>f</td>\n    </tr>\n    <tr>\n      <th>4</th>\n      <td>5.0</td>\n      <td>E</td>\n      <td>6</td>\n      <td>e</td>\n    </tr>\n    <tr>\n      <th>3</th>\n      <td>4.0</td>\n      <td>D</td>\n      <td>7</td>\n      <td>d</td>\n    </tr>\n    <tr>\n      <th>2</th>\n      <td>3.0</td>\n      <td>C</td>\n      <td>8</td>\n      <td>c</td>\n    </tr>\n    <tr>\n      <th>1</th>\n      <td>2.0</td>\n      <td>B</td>\n      <td>9</td>\n      <td>b</td>\n    </tr>\n    <tr>\n      <th>0</th>\n      <td>1.0</td>\n      <td>A</td>\n      <td>10</td>\n      <td>a</td>\n    </tr>\n  </tbody>\n</table>\n</div>"
     },
     "execution_count": 2249,
     "metadata": {},
     "output_type": "execute_result"
    }
   ],
   "source": [
    "df"
   ],
   "metadata": {
    "collapsed": false,
    "ExecuteTime": {
     "end_time": "2023-08-25T16:35:26.714013Z",
     "start_time": "2023-08-25T16:35:25.964618Z"
    }
   }
  },
  {
   "cell_type": "markdown",
   "metadata": {
    "collapsed": false
   },
   "source": [
    "### Selekcija\n",
    "\n",
    "Selekcija i filtriranje specifičnih redova/kolona, filtriranje podataka na osnovu uslova"
   ]
  },
  {
   "cell_type": "markdown",
   "metadata": {
    "collapsed": false
   },
   "source": [
    "Selekcija jedne kolone. Vraća ```Series``` objekat.\n",
    "\n",
    "Series je još jedna osnovna struktura podataka u pandas-u. Predstavlja jednodimenzionalni niz sa labelama."
   ]
  },
  {
   "cell_type": "code",
   "execution_count": 2250,
   "metadata": {
    "collapsed": false,
    "ExecuteTime": {
     "end_time": "2023-08-25T16:35:26.714147Z",
     "start_time": "2023-08-25T16:35:25.967783Z"
    }
   },
   "outputs": [
    {
     "data": {
      "text/plain": "9    10.0\n8     9.0\n7     8.0\n6     7.0\n5     6.0\n4     5.0\n3     4.0\n2     3.0\n1     2.0\n0     1.0\nName: A, dtype: float64"
     },
     "execution_count": 2250,
     "metadata": {},
     "output_type": "execute_result"
    }
   ],
   "source": [
    "df[\"A\"]"
   ]
  },
  {
   "cell_type": "markdown",
   "metadata": {
    "collapsed": false
   },
   "source": [
    "Selekcija preko [] 'iseca' redove po poziciji"
   ]
  },
  {
   "cell_type": "code",
   "execution_count": 2251,
   "metadata": {
    "collapsed": false,
    "ExecuteTime": {
     "end_time": "2023-08-25T16:35:26.724401Z",
     "start_time": "2023-08-25T16:35:25.973954Z"
    }
   },
   "outputs": [
    {
     "data": {
      "text/plain": "      A  B  C  D\n9  10.0  J  1  j\n8   9.0  I  2  i\n7   8.0  H  3  h",
      "text/html": "<div>\n<style scoped>\n    .dataframe tbody tr th:only-of-type {\n        vertical-align: middle;\n    }\n\n    .dataframe tbody tr th {\n        vertical-align: top;\n    }\n\n    .dataframe thead th {\n        text-align: right;\n    }\n</style>\n<table border=\"1\" class=\"dataframe\">\n  <thead>\n    <tr style=\"text-align: right;\">\n      <th></th>\n      <th>A</th>\n      <th>B</th>\n      <th>C</th>\n      <th>D</th>\n    </tr>\n  </thead>\n  <tbody>\n    <tr>\n      <th>9</th>\n      <td>10.0</td>\n      <td>J</td>\n      <td>1</td>\n      <td>j</td>\n    </tr>\n    <tr>\n      <th>8</th>\n      <td>9.0</td>\n      <td>I</td>\n      <td>2</td>\n      <td>i</td>\n    </tr>\n    <tr>\n      <th>7</th>\n      <td>8.0</td>\n      <td>H</td>\n      <td>3</td>\n      <td>h</td>\n    </tr>\n  </tbody>\n</table>\n</div>"
     },
     "execution_count": 2251,
     "metadata": {},
     "output_type": "execute_result"
    }
   ],
   "source": [
    "df[0:3]"
   ]
  },
  {
   "cell_type": "markdown",
   "metadata": {
    "collapsed": false
   },
   "source": [
    "##### Selekcija preko labele\n",
    "\n",
    "Metode za indeksiranje na bazi celobrojne labele"
   ]
  },
  {
   "cell_type": "code",
   "execution_count": 2252,
   "metadata": {
    "collapsed": false,
    "ExecuteTime": {
     "end_time": "2023-08-25T16:35:26.770955Z",
     "start_time": "2023-08-25T16:35:26.045166Z"
    }
   },
   "outputs": [],
   "source": [
    "df2 = pd.DataFrame(\n",
    "    {\n",
    "        \"A\": [1.0, 2.0, 3.0, 4.0, 5.0, 6.0, 7.0, 8.0, 9.0, 10.0],\n",
    "        \"B\": [\"A\", \"B\", \"C\", \"D\", \"E\", \"F\", \"G\", \"H\", \"I\", \"J\"],\n",
    "        \"C\": [10, 9, 8, 7, 6, 5, 4, 3, 2, 1],\n",
    "        \"D\": [\"a\", \"b\", \"c\", \"d\", \"e\", \"f\", \"g\", \"h\", \"i\", \"j\"],\n",
    "    },\n",
    "    index=['a', 'b', 'c', 'd', 'e', 'f', 'g', 'h', 'i', 'j']\n",
    ")"
   ]
  },
  {
   "cell_type": "code",
   "execution_count": 2253,
   "outputs": [
    {
     "data": {
      "text/plain": "      A  B   C  D\na   1.0  A  10  a\nb   2.0  B   9  b\nc   3.0  C   8  c\nd   4.0  D   7  d\ne   5.0  E   6  e\nf   6.0  F   5  f\ng   7.0  G   4  g\nh   8.0  H   3  h\ni   9.0  I   2  i\nj  10.0  J   1  j",
      "text/html": "<div>\n<style scoped>\n    .dataframe tbody tr th:only-of-type {\n        vertical-align: middle;\n    }\n\n    .dataframe tbody tr th {\n        vertical-align: top;\n    }\n\n    .dataframe thead th {\n        text-align: right;\n    }\n</style>\n<table border=\"1\" class=\"dataframe\">\n  <thead>\n    <tr style=\"text-align: right;\">\n      <th></th>\n      <th>A</th>\n      <th>B</th>\n      <th>C</th>\n      <th>D</th>\n    </tr>\n  </thead>\n  <tbody>\n    <tr>\n      <th>a</th>\n      <td>1.0</td>\n      <td>A</td>\n      <td>10</td>\n      <td>a</td>\n    </tr>\n    <tr>\n      <th>b</th>\n      <td>2.0</td>\n      <td>B</td>\n      <td>9</td>\n      <td>b</td>\n    </tr>\n    <tr>\n      <th>c</th>\n      <td>3.0</td>\n      <td>C</td>\n      <td>8</td>\n      <td>c</td>\n    </tr>\n    <tr>\n      <th>d</th>\n      <td>4.0</td>\n      <td>D</td>\n      <td>7</td>\n      <td>d</td>\n    </tr>\n    <tr>\n      <th>e</th>\n      <td>5.0</td>\n      <td>E</td>\n      <td>6</td>\n      <td>e</td>\n    </tr>\n    <tr>\n      <th>f</th>\n      <td>6.0</td>\n      <td>F</td>\n      <td>5</td>\n      <td>f</td>\n    </tr>\n    <tr>\n      <th>g</th>\n      <td>7.0</td>\n      <td>G</td>\n      <td>4</td>\n      <td>g</td>\n    </tr>\n    <tr>\n      <th>h</th>\n      <td>8.0</td>\n      <td>H</td>\n      <td>3</td>\n      <td>h</td>\n    </tr>\n    <tr>\n      <th>i</th>\n      <td>9.0</td>\n      <td>I</td>\n      <td>2</td>\n      <td>i</td>\n    </tr>\n    <tr>\n      <th>j</th>\n      <td>10.0</td>\n      <td>J</td>\n      <td>1</td>\n      <td>j</td>\n    </tr>\n  </tbody>\n</table>\n</div>"
     },
     "execution_count": 2253,
     "metadata": {},
     "output_type": "execute_result"
    }
   ],
   "source": [
    "df2"
   ],
   "metadata": {
    "collapsed": false,
    "ExecuteTime": {
     "end_time": "2023-08-25T16:35:26.771479Z",
     "start_time": "2023-08-25T16:35:26.048534Z"
    }
   }
  },
  {
   "cell_type": "code",
   "execution_count": 2254,
   "metadata": {
    "collapsed": false,
    "ExecuteTime": {
     "end_time": "2023-08-25T16:35:26.778180Z",
     "start_time": "2023-08-25T16:35:26.051305Z"
    }
   },
   "outputs": [
    {
     "data": {
      "text/plain": "A    4.0\nB      D\nC      7\nD      d\nName: d, dtype: object"
     },
     "execution_count": 2254,
     "metadata": {},
     "output_type": "execute_result"
    }
   ],
   "source": [
    "df2.loc['d']"
   ]
  },
  {
   "cell_type": "markdown",
   "metadata": {
    "collapsed": false
   },
   "source": [
    "Selekcija više osa preko labele"
   ]
  },
  {
   "cell_type": "code",
   "execution_count": 2255,
   "metadata": {
    "collapsed": false,
    "ExecuteTime": {
     "end_time": "2023-08-25T16:35:26.778340Z",
     "start_time": "2023-08-25T16:35:26.054716Z"
    }
   },
   "outputs": [
    {
     "data": {
      "text/plain": "A    4.0\nB      D\nName: d, dtype: object"
     },
     "execution_count": 2255,
     "metadata": {},
     "output_type": "execute_result"
    }
   ],
   "source": [
    "df2.loc['d', [\"A\", \"B\"]]"
   ]
  },
  {
   "cell_type": "markdown",
   "metadata": {
    "collapsed": false
   },
   "source": [
    "*Note:* Kod selekcije preko labele, selektovanje je uključno sa obe strane"
   ]
  },
  {
   "cell_type": "code",
   "execution_count": 2256,
   "metadata": {
    "collapsed": false,
    "ExecuteTime": {
     "end_time": "2023-08-25T16:35:26.788968Z",
     "start_time": "2023-08-25T16:35:26.063850Z"
    }
   },
   "outputs": [
    {
     "data": {
      "text/plain": "   C  D\nb  9  b\nc  8  c\nd  7  d",
      "text/html": "<div>\n<style scoped>\n    .dataframe tbody tr th:only-of-type {\n        vertical-align: middle;\n    }\n\n    .dataframe tbody tr th {\n        vertical-align: top;\n    }\n\n    .dataframe thead th {\n        text-align: right;\n    }\n</style>\n<table border=\"1\" class=\"dataframe\">\n  <thead>\n    <tr style=\"text-align: right;\">\n      <th></th>\n      <th>C</th>\n      <th>D</th>\n    </tr>\n  </thead>\n  <tbody>\n    <tr>\n      <th>b</th>\n      <td>9</td>\n      <td>b</td>\n    </tr>\n    <tr>\n      <th>c</th>\n      <td>8</td>\n      <td>c</td>\n    </tr>\n    <tr>\n      <th>d</th>\n      <td>7</td>\n      <td>d</td>\n    </tr>\n  </tbody>\n</table>\n</div>"
     },
     "execution_count": 2256,
     "metadata": {},
     "output_type": "execute_result"
    }
   ],
   "source": [
    "df2.loc[\"b\":\"d\", [\"C\", \"D\"]]"
   ]
  },
  {
   "cell_type": "markdown",
   "metadata": {
    "collapsed": false
   },
   "source": [
    "Dobavljanje skalarne vrednosti"
   ]
  },
  {
   "cell_type": "code",
   "execution_count": 2257,
   "metadata": {
    "collapsed": false,
    "ExecuteTime": {
     "end_time": "2023-08-25T16:35:26.808311Z",
     "start_time": "2023-08-25T16:35:26.071243Z"
    }
   },
   "outputs": [
    {
     "data": {
      "text/plain": "4.0"
     },
     "execution_count": 2257,
     "metadata": {},
     "output_type": "execute_result"
    }
   ],
   "source": [
    "df2.loc['d', \"A\"]"
   ]
  },
  {
   "cell_type": "code",
   "execution_count": 2258,
   "metadata": {
    "collapsed": false,
    "ExecuteTime": {
     "end_time": "2023-08-25T16:35:26.808461Z",
     "start_time": "2023-08-25T16:35:26.073389Z"
    }
   },
   "outputs": [
    {
     "data": {
      "text/plain": "4.0"
     },
     "execution_count": 2258,
     "metadata": {},
     "output_type": "execute_result"
    }
   ],
   "source": [
    "df2.at['d', \"A\"]"
   ]
  },
  {
   "cell_type": "markdown",
   "metadata": {
    "collapsed": false
   },
   "source": [
    "##### Selekcija po poziciji\n",
    "\n",
    "Metode za indeksiranje na bazi celobrojne pozicije."
   ]
  },
  {
   "cell_type": "markdown",
   "metadata": {
    "collapsed": false
   },
   "source": [
    "*Note*: Kod selekcije po poziciji, početna vrednost je uključna a krajnja isključna!"
   ]
  },
  {
   "cell_type": "code",
   "execution_count": 2259,
   "metadata": {
    "collapsed": false,
    "ExecuteTime": {
     "end_time": "2023-08-25T16:35:26.824019Z",
     "start_time": "2023-08-25T16:35:26.082281Z"
    }
   },
   "outputs": [
    {
     "data": {
      "text/plain": "A    4.0\nB      D\nC      7\nD      d\nName: d, dtype: object"
     },
     "execution_count": 2259,
     "metadata": {},
     "output_type": "execute_result"
    }
   ],
   "source": [
    "df2.iloc[3]"
   ]
  },
  {
   "cell_type": "code",
   "execution_count": 2260,
   "metadata": {
    "collapsed": false,
    "ExecuteTime": {
     "end_time": "2023-08-25T16:35:26.836650Z",
     "start_time": "2023-08-25T16:35:26.086452Z"
    }
   },
   "outputs": [
    {
     "data": {
      "text/plain": "     A  B\nd  4.0  D\ne  5.0  E",
      "text/html": "<div>\n<style scoped>\n    .dataframe tbody tr th:only-of-type {\n        vertical-align: middle;\n    }\n\n    .dataframe tbody tr th {\n        vertical-align: top;\n    }\n\n    .dataframe thead th {\n        text-align: right;\n    }\n</style>\n<table border=\"1\" class=\"dataframe\">\n  <thead>\n    <tr style=\"text-align: right;\">\n      <th></th>\n      <th>A</th>\n      <th>B</th>\n    </tr>\n  </thead>\n  <tbody>\n    <tr>\n      <th>d</th>\n      <td>4.0</td>\n      <td>D</td>\n    </tr>\n    <tr>\n      <th>e</th>\n      <td>5.0</td>\n      <td>E</td>\n    </tr>\n  </tbody>\n</table>\n</div>"
     },
     "execution_count": 2260,
     "metadata": {},
     "output_type": "execute_result"
    }
   ],
   "source": [
    "df2.iloc[3:5, 0:2]"
   ]
  },
  {
   "cell_type": "markdown",
   "metadata": {
    "collapsed": false
   },
   "source": [
    "Isecanje redova"
   ]
  },
  {
   "cell_type": "code",
   "execution_count": 2261,
   "metadata": {
    "collapsed": false,
    "ExecuteTime": {
     "end_time": "2023-08-25T16:35:26.836849Z",
     "start_time": "2023-08-25T16:35:26.090181Z"
    }
   },
   "outputs": [
    {
     "data": {
      "text/plain": "     A  B  C  D\nb  2.0  B  9  b\nc  3.0  C  8  c",
      "text/html": "<div>\n<style scoped>\n    .dataframe tbody tr th:only-of-type {\n        vertical-align: middle;\n    }\n\n    .dataframe tbody tr th {\n        vertical-align: top;\n    }\n\n    .dataframe thead th {\n        text-align: right;\n    }\n</style>\n<table border=\"1\" class=\"dataframe\">\n  <thead>\n    <tr style=\"text-align: right;\">\n      <th></th>\n      <th>A</th>\n      <th>B</th>\n      <th>C</th>\n      <th>D</th>\n    </tr>\n  </thead>\n  <tbody>\n    <tr>\n      <th>b</th>\n      <td>2.0</td>\n      <td>B</td>\n      <td>9</td>\n      <td>b</td>\n    </tr>\n    <tr>\n      <th>c</th>\n      <td>3.0</td>\n      <td>C</td>\n      <td>8</td>\n      <td>c</td>\n    </tr>\n  </tbody>\n</table>\n</div>"
     },
     "execution_count": 2261,
     "metadata": {},
     "output_type": "execute_result"
    }
   ],
   "source": [
    "df2.iloc[1:3, :]"
   ]
  },
  {
   "cell_type": "markdown",
   "metadata": {
    "collapsed": false
   },
   "source": [
    "Isecanje kolona"
   ]
  },
  {
   "cell_type": "code",
   "execution_count": 2262,
   "metadata": {
    "collapsed": false,
    "ExecuteTime": {
     "end_time": "2023-08-25T16:35:26.851521Z",
     "start_time": "2023-08-25T16:35:26.097040Z"
    }
   },
   "outputs": [
    {
     "data": {
      "text/plain": "   B   C\na  A  10\nb  B   9\nc  C   8\nd  D   7\ne  E   6\nf  F   5\ng  G   4\nh  H   3\ni  I   2\nj  J   1",
      "text/html": "<div>\n<style scoped>\n    .dataframe tbody tr th:only-of-type {\n        vertical-align: middle;\n    }\n\n    .dataframe tbody tr th {\n        vertical-align: top;\n    }\n\n    .dataframe thead th {\n        text-align: right;\n    }\n</style>\n<table border=\"1\" class=\"dataframe\">\n  <thead>\n    <tr style=\"text-align: right;\">\n      <th></th>\n      <th>B</th>\n      <th>C</th>\n    </tr>\n  </thead>\n  <tbody>\n    <tr>\n      <th>a</th>\n      <td>A</td>\n      <td>10</td>\n    </tr>\n    <tr>\n      <th>b</th>\n      <td>B</td>\n      <td>9</td>\n    </tr>\n    <tr>\n      <th>c</th>\n      <td>C</td>\n      <td>8</td>\n    </tr>\n    <tr>\n      <th>d</th>\n      <td>D</td>\n      <td>7</td>\n    </tr>\n    <tr>\n      <th>e</th>\n      <td>E</td>\n      <td>6</td>\n    </tr>\n    <tr>\n      <th>f</th>\n      <td>F</td>\n      <td>5</td>\n    </tr>\n    <tr>\n      <th>g</th>\n      <td>G</td>\n      <td>4</td>\n    </tr>\n    <tr>\n      <th>h</th>\n      <td>H</td>\n      <td>3</td>\n    </tr>\n    <tr>\n      <th>i</th>\n      <td>I</td>\n      <td>2</td>\n    </tr>\n    <tr>\n      <th>j</th>\n      <td>J</td>\n      <td>1</td>\n    </tr>\n  </tbody>\n</table>\n</div>"
     },
     "execution_count": 2262,
     "metadata": {},
     "output_type": "execute_result"
    }
   ],
   "source": [
    "df2.iloc[:, 1:3]"
   ]
  },
  {
   "cell_type": "markdown",
   "metadata": {
    "collapsed": false
   },
   "source": [
    "Dobavljanje skalarne vrednosti"
   ]
  },
  {
   "cell_type": "code",
   "execution_count": 2263,
   "metadata": {
    "collapsed": false,
    "ExecuteTime": {
     "end_time": "2023-08-25T16:35:26.876454Z",
     "start_time": "2023-08-25T16:35:26.104112Z"
    }
   },
   "outputs": [
    {
     "data": {
      "text/plain": "'B'"
     },
     "execution_count": 2263,
     "metadata": {},
     "output_type": "execute_result"
    }
   ],
   "source": [
    "df2.iloc[1, 1]"
   ]
  },
  {
   "cell_type": "code",
   "execution_count": 2264,
   "metadata": {
    "collapsed": false,
    "ExecuteTime": {
     "end_time": "2023-08-25T16:35:26.893035Z",
     "start_time": "2023-08-25T16:35:26.106792Z"
    }
   },
   "outputs": [
    {
     "data": {
      "text/plain": "'B'"
     },
     "execution_count": 2264,
     "metadata": {},
     "output_type": "execute_result"
    }
   ],
   "source": [
    "df2.iat[1, 1]"
   ]
  },
  {
   "cell_type": "markdown",
   "metadata": {
    "collapsed": false
   },
   "source": [
    "##### Boolean indeksiranje\n",
    "\n",
    "Selektovanje podataka na osnovu vrednosti iz jedne kolone"
   ]
  },
  {
   "cell_type": "code",
   "execution_count": 2265,
   "metadata": {
    "collapsed": false,
    "ExecuteTime": {
     "end_time": "2023-08-25T16:35:26.893472Z",
     "start_time": "2023-08-25T16:35:26.111006Z"
    }
   },
   "outputs": [
    {
     "data": {
      "text/plain": "      A  B  C  D\nf   6.0  F  5  f\ng   7.0  G  4  g\nh   8.0  H  3  h\ni   9.0  I  2  i\nj  10.0  J  1  j",
      "text/html": "<div>\n<style scoped>\n    .dataframe tbody tr th:only-of-type {\n        vertical-align: middle;\n    }\n\n    .dataframe tbody tr th {\n        vertical-align: top;\n    }\n\n    .dataframe thead th {\n        text-align: right;\n    }\n</style>\n<table border=\"1\" class=\"dataframe\">\n  <thead>\n    <tr style=\"text-align: right;\">\n      <th></th>\n      <th>A</th>\n      <th>B</th>\n      <th>C</th>\n      <th>D</th>\n    </tr>\n  </thead>\n  <tbody>\n    <tr>\n      <th>f</th>\n      <td>6.0</td>\n      <td>F</td>\n      <td>5</td>\n      <td>f</td>\n    </tr>\n    <tr>\n      <th>g</th>\n      <td>7.0</td>\n      <td>G</td>\n      <td>4</td>\n      <td>g</td>\n    </tr>\n    <tr>\n      <th>h</th>\n      <td>8.0</td>\n      <td>H</td>\n      <td>3</td>\n      <td>h</td>\n    </tr>\n    <tr>\n      <th>i</th>\n      <td>9.0</td>\n      <td>I</td>\n      <td>2</td>\n      <td>i</td>\n    </tr>\n    <tr>\n      <th>j</th>\n      <td>10.0</td>\n      <td>J</td>\n      <td>1</td>\n      <td>j</td>\n    </tr>\n  </tbody>\n</table>\n</div>"
     },
     "execution_count": 2265,
     "metadata": {},
     "output_type": "execute_result"
    }
   ],
   "source": [
    "df2[df2[\"A\"] > 5]"
   ]
  },
  {
   "cell_type": "code",
   "execution_count": 2266,
   "outputs": [
    {
     "data": {
      "text/plain": "a    False\nb    False\nc    False\nd    False\ne    False\nf     True\ng     True\nh     True\ni     True\nj     True\nName: A, dtype: bool"
     },
     "execution_count": 2266,
     "metadata": {},
     "output_type": "execute_result"
    }
   ],
   "source": [
    "df2[\"A\"] > 5"
   ],
   "metadata": {
    "collapsed": false,
    "ExecuteTime": {
     "end_time": "2023-08-25T16:35:26.893586Z",
     "start_time": "2023-08-25T16:35:26.113777Z"
    }
   }
  },
  {
   "cell_type": "markdown",
   "metadata": {
    "collapsed": false
   },
   "source": [
    "##### Korišćenje isin() za filtriranje"
   ]
  },
  {
   "cell_type": "code",
   "execution_count": 2267,
   "metadata": {
    "collapsed": false,
    "ExecuteTime": {
     "end_time": "2023-08-25T16:35:26.900397Z",
     "start_time": "2023-08-25T16:35:26.119234Z"
    }
   },
   "outputs": [
    {
     "data": {
      "text/plain": "      A  B  C  D\ng   7.0  G  4  g\nj  10.0  J  1  j",
      "text/html": "<div>\n<style scoped>\n    .dataframe tbody tr th:only-of-type {\n        vertical-align: middle;\n    }\n\n    .dataframe tbody tr th {\n        vertical-align: top;\n    }\n\n    .dataframe thead th {\n        text-align: right;\n    }\n</style>\n<table border=\"1\" class=\"dataframe\">\n  <thead>\n    <tr style=\"text-align: right;\">\n      <th></th>\n      <th>A</th>\n      <th>B</th>\n      <th>C</th>\n      <th>D</th>\n    </tr>\n  </thead>\n  <tbody>\n    <tr>\n      <th>g</th>\n      <td>7.0</td>\n      <td>G</td>\n      <td>4</td>\n      <td>g</td>\n    </tr>\n    <tr>\n      <th>j</th>\n      <td>10.0</td>\n      <td>J</td>\n      <td>1</td>\n      <td>j</td>\n    </tr>\n  </tbody>\n</table>\n</div>"
     },
     "execution_count": 2267,
     "metadata": {},
     "output_type": "execute_result"
    }
   ],
   "source": [
    "df2[df2[\"B\"].isin([\"G\", \"J\"])]"
   ]
  },
  {
   "cell_type": "markdown",
   "source": [
    "### Dodela vrednosti"
   ],
   "metadata": {
    "collapsed": false
   }
  },
  {
   "cell_type": "markdown",
   "metadata": {
    "collapsed": false
   },
   "source": [
    "##### Dodela vrednosti preko labele"
   ]
  },
  {
   "cell_type": "code",
   "execution_count": 2268,
   "outputs": [],
   "source": [
    "df3 = pd.DataFrame(\n",
    "    {\n",
    "        \"A\": [1.0, 2.0, 3.0, 4.0, 5.0, 6.0, 7.0, 8.0, 9.0, 10.0],\n",
    "        \"B\": [\"A\", \"B\", \"C\", \"D\", \"E\", \"F\", \"G\", \"H\", \"I\", \"J\"],\n",
    "        \"C\": [10, 9, 8, 7, 6, 5, 4, 3, 2, 1],\n",
    "        \"D\": [\"a\", \"b\", \"c\", \"d\", \"e\", \"f\", \"g\", \"h\", \"i\", \"j\"],\n",
    "    },\n",
    "    index=['a', 'b', 'c', 'd', 'e', 'f', 'g', 'h', 'i', 'j']\n",
    ")"
   ],
   "metadata": {
    "collapsed": false,
    "ExecuteTime": {
     "end_time": "2023-08-25T16:35:26.929929Z",
     "start_time": "2023-08-25T16:35:26.131439Z"
    }
   }
  },
  {
   "cell_type": "code",
   "execution_count": 2269,
   "metadata": {
    "collapsed": false,
    "ExecuteTime": {
     "end_time": "2023-08-25T16:35:26.957779Z",
     "start_time": "2023-08-25T16:35:26.133503Z"
    }
   },
   "outputs": [],
   "source": [
    "df3.at['b', \"A\"] = -1"
   ]
  },
  {
   "cell_type": "code",
   "execution_count": 2270,
   "outputs": [
    {
     "data": {
      "text/plain": "      A  B   C  D\na   1.0  A  10  a\nb  -1.0  B   9  b\nc   3.0  C   8  c\nd   4.0  D   7  d\ne   5.0  E   6  e\nf   6.0  F   5  f\ng   7.0  G   4  g\nh   8.0  H   3  h\ni   9.0  I   2  i\nj  10.0  J   1  j",
      "text/html": "<div>\n<style scoped>\n    .dataframe tbody tr th:only-of-type {\n        vertical-align: middle;\n    }\n\n    .dataframe tbody tr th {\n        vertical-align: top;\n    }\n\n    .dataframe thead th {\n        text-align: right;\n    }\n</style>\n<table border=\"1\" class=\"dataframe\">\n  <thead>\n    <tr style=\"text-align: right;\">\n      <th></th>\n      <th>A</th>\n      <th>B</th>\n      <th>C</th>\n      <th>D</th>\n    </tr>\n  </thead>\n  <tbody>\n    <tr>\n      <th>a</th>\n      <td>1.0</td>\n      <td>A</td>\n      <td>10</td>\n      <td>a</td>\n    </tr>\n    <tr>\n      <th>b</th>\n      <td>-1.0</td>\n      <td>B</td>\n      <td>9</td>\n      <td>b</td>\n    </tr>\n    <tr>\n      <th>c</th>\n      <td>3.0</td>\n      <td>C</td>\n      <td>8</td>\n      <td>c</td>\n    </tr>\n    <tr>\n      <th>d</th>\n      <td>4.0</td>\n      <td>D</td>\n      <td>7</td>\n      <td>d</td>\n    </tr>\n    <tr>\n      <th>e</th>\n      <td>5.0</td>\n      <td>E</td>\n      <td>6</td>\n      <td>e</td>\n    </tr>\n    <tr>\n      <th>f</th>\n      <td>6.0</td>\n      <td>F</td>\n      <td>5</td>\n      <td>f</td>\n    </tr>\n    <tr>\n      <th>g</th>\n      <td>7.0</td>\n      <td>G</td>\n      <td>4</td>\n      <td>g</td>\n    </tr>\n    <tr>\n      <th>h</th>\n      <td>8.0</td>\n      <td>H</td>\n      <td>3</td>\n      <td>h</td>\n    </tr>\n    <tr>\n      <th>i</th>\n      <td>9.0</td>\n      <td>I</td>\n      <td>2</td>\n      <td>i</td>\n    </tr>\n    <tr>\n      <th>j</th>\n      <td>10.0</td>\n      <td>J</td>\n      <td>1</td>\n      <td>j</td>\n    </tr>\n  </tbody>\n</table>\n</div>"
     },
     "execution_count": 2270,
     "metadata": {},
     "output_type": "execute_result"
    }
   ],
   "source": [
    "df3"
   ],
   "metadata": {
    "collapsed": false,
    "ExecuteTime": {
     "end_time": "2023-08-25T16:35:26.958327Z",
     "start_time": "2023-08-25T16:35:26.137091Z"
    }
   }
  },
  {
   "cell_type": "markdown",
   "metadata": {
    "collapsed": false
   },
   "source": [
    "##### Dodela vrednosti preko pozicije"
   ]
  },
  {
   "cell_type": "code",
   "execution_count": 2271,
   "outputs": [],
   "source": [
    "df4 = pd.DataFrame(\n",
    "    {\n",
    "        \"A\": [1.0, 2.0, 3.0, 4.0, 5.0, 6.0, 7.0, 8.0, 9.0, 10.0],\n",
    "        \"B\": [\"A\", \"B\", \"C\", \"D\", \"E\", \"F\", \"G\", \"H\", \"I\", \"J\"],\n",
    "        \"C\": [10, 9, 8, 7, 6, 5, 4, 3, 2, 1],\n",
    "        \"D\": [\"a\", \"b\", \"c\", \"d\", \"e\", \"f\", \"g\", \"h\", \"i\", \"j\"],\n",
    "    },\n",
    "    index=['a', 'b', 'c', 'd', 'e', 'f', 'g', 'h', 'i', 'j']\n",
    ")"
   ],
   "metadata": {
    "collapsed": false,
    "ExecuteTime": {
     "end_time": "2023-08-25T16:35:26.983934Z",
     "start_time": "2023-08-25T16:35:26.140773Z"
    }
   }
  },
  {
   "cell_type": "code",
   "execution_count": 2272,
   "metadata": {
    "collapsed": false,
    "ExecuteTime": {
     "end_time": "2023-08-25T16:35:26.984076Z",
     "start_time": "2023-08-25T16:35:26.142658Z"
    }
   },
   "outputs": [],
   "source": [
    "df4.iat[0, 1] = 'M'"
   ]
  },
  {
   "cell_type": "code",
   "execution_count": 2273,
   "outputs": [
    {
     "data": {
      "text/plain": "      A  B   C  D\na   1.0  M  10  a\nb   2.0  B   9  b\nc   3.0  C   8  c\nd   4.0  D   7  d\ne   5.0  E   6  e\nf   6.0  F   5  f\ng   7.0  G   4  g\nh   8.0  H   3  h\ni   9.0  I   2  i\nj  10.0  J   1  j",
      "text/html": "<div>\n<style scoped>\n    .dataframe tbody tr th:only-of-type {\n        vertical-align: middle;\n    }\n\n    .dataframe tbody tr th {\n        vertical-align: top;\n    }\n\n    .dataframe thead th {\n        text-align: right;\n    }\n</style>\n<table border=\"1\" class=\"dataframe\">\n  <thead>\n    <tr style=\"text-align: right;\">\n      <th></th>\n      <th>A</th>\n      <th>B</th>\n      <th>C</th>\n      <th>D</th>\n    </tr>\n  </thead>\n  <tbody>\n    <tr>\n      <th>a</th>\n      <td>1.0</td>\n      <td>M</td>\n      <td>10</td>\n      <td>a</td>\n    </tr>\n    <tr>\n      <th>b</th>\n      <td>2.0</td>\n      <td>B</td>\n      <td>9</td>\n      <td>b</td>\n    </tr>\n    <tr>\n      <th>c</th>\n      <td>3.0</td>\n      <td>C</td>\n      <td>8</td>\n      <td>c</td>\n    </tr>\n    <tr>\n      <th>d</th>\n      <td>4.0</td>\n      <td>D</td>\n      <td>7</td>\n      <td>d</td>\n    </tr>\n    <tr>\n      <th>e</th>\n      <td>5.0</td>\n      <td>E</td>\n      <td>6</td>\n      <td>e</td>\n    </tr>\n    <tr>\n      <th>f</th>\n      <td>6.0</td>\n      <td>F</td>\n      <td>5</td>\n      <td>f</td>\n    </tr>\n    <tr>\n      <th>g</th>\n      <td>7.0</td>\n      <td>G</td>\n      <td>4</td>\n      <td>g</td>\n    </tr>\n    <tr>\n      <th>h</th>\n      <td>8.0</td>\n      <td>H</td>\n      <td>3</td>\n      <td>h</td>\n    </tr>\n    <tr>\n      <th>i</th>\n      <td>9.0</td>\n      <td>I</td>\n      <td>2</td>\n      <td>i</td>\n    </tr>\n    <tr>\n      <th>j</th>\n      <td>10.0</td>\n      <td>J</td>\n      <td>1</td>\n      <td>j</td>\n    </tr>\n  </tbody>\n</table>\n</div>"
     },
     "execution_count": 2273,
     "metadata": {},
     "output_type": "execute_result"
    }
   ],
   "source": [
    "df4"
   ],
   "metadata": {
    "collapsed": false,
    "ExecuteTime": {
     "end_time": "2023-08-25T16:35:27.004233Z",
     "start_time": "2023-08-25T16:35:26.146464Z"
    }
   }
  },
  {
   "cell_type": "markdown",
   "metadata": {
    "collapsed": false
   },
   "source": [
    "Dodela vrednosti pomoću niza"
   ]
  },
  {
   "cell_type": "code",
   "execution_count": 2274,
   "outputs": [],
   "source": [
    "df5 = pd.DataFrame(\n",
    "    {\n",
    "        \"A\": [1.0, 2.0, 3.0, 4.0, 5.0, 6.0, 7.0, 8.0, 9.0, 10.0],\n",
    "        \"B\": [\"A\", \"B\", \"C\", \"D\", \"E\", \"F\", \"G\", \"H\", \"I\", \"J\"],\n",
    "        \"C\": [10, 9, 8, 7, 6, 5, 4, 3, 2, 1],\n",
    "        \"D\": [\"a\", \"b\", \"c\", \"d\", \"e\", \"f\", \"g\", \"h\", \"i\", \"j\"],\n",
    "    },\n",
    "    index=['a', 'b', 'c', 'd', 'e', 'f', 'g', 'h', 'i', 'j']\n",
    ")"
   ],
   "metadata": {
    "collapsed": false,
    "ExecuteTime": {
     "end_time": "2023-08-25T16:35:27.004339Z",
     "start_time": "2023-08-25T16:35:26.149997Z"
    }
   }
  },
  {
   "cell_type": "code",
   "execution_count": 2275,
   "metadata": {
    "collapsed": false,
    "ExecuteTime": {
     "end_time": "2023-08-25T16:35:27.010494Z",
     "start_time": "2023-08-25T16:35:26.152036Z"
    }
   },
   "outputs": [],
   "source": [
    "df5.loc[:, \"D\"] = [-1, -2, -3, -4, -5, -6, -7, -8, -9, -10]"
   ]
  },
  {
   "cell_type": "code",
   "execution_count": 2276,
   "outputs": [
    {
     "data": {
      "text/plain": "      A  B   C    D\na   1.0  A  10   -1\nb   2.0  B   9   -2\nc   3.0  C   8   -3\nd   4.0  D   7   -4\ne   5.0  E   6   -5\nf   6.0  F   5   -6\ng   7.0  G   4   -7\nh   8.0  H   3   -8\ni   9.0  I   2   -9\nj  10.0  J   1  -10",
      "text/html": "<div>\n<style scoped>\n    .dataframe tbody tr th:only-of-type {\n        vertical-align: middle;\n    }\n\n    .dataframe tbody tr th {\n        vertical-align: top;\n    }\n\n    .dataframe thead th {\n        text-align: right;\n    }\n</style>\n<table border=\"1\" class=\"dataframe\">\n  <thead>\n    <tr style=\"text-align: right;\">\n      <th></th>\n      <th>A</th>\n      <th>B</th>\n      <th>C</th>\n      <th>D</th>\n    </tr>\n  </thead>\n  <tbody>\n    <tr>\n      <th>a</th>\n      <td>1.0</td>\n      <td>A</td>\n      <td>10</td>\n      <td>-1</td>\n    </tr>\n    <tr>\n      <th>b</th>\n      <td>2.0</td>\n      <td>B</td>\n      <td>9</td>\n      <td>-2</td>\n    </tr>\n    <tr>\n      <th>c</th>\n      <td>3.0</td>\n      <td>C</td>\n      <td>8</td>\n      <td>-3</td>\n    </tr>\n    <tr>\n      <th>d</th>\n      <td>4.0</td>\n      <td>D</td>\n      <td>7</td>\n      <td>-4</td>\n    </tr>\n    <tr>\n      <th>e</th>\n      <td>5.0</td>\n      <td>E</td>\n      <td>6</td>\n      <td>-5</td>\n    </tr>\n    <tr>\n      <th>f</th>\n      <td>6.0</td>\n      <td>F</td>\n      <td>5</td>\n      <td>-6</td>\n    </tr>\n    <tr>\n      <th>g</th>\n      <td>7.0</td>\n      <td>G</td>\n      <td>4</td>\n      <td>-7</td>\n    </tr>\n    <tr>\n      <th>h</th>\n      <td>8.0</td>\n      <td>H</td>\n      <td>3</td>\n      <td>-8</td>\n    </tr>\n    <tr>\n      <th>i</th>\n      <td>9.0</td>\n      <td>I</td>\n      <td>2</td>\n      <td>-9</td>\n    </tr>\n    <tr>\n      <th>j</th>\n      <td>10.0</td>\n      <td>J</td>\n      <td>1</td>\n      <td>-10</td>\n    </tr>\n  </tbody>\n</table>\n</div>"
     },
     "execution_count": 2276,
     "metadata": {},
     "output_type": "execute_result"
    }
   ],
   "source": [
    "df5"
   ],
   "metadata": {
    "collapsed": false,
    "ExecuteTime": {
     "end_time": "2023-08-25T16:35:27.010862Z",
     "start_time": "2023-08-25T16:35:26.155662Z"
    }
   }
  },
  {
   "cell_type": "markdown",
   "metadata": {
    "collapsed": false
   },
   "source": [
    "### Nedostajući podaci"
   ]
  },
  {
   "cell_type": "code",
   "execution_count": 2277,
   "metadata": {
    "collapsed": false,
    "ExecuteTime": {
     "end_time": "2023-08-25T16:35:27.020680Z",
     "start_time": "2023-08-25T16:35:26.158544Z"
    }
   },
   "outputs": [],
   "source": [
    "df6 = pd.DataFrame(\n",
    "    {\n",
    "        \"A\": [1.0, 2.0, 3.0, 4.0, 5.0, 6.0, 7.0, 8.0, 9.0, 10.0],\n",
    "        \"B\": [\"A\", \"B\", \"C\", \"D\", \"E\", \"F\", \"G\", \"H\", \"I\", \"J\"],\n",
    "        \"C\": [10, 9, 8, 7, 6, 5, 4, 3, 2, 1],\n",
    "        \"D\": ['dog', 'cat', None, 'lion', 'bear', 'penguin', 'horse', 'dolphin', 'panda', 'seagull'],\n",
    "    },\n",
    "    index=list('abcdefghij')\n",
    ")"
   ]
  },
  {
   "cell_type": "code",
   "execution_count": 2278,
   "outputs": [
    {
     "data": {
      "text/plain": "      A  B   C        D\na   1.0  A  10      dog\nb   2.0  B   9      cat\nc   3.0  C   8     None\nd   4.0  D   7     lion\ne   5.0  E   6     bear\nf   6.0  F   5  penguin\ng   7.0  G   4    horse\nh   8.0  H   3  dolphin\ni   9.0  I   2    panda\nj  10.0  J   1  seagull",
      "text/html": "<div>\n<style scoped>\n    .dataframe tbody tr th:only-of-type {\n        vertical-align: middle;\n    }\n\n    .dataframe tbody tr th {\n        vertical-align: top;\n    }\n\n    .dataframe thead th {\n        text-align: right;\n    }\n</style>\n<table border=\"1\" class=\"dataframe\">\n  <thead>\n    <tr style=\"text-align: right;\">\n      <th></th>\n      <th>A</th>\n      <th>B</th>\n      <th>C</th>\n      <th>D</th>\n    </tr>\n  </thead>\n  <tbody>\n    <tr>\n      <th>a</th>\n      <td>1.0</td>\n      <td>A</td>\n      <td>10</td>\n      <td>dog</td>\n    </tr>\n    <tr>\n      <th>b</th>\n      <td>2.0</td>\n      <td>B</td>\n      <td>9</td>\n      <td>cat</td>\n    </tr>\n    <tr>\n      <th>c</th>\n      <td>3.0</td>\n      <td>C</td>\n      <td>8</td>\n      <td>None</td>\n    </tr>\n    <tr>\n      <th>d</th>\n      <td>4.0</td>\n      <td>D</td>\n      <td>7</td>\n      <td>lion</td>\n    </tr>\n    <tr>\n      <th>e</th>\n      <td>5.0</td>\n      <td>E</td>\n      <td>6</td>\n      <td>bear</td>\n    </tr>\n    <tr>\n      <th>f</th>\n      <td>6.0</td>\n      <td>F</td>\n      <td>5</td>\n      <td>penguin</td>\n    </tr>\n    <tr>\n      <th>g</th>\n      <td>7.0</td>\n      <td>G</td>\n      <td>4</td>\n      <td>horse</td>\n    </tr>\n    <tr>\n      <th>h</th>\n      <td>8.0</td>\n      <td>H</td>\n      <td>3</td>\n      <td>dolphin</td>\n    </tr>\n    <tr>\n      <th>i</th>\n      <td>9.0</td>\n      <td>I</td>\n      <td>2</td>\n      <td>panda</td>\n    </tr>\n    <tr>\n      <th>j</th>\n      <td>10.0</td>\n      <td>J</td>\n      <td>1</td>\n      <td>seagull</td>\n    </tr>\n  </tbody>\n</table>\n</div>"
     },
     "execution_count": 2278,
     "metadata": {},
     "output_type": "execute_result"
    }
   ],
   "source": [
    "df6"
   ],
   "metadata": {
    "collapsed": false,
    "ExecuteTime": {
     "end_time": "2023-08-25T16:35:27.021130Z",
     "start_time": "2023-08-25T16:35:26.162309Z"
    }
   }
  },
  {
   "cell_type": "markdown",
   "metadata": {
    "collapsed": false
   },
   "source": [
    "Odbacivanje redova koji imaju nedostajajuće podatke"
   ]
  },
  {
   "cell_type": "code",
   "execution_count": 2279,
   "metadata": {
    "collapsed": false,
    "ExecuteTime": {
     "end_time": "2023-08-25T16:35:27.027498Z",
     "start_time": "2023-08-25T16:35:26.167037Z"
    }
   },
   "outputs": [
    {
     "data": {
      "text/plain": "      A  B   C        D\na   1.0  A  10      dog\nb   2.0  B   9      cat\nd   4.0  D   7     lion\ne   5.0  E   6     bear\nf   6.0  F   5  penguin\ng   7.0  G   4    horse\nh   8.0  H   3  dolphin\ni   9.0  I   2    panda\nj  10.0  J   1  seagull",
      "text/html": "<div>\n<style scoped>\n    .dataframe tbody tr th:only-of-type {\n        vertical-align: middle;\n    }\n\n    .dataframe tbody tr th {\n        vertical-align: top;\n    }\n\n    .dataframe thead th {\n        text-align: right;\n    }\n</style>\n<table border=\"1\" class=\"dataframe\">\n  <thead>\n    <tr style=\"text-align: right;\">\n      <th></th>\n      <th>A</th>\n      <th>B</th>\n      <th>C</th>\n      <th>D</th>\n    </tr>\n  </thead>\n  <tbody>\n    <tr>\n      <th>a</th>\n      <td>1.0</td>\n      <td>A</td>\n      <td>10</td>\n      <td>dog</td>\n    </tr>\n    <tr>\n      <th>b</th>\n      <td>2.0</td>\n      <td>B</td>\n      <td>9</td>\n      <td>cat</td>\n    </tr>\n    <tr>\n      <th>d</th>\n      <td>4.0</td>\n      <td>D</td>\n      <td>7</td>\n      <td>lion</td>\n    </tr>\n    <tr>\n      <th>e</th>\n      <td>5.0</td>\n      <td>E</td>\n      <td>6</td>\n      <td>bear</td>\n    </tr>\n    <tr>\n      <th>f</th>\n      <td>6.0</td>\n      <td>F</td>\n      <td>5</td>\n      <td>penguin</td>\n    </tr>\n    <tr>\n      <th>g</th>\n      <td>7.0</td>\n      <td>G</td>\n      <td>4</td>\n      <td>horse</td>\n    </tr>\n    <tr>\n      <th>h</th>\n      <td>8.0</td>\n      <td>H</td>\n      <td>3</td>\n      <td>dolphin</td>\n    </tr>\n    <tr>\n      <th>i</th>\n      <td>9.0</td>\n      <td>I</td>\n      <td>2</td>\n      <td>panda</td>\n    </tr>\n    <tr>\n      <th>j</th>\n      <td>10.0</td>\n      <td>J</td>\n      <td>1</td>\n      <td>seagull</td>\n    </tr>\n  </tbody>\n</table>\n</div>"
     },
     "execution_count": 2279,
     "metadata": {},
     "output_type": "execute_result"
    }
   ],
   "source": [
    "df6.dropna(how=\"any\")"
   ]
  },
  {
   "cell_type": "markdown",
   "metadata": {
    "collapsed": false
   },
   "source": [
    "Odbacivanje kolona koje imaju nedostajajuće podatke"
   ]
  },
  {
   "cell_type": "code",
   "execution_count": 2280,
   "metadata": {
    "collapsed": false,
    "ExecuteTime": {
     "end_time": "2023-08-25T16:35:27.027795Z",
     "start_time": "2023-08-25T16:35:26.171230Z"
    }
   },
   "outputs": [
    {
     "data": {
      "text/plain": "      A  B   C\na   1.0  A  10\nb   2.0  B   9\nc   3.0  C   8\nd   4.0  D   7\ne   5.0  E   6\nf   6.0  F   5\ng   7.0  G   4\nh   8.0  H   3\ni   9.0  I   2\nj  10.0  J   1",
      "text/html": "<div>\n<style scoped>\n    .dataframe tbody tr th:only-of-type {\n        vertical-align: middle;\n    }\n\n    .dataframe tbody tr th {\n        vertical-align: top;\n    }\n\n    .dataframe thead th {\n        text-align: right;\n    }\n</style>\n<table border=\"1\" class=\"dataframe\">\n  <thead>\n    <tr style=\"text-align: right;\">\n      <th></th>\n      <th>A</th>\n      <th>B</th>\n      <th>C</th>\n    </tr>\n  </thead>\n  <tbody>\n    <tr>\n      <th>a</th>\n      <td>1.0</td>\n      <td>A</td>\n      <td>10</td>\n    </tr>\n    <tr>\n      <th>b</th>\n      <td>2.0</td>\n      <td>B</td>\n      <td>9</td>\n    </tr>\n    <tr>\n      <th>c</th>\n      <td>3.0</td>\n      <td>C</td>\n      <td>8</td>\n    </tr>\n    <tr>\n      <th>d</th>\n      <td>4.0</td>\n      <td>D</td>\n      <td>7</td>\n    </tr>\n    <tr>\n      <th>e</th>\n      <td>5.0</td>\n      <td>E</td>\n      <td>6</td>\n    </tr>\n    <tr>\n      <th>f</th>\n      <td>6.0</td>\n      <td>F</td>\n      <td>5</td>\n    </tr>\n    <tr>\n      <th>g</th>\n      <td>7.0</td>\n      <td>G</td>\n      <td>4</td>\n    </tr>\n    <tr>\n      <th>h</th>\n      <td>8.0</td>\n      <td>H</td>\n      <td>3</td>\n    </tr>\n    <tr>\n      <th>i</th>\n      <td>9.0</td>\n      <td>I</td>\n      <td>2</td>\n    </tr>\n    <tr>\n      <th>j</th>\n      <td>10.0</td>\n      <td>J</td>\n      <td>1</td>\n    </tr>\n  </tbody>\n</table>\n</div>"
     },
     "execution_count": 2280,
     "metadata": {},
     "output_type": "execute_result"
    }
   ],
   "source": [
    "df6.dropna(how=\"any\", axis=1)"
   ]
  },
  {
   "cell_type": "markdown",
   "metadata": {
    "collapsed": false
   },
   "source": [
    "```fillna()``` popunjava nedostajajuće podatke:"
   ]
  },
  {
   "cell_type": "code",
   "execution_count": 2281,
   "metadata": {
    "collapsed": false,
    "ExecuteTime": {
     "end_time": "2023-08-25T16:35:27.027986Z",
     "start_time": "2023-08-25T16:35:26.175518Z"
    }
   },
   "outputs": [
    {
     "data": {
      "text/plain": "      A  B   C        D\na   1.0  A  10      dog\nb   2.0  B   9      cat\nc   3.0  C   8     None\nd   4.0  D   7     lion\ne   5.0  E   6     bear\nf   6.0  F   5  penguin\ng   7.0  G   4    horse\nh   8.0  H   3  dolphin\ni   9.0  I   2    panda\nj  10.0  J   1  seagull",
      "text/html": "<div>\n<style scoped>\n    .dataframe tbody tr th:only-of-type {\n        vertical-align: middle;\n    }\n\n    .dataframe tbody tr th {\n        vertical-align: top;\n    }\n\n    .dataframe thead th {\n        text-align: right;\n    }\n</style>\n<table border=\"1\" class=\"dataframe\">\n  <thead>\n    <tr style=\"text-align: right;\">\n      <th></th>\n      <th>A</th>\n      <th>B</th>\n      <th>C</th>\n      <th>D</th>\n    </tr>\n  </thead>\n  <tbody>\n    <tr>\n      <th>a</th>\n      <td>1.0</td>\n      <td>A</td>\n      <td>10</td>\n      <td>dog</td>\n    </tr>\n    <tr>\n      <th>b</th>\n      <td>2.0</td>\n      <td>B</td>\n      <td>9</td>\n      <td>cat</td>\n    </tr>\n    <tr>\n      <th>c</th>\n      <td>3.0</td>\n      <td>C</td>\n      <td>8</td>\n      <td>None</td>\n    </tr>\n    <tr>\n      <th>d</th>\n      <td>4.0</td>\n      <td>D</td>\n      <td>7</td>\n      <td>lion</td>\n    </tr>\n    <tr>\n      <th>e</th>\n      <td>5.0</td>\n      <td>E</td>\n      <td>6</td>\n      <td>bear</td>\n    </tr>\n    <tr>\n      <th>f</th>\n      <td>6.0</td>\n      <td>F</td>\n      <td>5</td>\n      <td>penguin</td>\n    </tr>\n    <tr>\n      <th>g</th>\n      <td>7.0</td>\n      <td>G</td>\n      <td>4</td>\n      <td>horse</td>\n    </tr>\n    <tr>\n      <th>h</th>\n      <td>8.0</td>\n      <td>H</td>\n      <td>3</td>\n      <td>dolphin</td>\n    </tr>\n    <tr>\n      <th>i</th>\n      <td>9.0</td>\n      <td>I</td>\n      <td>2</td>\n      <td>panda</td>\n    </tr>\n    <tr>\n      <th>j</th>\n      <td>10.0</td>\n      <td>J</td>\n      <td>1</td>\n      <td>seagull</td>\n    </tr>\n  </tbody>\n</table>\n</div>"
     },
     "execution_count": 2281,
     "metadata": {},
     "output_type": "execute_result"
    }
   ],
   "source": [
    "df6.fillna(value=555)\n",
    "df6"
   ]
  },
  {
   "cell_type": "markdown",
   "metadata": {
    "collapsed": false
   },
   "source": [
    "### Kreiranje novih kolona na osnovu postojećih\n"
   ]
  },
  {
   "cell_type": "markdown",
   "metadata": {
    "collapsed": false
   },
   "source": [
    "Kreiranje nove kolone"
   ]
  },
  {
   "cell_type": "markdown",
   "metadata": {
    "collapsed": false
   },
   "source": [
    "Za kreiranje nove kolone, koriste se uglaste zagrade ```[]``` sa nazivom nove kolone sa leve strane dodele"
   ]
  },
  {
   "cell_type": "code",
   "execution_count": 2282,
   "metadata": {
    "collapsed": false,
    "ExecuteTime": {
     "end_time": "2023-08-25T16:35:27.054079Z",
     "start_time": "2023-08-25T16:35:26.187484Z"
    }
   },
   "outputs": [],
   "source": [
    "df6[\"A_double\"] = df6[\"A\"] * 2"
   ]
  },
  {
   "cell_type": "code",
   "execution_count": 2283,
   "outputs": [],
   "source": [
    "df6[\"A*C\"] = df6[\"A\"] * df6[\"C\"]"
   ],
   "metadata": {
    "collapsed": false,
    "ExecuteTime": {
     "end_time": "2023-08-25T16:35:27.076297Z",
     "start_time": "2023-08-25T16:35:26.190310Z"
    }
   }
  },
  {
   "cell_type": "code",
   "execution_count": 2284,
   "metadata": {
    "collapsed": false,
    "ExecuteTime": {
     "end_time": "2023-08-25T16:35:27.076798Z",
     "start_time": "2023-08-25T16:35:26.194592Z"
    }
   },
   "outputs": [
    {
     "data": {
      "text/plain": "      A  B   C        D  A_double   A*C\na   1.0  A  10      dog       2.0  10.0\nb   2.0  B   9      cat       4.0  18.0\nc   3.0  C   8     None       6.0  24.0\nd   4.0  D   7     lion       8.0  28.0\ne   5.0  E   6     bear      10.0  30.0\nf   6.0  F   5  penguin      12.0  30.0\ng   7.0  G   4    horse      14.0  28.0\nh   8.0  H   3  dolphin      16.0  24.0\ni   9.0  I   2    panda      18.0  18.0\nj  10.0  J   1  seagull      20.0  10.0",
      "text/html": "<div>\n<style scoped>\n    .dataframe tbody tr th:only-of-type {\n        vertical-align: middle;\n    }\n\n    .dataframe tbody tr th {\n        vertical-align: top;\n    }\n\n    .dataframe thead th {\n        text-align: right;\n    }\n</style>\n<table border=\"1\" class=\"dataframe\">\n  <thead>\n    <tr style=\"text-align: right;\">\n      <th></th>\n      <th>A</th>\n      <th>B</th>\n      <th>C</th>\n      <th>D</th>\n      <th>A_double</th>\n      <th>A*C</th>\n    </tr>\n  </thead>\n  <tbody>\n    <tr>\n      <th>a</th>\n      <td>1.0</td>\n      <td>A</td>\n      <td>10</td>\n      <td>dog</td>\n      <td>2.0</td>\n      <td>10.0</td>\n    </tr>\n    <tr>\n      <th>b</th>\n      <td>2.0</td>\n      <td>B</td>\n      <td>9</td>\n      <td>cat</td>\n      <td>4.0</td>\n      <td>18.0</td>\n    </tr>\n    <tr>\n      <th>c</th>\n      <td>3.0</td>\n      <td>C</td>\n      <td>8</td>\n      <td>None</td>\n      <td>6.0</td>\n      <td>24.0</td>\n    </tr>\n    <tr>\n      <th>d</th>\n      <td>4.0</td>\n      <td>D</td>\n      <td>7</td>\n      <td>lion</td>\n      <td>8.0</td>\n      <td>28.0</td>\n    </tr>\n    <tr>\n      <th>e</th>\n      <td>5.0</td>\n      <td>E</td>\n      <td>6</td>\n      <td>bear</td>\n      <td>10.0</td>\n      <td>30.0</td>\n    </tr>\n    <tr>\n      <th>f</th>\n      <td>6.0</td>\n      <td>F</td>\n      <td>5</td>\n      <td>penguin</td>\n      <td>12.0</td>\n      <td>30.0</td>\n    </tr>\n    <tr>\n      <th>g</th>\n      <td>7.0</td>\n      <td>G</td>\n      <td>4</td>\n      <td>horse</td>\n      <td>14.0</td>\n      <td>28.0</td>\n    </tr>\n    <tr>\n      <th>h</th>\n      <td>8.0</td>\n      <td>H</td>\n      <td>3</td>\n      <td>dolphin</td>\n      <td>16.0</td>\n      <td>24.0</td>\n    </tr>\n    <tr>\n      <th>i</th>\n      <td>9.0</td>\n      <td>I</td>\n      <td>2</td>\n      <td>panda</td>\n      <td>18.0</td>\n      <td>18.0</td>\n    </tr>\n    <tr>\n      <th>j</th>\n      <td>10.0</td>\n      <td>J</td>\n      <td>1</td>\n      <td>seagull</td>\n      <td>20.0</td>\n      <td>10.0</td>\n    </tr>\n  </tbody>\n</table>\n</div>"
     },
     "execution_count": 2284,
     "metadata": {},
     "output_type": "execute_result"
    }
   ],
   "source": [
    "df6"
   ]
  },
  {
   "cell_type": "markdown",
   "metadata": {
    "collapsed": false
   },
   "source": [
    "Promena naziva kolona"
   ]
  },
  {
   "cell_type": "code",
   "execution_count": 2285,
   "metadata": {
    "collapsed": false,
    "ExecuteTime": {
     "end_time": "2023-08-25T16:35:27.076846Z",
     "start_time": "2023-08-25T16:35:26.197392Z"
    }
   },
   "outputs": [],
   "source": [
    "df7 = df6.rename(\n",
    "    columns = {\n",
    "        \"B\": \"letters\",\n",
    "        \"D\": \"animals\"\n",
    "    }\n",
    ")"
   ]
  },
  {
   "cell_type": "code",
   "execution_count": 2286,
   "outputs": [
    {
     "data": {
      "text/plain": "      A letters   C  animals  A_double   A*C\na   1.0       A  10      dog       2.0  10.0\nb   2.0       B   9      cat       4.0  18.0\nc   3.0       C   8     None       6.0  24.0\nd   4.0       D   7     lion       8.0  28.0\ne   5.0       E   6     bear      10.0  30.0\nf   6.0       F   5  penguin      12.0  30.0\ng   7.0       G   4    horse      14.0  28.0\nh   8.0       H   3  dolphin      16.0  24.0\ni   9.0       I   2    panda      18.0  18.0\nj  10.0       J   1  seagull      20.0  10.0",
      "text/html": "<div>\n<style scoped>\n    .dataframe tbody tr th:only-of-type {\n        vertical-align: middle;\n    }\n\n    .dataframe tbody tr th {\n        vertical-align: top;\n    }\n\n    .dataframe thead th {\n        text-align: right;\n    }\n</style>\n<table border=\"1\" class=\"dataframe\">\n  <thead>\n    <tr style=\"text-align: right;\">\n      <th></th>\n      <th>A</th>\n      <th>letters</th>\n      <th>C</th>\n      <th>animals</th>\n      <th>A_double</th>\n      <th>A*C</th>\n    </tr>\n  </thead>\n  <tbody>\n    <tr>\n      <th>a</th>\n      <td>1.0</td>\n      <td>A</td>\n      <td>10</td>\n      <td>dog</td>\n      <td>2.0</td>\n      <td>10.0</td>\n    </tr>\n    <tr>\n      <th>b</th>\n      <td>2.0</td>\n      <td>B</td>\n      <td>9</td>\n      <td>cat</td>\n      <td>4.0</td>\n      <td>18.0</td>\n    </tr>\n    <tr>\n      <th>c</th>\n      <td>3.0</td>\n      <td>C</td>\n      <td>8</td>\n      <td>None</td>\n      <td>6.0</td>\n      <td>24.0</td>\n    </tr>\n    <tr>\n      <th>d</th>\n      <td>4.0</td>\n      <td>D</td>\n      <td>7</td>\n      <td>lion</td>\n      <td>8.0</td>\n      <td>28.0</td>\n    </tr>\n    <tr>\n      <th>e</th>\n      <td>5.0</td>\n      <td>E</td>\n      <td>6</td>\n      <td>bear</td>\n      <td>10.0</td>\n      <td>30.0</td>\n    </tr>\n    <tr>\n      <th>f</th>\n      <td>6.0</td>\n      <td>F</td>\n      <td>5</td>\n      <td>penguin</td>\n      <td>12.0</td>\n      <td>30.0</td>\n    </tr>\n    <tr>\n      <th>g</th>\n      <td>7.0</td>\n      <td>G</td>\n      <td>4</td>\n      <td>horse</td>\n      <td>14.0</td>\n      <td>28.0</td>\n    </tr>\n    <tr>\n      <th>h</th>\n      <td>8.0</td>\n      <td>H</td>\n      <td>3</td>\n      <td>dolphin</td>\n      <td>16.0</td>\n      <td>24.0</td>\n    </tr>\n    <tr>\n      <th>i</th>\n      <td>9.0</td>\n      <td>I</td>\n      <td>2</td>\n      <td>panda</td>\n      <td>18.0</td>\n      <td>18.0</td>\n    </tr>\n    <tr>\n      <th>j</th>\n      <td>10.0</td>\n      <td>J</td>\n      <td>1</td>\n      <td>seagull</td>\n      <td>20.0</td>\n      <td>10.0</td>\n    </tr>\n  </tbody>\n</table>\n</div>"
     },
     "execution_count": 2286,
     "metadata": {},
     "output_type": "execute_result"
    }
   ],
   "source": [
    "df7"
   ],
   "metadata": {
    "collapsed": false,
    "ExecuteTime": {
     "end_time": "2023-08-25T16:35:27.077052Z",
     "start_time": "2023-08-25T16:35:26.201980Z"
    }
   }
  },
  {
   "cell_type": "markdown",
   "metadata": {
    "collapsed": false
   },
   "source": [
    "### Kombinovanje podataka iz različitih tabela"
   ]
  },
  {
   "cell_type": "markdown",
   "metadata": {
    "collapsed": false
   },
   "source": [
    "##### Concat\n",
    "\n",
    "Spajanje DataFrame-ova po osi preko ```concat()```"
   ]
  },
  {
   "cell_type": "code",
   "execution_count": 2287,
   "metadata": {
    "collapsed": false,
    "ExecuteTime": {
     "end_time": "2023-08-25T16:35:27.121772Z",
     "start_time": "2023-08-25T16:35:26.205908Z"
    }
   },
   "outputs": [],
   "source": [
    "dfa = df2[:3]\n",
    "dfb = df2[3:7]\n",
    "dfc = df2[7:]"
   ]
  },
  {
   "cell_type": "code",
   "execution_count": 2288,
   "metadata": {
    "collapsed": false,
    "ExecuteTime": {
     "end_time": "2023-08-25T16:35:27.147311Z",
     "start_time": "2023-08-25T16:35:26.209661Z"
    }
   },
   "outputs": [
    {
     "data": {
      "text/plain": "     A  B   C  D\na  1.0  A  10  a\nb  2.0  B   9  b\nc  3.0  C   8  c",
      "text/html": "<div>\n<style scoped>\n    .dataframe tbody tr th:only-of-type {\n        vertical-align: middle;\n    }\n\n    .dataframe tbody tr th {\n        vertical-align: top;\n    }\n\n    .dataframe thead th {\n        text-align: right;\n    }\n</style>\n<table border=\"1\" class=\"dataframe\">\n  <thead>\n    <tr style=\"text-align: right;\">\n      <th></th>\n      <th>A</th>\n      <th>B</th>\n      <th>C</th>\n      <th>D</th>\n    </tr>\n  </thead>\n  <tbody>\n    <tr>\n      <th>a</th>\n      <td>1.0</td>\n      <td>A</td>\n      <td>10</td>\n      <td>a</td>\n    </tr>\n    <tr>\n      <th>b</th>\n      <td>2.0</td>\n      <td>B</td>\n      <td>9</td>\n      <td>b</td>\n    </tr>\n    <tr>\n      <th>c</th>\n      <td>3.0</td>\n      <td>C</td>\n      <td>8</td>\n      <td>c</td>\n    </tr>\n  </tbody>\n</table>\n</div>"
     },
     "execution_count": 2288,
     "metadata": {},
     "output_type": "execute_result"
    }
   ],
   "source": [
    "dfa"
   ]
  },
  {
   "cell_type": "code",
   "execution_count": 2289,
   "metadata": {
    "collapsed": false,
    "ExecuteTime": {
     "end_time": "2023-08-25T16:35:27.147633Z",
     "start_time": "2023-08-25T16:35:26.212889Z"
    }
   },
   "outputs": [
    {
     "data": {
      "text/plain": "     A  B  C  D\nd  4.0  D  7  d\ne  5.0  E  6  e\nf  6.0  F  5  f\ng  7.0  G  4  g",
      "text/html": "<div>\n<style scoped>\n    .dataframe tbody tr th:only-of-type {\n        vertical-align: middle;\n    }\n\n    .dataframe tbody tr th {\n        vertical-align: top;\n    }\n\n    .dataframe thead th {\n        text-align: right;\n    }\n</style>\n<table border=\"1\" class=\"dataframe\">\n  <thead>\n    <tr style=\"text-align: right;\">\n      <th></th>\n      <th>A</th>\n      <th>B</th>\n      <th>C</th>\n      <th>D</th>\n    </tr>\n  </thead>\n  <tbody>\n    <tr>\n      <th>d</th>\n      <td>4.0</td>\n      <td>D</td>\n      <td>7</td>\n      <td>d</td>\n    </tr>\n    <tr>\n      <th>e</th>\n      <td>5.0</td>\n      <td>E</td>\n      <td>6</td>\n      <td>e</td>\n    </tr>\n    <tr>\n      <th>f</th>\n      <td>6.0</td>\n      <td>F</td>\n      <td>5</td>\n      <td>f</td>\n    </tr>\n    <tr>\n      <th>g</th>\n      <td>7.0</td>\n      <td>G</td>\n      <td>4</td>\n      <td>g</td>\n    </tr>\n  </tbody>\n</table>\n</div>"
     },
     "execution_count": 2289,
     "metadata": {},
     "output_type": "execute_result"
    }
   ],
   "source": [
    "dfb"
   ]
  },
  {
   "cell_type": "code",
   "execution_count": 2290,
   "metadata": {
    "collapsed": false,
    "ExecuteTime": {
     "end_time": "2023-08-25T16:35:27.254143Z",
     "start_time": "2023-08-25T16:35:26.216261Z"
    }
   },
   "outputs": [
    {
     "data": {
      "text/plain": "      A  B  C  D\nh   8.0  H  3  h\ni   9.0  I  2  i\nj  10.0  J  1  j",
      "text/html": "<div>\n<style scoped>\n    .dataframe tbody tr th:only-of-type {\n        vertical-align: middle;\n    }\n\n    .dataframe tbody tr th {\n        vertical-align: top;\n    }\n\n    .dataframe thead th {\n        text-align: right;\n    }\n</style>\n<table border=\"1\" class=\"dataframe\">\n  <thead>\n    <tr style=\"text-align: right;\">\n      <th></th>\n      <th>A</th>\n      <th>B</th>\n      <th>C</th>\n      <th>D</th>\n    </tr>\n  </thead>\n  <tbody>\n    <tr>\n      <th>h</th>\n      <td>8.0</td>\n      <td>H</td>\n      <td>3</td>\n      <td>h</td>\n    </tr>\n    <tr>\n      <th>i</th>\n      <td>9.0</td>\n      <td>I</td>\n      <td>2</td>\n      <td>i</td>\n    </tr>\n    <tr>\n      <th>j</th>\n      <td>10.0</td>\n      <td>J</td>\n      <td>1</td>\n      <td>j</td>\n    </tr>\n  </tbody>\n</table>\n</div>"
     },
     "execution_count": 2290,
     "metadata": {},
     "output_type": "execute_result"
    }
   ],
   "source": [
    "dfc"
   ]
  },
  {
   "cell_type": "code",
   "execution_count": 2291,
   "metadata": {
    "collapsed": false,
    "ExecuteTime": {
     "end_time": "2023-08-25T16:35:27.254397Z",
     "start_time": "2023-08-25T16:35:26.221379Z"
    }
   },
   "outputs": [
    {
     "data": {
      "text/plain": "      A  B   C  D\na   1.0  A  10  a\nb   2.0  B   9  b\nc   3.0  C   8  c\nd   4.0  D   7  d\ne   5.0  E   6  e\nf   6.0  F   5  f\ng   7.0  G   4  g\nh   8.0  H   3  h\ni   9.0  I   2  i\nj  10.0  J   1  j",
      "text/html": "<div>\n<style scoped>\n    .dataframe tbody tr th:only-of-type {\n        vertical-align: middle;\n    }\n\n    .dataframe tbody tr th {\n        vertical-align: top;\n    }\n\n    .dataframe thead th {\n        text-align: right;\n    }\n</style>\n<table border=\"1\" class=\"dataframe\">\n  <thead>\n    <tr style=\"text-align: right;\">\n      <th></th>\n      <th>A</th>\n      <th>B</th>\n      <th>C</th>\n      <th>D</th>\n    </tr>\n  </thead>\n  <tbody>\n    <tr>\n      <th>a</th>\n      <td>1.0</td>\n      <td>A</td>\n      <td>10</td>\n      <td>a</td>\n    </tr>\n    <tr>\n      <th>b</th>\n      <td>2.0</td>\n      <td>B</td>\n      <td>9</td>\n      <td>b</td>\n    </tr>\n    <tr>\n      <th>c</th>\n      <td>3.0</td>\n      <td>C</td>\n      <td>8</td>\n      <td>c</td>\n    </tr>\n    <tr>\n      <th>d</th>\n      <td>4.0</td>\n      <td>D</td>\n      <td>7</td>\n      <td>d</td>\n    </tr>\n    <tr>\n      <th>e</th>\n      <td>5.0</td>\n      <td>E</td>\n      <td>6</td>\n      <td>e</td>\n    </tr>\n    <tr>\n      <th>f</th>\n      <td>6.0</td>\n      <td>F</td>\n      <td>5</td>\n      <td>f</td>\n    </tr>\n    <tr>\n      <th>g</th>\n      <td>7.0</td>\n      <td>G</td>\n      <td>4</td>\n      <td>g</td>\n    </tr>\n    <tr>\n      <th>h</th>\n      <td>8.0</td>\n      <td>H</td>\n      <td>3</td>\n      <td>h</td>\n    </tr>\n    <tr>\n      <th>i</th>\n      <td>9.0</td>\n      <td>I</td>\n      <td>2</td>\n      <td>i</td>\n    </tr>\n    <tr>\n      <th>j</th>\n      <td>10.0</td>\n      <td>J</td>\n      <td>1</td>\n      <td>j</td>\n    </tr>\n  </tbody>\n</table>\n</div>"
     },
     "execution_count": 2291,
     "metadata": {},
     "output_type": "execute_result"
    }
   ],
   "source": [
    "pd.concat([dfa,dfb,dfc])"
   ]
  },
  {
   "cell_type": "markdown",
   "metadata": {
    "collapsed": false
   },
   "source": [
    "##### Join\n",
    "\n",
    "```merge()``` omogućava spajanje u SQL stilu"
   ]
  },
  {
   "cell_type": "code",
   "execution_count": 2292,
   "metadata": {
    "collapsed": false,
    "ExecuteTime": {
     "end_time": "2023-08-25T16:35:27.254535Z",
     "start_time": "2023-08-25T16:35:26.224796Z"
    }
   },
   "outputs": [
    {
     "data": {
      "text/plain": "  key   A   B\n0  K0  A0  B0\n1  K1  A1  B1\n2  K2  A2  B2\n3  K3  A3  B3",
      "text/html": "<div>\n<style scoped>\n    .dataframe tbody tr th:only-of-type {\n        vertical-align: middle;\n    }\n\n    .dataframe tbody tr th {\n        vertical-align: top;\n    }\n\n    .dataframe thead th {\n        text-align: right;\n    }\n</style>\n<table border=\"1\" class=\"dataframe\">\n  <thead>\n    <tr style=\"text-align: right;\">\n      <th></th>\n      <th>key</th>\n      <th>A</th>\n      <th>B</th>\n    </tr>\n  </thead>\n  <tbody>\n    <tr>\n      <th>0</th>\n      <td>K0</td>\n      <td>A0</td>\n      <td>B0</td>\n    </tr>\n    <tr>\n      <th>1</th>\n      <td>K1</td>\n      <td>A1</td>\n      <td>B1</td>\n    </tr>\n    <tr>\n      <th>2</th>\n      <td>K2</td>\n      <td>A2</td>\n      <td>B2</td>\n    </tr>\n    <tr>\n      <th>3</th>\n      <td>K3</td>\n      <td>A3</td>\n      <td>B3</td>\n    </tr>\n  </tbody>\n</table>\n</div>"
     },
     "execution_count": 2292,
     "metadata": {},
     "output_type": "execute_result"
    }
   ],
   "source": [
    "left = pd.DataFrame(\n",
    "    {\n",
    "        \"key\": [\"K0\", \"K1\", \"K2\", \"K3\"],\n",
    "        \"A\": [\"A0\", \"A1\", \"A2\", \"A3\"],\n",
    "        \"B\": [\"B0\", \"B1\", \"B2\", \"B3\"],\n",
    "    }\n",
    ")\n",
    "left"
   ]
  },
  {
   "cell_type": "code",
   "execution_count": 2293,
   "metadata": {
    "collapsed": false,
    "ExecuteTime": {
     "end_time": "2023-08-25T16:35:27.264361Z",
     "start_time": "2023-08-25T16:35:26.228358Z"
    }
   },
   "outputs": [
    {
     "data": {
      "text/plain": "  key   C   D\n0  K0  C0  D0\n1  K1  C1  D1\n2  K2  C2  D2",
      "text/html": "<div>\n<style scoped>\n    .dataframe tbody tr th:only-of-type {\n        vertical-align: middle;\n    }\n\n    .dataframe tbody tr th {\n        vertical-align: top;\n    }\n\n    .dataframe thead th {\n        text-align: right;\n    }\n</style>\n<table border=\"1\" class=\"dataframe\">\n  <thead>\n    <tr style=\"text-align: right;\">\n      <th></th>\n      <th>key</th>\n      <th>C</th>\n      <th>D</th>\n    </tr>\n  </thead>\n  <tbody>\n    <tr>\n      <th>0</th>\n      <td>K0</td>\n      <td>C0</td>\n      <td>D0</td>\n    </tr>\n    <tr>\n      <th>1</th>\n      <td>K1</td>\n      <td>C1</td>\n      <td>D1</td>\n    </tr>\n    <tr>\n      <th>2</th>\n      <td>K2</td>\n      <td>C2</td>\n      <td>D2</td>\n    </tr>\n  </tbody>\n</table>\n</div>"
     },
     "execution_count": 2293,
     "metadata": {},
     "output_type": "execute_result"
    }
   ],
   "source": [
    "right = pd.DataFrame(\n",
    "    {\n",
    "        \"key\": [\"K0\", \"K1\", \"K2\"],\n",
    "        \"C\": [\"C0\", \"C1\", \"C2\",],\n",
    "        \"D\": [\"D0\", \"D1\", \"D2\"],\n",
    "    }\n",
    ")\n",
    "right"
   ]
  },
  {
   "cell_type": "code",
   "execution_count": 2294,
   "metadata": {
    "collapsed": false,
    "ExecuteTime": {
     "end_time": "2023-08-25T16:35:27.264684Z",
     "start_time": "2023-08-25T16:35:26.231523Z"
    }
   },
   "outputs": [
    {
     "data": {
      "text/plain": "  key   A   B    C    D\n0  K0  A0  B0   C0   D0\n1  K1  A1  B1   C1   D1\n2  K2  A2  B2   C2   D2\n3  K3  A3  B3  NaN  NaN",
      "text/html": "<div>\n<style scoped>\n    .dataframe tbody tr th:only-of-type {\n        vertical-align: middle;\n    }\n\n    .dataframe tbody tr th {\n        vertical-align: top;\n    }\n\n    .dataframe thead th {\n        text-align: right;\n    }\n</style>\n<table border=\"1\" class=\"dataframe\">\n  <thead>\n    <tr style=\"text-align: right;\">\n      <th></th>\n      <th>key</th>\n      <th>A</th>\n      <th>B</th>\n      <th>C</th>\n      <th>D</th>\n    </tr>\n  </thead>\n  <tbody>\n    <tr>\n      <th>0</th>\n      <td>K0</td>\n      <td>A0</td>\n      <td>B0</td>\n      <td>C0</td>\n      <td>D0</td>\n    </tr>\n    <tr>\n      <th>1</th>\n      <td>K1</td>\n      <td>A1</td>\n      <td>B1</td>\n      <td>C1</td>\n      <td>D1</td>\n    </tr>\n    <tr>\n      <th>2</th>\n      <td>K2</td>\n      <td>A2</td>\n      <td>B2</td>\n      <td>C2</td>\n      <td>D2</td>\n    </tr>\n    <tr>\n      <th>3</th>\n      <td>K3</td>\n      <td>A3</td>\n      <td>B3</td>\n      <td>NaN</td>\n      <td>NaN</td>\n    </tr>\n  </tbody>\n</table>\n</div>"
     },
     "execution_count": 2294,
     "metadata": {},
     "output_type": "execute_result"
    }
   ],
   "source": [
    "result = pd.merge(\n",
    "    left, # DataFrame ili Series objekat\n",
    "    right, # DataFrame ili Series objekat\n",
    "    left_on=\"key\", # kolone levog DataFrame-a po kojima se vrši join\n",
    "    right_on=\"key\", # kolone desnog DataFrame-a po kojima se vrši join\n",
    "    how=\"left\" # Jedno od: 'left', 'right', 'outer', 'inner', 'cross'\n",
    ")\n",
    "result"
   ]
  },
  {
   "cell_type": "markdown",
   "metadata": {
    "collapsed": false
   },
   "source": [
    "```how``` argument specificira koji ključevi će biti uključeni u rezultujuću tabelu:\n",
    "\n",
    "left - LEFT OUTER JOIN - Koristi samo ključeve iz levog DataFrame-a\n",
    "\n",
    "right - RIGHT OUTER JOIN - Koristi samo ključeve iz desnog DataFrame-a\n",
    "\n",
    "outer - FULL OUTER JOIN - Koristi uniju ključeva oba DataFrame-a\n",
    "\n",
    "inner - INNER JOIN - Koristi presek ključeva oba DataFrame-a\n",
    "\n",
    "cross - CROSS JOIN - Kreiraj dekartov proizvod redova oba DataFrame-a. Svaki red iz prve tabele se uparuje sa svakim redom iz druge tabele, rezultirajući u novoj tabeli sa brojem redova jednakim proizvodu broja redova u učestvujućim tabelama."
   ]
  },
  {
   "cell_type": "code",
   "execution_count": 2295,
   "outputs": [
    {
     "data": {
      "text/plain": "  key   A   B   C   D\n0  K0  A0  B0  C0  D0\n1  K1  A1  B1  C1  D1\n2  K2  A2  B2  C2  D2",
      "text/html": "<div>\n<style scoped>\n    .dataframe tbody tr th:only-of-type {\n        vertical-align: middle;\n    }\n\n    .dataframe tbody tr th {\n        vertical-align: top;\n    }\n\n    .dataframe thead th {\n        text-align: right;\n    }\n</style>\n<table border=\"1\" class=\"dataframe\">\n  <thead>\n    <tr style=\"text-align: right;\">\n      <th></th>\n      <th>key</th>\n      <th>A</th>\n      <th>B</th>\n      <th>C</th>\n      <th>D</th>\n    </tr>\n  </thead>\n  <tbody>\n    <tr>\n      <th>0</th>\n      <td>K0</td>\n      <td>A0</td>\n      <td>B0</td>\n      <td>C0</td>\n      <td>D0</td>\n    </tr>\n    <tr>\n      <th>1</th>\n      <td>K1</td>\n      <td>A1</td>\n      <td>B1</td>\n      <td>C1</td>\n      <td>D1</td>\n    </tr>\n    <tr>\n      <th>2</th>\n      <td>K2</td>\n      <td>A2</td>\n      <td>B2</td>\n      <td>C2</td>\n      <td>D2</td>\n    </tr>\n  </tbody>\n</table>\n</div>"
     },
     "execution_count": 2295,
     "metadata": {},
     "output_type": "execute_result"
    }
   ],
   "source": [
    "result2 = pd.merge(\n",
    "    left, # DataFrame ili Series objekat\n",
    "    right, # DataFrame ili Series objekat\n",
    "    left_on=\"key\", # kolone levog DataFrame-a po kojima se vrši join\n",
    "    right_on=\"key\", # kolone desnog DataFrame-a po kojima se vrši join\n",
    "    how=\"inner\" # Jedno od: 'left', 'right', 'outer', 'inner', 'cross'\n",
    ")\n",
    "result2"
   ],
   "metadata": {
    "collapsed": false,
    "ExecuteTime": {
     "end_time": "2023-08-25T16:35:27.280405Z",
     "start_time": "2023-08-25T16:35:26.235766Z"
    }
   }
  },
  {
   "cell_type": "code",
   "execution_count": 2296,
   "outputs": [
    {
     "data": {
      "text/plain": "   key_x   A   B key_y   C   D\n0     K0  A0  B0    K0  C0  D0\n1     K0  A0  B0    K1  C1  D1\n2     K0  A0  B0    K2  C2  D2\n3     K1  A1  B1    K0  C0  D0\n4     K1  A1  B1    K1  C1  D1\n5     K1  A1  B1    K2  C2  D2\n6     K2  A2  B2    K0  C0  D0\n7     K2  A2  B2    K1  C1  D1\n8     K2  A2  B2    K2  C2  D2\n9     K3  A3  B3    K0  C0  D0\n10    K3  A3  B3    K1  C1  D1\n11    K3  A3  B3    K2  C2  D2",
      "text/html": "<div>\n<style scoped>\n    .dataframe tbody tr th:only-of-type {\n        vertical-align: middle;\n    }\n\n    .dataframe tbody tr th {\n        vertical-align: top;\n    }\n\n    .dataframe thead th {\n        text-align: right;\n    }\n</style>\n<table border=\"1\" class=\"dataframe\">\n  <thead>\n    <tr style=\"text-align: right;\">\n      <th></th>\n      <th>key_x</th>\n      <th>A</th>\n      <th>B</th>\n      <th>key_y</th>\n      <th>C</th>\n      <th>D</th>\n    </tr>\n  </thead>\n  <tbody>\n    <tr>\n      <th>0</th>\n      <td>K0</td>\n      <td>A0</td>\n      <td>B0</td>\n      <td>K0</td>\n      <td>C0</td>\n      <td>D0</td>\n    </tr>\n    <tr>\n      <th>1</th>\n      <td>K0</td>\n      <td>A0</td>\n      <td>B0</td>\n      <td>K1</td>\n      <td>C1</td>\n      <td>D1</td>\n    </tr>\n    <tr>\n      <th>2</th>\n      <td>K0</td>\n      <td>A0</td>\n      <td>B0</td>\n      <td>K2</td>\n      <td>C2</td>\n      <td>D2</td>\n    </tr>\n    <tr>\n      <th>3</th>\n      <td>K1</td>\n      <td>A1</td>\n      <td>B1</td>\n      <td>K0</td>\n      <td>C0</td>\n      <td>D0</td>\n    </tr>\n    <tr>\n      <th>4</th>\n      <td>K1</td>\n      <td>A1</td>\n      <td>B1</td>\n      <td>K1</td>\n      <td>C1</td>\n      <td>D1</td>\n    </tr>\n    <tr>\n      <th>5</th>\n      <td>K1</td>\n      <td>A1</td>\n      <td>B1</td>\n      <td>K2</td>\n      <td>C2</td>\n      <td>D2</td>\n    </tr>\n    <tr>\n      <th>6</th>\n      <td>K2</td>\n      <td>A2</td>\n      <td>B2</td>\n      <td>K0</td>\n      <td>C0</td>\n      <td>D0</td>\n    </tr>\n    <tr>\n      <th>7</th>\n      <td>K2</td>\n      <td>A2</td>\n      <td>B2</td>\n      <td>K1</td>\n      <td>C1</td>\n      <td>D1</td>\n    </tr>\n    <tr>\n      <th>8</th>\n      <td>K2</td>\n      <td>A2</td>\n      <td>B2</td>\n      <td>K2</td>\n      <td>C2</td>\n      <td>D2</td>\n    </tr>\n    <tr>\n      <th>9</th>\n      <td>K3</td>\n      <td>A3</td>\n      <td>B3</td>\n      <td>K0</td>\n      <td>C0</td>\n      <td>D0</td>\n    </tr>\n    <tr>\n      <th>10</th>\n      <td>K3</td>\n      <td>A3</td>\n      <td>B3</td>\n      <td>K1</td>\n      <td>C1</td>\n      <td>D1</td>\n    </tr>\n    <tr>\n      <th>11</th>\n      <td>K3</td>\n      <td>A3</td>\n      <td>B3</td>\n      <td>K2</td>\n      <td>C2</td>\n      <td>D2</td>\n    </tr>\n  </tbody>\n</table>\n</div>"
     },
     "execution_count": 2296,
     "metadata": {},
     "output_type": "execute_result"
    }
   ],
   "source": [
    "result3 = pd.merge(\n",
    "    left, # DataFrame ili Series objekat\n",
    "    right, # DataFrame ili Series objekat\n",
    "    how=\"cross\" # Jedno od: 'left', 'right', 'outer', 'inner', 'cross'\n",
    ")\n",
    "result3"
   ],
   "metadata": {
    "collapsed": false,
    "ExecuteTime": {
     "end_time": "2023-08-25T16:35:27.280671Z",
     "start_time": "2023-08-25T16:35:26.239436Z"
    }
   }
  },
  {
   "cell_type": "markdown",
   "metadata": {},
   "source": [
    "### Grupisanje"
   ]
  },
  {
   "cell_type": "markdown",
   "metadata": {},
   "source": [
    "Grupisanje obuhvata:\n",
    "\t1\tPodelu podataka na grupe na osnovu nekih kriterijuma\n",
    "\t2\tPrimenu funkcije nezavisno na svaku od grupa\n",
    "\t3\tKombinovanje rezultata u strukturu podataka"
   ]
  },
  {
   "cell_type": "code",
   "execution_count": 2297,
   "metadata": {
    "ExecuteTime": {
     "end_time": "2023-08-25T16:35:27.320548Z",
     "start_time": "2023-08-25T16:35:26.247464Z"
    }
   },
   "outputs": [
    {
     "data": {
      "text/plain": "     A      B  C  D\n0  foo    one  1  0\n1  bar    one  2  1\n2  foo    two  3  2\n3  bar  three  4  3\n4  foo    two  5  4\n5  bar    two  6  5\n6  foo    one  7  6\n7  foo  three  8  7",
      "text/html": "<div>\n<style scoped>\n    .dataframe tbody tr th:only-of-type {\n        vertical-align: middle;\n    }\n\n    .dataframe tbody tr th {\n        vertical-align: top;\n    }\n\n    .dataframe thead th {\n        text-align: right;\n    }\n</style>\n<table border=\"1\" class=\"dataframe\">\n  <thead>\n    <tr style=\"text-align: right;\">\n      <th></th>\n      <th>A</th>\n      <th>B</th>\n      <th>C</th>\n      <th>D</th>\n    </tr>\n  </thead>\n  <tbody>\n    <tr>\n      <th>0</th>\n      <td>foo</td>\n      <td>one</td>\n      <td>1</td>\n      <td>0</td>\n    </tr>\n    <tr>\n      <th>1</th>\n      <td>bar</td>\n      <td>one</td>\n      <td>2</td>\n      <td>1</td>\n    </tr>\n    <tr>\n      <th>2</th>\n      <td>foo</td>\n      <td>two</td>\n      <td>3</td>\n      <td>2</td>\n    </tr>\n    <tr>\n      <th>3</th>\n      <td>bar</td>\n      <td>three</td>\n      <td>4</td>\n      <td>3</td>\n    </tr>\n    <tr>\n      <th>4</th>\n      <td>foo</td>\n      <td>two</td>\n      <td>5</td>\n      <td>4</td>\n    </tr>\n    <tr>\n      <th>5</th>\n      <td>bar</td>\n      <td>two</td>\n      <td>6</td>\n      <td>5</td>\n    </tr>\n    <tr>\n      <th>6</th>\n      <td>foo</td>\n      <td>one</td>\n      <td>7</td>\n      <td>6</td>\n    </tr>\n    <tr>\n      <th>7</th>\n      <td>foo</td>\n      <td>three</td>\n      <td>8</td>\n      <td>7</td>\n    </tr>\n  </tbody>\n</table>\n</div>"
     },
     "execution_count": 2297,
     "metadata": {},
     "output_type": "execute_result"
    }
   ],
   "source": [
    "df8 = pd.DataFrame(\n",
    "    {\n",
    "        \"A\": [\"foo\", \"bar\", \"foo\", \"bar\", \"foo\", \"bar\", \"foo\", \"foo\"],\n",
    "        \"B\": [\"one\", \"one\", \"two\", \"three\", \"two\", \"two\", \"one\", \"three\"],\n",
    "        \"C\": [1, 2, 3, 4, 5, 6, 7, 8],\n",
    "        \"D\": [0, 1, 2, 3, 4, 5, 6, 7],\n",
    "    }\n",
    ")\n",
    "df8"
   ]
  },
  {
   "cell_type": "markdown",
   "metadata": {},
   "source": [
    "Grupisanje pa primena ```sum()``` funkcije na grupe:"
   ]
  },
  {
   "cell_type": "code",
   "execution_count": 2298,
   "metadata": {
    "ExecuteTime": {
     "end_time": "2023-08-25T16:35:27.320728Z",
     "start_time": "2023-08-25T16:35:26.251048Z"
    }
   },
   "outputs": [
    {
     "data": {
      "text/plain": "      C   D\nA          \nbar  12   9\nfoo  24  19",
      "text/html": "<div>\n<style scoped>\n    .dataframe tbody tr th:only-of-type {\n        vertical-align: middle;\n    }\n\n    .dataframe tbody tr th {\n        vertical-align: top;\n    }\n\n    .dataframe thead th {\n        text-align: right;\n    }\n</style>\n<table border=\"1\" class=\"dataframe\">\n  <thead>\n    <tr style=\"text-align: right;\">\n      <th></th>\n      <th>C</th>\n      <th>D</th>\n    </tr>\n    <tr>\n      <th>A</th>\n      <th></th>\n      <th></th>\n    </tr>\n  </thead>\n  <tbody>\n    <tr>\n      <th>bar</th>\n      <td>12</td>\n      <td>9</td>\n    </tr>\n    <tr>\n      <th>foo</th>\n      <td>24</td>\n      <td>19</td>\n    </tr>\n  </tbody>\n</table>\n</div>"
     },
     "execution_count": 2298,
     "metadata": {},
     "output_type": "execute_result"
    }
   ],
   "source": [
    "df8.groupby(\"A\")[[\"C\", \"D\"]].sum()"
   ]
  },
  {
   "cell_type": "code",
   "execution_count": 2299,
   "metadata": {
    "ExecuteTime": {
     "end_time": "2023-08-25T16:35:27.320873Z",
     "start_time": "2023-08-25T16:35:26.255166Z"
    }
   },
   "outputs": [
    {
     "data": {
      "text/plain": "           C  D\nA   B          \nbar one    2  1\n    three  4  3\n    two    6  5\nfoo one    8  6\n    three  8  7\n    two    8  6",
      "text/html": "<div>\n<style scoped>\n    .dataframe tbody tr th:only-of-type {\n        vertical-align: middle;\n    }\n\n    .dataframe tbody tr th {\n        vertical-align: top;\n    }\n\n    .dataframe thead th {\n        text-align: right;\n    }\n</style>\n<table border=\"1\" class=\"dataframe\">\n  <thead>\n    <tr style=\"text-align: right;\">\n      <th></th>\n      <th></th>\n      <th>C</th>\n      <th>D</th>\n    </tr>\n    <tr>\n      <th>A</th>\n      <th>B</th>\n      <th></th>\n      <th></th>\n    </tr>\n  </thead>\n  <tbody>\n    <tr>\n      <th rowspan=\"3\" valign=\"top\">bar</th>\n      <th>one</th>\n      <td>2</td>\n      <td>1</td>\n    </tr>\n    <tr>\n      <th>three</th>\n      <td>4</td>\n      <td>3</td>\n    </tr>\n    <tr>\n      <th>two</th>\n      <td>6</td>\n      <td>5</td>\n    </tr>\n    <tr>\n      <th rowspan=\"3\" valign=\"top\">foo</th>\n      <th>one</th>\n      <td>8</td>\n      <td>6</td>\n    </tr>\n    <tr>\n      <th>three</th>\n      <td>8</td>\n      <td>7</td>\n    </tr>\n    <tr>\n      <th>two</th>\n      <td>8</td>\n      <td>6</td>\n    </tr>\n  </tbody>\n</table>\n</div>"
     },
     "execution_count": 2299,
     "metadata": {},
     "output_type": "execute_result"
    }
   ],
   "source": [
    "df8.groupby([\"A\", \"B\"]).sum()"
   ]
  },
  {
   "cell_type": "markdown",
   "metadata": {
    "ExecuteTime": {
     "end_time": "2023-08-22T20:32:52.623420Z",
     "start_time": "2023-08-22T20:32:52.600006Z"
    },
    "collapsed": false
   },
   "source": [
    "### Obrada tekstualnih podataka"
   ]
  },
  {
   "cell_type": "code",
   "execution_count": 2300,
   "outputs": [
    {
     "name": "stdout",
     "output_type": "stream",
     "text": [
      "   A                               B\n",
      "0  1             ThiS TeXt iS Wobbly\n",
      "1  2          this text is lowercase\n",
      "2  3          THIS TEXT IS UPPERCASE\n",
      "3  4     has whitespace             \n"
     ]
    }
   ],
   "source": [
    "df_text = pd.DataFrame({\n",
    "    \"A\" : [1, 2, 3, 4],\n",
    "    \"B\": [\"ThiS TeXt iS Wobbly\", \"this text is lowercase\", \"THIS TEXT IS UPPERCASE\", \"   has whitespace             \"]\n",
    "})\n",
    "print(df_text)"
   ],
   "metadata": {
    "collapsed": false,
    "ExecuteTime": {
     "end_time": "2023-08-25T16:35:27.342675Z",
     "start_time": "2023-08-25T16:35:26.258973Z"
    }
   }
  },
  {
   "cell_type": "code",
   "execution_count": 2301,
   "metadata": {
    "collapsed": false,
    "ExecuteTime": {
     "end_time": "2023-08-25T16:35:27.342822Z",
     "start_time": "2023-08-25T16:35:26.261530Z"
    }
   },
   "outputs": [
    {
     "name": "stdout",
     "output_type": "stream",
     "text": [
      "0               this text is wobbly\n",
      "1            this text is lowercase\n",
      "2            this text is uppercase\n",
      "3       has whitespace             \n",
      "Name: B, dtype: object\n"
     ]
    }
   ],
   "source": [
    "print(df_text['B'].str.lower())"
   ]
  },
  {
   "cell_type": "code",
   "execution_count": 2302,
   "outputs": [
    {
     "name": "stdout",
     "output_type": "stream",
     "text": [
      "0               THIS TEXT IS WOBBLY\n",
      "1            THIS TEXT IS LOWERCASE\n",
      "2            THIS TEXT IS UPPERCASE\n",
      "3       HAS WHITESPACE             \n",
      "Name: B, dtype: object\n"
     ]
    }
   ],
   "source": [
    "print(df_text['B'].str.upper())"
   ],
   "metadata": {
    "collapsed": false,
    "ExecuteTime": {
     "end_time": "2023-08-25T16:35:27.342908Z",
     "start_time": "2023-08-25T16:35:26.264075Z"
    }
   }
  },
  {
   "cell_type": "code",
   "execution_count": 2303,
   "outputs": [
    {
     "name": "stdout",
     "output_type": "stream",
     "text": [
      "0       ThiS TeXt iS Wobbly\n",
      "1    this text is lowercase\n",
      "2    THIS TEXT IS UPPERCASE\n",
      "3            has whitespace\n",
      "Name: B, dtype: object\n"
     ]
    }
   ],
   "source": [
    "print(df_text[\"B\"].str.strip())"
   ],
   "metadata": {
    "collapsed": false,
    "ExecuteTime": {
     "end_time": "2023-08-25T16:35:27.342991Z",
     "start_time": "2023-08-25T16:35:26.265972Z"
    }
   }
  },
  {
   "cell_type": "code",
   "execution_count": 2304,
   "outputs": [
    {
     "name": "stdout",
     "output_type": "stream",
     "text": [
      "0    19\n",
      "1    22\n",
      "2    22\n",
      "3    30\n",
      "Name: B, dtype: int64\n"
     ]
    }
   ],
   "source": [
    "print(df_text[\"B\"].str.len())"
   ],
   "metadata": {
    "collapsed": false,
    "ExecuteTime": {
     "end_time": "2023-08-25T16:35:27.343075Z",
     "start_time": "2023-08-25T16:35:26.267835Z"
    }
   }
  },
  {
   "cell_type": "markdown",
   "metadata": {
    "ExecuteTime": {
     "end_time": "2023-08-22T20:32:45.911810Z",
     "start_time": "2023-08-22T20:32:45.093517Z"
    },
    "collapsed": false
   },
   "source": [
    "### Čitanje i pisanje tabelarnih podataka\n",
    "\n",
    "Pandas ima ugradjenu podršku za razne fajl formate (csv, excel, json.. )\n",
    "Učitavanje podataka iz tih formata radi se preko funkcija sa prefiksom read_*. to_* metode se koriste za skladištenje podataka."
   ]
  },
  {
   "cell_type": "markdown",
   "source": [
    "![Učitavanje i skladištenje podataka](pandas_read_write.png)"
   ],
   "metadata": {
    "collapsed": false
   }
  },
  {
   "cell_type": "code",
   "execution_count": 2305,
   "metadata": {
    "collapsed": false,
    "ExecuteTime": {
     "end_time": "2023-08-25T16:35:27.348100Z",
     "start_time": "2023-08-25T16:35:26.271482Z"
    }
   },
   "outputs": [
    {
     "data": {
      "text/plain": "       ime  prezime  godine\n0  Michael    Scott      42\n1      Jim  Halpert      31\n2      Pam   Beezly      29",
      "text/html": "<div>\n<style scoped>\n    .dataframe tbody tr th:only-of-type {\n        vertical-align: middle;\n    }\n\n    .dataframe tbody tr th {\n        vertical-align: top;\n    }\n\n    .dataframe thead th {\n        text-align: right;\n    }\n</style>\n<table border=\"1\" class=\"dataframe\">\n  <thead>\n    <tr style=\"text-align: right;\">\n      <th></th>\n      <th>ime</th>\n      <th>prezime</th>\n      <th>godine</th>\n    </tr>\n  </thead>\n  <tbody>\n    <tr>\n      <th>0</th>\n      <td>Michael</td>\n      <td>Scott</td>\n      <td>42</td>\n    </tr>\n    <tr>\n      <th>1</th>\n      <td>Jim</td>\n      <td>Halpert</td>\n      <td>31</td>\n    </tr>\n    <tr>\n      <th>2</th>\n      <td>Pam</td>\n      <td>Beezly</td>\n      <td>29</td>\n    </tr>\n  </tbody>\n</table>\n</div>"
     },
     "execution_count": 2305,
     "metadata": {},
     "output_type": "execute_result"
    }
   ],
   "source": [
    "df_foo = pd.read_csv(\"foo.csv\")\n",
    "df_foo"
   ]
  },
  {
   "cell_type": "code",
   "execution_count": 2306,
   "metadata": {
    "collapsed": false,
    "ExecuteTime": {
     "end_time": "2023-08-25T16:35:27.353483Z",
     "start_time": "2023-08-25T16:35:26.275340Z"
    }
   },
   "outputs": [],
   "source": [
    "#df_foo.to_csv(\"foo2.csv\")"
   ]
  },
  {
   "cell_type": "code",
   "execution_count": 2307,
   "outputs": [],
   "source": [
    "#df_foo.to_json(\"foo2.json\", orient = \"table\", index=False)"
   ],
   "metadata": {
    "collapsed": false,
    "ExecuteTime": {
     "end_time": "2023-08-25T16:35:27.353706Z",
     "start_time": "2023-08-25T16:35:26.277500Z"
    }
   }
  },
  {
   "cell_type": "markdown",
   "metadata": {
    "ExecuteTime": {
     "end_time": "2023-08-22T20:32:45.912592Z",
     "start_time": "2023-08-22T20:32:45.111227Z"
    },
    "collapsed": false
   },
   "source": []
  }
 ],
 "metadata": {
  "kernelspec": {
   "display_name": "Python 3",
   "language": "python",
   "name": "python3"
  },
  "language_info": {
   "codemirror_mode": {
    "name": "ipython",
    "version": 3
   },
   "file_extension": ".py",
   "mimetype": "text/x-python",
   "name": "python",
   "nbconvert_exporter": "python",
   "pygments_lexer": "ipython3",
   "version": "3.11.4"
  }
 },
 "nbformat": 4,
 "nbformat_minor": 0
}
