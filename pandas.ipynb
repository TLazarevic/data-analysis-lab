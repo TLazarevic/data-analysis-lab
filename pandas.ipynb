{
 "cells": [
  {
   "cell_type": "markdown",
   "metadata": {
    "collapsed": false
   },
   "source": [
    "# Pandas\n",
    "\n",
    "Pandas je alat za analizu i obradu podataka za Python programski jezik"
   ]
  },
  {
   "cell_type": "markdown",
   "metadata": {
    "collapsed": false
   },
   "source": [
    "Najčešće se importuje na sledeći način:"
   ]
  },
  {
   "cell_type": "code",
   "execution_count": 319,
   "metadata": {
    "collapsed": false,
    "ExecuteTime": {
     "end_time": "2023-08-24T18:17:37.356874Z",
     "start_time": "2023-08-24T18:17:37.080500Z"
    }
   },
   "outputs": [],
   "source": [
    "import pandas as pd"
   ]
  },
  {
   "cell_type": "markdown",
   "metadata": {
    "collapsed": false
   },
   "source": [
    "U pandas-u se tabela zove **DataFrame**."
   ]
  },
  {
   "cell_type": "code",
   "execution_count": 320,
   "metadata": {
    "collapsed": false,
    "ExecuteTime": {
     "end_time": "2023-08-24T18:17:37.526097Z",
     "start_time": "2023-08-24T18:17:37.089792Z"
    }
   },
   "outputs": [
    {
     "data": {
      "text/plain": "      A  B   C    D\n0   1.0  A  10  foo\n1   2.0  B   9  foo\n2   3.0  C   8  foo\n3   4.0  D   7  foo\n4   5.0  E   6  foo\n5   6.0  F   5  foo\n6   7.0  G   4  foo\n7   8.0  H   3  foo\n8   9.0  I   2  foo\n9  10.0  J   1  foo",
      "text/html": "<div>\n<style scoped>\n    .dataframe tbody tr th:only-of-type {\n        vertical-align: middle;\n    }\n\n    .dataframe tbody tr th {\n        vertical-align: top;\n    }\n\n    .dataframe thead th {\n        text-align: right;\n    }\n</style>\n<table border=\"1\" class=\"dataframe\">\n  <thead>\n    <tr style=\"text-align: right;\">\n      <th></th>\n      <th>A</th>\n      <th>B</th>\n      <th>C</th>\n      <th>D</th>\n    </tr>\n  </thead>\n  <tbody>\n    <tr>\n      <th>0</th>\n      <td>1.0</td>\n      <td>A</td>\n      <td>10</td>\n      <td>foo</td>\n    </tr>\n    <tr>\n      <th>1</th>\n      <td>2.0</td>\n      <td>B</td>\n      <td>9</td>\n      <td>foo</td>\n    </tr>\n    <tr>\n      <th>2</th>\n      <td>3.0</td>\n      <td>C</td>\n      <td>8</td>\n      <td>foo</td>\n    </tr>\n    <tr>\n      <th>3</th>\n      <td>4.0</td>\n      <td>D</td>\n      <td>7</td>\n      <td>foo</td>\n    </tr>\n    <tr>\n      <th>4</th>\n      <td>5.0</td>\n      <td>E</td>\n      <td>6</td>\n      <td>foo</td>\n    </tr>\n    <tr>\n      <th>5</th>\n      <td>6.0</td>\n      <td>F</td>\n      <td>5</td>\n      <td>foo</td>\n    </tr>\n    <tr>\n      <th>6</th>\n      <td>7.0</td>\n      <td>G</td>\n      <td>4</td>\n      <td>foo</td>\n    </tr>\n    <tr>\n      <th>7</th>\n      <td>8.0</td>\n      <td>H</td>\n      <td>3</td>\n      <td>foo</td>\n    </tr>\n    <tr>\n      <th>8</th>\n      <td>9.0</td>\n      <td>I</td>\n      <td>2</td>\n      <td>foo</td>\n    </tr>\n    <tr>\n      <th>9</th>\n      <td>10.0</td>\n      <td>J</td>\n      <td>1</td>\n      <td>foo</td>\n    </tr>\n  </tbody>\n</table>\n</div>"
     },
     "execution_count": 320,
     "metadata": {},
     "output_type": "execute_result"
    }
   ],
   "source": [
    "df = pd.DataFrame(\n",
    "    {\n",
    "        \"A\": [1.0, 2.0, 3.0, 4.0, 5.0, 6.0, 7.0, 8.0, 9.0, 10.0],\n",
    "        \"B\": [\"A\", \"B\", \"C\", \"D\", \"E\", \"F\", \"G\", \"H\", \"I\", \"J\"],\n",
    "        \"C\": [10, 9, 8, 7, 6, 5, 4, 3, 2, 1],\n",
    "        \"D\": \"foo\",\n",
    "    }\n",
    ")\n",
    "df"
   ]
  },
  {
   "cell_type": "markdown",
   "metadata": {
    "collapsed": false
   },
   "source": [
    "### Pregled podataka"
   ]
  },
  {
   "cell_type": "markdown",
   "metadata": {
    "collapsed": false
   },
   "source": [
    "Sa ```DataFrame.head()``` i ```DataFrame.tail()``` mogu se videti prvi i poslednji redovi DataFrame-a"
   ]
  },
  {
   "cell_type": "code",
   "execution_count": 321,
   "metadata": {
    "collapsed": false,
    "ExecuteTime": {
     "end_time": "2023-08-24T18:17:37.544864Z",
     "start_time": "2023-08-24T18:17:37.095838Z"
    }
   },
   "outputs": [
    {
     "data": {
      "text/plain": "     A  B   C    D\n0  1.0  A  10  foo\n1  2.0  B   9  foo\n2  3.0  C   8  foo\n3  4.0  D   7  foo\n4  5.0  E   6  foo",
      "text/html": "<div>\n<style scoped>\n    .dataframe tbody tr th:only-of-type {\n        vertical-align: middle;\n    }\n\n    .dataframe tbody tr th {\n        vertical-align: top;\n    }\n\n    .dataframe thead th {\n        text-align: right;\n    }\n</style>\n<table border=\"1\" class=\"dataframe\">\n  <thead>\n    <tr style=\"text-align: right;\">\n      <th></th>\n      <th>A</th>\n      <th>B</th>\n      <th>C</th>\n      <th>D</th>\n    </tr>\n  </thead>\n  <tbody>\n    <tr>\n      <th>0</th>\n      <td>1.0</td>\n      <td>A</td>\n      <td>10</td>\n      <td>foo</td>\n    </tr>\n    <tr>\n      <th>1</th>\n      <td>2.0</td>\n      <td>B</td>\n      <td>9</td>\n      <td>foo</td>\n    </tr>\n    <tr>\n      <th>2</th>\n      <td>3.0</td>\n      <td>C</td>\n      <td>8</td>\n      <td>foo</td>\n    </tr>\n    <tr>\n      <th>3</th>\n      <td>4.0</td>\n      <td>D</td>\n      <td>7</td>\n      <td>foo</td>\n    </tr>\n    <tr>\n      <th>4</th>\n      <td>5.0</td>\n      <td>E</td>\n      <td>6</td>\n      <td>foo</td>\n    </tr>\n  </tbody>\n</table>\n</div>"
     },
     "execution_count": 321,
     "metadata": {},
     "output_type": "execute_result"
    }
   ],
   "source": [
    "df.head()"
   ]
  },
  {
   "cell_type": "code",
   "execution_count": 322,
   "metadata": {
    "collapsed": false,
    "ExecuteTime": {
     "end_time": "2023-08-24T18:17:37.561846Z",
     "start_time": "2023-08-24T18:17:37.099859Z"
    }
   },
   "outputs": [
    {
     "data": {
      "text/plain": "      A  B  C    D\n7   8.0  H  3  foo\n8   9.0  I  2  foo\n9  10.0  J  1  foo",
      "text/html": "<div>\n<style scoped>\n    .dataframe tbody tr th:only-of-type {\n        vertical-align: middle;\n    }\n\n    .dataframe tbody tr th {\n        vertical-align: top;\n    }\n\n    .dataframe thead th {\n        text-align: right;\n    }\n</style>\n<table border=\"1\" class=\"dataframe\">\n  <thead>\n    <tr style=\"text-align: right;\">\n      <th></th>\n      <th>A</th>\n      <th>B</th>\n      <th>C</th>\n      <th>D</th>\n    </tr>\n  </thead>\n  <tbody>\n    <tr>\n      <th>7</th>\n      <td>8.0</td>\n      <td>H</td>\n      <td>3</td>\n      <td>foo</td>\n    </tr>\n    <tr>\n      <th>8</th>\n      <td>9.0</td>\n      <td>I</td>\n      <td>2</td>\n      <td>foo</td>\n    </tr>\n    <tr>\n      <th>9</th>\n      <td>10.0</td>\n      <td>J</td>\n      <td>1</td>\n      <td>foo</td>\n    </tr>\n  </tbody>\n</table>\n</div>"
     },
     "execution_count": 322,
     "metadata": {},
     "output_type": "execute_result"
    }
   ],
   "source": [
    "df.tail(3)"
   ]
  },
  {
   "cell_type": "markdown",
   "metadata": {
    "collapsed": false
   },
   "source": [
    "```info()``` metoda prikazuje osnovne informacije o DataFrame-u uključujući kolone i njihove tipove podataka, ne-nedostajajućim vrednostima, indeksu"
   ]
  },
  {
   "cell_type": "code",
   "execution_count": 323,
   "metadata": {
    "collapsed": false,
    "ExecuteTime": {
     "end_time": "2023-08-24T18:17:37.563283Z",
     "start_time": "2023-08-24T18:17:37.101944Z"
    }
   },
   "outputs": [
    {
     "name": "stdout",
     "output_type": "stream",
     "text": [
      "<class 'pandas.core.frame.DataFrame'>\n",
      "RangeIndex: 10 entries, 0 to 9\n",
      "Data columns (total 4 columns):\n",
      " #   Column  Non-Null Count  Dtype  \n",
      "---  ------  --------------  -----  \n",
      " 0   A       10 non-null     float64\n",
      " 1   B       10 non-null     object \n",
      " 2   C       10 non-null     int64  \n",
      " 3   D       10 non-null     object \n",
      "dtypes: float64(1), int64(1), object(2)\n",
      "memory usage: 452.0+ bytes\n"
     ]
    }
   ],
   "source": [
    "df.info()"
   ]
  },
  {
   "cell_type": "code",
   "execution_count": 324,
   "metadata": {
    "collapsed": false,
    "ExecuteTime": {
     "end_time": "2023-08-24T18:17:37.565726Z",
     "start_time": "2023-08-24T18:17:37.110907Z"
    }
   },
   "outputs": [
    {
     "data": {
      "text/plain": "              A         C\ncount  10.00000  10.00000\nmean    5.50000   5.50000\nstd     3.02765   3.02765\nmin     1.00000   1.00000\n25%     3.25000   3.25000\n50%     5.50000   5.50000\n75%     7.75000   7.75000\nmax    10.00000  10.00000",
      "text/html": "<div>\n<style scoped>\n    .dataframe tbody tr th:only-of-type {\n        vertical-align: middle;\n    }\n\n    .dataframe tbody tr th {\n        vertical-align: top;\n    }\n\n    .dataframe thead th {\n        text-align: right;\n    }\n</style>\n<table border=\"1\" class=\"dataframe\">\n  <thead>\n    <tr style=\"text-align: right;\">\n      <th></th>\n      <th>A</th>\n      <th>C</th>\n    </tr>\n  </thead>\n  <tbody>\n    <tr>\n      <th>count</th>\n      <td>10.00000</td>\n      <td>10.00000</td>\n    </tr>\n    <tr>\n      <th>mean</th>\n      <td>5.50000</td>\n      <td>5.50000</td>\n    </tr>\n    <tr>\n      <th>std</th>\n      <td>3.02765</td>\n      <td>3.02765</td>\n    </tr>\n    <tr>\n      <th>min</th>\n      <td>1.00000</td>\n      <td>1.00000</td>\n    </tr>\n    <tr>\n      <th>25%</th>\n      <td>3.25000</td>\n      <td>3.25000</td>\n    </tr>\n    <tr>\n      <th>50%</th>\n      <td>5.50000</td>\n      <td>5.50000</td>\n    </tr>\n    <tr>\n      <th>75%</th>\n      <td>7.75000</td>\n      <td>7.75000</td>\n    </tr>\n    <tr>\n      <th>max</th>\n      <td>10.00000</td>\n      <td>10.00000</td>\n    </tr>\n  </tbody>\n</table>\n</div>"
     },
     "execution_count": 324,
     "metadata": {},
     "output_type": "execute_result"
    }
   ],
   "source": [
    "df.describe()"
   ]
  },
  {
   "cell_type": "code",
   "execution_count": 325,
   "metadata": {
    "collapsed": false,
    "ExecuteTime": {
     "end_time": "2023-08-24T18:17:37.569507Z",
     "start_time": "2023-08-24T18:17:37.114171Z"
    }
   },
   "outputs": [
    {
     "data": {
      "text/plain": "      A  B   C    D\n9  10.0  J   1  foo\n8   9.0  I   2  foo\n7   8.0  H   3  foo\n6   7.0  G   4  foo\n5   6.0  F   5  foo\n4   5.0  E   6  foo\n3   4.0  D   7  foo\n2   3.0  C   8  foo\n1   2.0  B   9  foo\n0   1.0  A  10  foo",
      "text/html": "<div>\n<style scoped>\n    .dataframe tbody tr th:only-of-type {\n        vertical-align: middle;\n    }\n\n    .dataframe tbody tr th {\n        vertical-align: top;\n    }\n\n    .dataframe thead th {\n        text-align: right;\n    }\n</style>\n<table border=\"1\" class=\"dataframe\">\n  <thead>\n    <tr style=\"text-align: right;\">\n      <th></th>\n      <th>A</th>\n      <th>B</th>\n      <th>C</th>\n      <th>D</th>\n    </tr>\n  </thead>\n  <tbody>\n    <tr>\n      <th>9</th>\n      <td>10.0</td>\n      <td>J</td>\n      <td>1</td>\n      <td>foo</td>\n    </tr>\n    <tr>\n      <th>8</th>\n      <td>9.0</td>\n      <td>I</td>\n      <td>2</td>\n      <td>foo</td>\n    </tr>\n    <tr>\n      <th>7</th>\n      <td>8.0</td>\n      <td>H</td>\n      <td>3</td>\n      <td>foo</td>\n    </tr>\n    <tr>\n      <th>6</th>\n      <td>7.0</td>\n      <td>G</td>\n      <td>4</td>\n      <td>foo</td>\n    </tr>\n    <tr>\n      <th>5</th>\n      <td>6.0</td>\n      <td>F</td>\n      <td>5</td>\n      <td>foo</td>\n    </tr>\n    <tr>\n      <th>4</th>\n      <td>5.0</td>\n      <td>E</td>\n      <td>6</td>\n      <td>foo</td>\n    </tr>\n    <tr>\n      <th>3</th>\n      <td>4.0</td>\n      <td>D</td>\n      <td>7</td>\n      <td>foo</td>\n    </tr>\n    <tr>\n      <th>2</th>\n      <td>3.0</td>\n      <td>C</td>\n      <td>8</td>\n      <td>foo</td>\n    </tr>\n    <tr>\n      <th>1</th>\n      <td>2.0</td>\n      <td>B</td>\n      <td>9</td>\n      <td>foo</td>\n    </tr>\n    <tr>\n      <th>0</th>\n      <td>1.0</td>\n      <td>A</td>\n      <td>10</td>\n      <td>foo</td>\n    </tr>\n  </tbody>\n</table>\n</div>"
     },
     "execution_count": 325,
     "metadata": {},
     "output_type": "execute_result"
    }
   ],
   "source": [
    "df.sort_values(by=\"C\")"
   ]
  },
  {
   "cell_type": "markdown",
   "metadata": {
    "collapsed": false
   },
   "source": [
    "### Selekcija\n",
    "\n",
    "Selekcija i filtriranje specifičnih redova/kolona, filtriranje podataka na osnovu uslova"
   ]
  },
  {
   "cell_type": "markdown",
   "metadata": {
    "collapsed": false
   },
   "source": [
    "Selekcija jedne kolone. Vraća ```Series``` objekat"
   ]
  },
  {
   "cell_type": "code",
   "execution_count": 326,
   "metadata": {
    "collapsed": false,
    "ExecuteTime": {
     "end_time": "2023-08-24T18:17:37.569690Z",
     "start_time": "2023-08-24T18:17:37.122762Z"
    }
   },
   "outputs": [
    {
     "data": {
      "text/plain": "0     1.0\n1     2.0\n2     3.0\n3     4.0\n4     5.0\n5     6.0\n6     7.0\n7     8.0\n8     9.0\n9    10.0\nName: A, dtype: float64"
     },
     "execution_count": 326,
     "metadata": {},
     "output_type": "execute_result"
    }
   ],
   "source": [
    "df[\"A\"]"
   ]
  },
  {
   "cell_type": "markdown",
   "metadata": {
    "collapsed": false
   },
   "source": [
    "Selekcija preko [] (```__getitem__```) 'iseca' redove"
   ]
  },
  {
   "cell_type": "code",
   "execution_count": 327,
   "metadata": {
    "collapsed": false,
    "ExecuteTime": {
     "end_time": "2023-08-24T18:17:37.579345Z",
     "start_time": "2023-08-24T18:17:37.127060Z"
    }
   },
   "outputs": [
    {
     "data": {
      "text/plain": "     A  B   C    D\n0  1.0  A  10  foo\n1  2.0  B   9  foo\n2  3.0  C   8  foo",
      "text/html": "<div>\n<style scoped>\n    .dataframe tbody tr th:only-of-type {\n        vertical-align: middle;\n    }\n\n    .dataframe tbody tr th {\n        vertical-align: top;\n    }\n\n    .dataframe thead th {\n        text-align: right;\n    }\n</style>\n<table border=\"1\" class=\"dataframe\">\n  <thead>\n    <tr style=\"text-align: right;\">\n      <th></th>\n      <th>A</th>\n      <th>B</th>\n      <th>C</th>\n      <th>D</th>\n    </tr>\n  </thead>\n  <tbody>\n    <tr>\n      <th>0</th>\n      <td>1.0</td>\n      <td>A</td>\n      <td>10</td>\n      <td>foo</td>\n    </tr>\n    <tr>\n      <th>1</th>\n      <td>2.0</td>\n      <td>B</td>\n      <td>9</td>\n      <td>foo</td>\n    </tr>\n    <tr>\n      <th>2</th>\n      <td>3.0</td>\n      <td>C</td>\n      <td>8</td>\n      <td>foo</td>\n    </tr>\n  </tbody>\n</table>\n</div>"
     },
     "execution_count": 327,
     "metadata": {},
     "output_type": "execute_result"
    }
   ],
   "source": [
    "df[0:3]"
   ]
  },
  {
   "cell_type": "markdown",
   "metadata": {
    "collapsed": false
   },
   "source": [
    "##### Selekcija preko labele\n",
    "\n",
    "Metode za indeksiranje na bazi celobrojne labele"
   ]
  },
  {
   "cell_type": "code",
   "execution_count": 328,
   "metadata": {
    "collapsed": false,
    "ExecuteTime": {
     "end_time": "2023-08-24T18:17:37.580931Z",
     "start_time": "2023-08-24T18:17:37.132741Z"
    }
   },
   "outputs": [
    {
     "data": {
      "text/plain": "      A  B   C    D\na   1.0  A  10  foo\nb   2.0  B   9  foo\nc   3.0  C   8  foo\nd   4.0  D   7  foo\ne   5.0  E   6  foo\nf   6.0  F   5  foo\ng   7.0  G   4  foo\nh   8.0  H   3  foo\ni   9.0  I   2  foo\nj  10.0  J   1  foo",
      "text/html": "<div>\n<style scoped>\n    .dataframe tbody tr th:only-of-type {\n        vertical-align: middle;\n    }\n\n    .dataframe tbody tr th {\n        vertical-align: top;\n    }\n\n    .dataframe thead th {\n        text-align: right;\n    }\n</style>\n<table border=\"1\" class=\"dataframe\">\n  <thead>\n    <tr style=\"text-align: right;\">\n      <th></th>\n      <th>A</th>\n      <th>B</th>\n      <th>C</th>\n      <th>D</th>\n    </tr>\n  </thead>\n  <tbody>\n    <tr>\n      <th>a</th>\n      <td>1.0</td>\n      <td>A</td>\n      <td>10</td>\n      <td>foo</td>\n    </tr>\n    <tr>\n      <th>b</th>\n      <td>2.0</td>\n      <td>B</td>\n      <td>9</td>\n      <td>foo</td>\n    </tr>\n    <tr>\n      <th>c</th>\n      <td>3.0</td>\n      <td>C</td>\n      <td>8</td>\n      <td>foo</td>\n    </tr>\n    <tr>\n      <th>d</th>\n      <td>4.0</td>\n      <td>D</td>\n      <td>7</td>\n      <td>foo</td>\n    </tr>\n    <tr>\n      <th>e</th>\n      <td>5.0</td>\n      <td>E</td>\n      <td>6</td>\n      <td>foo</td>\n    </tr>\n    <tr>\n      <th>f</th>\n      <td>6.0</td>\n      <td>F</td>\n      <td>5</td>\n      <td>foo</td>\n    </tr>\n    <tr>\n      <th>g</th>\n      <td>7.0</td>\n      <td>G</td>\n      <td>4</td>\n      <td>foo</td>\n    </tr>\n    <tr>\n      <th>h</th>\n      <td>8.0</td>\n      <td>H</td>\n      <td>3</td>\n      <td>foo</td>\n    </tr>\n    <tr>\n      <th>i</th>\n      <td>9.0</td>\n      <td>I</td>\n      <td>2</td>\n      <td>foo</td>\n    </tr>\n    <tr>\n      <th>j</th>\n      <td>10.0</td>\n      <td>J</td>\n      <td>1</td>\n      <td>foo</td>\n    </tr>\n  </tbody>\n</table>\n</div>"
     },
     "execution_count": 328,
     "metadata": {},
     "output_type": "execute_result"
    }
   ],
   "source": [
    "df2 = pd.DataFrame(\n",
    "    {\n",
    "        \"A\": [1.0, 2.0, 3.0, 4.0, 5.0, 6.0, 7.0, 8.0, 9.0, 10.0],\n",
    "        \"B\": [\"A\", \"B\", \"C\", \"D\", \"E\", \"F\", \"G\", \"H\", \"I\", \"J\"],\n",
    "        \"C\": [10, 9, 8, 7, 6, 5, 4, 3, 2, 1],\n",
    "        \"D\": \"foo\",\n",
    "    },\n",
    "    index=list('abcdefghij')\n",
    ")\n",
    "df2"
   ]
  },
  {
   "cell_type": "code",
   "execution_count": 329,
   "metadata": {
    "collapsed": false,
    "ExecuteTime": {
     "end_time": "2023-08-24T18:17:37.588245Z",
     "start_time": "2023-08-24T18:17:37.135663Z"
    }
   },
   "outputs": [
    {
     "data": {
      "text/plain": "A    4.0\nB      D\nC      7\nD    foo\nName: d, dtype: object"
     },
     "execution_count": 329,
     "metadata": {},
     "output_type": "execute_result"
    }
   ],
   "source": [
    "df2.loc['d']"
   ]
  },
  {
   "cell_type": "markdown",
   "metadata": {
    "collapsed": false
   },
   "source": [
    "Selekcija više osa preko labele"
   ]
  },
  {
   "cell_type": "code",
   "execution_count": 330,
   "metadata": {
    "collapsed": false,
    "ExecuteTime": {
     "end_time": "2023-08-24T18:17:37.588469Z",
     "start_time": "2023-08-24T18:17:37.138772Z"
    }
   },
   "outputs": [
    {
     "data": {
      "text/plain": "A    4.0\nB      D\nName: d, dtype: object"
     },
     "execution_count": 330,
     "metadata": {},
     "output_type": "execute_result"
    }
   ],
   "source": [
    "df2.loc['d', [\"A\", \"B\"]]"
   ]
  },
  {
   "cell_type": "markdown",
   "metadata": {
    "collapsed": false
   },
   "source": [
    "*Note:* Kod selekcije preko labele, selektovanje je uključno sa obe strane"
   ]
  },
  {
   "cell_type": "code",
   "execution_count": 331,
   "metadata": {
    "collapsed": false,
    "ExecuteTime": {
     "end_time": "2023-08-24T18:17:37.592136Z",
     "start_time": "2023-08-24T18:17:37.145769Z"
    }
   },
   "outputs": [
    {
     "data": {
      "text/plain": "   C    D\nb  9  foo\nc  8  foo\nd  7  foo",
      "text/html": "<div>\n<style scoped>\n    .dataframe tbody tr th:only-of-type {\n        vertical-align: middle;\n    }\n\n    .dataframe tbody tr th {\n        vertical-align: top;\n    }\n\n    .dataframe thead th {\n        text-align: right;\n    }\n</style>\n<table border=\"1\" class=\"dataframe\">\n  <thead>\n    <tr style=\"text-align: right;\">\n      <th></th>\n      <th>C</th>\n      <th>D</th>\n    </tr>\n  </thead>\n  <tbody>\n    <tr>\n      <th>b</th>\n      <td>9</td>\n      <td>foo</td>\n    </tr>\n    <tr>\n      <th>c</th>\n      <td>8</td>\n      <td>foo</td>\n    </tr>\n    <tr>\n      <th>d</th>\n      <td>7</td>\n      <td>foo</td>\n    </tr>\n  </tbody>\n</table>\n</div>"
     },
     "execution_count": 331,
     "metadata": {},
     "output_type": "execute_result"
    }
   ],
   "source": [
    "df2.loc[\"b\":\"d\", [\"C\", \"D\"]]"
   ]
  },
  {
   "cell_type": "markdown",
   "metadata": {
    "collapsed": false
   },
   "source": [
    "Dobavljanje skalarne vrednosti"
   ]
  },
  {
   "cell_type": "code",
   "execution_count": 332,
   "metadata": {
    "collapsed": false,
    "ExecuteTime": {
     "end_time": "2023-08-24T18:17:37.602383Z",
     "start_time": "2023-08-24T18:17:37.151458Z"
    }
   },
   "outputs": [
    {
     "data": {
      "text/plain": "4.0"
     },
     "execution_count": 332,
     "metadata": {},
     "output_type": "execute_result"
    }
   ],
   "source": [
    "df2.loc['d', \"A\"]"
   ]
  },
  {
   "cell_type": "code",
   "execution_count": 333,
   "metadata": {
    "collapsed": false,
    "ExecuteTime": {
     "end_time": "2023-08-24T18:17:37.602575Z",
     "start_time": "2023-08-24T18:17:37.153995Z"
    }
   },
   "outputs": [
    {
     "data": {
      "text/plain": "4.0"
     },
     "execution_count": 333,
     "metadata": {},
     "output_type": "execute_result"
    }
   ],
   "source": [
    "df2.at['d', \"A\"]"
   ]
  },
  {
   "cell_type": "markdown",
   "metadata": {
    "collapsed": false
   },
   "source": [
    "##### Selekcija po poziciji\n",
    "\n",
    "Metode za indeksiranje na bazi celobrojne pozicije."
   ]
  },
  {
   "cell_type": "markdown",
   "metadata": {
    "collapsed": false
   },
   "source": [
    "*Note*: Kod selekcije po poziciji, početna vrednost je uključna a krajnja isključna!"
   ]
  },
  {
   "cell_type": "code",
   "execution_count": 334,
   "metadata": {
    "collapsed": false,
    "ExecuteTime": {
     "end_time": "2023-08-24T18:17:37.612711Z",
     "start_time": "2023-08-24T18:17:37.159744Z"
    }
   },
   "outputs": [
    {
     "data": {
      "text/plain": "A    4.0\nB      D\nC      7\nD    foo\nName: d, dtype: object"
     },
     "execution_count": 334,
     "metadata": {},
     "output_type": "execute_result"
    }
   ],
   "source": [
    "df2.iloc[3]"
   ]
  },
  {
   "cell_type": "code",
   "execution_count": 335,
   "metadata": {
    "collapsed": false,
    "ExecuteTime": {
     "end_time": "2023-08-24T18:17:37.616409Z",
     "start_time": "2023-08-24T18:17:37.162555Z"
    }
   },
   "outputs": [
    {
     "data": {
      "text/plain": "     A  B\nd  4.0  D\ne  5.0  E",
      "text/html": "<div>\n<style scoped>\n    .dataframe tbody tr th:only-of-type {\n        vertical-align: middle;\n    }\n\n    .dataframe tbody tr th {\n        vertical-align: top;\n    }\n\n    .dataframe thead th {\n        text-align: right;\n    }\n</style>\n<table border=\"1\" class=\"dataframe\">\n  <thead>\n    <tr style=\"text-align: right;\">\n      <th></th>\n      <th>A</th>\n      <th>B</th>\n    </tr>\n  </thead>\n  <tbody>\n    <tr>\n      <th>d</th>\n      <td>4.0</td>\n      <td>D</td>\n    </tr>\n    <tr>\n      <th>e</th>\n      <td>5.0</td>\n      <td>E</td>\n    </tr>\n  </tbody>\n</table>\n</div>"
     },
     "execution_count": 335,
     "metadata": {},
     "output_type": "execute_result"
    }
   ],
   "source": [
    "df2.iloc[3:5, 0:2]"
   ]
  },
  {
   "cell_type": "markdown",
   "metadata": {
    "collapsed": false
   },
   "source": [
    "Isecanje redova"
   ]
  },
  {
   "cell_type": "code",
   "execution_count": 336,
   "metadata": {
    "collapsed": false,
    "ExecuteTime": {
     "end_time": "2023-08-24T18:17:37.616948Z",
     "start_time": "2023-08-24T18:17:37.167814Z"
    }
   },
   "outputs": [
    {
     "data": {
      "text/plain": "     A  B  C    D\nb  2.0  B  9  foo\nc  3.0  C  8  foo",
      "text/html": "<div>\n<style scoped>\n    .dataframe tbody tr th:only-of-type {\n        vertical-align: middle;\n    }\n\n    .dataframe tbody tr th {\n        vertical-align: top;\n    }\n\n    .dataframe thead th {\n        text-align: right;\n    }\n</style>\n<table border=\"1\" class=\"dataframe\">\n  <thead>\n    <tr style=\"text-align: right;\">\n      <th></th>\n      <th>A</th>\n      <th>B</th>\n      <th>C</th>\n      <th>D</th>\n    </tr>\n  </thead>\n  <tbody>\n    <tr>\n      <th>b</th>\n      <td>2.0</td>\n      <td>B</td>\n      <td>9</td>\n      <td>foo</td>\n    </tr>\n    <tr>\n      <th>c</th>\n      <td>3.0</td>\n      <td>C</td>\n      <td>8</td>\n      <td>foo</td>\n    </tr>\n  </tbody>\n</table>\n</div>"
     },
     "execution_count": 336,
     "metadata": {},
     "output_type": "execute_result"
    }
   ],
   "source": [
    "df2.iloc[1:3, :]"
   ]
  },
  {
   "cell_type": "markdown",
   "metadata": {
    "collapsed": false
   },
   "source": [
    "Isecanje kolona"
   ]
  },
  {
   "cell_type": "code",
   "execution_count": 337,
   "metadata": {
    "collapsed": false,
    "ExecuteTime": {
     "end_time": "2023-08-24T18:17:37.620638Z",
     "start_time": "2023-08-24T18:17:37.172547Z"
    }
   },
   "outputs": [
    {
     "data": {
      "text/plain": "   B   C\na  A  10\nb  B   9\nc  C   8\nd  D   7\ne  E   6\nf  F   5\ng  G   4\nh  H   3\ni  I   2\nj  J   1",
      "text/html": "<div>\n<style scoped>\n    .dataframe tbody tr th:only-of-type {\n        vertical-align: middle;\n    }\n\n    .dataframe tbody tr th {\n        vertical-align: top;\n    }\n\n    .dataframe thead th {\n        text-align: right;\n    }\n</style>\n<table border=\"1\" class=\"dataframe\">\n  <thead>\n    <tr style=\"text-align: right;\">\n      <th></th>\n      <th>B</th>\n      <th>C</th>\n    </tr>\n  </thead>\n  <tbody>\n    <tr>\n      <th>a</th>\n      <td>A</td>\n      <td>10</td>\n    </tr>\n    <tr>\n      <th>b</th>\n      <td>B</td>\n      <td>9</td>\n    </tr>\n    <tr>\n      <th>c</th>\n      <td>C</td>\n      <td>8</td>\n    </tr>\n    <tr>\n      <th>d</th>\n      <td>D</td>\n      <td>7</td>\n    </tr>\n    <tr>\n      <th>e</th>\n      <td>E</td>\n      <td>6</td>\n    </tr>\n    <tr>\n      <th>f</th>\n      <td>F</td>\n      <td>5</td>\n    </tr>\n    <tr>\n      <th>g</th>\n      <td>G</td>\n      <td>4</td>\n    </tr>\n    <tr>\n      <th>h</th>\n      <td>H</td>\n      <td>3</td>\n    </tr>\n    <tr>\n      <th>i</th>\n      <td>I</td>\n      <td>2</td>\n    </tr>\n    <tr>\n      <th>j</th>\n      <td>J</td>\n      <td>1</td>\n    </tr>\n  </tbody>\n</table>\n</div>"
     },
     "execution_count": 337,
     "metadata": {},
     "output_type": "execute_result"
    }
   ],
   "source": [
    "df2.iloc[:, 1:3]"
   ]
  },
  {
   "cell_type": "markdown",
   "metadata": {
    "collapsed": false
   },
   "source": [
    "Dobavljanje vrednosti"
   ]
  },
  {
   "cell_type": "code",
   "execution_count": 338,
   "metadata": {
    "collapsed": false,
    "ExecuteTime": {
     "end_time": "2023-08-24T18:17:37.631561Z",
     "start_time": "2023-08-24T18:17:37.178449Z"
    }
   },
   "outputs": [
    {
     "data": {
      "text/plain": "'B'"
     },
     "execution_count": 338,
     "metadata": {},
     "output_type": "execute_result"
    }
   ],
   "source": [
    "df2.iloc[1, 1]"
   ]
  },
  {
   "cell_type": "code",
   "execution_count": 339,
   "metadata": {
    "collapsed": false,
    "ExecuteTime": {
     "end_time": "2023-08-24T18:17:37.634935Z",
     "start_time": "2023-08-24T18:17:37.180678Z"
    }
   },
   "outputs": [
    {
     "data": {
      "text/plain": "'B'"
     },
     "execution_count": 339,
     "metadata": {},
     "output_type": "execute_result"
    }
   ],
   "source": [
    "df2.iat[1, 1]"
   ]
  },
  {
   "cell_type": "markdown",
   "metadata": {
    "collapsed": false
   },
   "source": [
    "##### Boolean indeksiranje\n",
    "\n",
    "Selektovanje podataka na osnovu vrednosti iz jedne kolone"
   ]
  },
  {
   "cell_type": "code",
   "execution_count": 340,
   "metadata": {
    "collapsed": false,
    "ExecuteTime": {
     "end_time": "2023-08-24T18:17:37.635312Z",
     "start_time": "2023-08-24T18:17:37.182520Z"
    }
   },
   "outputs": [
    {
     "data": {
      "text/plain": "      A  B  C    D\nf   6.0  F  5  foo\ng   7.0  G  4  foo\nh   8.0  H  3  foo\ni   9.0  I  2  foo\nj  10.0  J  1  foo",
      "text/html": "<div>\n<style scoped>\n    .dataframe tbody tr th:only-of-type {\n        vertical-align: middle;\n    }\n\n    .dataframe tbody tr th {\n        vertical-align: top;\n    }\n\n    .dataframe thead th {\n        text-align: right;\n    }\n</style>\n<table border=\"1\" class=\"dataframe\">\n  <thead>\n    <tr style=\"text-align: right;\">\n      <th></th>\n      <th>A</th>\n      <th>B</th>\n      <th>C</th>\n      <th>D</th>\n    </tr>\n  </thead>\n  <tbody>\n    <tr>\n      <th>f</th>\n      <td>6.0</td>\n      <td>F</td>\n      <td>5</td>\n      <td>foo</td>\n    </tr>\n    <tr>\n      <th>g</th>\n      <td>7.0</td>\n      <td>G</td>\n      <td>4</td>\n      <td>foo</td>\n    </tr>\n    <tr>\n      <th>h</th>\n      <td>8.0</td>\n      <td>H</td>\n      <td>3</td>\n      <td>foo</td>\n    </tr>\n    <tr>\n      <th>i</th>\n      <td>9.0</td>\n      <td>I</td>\n      <td>2</td>\n      <td>foo</td>\n    </tr>\n    <tr>\n      <th>j</th>\n      <td>10.0</td>\n      <td>J</td>\n      <td>1</td>\n      <td>foo</td>\n    </tr>\n  </tbody>\n</table>\n</div>"
     },
     "execution_count": 340,
     "metadata": {},
     "output_type": "execute_result"
    }
   ],
   "source": [
    "df2[df2[\"A\"] > 5]"
   ]
  },
  {
   "cell_type": "markdown",
   "metadata": {
    "collapsed": false
   },
   "source": [
    "##### Korišćenje isin() za filtriranje"
   ]
  },
  {
   "cell_type": "code",
   "execution_count": 341,
   "metadata": {
    "collapsed": false,
    "ExecuteTime": {
     "end_time": "2023-08-24T18:17:37.642087Z",
     "start_time": "2023-08-24T18:17:37.190953Z"
    }
   },
   "outputs": [
    {
     "data": {
      "text/plain": "      A  B  C    D\ng   7.0  G  4  foo\nj  10.0  J  1  foo",
      "text/html": "<div>\n<style scoped>\n    .dataframe tbody tr th:only-of-type {\n        vertical-align: middle;\n    }\n\n    .dataframe tbody tr th {\n        vertical-align: top;\n    }\n\n    .dataframe thead th {\n        text-align: right;\n    }\n</style>\n<table border=\"1\" class=\"dataframe\">\n  <thead>\n    <tr style=\"text-align: right;\">\n      <th></th>\n      <th>A</th>\n      <th>B</th>\n      <th>C</th>\n      <th>D</th>\n    </tr>\n  </thead>\n  <tbody>\n    <tr>\n      <th>g</th>\n      <td>7.0</td>\n      <td>G</td>\n      <td>4</td>\n      <td>foo</td>\n    </tr>\n    <tr>\n      <th>j</th>\n      <td>10.0</td>\n      <td>J</td>\n      <td>1</td>\n      <td>foo</td>\n    </tr>\n  </tbody>\n</table>\n</div>"
     },
     "execution_count": 341,
     "metadata": {},
     "output_type": "execute_result"
    }
   ],
   "source": [
    "df2[df2[\"B\"].isin([\"G\", \"J\"])]"
   ]
  },
  {
   "cell_type": "markdown",
   "source": [
    "### Dodela vrednosti"
   ],
   "metadata": {
    "collapsed": false
   }
  },
  {
   "cell_type": "markdown",
   "metadata": {
    "collapsed": false
   },
   "source": [
    "##### Dodela vrednosti preko labele"
   ]
  },
  {
   "cell_type": "code",
   "execution_count": 342,
   "metadata": {
    "collapsed": false,
    "ExecuteTime": {
     "end_time": "2023-08-24T18:17:37.654653Z",
     "start_time": "2023-08-24T18:17:37.200991Z"
    }
   },
   "outputs": [
    {
     "data": {
      "text/plain": "      A  B   C    D\na   1.0  A  10  foo\nb  -1.0  B   9  foo\nc   3.0  C   8  foo\nd   4.0  D   7  foo\ne   5.0  E   6  foo\nf   6.0  F   5  foo\ng   7.0  G   4  foo\nh   8.0  H   3  foo\ni   9.0  I   2  foo\nj  10.0  J   1  foo",
      "text/html": "<div>\n<style scoped>\n    .dataframe tbody tr th:only-of-type {\n        vertical-align: middle;\n    }\n\n    .dataframe tbody tr th {\n        vertical-align: top;\n    }\n\n    .dataframe thead th {\n        text-align: right;\n    }\n</style>\n<table border=\"1\" class=\"dataframe\">\n  <thead>\n    <tr style=\"text-align: right;\">\n      <th></th>\n      <th>A</th>\n      <th>B</th>\n      <th>C</th>\n      <th>D</th>\n    </tr>\n  </thead>\n  <tbody>\n    <tr>\n      <th>a</th>\n      <td>1.0</td>\n      <td>A</td>\n      <td>10</td>\n      <td>foo</td>\n    </tr>\n    <tr>\n      <th>b</th>\n      <td>-1.0</td>\n      <td>B</td>\n      <td>9</td>\n      <td>foo</td>\n    </tr>\n    <tr>\n      <th>c</th>\n      <td>3.0</td>\n      <td>C</td>\n      <td>8</td>\n      <td>foo</td>\n    </tr>\n    <tr>\n      <th>d</th>\n      <td>4.0</td>\n      <td>D</td>\n      <td>7</td>\n      <td>foo</td>\n    </tr>\n    <tr>\n      <th>e</th>\n      <td>5.0</td>\n      <td>E</td>\n      <td>6</td>\n      <td>foo</td>\n    </tr>\n    <tr>\n      <th>f</th>\n      <td>6.0</td>\n      <td>F</td>\n      <td>5</td>\n      <td>foo</td>\n    </tr>\n    <tr>\n      <th>g</th>\n      <td>7.0</td>\n      <td>G</td>\n      <td>4</td>\n      <td>foo</td>\n    </tr>\n    <tr>\n      <th>h</th>\n      <td>8.0</td>\n      <td>H</td>\n      <td>3</td>\n      <td>foo</td>\n    </tr>\n    <tr>\n      <th>i</th>\n      <td>9.0</td>\n      <td>I</td>\n      <td>2</td>\n      <td>foo</td>\n    </tr>\n    <tr>\n      <th>j</th>\n      <td>10.0</td>\n      <td>J</td>\n      <td>1</td>\n      <td>foo</td>\n    </tr>\n  </tbody>\n</table>\n</div>"
     },
     "execution_count": 342,
     "metadata": {},
     "output_type": "execute_result"
    }
   ],
   "source": [
    "df2.at['b', \"A\"] = -1\n",
    "df2"
   ]
  },
  {
   "cell_type": "markdown",
   "metadata": {
    "collapsed": false
   },
   "source": [
    "##### Dodela vrednosti preko pozicije"
   ]
  },
  {
   "cell_type": "code",
   "execution_count": 343,
   "metadata": {
    "collapsed": false,
    "ExecuteTime": {
     "end_time": "2023-08-24T18:17:37.668930Z",
     "start_time": "2023-08-24T18:17:37.207082Z"
    }
   },
   "outputs": [
    {
     "data": {
      "text/plain": "      A  B   C    D\na   1.0  M  10  foo\nb  -1.0  B   9  foo\nc   3.0  C   8  foo\nd   4.0  D   7  foo\ne   5.0  E   6  foo\nf   6.0  F   5  foo\ng   7.0  G   4  foo\nh   8.0  H   3  foo\ni   9.0  I   2  foo\nj  10.0  J   1  foo",
      "text/html": "<div>\n<style scoped>\n    .dataframe tbody tr th:only-of-type {\n        vertical-align: middle;\n    }\n\n    .dataframe tbody tr th {\n        vertical-align: top;\n    }\n\n    .dataframe thead th {\n        text-align: right;\n    }\n</style>\n<table border=\"1\" class=\"dataframe\">\n  <thead>\n    <tr style=\"text-align: right;\">\n      <th></th>\n      <th>A</th>\n      <th>B</th>\n      <th>C</th>\n      <th>D</th>\n    </tr>\n  </thead>\n  <tbody>\n    <tr>\n      <th>a</th>\n      <td>1.0</td>\n      <td>M</td>\n      <td>10</td>\n      <td>foo</td>\n    </tr>\n    <tr>\n      <th>b</th>\n      <td>-1.0</td>\n      <td>B</td>\n      <td>9</td>\n      <td>foo</td>\n    </tr>\n    <tr>\n      <th>c</th>\n      <td>3.0</td>\n      <td>C</td>\n      <td>8</td>\n      <td>foo</td>\n    </tr>\n    <tr>\n      <th>d</th>\n      <td>4.0</td>\n      <td>D</td>\n      <td>7</td>\n      <td>foo</td>\n    </tr>\n    <tr>\n      <th>e</th>\n      <td>5.0</td>\n      <td>E</td>\n      <td>6</td>\n      <td>foo</td>\n    </tr>\n    <tr>\n      <th>f</th>\n      <td>6.0</td>\n      <td>F</td>\n      <td>5</td>\n      <td>foo</td>\n    </tr>\n    <tr>\n      <th>g</th>\n      <td>7.0</td>\n      <td>G</td>\n      <td>4</td>\n      <td>foo</td>\n    </tr>\n    <tr>\n      <th>h</th>\n      <td>8.0</td>\n      <td>H</td>\n      <td>3</td>\n      <td>foo</td>\n    </tr>\n    <tr>\n      <th>i</th>\n      <td>9.0</td>\n      <td>I</td>\n      <td>2</td>\n      <td>foo</td>\n    </tr>\n    <tr>\n      <th>j</th>\n      <td>10.0</td>\n      <td>J</td>\n      <td>1</td>\n      <td>foo</td>\n    </tr>\n  </tbody>\n</table>\n</div>"
     },
     "execution_count": 343,
     "metadata": {},
     "output_type": "execute_result"
    }
   ],
   "source": [
    "df2.iat[0, 1] = 'M'\n",
    "df2"
   ]
  },
  {
   "cell_type": "markdown",
   "metadata": {
    "collapsed": false
   },
   "source": [
    "Dodela vrednosti pomoću niza"
   ]
  },
  {
   "cell_type": "code",
   "execution_count": 344,
   "metadata": {
    "collapsed": false,
    "ExecuteTime": {
     "end_time": "2023-08-24T18:17:37.672708Z",
     "start_time": "2023-08-24T18:17:37.213962Z"
    }
   },
   "outputs": [
    {
     "data": {
      "text/plain": "      A  B   C    D\na   1.0  M  10   -1\nb  -1.0  B   9   -2\nc   3.0  C   8   -3\nd   4.0  D   7   -4\ne   5.0  E   6   -5\nf   6.0  F   5   -6\ng   7.0  G   4   -7\nh   8.0  H   3   -8\ni   9.0  I   2   -9\nj  10.0  J   1  -10",
      "text/html": "<div>\n<style scoped>\n    .dataframe tbody tr th:only-of-type {\n        vertical-align: middle;\n    }\n\n    .dataframe tbody tr th {\n        vertical-align: top;\n    }\n\n    .dataframe thead th {\n        text-align: right;\n    }\n</style>\n<table border=\"1\" class=\"dataframe\">\n  <thead>\n    <tr style=\"text-align: right;\">\n      <th></th>\n      <th>A</th>\n      <th>B</th>\n      <th>C</th>\n      <th>D</th>\n    </tr>\n  </thead>\n  <tbody>\n    <tr>\n      <th>a</th>\n      <td>1.0</td>\n      <td>M</td>\n      <td>10</td>\n      <td>-1</td>\n    </tr>\n    <tr>\n      <th>b</th>\n      <td>-1.0</td>\n      <td>B</td>\n      <td>9</td>\n      <td>-2</td>\n    </tr>\n    <tr>\n      <th>c</th>\n      <td>3.0</td>\n      <td>C</td>\n      <td>8</td>\n      <td>-3</td>\n    </tr>\n    <tr>\n      <th>d</th>\n      <td>4.0</td>\n      <td>D</td>\n      <td>7</td>\n      <td>-4</td>\n    </tr>\n    <tr>\n      <th>e</th>\n      <td>5.0</td>\n      <td>E</td>\n      <td>6</td>\n      <td>-5</td>\n    </tr>\n    <tr>\n      <th>f</th>\n      <td>6.0</td>\n      <td>F</td>\n      <td>5</td>\n      <td>-6</td>\n    </tr>\n    <tr>\n      <th>g</th>\n      <td>7.0</td>\n      <td>G</td>\n      <td>4</td>\n      <td>-7</td>\n    </tr>\n    <tr>\n      <th>h</th>\n      <td>8.0</td>\n      <td>H</td>\n      <td>3</td>\n      <td>-8</td>\n    </tr>\n    <tr>\n      <th>i</th>\n      <td>9.0</td>\n      <td>I</td>\n      <td>2</td>\n      <td>-9</td>\n    </tr>\n    <tr>\n      <th>j</th>\n      <td>10.0</td>\n      <td>J</td>\n      <td>1</td>\n      <td>-10</td>\n    </tr>\n  </tbody>\n</table>\n</div>"
     },
     "execution_count": 344,
     "metadata": {},
     "output_type": "execute_result"
    }
   ],
   "source": [
    "df2.loc[:, \"D\"] = [-1, -2, -3, -4, -5, -6, -7, -8, -9, -10]\n",
    "df2"
   ]
  },
  {
   "cell_type": "markdown",
   "metadata": {
    "collapsed": false
   },
   "source": [
    "### Nedostajući podaci"
   ]
  },
  {
   "cell_type": "code",
   "execution_count": 345,
   "metadata": {
    "collapsed": false,
    "ExecuteTime": {
     "end_time": "2023-08-24T18:17:37.679618Z",
     "start_time": "2023-08-24T18:17:37.218708Z"
    }
   },
   "outputs": [],
   "source": [
    "df3 = pd.DataFrame(\n",
    "    {\n",
    "        \"A\": [1.0, 2.0, 3.0, 4.0, 5.0, 6.0, 7.0, 8.0, 9.0, 10.0],\n",
    "        \"B\": [\"A\", \"B\", \"C\", \"D\", \"E\", \"F\", \"G\", \"H\", \"I\", \"J\"],\n",
    "        \"C\": [10, 9, 8, 7, 6, 5, 4, 3, 2, 1],\n",
    "        \"D\": ['dog', 'cat', None, 'lion', 'bear', 'penguin', 'horse', 'dolphin', 'panda', 'seagull'],\n",
    "    },\n",
    "    index=list('abcdefghij')\n",
    ")"
   ]
  },
  {
   "cell_type": "markdown",
   "metadata": {
    "collapsed": false
   },
   "source": [
    "Odbacivanje redova koji imaju nedostajajuće podatke"
   ]
  },
  {
   "cell_type": "code",
   "execution_count": 346,
   "metadata": {
    "collapsed": false,
    "ExecuteTime": {
     "end_time": "2023-08-24T18:17:37.683273Z",
     "start_time": "2023-08-24T18:17:37.224297Z"
    }
   },
   "outputs": [
    {
     "data": {
      "text/plain": "      A  B   C        D\na   1.0  A  10      dog\nb   2.0  B   9      cat\nd   4.0  D   7     lion\ne   5.0  E   6     bear\nf   6.0  F   5  penguin\ng   7.0  G   4    horse\nh   8.0  H   3  dolphin\ni   9.0  I   2    panda\nj  10.0  J   1  seagull",
      "text/html": "<div>\n<style scoped>\n    .dataframe tbody tr th:only-of-type {\n        vertical-align: middle;\n    }\n\n    .dataframe tbody tr th {\n        vertical-align: top;\n    }\n\n    .dataframe thead th {\n        text-align: right;\n    }\n</style>\n<table border=\"1\" class=\"dataframe\">\n  <thead>\n    <tr style=\"text-align: right;\">\n      <th></th>\n      <th>A</th>\n      <th>B</th>\n      <th>C</th>\n      <th>D</th>\n    </tr>\n  </thead>\n  <tbody>\n    <tr>\n      <th>a</th>\n      <td>1.0</td>\n      <td>A</td>\n      <td>10</td>\n      <td>dog</td>\n    </tr>\n    <tr>\n      <th>b</th>\n      <td>2.0</td>\n      <td>B</td>\n      <td>9</td>\n      <td>cat</td>\n    </tr>\n    <tr>\n      <th>d</th>\n      <td>4.0</td>\n      <td>D</td>\n      <td>7</td>\n      <td>lion</td>\n    </tr>\n    <tr>\n      <th>e</th>\n      <td>5.0</td>\n      <td>E</td>\n      <td>6</td>\n      <td>bear</td>\n    </tr>\n    <tr>\n      <th>f</th>\n      <td>6.0</td>\n      <td>F</td>\n      <td>5</td>\n      <td>penguin</td>\n    </tr>\n    <tr>\n      <th>g</th>\n      <td>7.0</td>\n      <td>G</td>\n      <td>4</td>\n      <td>horse</td>\n    </tr>\n    <tr>\n      <th>h</th>\n      <td>8.0</td>\n      <td>H</td>\n      <td>3</td>\n      <td>dolphin</td>\n    </tr>\n    <tr>\n      <th>i</th>\n      <td>9.0</td>\n      <td>I</td>\n      <td>2</td>\n      <td>panda</td>\n    </tr>\n    <tr>\n      <th>j</th>\n      <td>10.0</td>\n      <td>J</td>\n      <td>1</td>\n      <td>seagull</td>\n    </tr>\n  </tbody>\n</table>\n</div>"
     },
     "execution_count": 346,
     "metadata": {},
     "output_type": "execute_result"
    }
   ],
   "source": [
    "df3.dropna(how=\"any\")"
   ]
  },
  {
   "cell_type": "markdown",
   "metadata": {
    "collapsed": false
   },
   "source": [
    "Odbacivanje kolona koje imaju nedostajajuće podatke"
   ]
  },
  {
   "cell_type": "code",
   "execution_count": 347,
   "metadata": {
    "collapsed": false,
    "ExecuteTime": {
     "end_time": "2023-08-24T18:17:37.686734Z",
     "start_time": "2023-08-24T18:17:37.230745Z"
    }
   },
   "outputs": [
    {
     "data": {
      "text/plain": "      A  B   C\na   1.0  A  10\nb   2.0  B   9\nc   3.0  C   8\nd   4.0  D   7\ne   5.0  E   6\nf   6.0  F   5\ng   7.0  G   4\nh   8.0  H   3\ni   9.0  I   2\nj  10.0  J   1",
      "text/html": "<div>\n<style scoped>\n    .dataframe tbody tr th:only-of-type {\n        vertical-align: middle;\n    }\n\n    .dataframe tbody tr th {\n        vertical-align: top;\n    }\n\n    .dataframe thead th {\n        text-align: right;\n    }\n</style>\n<table border=\"1\" class=\"dataframe\">\n  <thead>\n    <tr style=\"text-align: right;\">\n      <th></th>\n      <th>A</th>\n      <th>B</th>\n      <th>C</th>\n    </tr>\n  </thead>\n  <tbody>\n    <tr>\n      <th>a</th>\n      <td>1.0</td>\n      <td>A</td>\n      <td>10</td>\n    </tr>\n    <tr>\n      <th>b</th>\n      <td>2.0</td>\n      <td>B</td>\n      <td>9</td>\n    </tr>\n    <tr>\n      <th>c</th>\n      <td>3.0</td>\n      <td>C</td>\n      <td>8</td>\n    </tr>\n    <tr>\n      <th>d</th>\n      <td>4.0</td>\n      <td>D</td>\n      <td>7</td>\n    </tr>\n    <tr>\n      <th>e</th>\n      <td>5.0</td>\n      <td>E</td>\n      <td>6</td>\n    </tr>\n    <tr>\n      <th>f</th>\n      <td>6.0</td>\n      <td>F</td>\n      <td>5</td>\n    </tr>\n    <tr>\n      <th>g</th>\n      <td>7.0</td>\n      <td>G</td>\n      <td>4</td>\n    </tr>\n    <tr>\n      <th>h</th>\n      <td>8.0</td>\n      <td>H</td>\n      <td>3</td>\n    </tr>\n    <tr>\n      <th>i</th>\n      <td>9.0</td>\n      <td>I</td>\n      <td>2</td>\n    </tr>\n    <tr>\n      <th>j</th>\n      <td>10.0</td>\n      <td>J</td>\n      <td>1</td>\n    </tr>\n  </tbody>\n</table>\n</div>"
     },
     "execution_count": 347,
     "metadata": {},
     "output_type": "execute_result"
    }
   ],
   "source": [
    "df3.dropna(how=\"any\", axis=1)"
   ]
  },
  {
   "cell_type": "markdown",
   "metadata": {
    "collapsed": false
   },
   "source": [
    "```fillna()``` popunjava nedostajajuće podatke:"
   ]
  },
  {
   "cell_type": "code",
   "execution_count": 348,
   "metadata": {
    "collapsed": false,
    "ExecuteTime": {
     "end_time": "2023-08-24T18:17:37.693527Z",
     "start_time": "2023-08-24T18:17:37.237179Z"
    }
   },
   "outputs": [
    {
     "data": {
      "text/plain": "      A  B   C        D\na   1.0  A  10      dog\nb   2.0  B   9      cat\nc   3.0  C   8     None\nd   4.0  D   7     lion\ne   5.0  E   6     bear\nf   6.0  F   5  penguin\ng   7.0  G   4    horse\nh   8.0  H   3  dolphin\ni   9.0  I   2    panda\nj  10.0  J   1  seagull",
      "text/html": "<div>\n<style scoped>\n    .dataframe tbody tr th:only-of-type {\n        vertical-align: middle;\n    }\n\n    .dataframe tbody tr th {\n        vertical-align: top;\n    }\n\n    .dataframe thead th {\n        text-align: right;\n    }\n</style>\n<table border=\"1\" class=\"dataframe\">\n  <thead>\n    <tr style=\"text-align: right;\">\n      <th></th>\n      <th>A</th>\n      <th>B</th>\n      <th>C</th>\n      <th>D</th>\n    </tr>\n  </thead>\n  <tbody>\n    <tr>\n      <th>a</th>\n      <td>1.0</td>\n      <td>A</td>\n      <td>10</td>\n      <td>dog</td>\n    </tr>\n    <tr>\n      <th>b</th>\n      <td>2.0</td>\n      <td>B</td>\n      <td>9</td>\n      <td>cat</td>\n    </tr>\n    <tr>\n      <th>c</th>\n      <td>3.0</td>\n      <td>C</td>\n      <td>8</td>\n      <td>None</td>\n    </tr>\n    <tr>\n      <th>d</th>\n      <td>4.0</td>\n      <td>D</td>\n      <td>7</td>\n      <td>lion</td>\n    </tr>\n    <tr>\n      <th>e</th>\n      <td>5.0</td>\n      <td>E</td>\n      <td>6</td>\n      <td>bear</td>\n    </tr>\n    <tr>\n      <th>f</th>\n      <td>6.0</td>\n      <td>F</td>\n      <td>5</td>\n      <td>penguin</td>\n    </tr>\n    <tr>\n      <th>g</th>\n      <td>7.0</td>\n      <td>G</td>\n      <td>4</td>\n      <td>horse</td>\n    </tr>\n    <tr>\n      <th>h</th>\n      <td>8.0</td>\n      <td>H</td>\n      <td>3</td>\n      <td>dolphin</td>\n    </tr>\n    <tr>\n      <th>i</th>\n      <td>9.0</td>\n      <td>I</td>\n      <td>2</td>\n      <td>panda</td>\n    </tr>\n    <tr>\n      <th>j</th>\n      <td>10.0</td>\n      <td>J</td>\n      <td>1</td>\n      <td>seagull</td>\n    </tr>\n  </tbody>\n</table>\n</div>"
     },
     "execution_count": 348,
     "metadata": {},
     "output_type": "execute_result"
    }
   ],
   "source": [
    "df3.fillna(value=555)\n",
    "df3"
   ]
  },
  {
   "cell_type": "markdown",
   "metadata": {
    "collapsed": false
   },
   "source": [
    "### Kreiranje novih kolona na osnovu postojećih\n"
   ]
  },
  {
   "cell_type": "markdown",
   "metadata": {
    "collapsed": false
   },
   "source": [
    "Kreiranje nove kolone"
   ]
  },
  {
   "cell_type": "markdown",
   "metadata": {
    "collapsed": false
   },
   "source": [
    "Za kreiranje nove kolone, koriste se uglaste zagrade ```[]``` sa nazivom nove kolone sa leve strane dodele"
   ]
  },
  {
   "cell_type": "code",
   "execution_count": 349,
   "metadata": {
    "collapsed": false,
    "ExecuteTime": {
     "end_time": "2023-08-24T18:17:37.707191Z",
     "start_time": "2023-08-24T18:17:37.251209Z"
    }
   },
   "outputs": [
    {
     "data": {
      "text/plain": "      A  B   C        D  A_double\na   1.0  A  10      dog       2.0\nb   2.0  B   9      cat       4.0\nc   3.0  C   8     None       6.0\nd   4.0  D   7     lion       8.0\ne   5.0  E   6     bear      10.0\nf   6.0  F   5  penguin      12.0\ng   7.0  G   4    horse      14.0\nh   8.0  H   3  dolphin      16.0\ni   9.0  I   2    panda      18.0\nj  10.0  J   1  seagull      20.0",
      "text/html": "<div>\n<style scoped>\n    .dataframe tbody tr th:only-of-type {\n        vertical-align: middle;\n    }\n\n    .dataframe tbody tr th {\n        vertical-align: top;\n    }\n\n    .dataframe thead th {\n        text-align: right;\n    }\n</style>\n<table border=\"1\" class=\"dataframe\">\n  <thead>\n    <tr style=\"text-align: right;\">\n      <th></th>\n      <th>A</th>\n      <th>B</th>\n      <th>C</th>\n      <th>D</th>\n      <th>A_double</th>\n    </tr>\n  </thead>\n  <tbody>\n    <tr>\n      <th>a</th>\n      <td>1.0</td>\n      <td>A</td>\n      <td>10</td>\n      <td>dog</td>\n      <td>2.0</td>\n    </tr>\n    <tr>\n      <th>b</th>\n      <td>2.0</td>\n      <td>B</td>\n      <td>9</td>\n      <td>cat</td>\n      <td>4.0</td>\n    </tr>\n    <tr>\n      <th>c</th>\n      <td>3.0</td>\n      <td>C</td>\n      <td>8</td>\n      <td>None</td>\n      <td>6.0</td>\n    </tr>\n    <tr>\n      <th>d</th>\n      <td>4.0</td>\n      <td>D</td>\n      <td>7</td>\n      <td>lion</td>\n      <td>8.0</td>\n    </tr>\n    <tr>\n      <th>e</th>\n      <td>5.0</td>\n      <td>E</td>\n      <td>6</td>\n      <td>bear</td>\n      <td>10.0</td>\n    </tr>\n    <tr>\n      <th>f</th>\n      <td>6.0</td>\n      <td>F</td>\n      <td>5</td>\n      <td>penguin</td>\n      <td>12.0</td>\n    </tr>\n    <tr>\n      <th>g</th>\n      <td>7.0</td>\n      <td>G</td>\n      <td>4</td>\n      <td>horse</td>\n      <td>14.0</td>\n    </tr>\n    <tr>\n      <th>h</th>\n      <td>8.0</td>\n      <td>H</td>\n      <td>3</td>\n      <td>dolphin</td>\n      <td>16.0</td>\n    </tr>\n    <tr>\n      <th>i</th>\n      <td>9.0</td>\n      <td>I</td>\n      <td>2</td>\n      <td>panda</td>\n      <td>18.0</td>\n    </tr>\n    <tr>\n      <th>j</th>\n      <td>10.0</td>\n      <td>J</td>\n      <td>1</td>\n      <td>seagull</td>\n      <td>20.0</td>\n    </tr>\n  </tbody>\n</table>\n</div>"
     },
     "execution_count": 349,
     "metadata": {},
     "output_type": "execute_result"
    }
   ],
   "source": [
    "df3[\"A_double\"] = df3[\"A\"] * 2\n",
    "df3"
   ]
  },
  {
   "cell_type": "code",
   "execution_count": 350,
   "metadata": {
    "collapsed": false,
    "ExecuteTime": {
     "end_time": "2023-08-24T18:17:37.707491Z",
     "start_time": "2023-08-24T18:17:37.256176Z"
    }
   },
   "outputs": [
    {
     "data": {
      "text/plain": "      A  B   C        D  A_double   A*C\na   1.0  A  10      dog       2.0  10.0\nb   2.0  B   9      cat       4.0  18.0\nc   3.0  C   8     None       6.0  24.0\nd   4.0  D   7     lion       8.0  28.0\ne   5.0  E   6     bear      10.0  30.0\nf   6.0  F   5  penguin      12.0  30.0\ng   7.0  G   4    horse      14.0  28.0\nh   8.0  H   3  dolphin      16.0  24.0\ni   9.0  I   2    panda      18.0  18.0\nj  10.0  J   1  seagull      20.0  10.0",
      "text/html": "<div>\n<style scoped>\n    .dataframe tbody tr th:only-of-type {\n        vertical-align: middle;\n    }\n\n    .dataframe tbody tr th {\n        vertical-align: top;\n    }\n\n    .dataframe thead th {\n        text-align: right;\n    }\n</style>\n<table border=\"1\" class=\"dataframe\">\n  <thead>\n    <tr style=\"text-align: right;\">\n      <th></th>\n      <th>A</th>\n      <th>B</th>\n      <th>C</th>\n      <th>D</th>\n      <th>A_double</th>\n      <th>A*C</th>\n    </tr>\n  </thead>\n  <tbody>\n    <tr>\n      <th>a</th>\n      <td>1.0</td>\n      <td>A</td>\n      <td>10</td>\n      <td>dog</td>\n      <td>2.0</td>\n      <td>10.0</td>\n    </tr>\n    <tr>\n      <th>b</th>\n      <td>2.0</td>\n      <td>B</td>\n      <td>9</td>\n      <td>cat</td>\n      <td>4.0</td>\n      <td>18.0</td>\n    </tr>\n    <tr>\n      <th>c</th>\n      <td>3.0</td>\n      <td>C</td>\n      <td>8</td>\n      <td>None</td>\n      <td>6.0</td>\n      <td>24.0</td>\n    </tr>\n    <tr>\n      <th>d</th>\n      <td>4.0</td>\n      <td>D</td>\n      <td>7</td>\n      <td>lion</td>\n      <td>8.0</td>\n      <td>28.0</td>\n    </tr>\n    <tr>\n      <th>e</th>\n      <td>5.0</td>\n      <td>E</td>\n      <td>6</td>\n      <td>bear</td>\n      <td>10.0</td>\n      <td>30.0</td>\n    </tr>\n    <tr>\n      <th>f</th>\n      <td>6.0</td>\n      <td>F</td>\n      <td>5</td>\n      <td>penguin</td>\n      <td>12.0</td>\n      <td>30.0</td>\n    </tr>\n    <tr>\n      <th>g</th>\n      <td>7.0</td>\n      <td>G</td>\n      <td>4</td>\n      <td>horse</td>\n      <td>14.0</td>\n      <td>28.0</td>\n    </tr>\n    <tr>\n      <th>h</th>\n      <td>8.0</td>\n      <td>H</td>\n      <td>3</td>\n      <td>dolphin</td>\n      <td>16.0</td>\n      <td>24.0</td>\n    </tr>\n    <tr>\n      <th>i</th>\n      <td>9.0</td>\n      <td>I</td>\n      <td>2</td>\n      <td>panda</td>\n      <td>18.0</td>\n      <td>18.0</td>\n    </tr>\n    <tr>\n      <th>j</th>\n      <td>10.0</td>\n      <td>J</td>\n      <td>1</td>\n      <td>seagull</td>\n      <td>20.0</td>\n      <td>10.0</td>\n    </tr>\n  </tbody>\n</table>\n</div>"
     },
     "execution_count": 350,
     "metadata": {},
     "output_type": "execute_result"
    }
   ],
   "source": [
    "df3[\"A*C\"] = df3[\"A\"] * df3[\"C\"]\n",
    "df3"
   ]
  },
  {
   "cell_type": "markdown",
   "metadata": {
    "collapsed": false
   },
   "source": [
    "Promena naziva kolona"
   ]
  },
  {
   "cell_type": "code",
   "execution_count": 351,
   "metadata": {
    "collapsed": false,
    "ExecuteTime": {
     "end_time": "2023-08-24T18:17:37.730023Z",
     "start_time": "2023-08-24T18:17:37.261006Z"
    }
   },
   "outputs": [
    {
     "data": {
      "text/plain": "      A letters   C  animals  A_double   A*C\na   1.0       A  10      dog       2.0  10.0\nb   2.0       B   9      cat       4.0  18.0\nc   3.0       C   8     None       6.0  24.0\nd   4.0       D   7     lion       8.0  28.0\ne   5.0       E   6     bear      10.0  30.0\nf   6.0       F   5  penguin      12.0  30.0\ng   7.0       G   4    horse      14.0  28.0\nh   8.0       H   3  dolphin      16.0  24.0\ni   9.0       I   2    panda      18.0  18.0\nj  10.0       J   1  seagull      20.0  10.0",
      "text/html": "<div>\n<style scoped>\n    .dataframe tbody tr th:only-of-type {\n        vertical-align: middle;\n    }\n\n    .dataframe tbody tr th {\n        vertical-align: top;\n    }\n\n    .dataframe thead th {\n        text-align: right;\n    }\n</style>\n<table border=\"1\" class=\"dataframe\">\n  <thead>\n    <tr style=\"text-align: right;\">\n      <th></th>\n      <th>A</th>\n      <th>letters</th>\n      <th>C</th>\n      <th>animals</th>\n      <th>A_double</th>\n      <th>A*C</th>\n    </tr>\n  </thead>\n  <tbody>\n    <tr>\n      <th>a</th>\n      <td>1.0</td>\n      <td>A</td>\n      <td>10</td>\n      <td>dog</td>\n      <td>2.0</td>\n      <td>10.0</td>\n    </tr>\n    <tr>\n      <th>b</th>\n      <td>2.0</td>\n      <td>B</td>\n      <td>9</td>\n      <td>cat</td>\n      <td>4.0</td>\n      <td>18.0</td>\n    </tr>\n    <tr>\n      <th>c</th>\n      <td>3.0</td>\n      <td>C</td>\n      <td>8</td>\n      <td>None</td>\n      <td>6.0</td>\n      <td>24.0</td>\n    </tr>\n    <tr>\n      <th>d</th>\n      <td>4.0</td>\n      <td>D</td>\n      <td>7</td>\n      <td>lion</td>\n      <td>8.0</td>\n      <td>28.0</td>\n    </tr>\n    <tr>\n      <th>e</th>\n      <td>5.0</td>\n      <td>E</td>\n      <td>6</td>\n      <td>bear</td>\n      <td>10.0</td>\n      <td>30.0</td>\n    </tr>\n    <tr>\n      <th>f</th>\n      <td>6.0</td>\n      <td>F</td>\n      <td>5</td>\n      <td>penguin</td>\n      <td>12.0</td>\n      <td>30.0</td>\n    </tr>\n    <tr>\n      <th>g</th>\n      <td>7.0</td>\n      <td>G</td>\n      <td>4</td>\n      <td>horse</td>\n      <td>14.0</td>\n      <td>28.0</td>\n    </tr>\n    <tr>\n      <th>h</th>\n      <td>8.0</td>\n      <td>H</td>\n      <td>3</td>\n      <td>dolphin</td>\n      <td>16.0</td>\n      <td>24.0</td>\n    </tr>\n    <tr>\n      <th>i</th>\n      <td>9.0</td>\n      <td>I</td>\n      <td>2</td>\n      <td>panda</td>\n      <td>18.0</td>\n      <td>18.0</td>\n    </tr>\n    <tr>\n      <th>j</th>\n      <td>10.0</td>\n      <td>J</td>\n      <td>1</td>\n      <td>seagull</td>\n      <td>20.0</td>\n      <td>10.0</td>\n    </tr>\n  </tbody>\n</table>\n</div>"
     },
     "execution_count": 351,
     "metadata": {},
     "output_type": "execute_result"
    }
   ],
   "source": [
    "df3 = df3.rename(\n",
    "    columns = {\n",
    "        \"B\": \"letters\",\n",
    "        \"D\": \"animals\"\n",
    "    }\n",
    ")\n",
    "\n",
    "df3"
   ]
  },
  {
   "cell_type": "markdown",
   "metadata": {
    "collapsed": false
   },
   "source": [
    "### Kombinovanje podataka iz različitih tabela"
   ]
  },
  {
   "cell_type": "markdown",
   "metadata": {
    "collapsed": false
   },
   "source": [
    "##### Concat\n",
    "\n",
    "Spajanje DataFrame-ova po osi preko ```concat()```"
   ]
  },
  {
   "cell_type": "code",
   "execution_count": 352,
   "metadata": {
    "collapsed": false,
    "ExecuteTime": {
     "end_time": "2023-08-24T18:17:37.730172Z",
     "start_time": "2023-08-24T18:17:37.264327Z"
    }
   },
   "outputs": [],
   "source": [
    "dfa = df2[:3]\n",
    "dfb = df2[3:7]\n",
    "dfc = df2[7:]"
   ]
  },
  {
   "cell_type": "code",
   "execution_count": 353,
   "metadata": {
    "collapsed": false,
    "ExecuteTime": {
     "end_time": "2023-08-24T18:17:37.743275Z",
     "start_time": "2023-08-24T18:17:37.267516Z"
    }
   },
   "outputs": [
    {
     "data": {
      "text/plain": "     A  B   C   D\na  1.0  M  10  -1\nb -1.0  B   9  -2\nc  3.0  C   8  -3",
      "text/html": "<div>\n<style scoped>\n    .dataframe tbody tr th:only-of-type {\n        vertical-align: middle;\n    }\n\n    .dataframe tbody tr th {\n        vertical-align: top;\n    }\n\n    .dataframe thead th {\n        text-align: right;\n    }\n</style>\n<table border=\"1\" class=\"dataframe\">\n  <thead>\n    <tr style=\"text-align: right;\">\n      <th></th>\n      <th>A</th>\n      <th>B</th>\n      <th>C</th>\n      <th>D</th>\n    </tr>\n  </thead>\n  <tbody>\n    <tr>\n      <th>a</th>\n      <td>1.0</td>\n      <td>M</td>\n      <td>10</td>\n      <td>-1</td>\n    </tr>\n    <tr>\n      <th>b</th>\n      <td>-1.0</td>\n      <td>B</td>\n      <td>9</td>\n      <td>-2</td>\n    </tr>\n    <tr>\n      <th>c</th>\n      <td>3.0</td>\n      <td>C</td>\n      <td>8</td>\n      <td>-3</td>\n    </tr>\n  </tbody>\n</table>\n</div>"
     },
     "execution_count": 353,
     "metadata": {},
     "output_type": "execute_result"
    }
   ],
   "source": [
    "dfa"
   ]
  },
  {
   "cell_type": "code",
   "execution_count": 354,
   "metadata": {
    "collapsed": false,
    "ExecuteTime": {
     "end_time": "2023-08-24T18:17:37.743592Z",
     "start_time": "2023-08-24T18:17:37.270936Z"
    }
   },
   "outputs": [
    {
     "data": {
      "text/plain": "     A  B  C   D\nd  4.0  D  7  -4\ne  5.0  E  6  -5\nf  6.0  F  5  -6\ng  7.0  G  4  -7",
      "text/html": "<div>\n<style scoped>\n    .dataframe tbody tr th:only-of-type {\n        vertical-align: middle;\n    }\n\n    .dataframe tbody tr th {\n        vertical-align: top;\n    }\n\n    .dataframe thead th {\n        text-align: right;\n    }\n</style>\n<table border=\"1\" class=\"dataframe\">\n  <thead>\n    <tr style=\"text-align: right;\">\n      <th></th>\n      <th>A</th>\n      <th>B</th>\n      <th>C</th>\n      <th>D</th>\n    </tr>\n  </thead>\n  <tbody>\n    <tr>\n      <th>d</th>\n      <td>4.0</td>\n      <td>D</td>\n      <td>7</td>\n      <td>-4</td>\n    </tr>\n    <tr>\n      <th>e</th>\n      <td>5.0</td>\n      <td>E</td>\n      <td>6</td>\n      <td>-5</td>\n    </tr>\n    <tr>\n      <th>f</th>\n      <td>6.0</td>\n      <td>F</td>\n      <td>5</td>\n      <td>-6</td>\n    </tr>\n    <tr>\n      <th>g</th>\n      <td>7.0</td>\n      <td>G</td>\n      <td>4</td>\n      <td>-7</td>\n    </tr>\n  </tbody>\n</table>\n</div>"
     },
     "execution_count": 354,
     "metadata": {},
     "output_type": "execute_result"
    }
   ],
   "source": [
    "dfb"
   ]
  },
  {
   "cell_type": "code",
   "execution_count": 355,
   "metadata": {
    "collapsed": false,
    "ExecuteTime": {
     "end_time": "2023-08-24T18:17:37.743775Z",
     "start_time": "2023-08-24T18:17:37.274545Z"
    }
   },
   "outputs": [
    {
     "data": {
      "text/plain": "      A  B  C    D\nh   8.0  H  3   -8\ni   9.0  I  2   -9\nj  10.0  J  1  -10",
      "text/html": "<div>\n<style scoped>\n    .dataframe tbody tr th:only-of-type {\n        vertical-align: middle;\n    }\n\n    .dataframe tbody tr th {\n        vertical-align: top;\n    }\n\n    .dataframe thead th {\n        text-align: right;\n    }\n</style>\n<table border=\"1\" class=\"dataframe\">\n  <thead>\n    <tr style=\"text-align: right;\">\n      <th></th>\n      <th>A</th>\n      <th>B</th>\n      <th>C</th>\n      <th>D</th>\n    </tr>\n  </thead>\n  <tbody>\n    <tr>\n      <th>h</th>\n      <td>8.0</td>\n      <td>H</td>\n      <td>3</td>\n      <td>-8</td>\n    </tr>\n    <tr>\n      <th>i</th>\n      <td>9.0</td>\n      <td>I</td>\n      <td>2</td>\n      <td>-9</td>\n    </tr>\n    <tr>\n      <th>j</th>\n      <td>10.0</td>\n      <td>J</td>\n      <td>1</td>\n      <td>-10</td>\n    </tr>\n  </tbody>\n</table>\n</div>"
     },
     "execution_count": 355,
     "metadata": {},
     "output_type": "execute_result"
    }
   ],
   "source": [
    "dfc"
   ]
  },
  {
   "cell_type": "code",
   "execution_count": 356,
   "metadata": {
    "collapsed": false,
    "ExecuteTime": {
     "end_time": "2023-08-24T18:17:37.750513Z",
     "start_time": "2023-08-24T18:17:37.279492Z"
    }
   },
   "outputs": [
    {
     "data": {
      "text/plain": "      A  B   C    D\na   1.0  M  10   -1\nb  -1.0  B   9   -2\nc   3.0  C   8   -3\nd   4.0  D   7   -4\ne   5.0  E   6   -5\nf   6.0  F   5   -6\ng   7.0  G   4   -7\nh   8.0  H   3   -8\ni   9.0  I   2   -9\nj  10.0  J   1  -10",
      "text/html": "<div>\n<style scoped>\n    .dataframe tbody tr th:only-of-type {\n        vertical-align: middle;\n    }\n\n    .dataframe tbody tr th {\n        vertical-align: top;\n    }\n\n    .dataframe thead th {\n        text-align: right;\n    }\n</style>\n<table border=\"1\" class=\"dataframe\">\n  <thead>\n    <tr style=\"text-align: right;\">\n      <th></th>\n      <th>A</th>\n      <th>B</th>\n      <th>C</th>\n      <th>D</th>\n    </tr>\n  </thead>\n  <tbody>\n    <tr>\n      <th>a</th>\n      <td>1.0</td>\n      <td>M</td>\n      <td>10</td>\n      <td>-1</td>\n    </tr>\n    <tr>\n      <th>b</th>\n      <td>-1.0</td>\n      <td>B</td>\n      <td>9</td>\n      <td>-2</td>\n    </tr>\n    <tr>\n      <th>c</th>\n      <td>3.0</td>\n      <td>C</td>\n      <td>8</td>\n      <td>-3</td>\n    </tr>\n    <tr>\n      <th>d</th>\n      <td>4.0</td>\n      <td>D</td>\n      <td>7</td>\n      <td>-4</td>\n    </tr>\n    <tr>\n      <th>e</th>\n      <td>5.0</td>\n      <td>E</td>\n      <td>6</td>\n      <td>-5</td>\n    </tr>\n    <tr>\n      <th>f</th>\n      <td>6.0</td>\n      <td>F</td>\n      <td>5</td>\n      <td>-6</td>\n    </tr>\n    <tr>\n      <th>g</th>\n      <td>7.0</td>\n      <td>G</td>\n      <td>4</td>\n      <td>-7</td>\n    </tr>\n    <tr>\n      <th>h</th>\n      <td>8.0</td>\n      <td>H</td>\n      <td>3</td>\n      <td>-8</td>\n    </tr>\n    <tr>\n      <th>i</th>\n      <td>9.0</td>\n      <td>I</td>\n      <td>2</td>\n      <td>-9</td>\n    </tr>\n    <tr>\n      <th>j</th>\n      <td>10.0</td>\n      <td>J</td>\n      <td>1</td>\n      <td>-10</td>\n    </tr>\n  </tbody>\n</table>\n</div>"
     },
     "execution_count": 356,
     "metadata": {},
     "output_type": "execute_result"
    }
   ],
   "source": [
    "pd.concat([dfa,dfb,dfc])"
   ]
  },
  {
   "cell_type": "markdown",
   "metadata": {
    "collapsed": false
   },
   "source": [
    "##### Join\n",
    "\n",
    "```merge()``` omogućava spajanje u SQL stilu"
   ]
  },
  {
   "cell_type": "code",
   "execution_count": 357,
   "metadata": {
    "collapsed": false,
    "ExecuteTime": {
     "end_time": "2023-08-24T18:17:37.750835Z",
     "start_time": "2023-08-24T18:17:37.283905Z"
    }
   },
   "outputs": [
    {
     "data": {
      "text/plain": "  key   A   B\n0  K0  A0  B0\n1  K1  A1  B1\n2  K2  A2  B2\n3  K3  A3  B3",
      "text/html": "<div>\n<style scoped>\n    .dataframe tbody tr th:only-of-type {\n        vertical-align: middle;\n    }\n\n    .dataframe tbody tr th {\n        vertical-align: top;\n    }\n\n    .dataframe thead th {\n        text-align: right;\n    }\n</style>\n<table border=\"1\" class=\"dataframe\">\n  <thead>\n    <tr style=\"text-align: right;\">\n      <th></th>\n      <th>key</th>\n      <th>A</th>\n      <th>B</th>\n    </tr>\n  </thead>\n  <tbody>\n    <tr>\n      <th>0</th>\n      <td>K0</td>\n      <td>A0</td>\n      <td>B0</td>\n    </tr>\n    <tr>\n      <th>1</th>\n      <td>K1</td>\n      <td>A1</td>\n      <td>B1</td>\n    </tr>\n    <tr>\n      <th>2</th>\n      <td>K2</td>\n      <td>A2</td>\n      <td>B2</td>\n    </tr>\n    <tr>\n      <th>3</th>\n      <td>K3</td>\n      <td>A3</td>\n      <td>B3</td>\n    </tr>\n  </tbody>\n</table>\n</div>"
     },
     "execution_count": 357,
     "metadata": {},
     "output_type": "execute_result"
    }
   ],
   "source": [
    "left = pd.DataFrame(\n",
    "    {\n",
    "        \"key\": [\"K0\", \"K1\", \"K2\", \"K3\"],\n",
    "        \"A\": [\"A0\", \"A1\", \"A2\", \"A3\"],\n",
    "        \"B\": [\"B0\", \"B1\", \"B2\", \"B3\"],\n",
    "    }\n",
    ")\n",
    "left"
   ]
  },
  {
   "cell_type": "code",
   "execution_count": 358,
   "metadata": {
    "collapsed": false,
    "ExecuteTime": {
     "end_time": "2023-08-24T18:17:37.757490Z",
     "start_time": "2023-08-24T18:17:37.288462Z"
    }
   },
   "outputs": [
    {
     "data": {
      "text/plain": "  key   C   D\n0  K0  C0  D0\n1  K1  C1  D1\n2  K2  C2  D2\n3  K3  C3  D3",
      "text/html": "<div>\n<style scoped>\n    .dataframe tbody tr th:only-of-type {\n        vertical-align: middle;\n    }\n\n    .dataframe tbody tr th {\n        vertical-align: top;\n    }\n\n    .dataframe thead th {\n        text-align: right;\n    }\n</style>\n<table border=\"1\" class=\"dataframe\">\n  <thead>\n    <tr style=\"text-align: right;\">\n      <th></th>\n      <th>key</th>\n      <th>C</th>\n      <th>D</th>\n    </tr>\n  </thead>\n  <tbody>\n    <tr>\n      <th>0</th>\n      <td>K0</td>\n      <td>C0</td>\n      <td>D0</td>\n    </tr>\n    <tr>\n      <th>1</th>\n      <td>K1</td>\n      <td>C1</td>\n      <td>D1</td>\n    </tr>\n    <tr>\n      <th>2</th>\n      <td>K2</td>\n      <td>C2</td>\n      <td>D2</td>\n    </tr>\n    <tr>\n      <th>3</th>\n      <td>K3</td>\n      <td>C3</td>\n      <td>D3</td>\n    </tr>\n  </tbody>\n</table>\n</div>"
     },
     "execution_count": 358,
     "metadata": {},
     "output_type": "execute_result"
    }
   ],
   "source": [
    "right = pd.DataFrame(\n",
    "    {\n",
    "        \"key\": [\"K0\", \"K1\", \"K2\", \"K3\"],\n",
    "        \"C\": [\"C0\", \"C1\", \"C2\", \"C3\"],\n",
    "        \"D\": [\"D0\", \"D1\", \"D2\", \"D3\"],\n",
    "    }\n",
    ")\n",
    "right"
   ]
  },
  {
   "cell_type": "code",
   "execution_count": 359,
   "metadata": {
    "collapsed": false,
    "ExecuteTime": {
     "end_time": "2023-08-24T18:17:37.766235Z",
     "start_time": "2023-08-24T18:17:37.294951Z"
    }
   },
   "outputs": [
    {
     "data": {
      "text/plain": "  key   A   B   C   D\n0  K0  A0  B0  C0  D0\n1  K1  A1  B1  C1  D1\n2  K2  A2  B2  C2  D2\n3  K3  A3  B3  C3  D3",
      "text/html": "<div>\n<style scoped>\n    .dataframe tbody tr th:only-of-type {\n        vertical-align: middle;\n    }\n\n    .dataframe tbody tr th {\n        vertical-align: top;\n    }\n\n    .dataframe thead th {\n        text-align: right;\n    }\n</style>\n<table border=\"1\" class=\"dataframe\">\n  <thead>\n    <tr style=\"text-align: right;\">\n      <th></th>\n      <th>key</th>\n      <th>A</th>\n      <th>B</th>\n      <th>C</th>\n      <th>D</th>\n    </tr>\n  </thead>\n  <tbody>\n    <tr>\n      <th>0</th>\n      <td>K0</td>\n      <td>A0</td>\n      <td>B0</td>\n      <td>C0</td>\n      <td>D0</td>\n    </tr>\n    <tr>\n      <th>1</th>\n      <td>K1</td>\n      <td>A1</td>\n      <td>B1</td>\n      <td>C1</td>\n      <td>D1</td>\n    </tr>\n    <tr>\n      <th>2</th>\n      <td>K2</td>\n      <td>A2</td>\n      <td>B2</td>\n      <td>C2</td>\n      <td>D2</td>\n    </tr>\n    <tr>\n      <th>3</th>\n      <td>K3</td>\n      <td>A3</td>\n      <td>B3</td>\n      <td>C3</td>\n      <td>D3</td>\n    </tr>\n  </tbody>\n</table>\n</div>"
     },
     "execution_count": 359,
     "metadata": {},
     "output_type": "execute_result"
    }
   ],
   "source": [
    "result = pd.merge(\n",
    "    left, # DataFrame ili Series objekat\n",
    "    right, # DataFrame ili Series objekat\n",
    "    left_on=\"key\", # kolone levog DataFrame-a po kojima se vrši join\n",
    "    right_on=\"key\", # kolone desnog DataFrame-a po kojima se vrši join\n",
    "    how=\"inner\" # Jedno od: 'left', 'right', 'outer', 'inner', 'cross'\n",
    ")\n",
    "result"
   ]
  },
  {
   "cell_type": "markdown",
   "metadata": {
    "collapsed": false
   },
   "source": [
    "```how``` argument specificira koji ključevi će biti uključeni u rezultujuću tabelu:\n",
    "\n",
    "left - LEFT OUTER JOIN - Koristi samo ključeve iz levog DataFrame-a\n",
    "\n",
    "right - RIGHT OUTER JOIN - Koristi samo ključeve iz desnog DataFrame-a\n",
    "\n",
    "outer - FULL OUTER JOIN - Koristi uniju ključeva oba DataFrame-a\n",
    "\n",
    "inner - INNER JOIN - Koristi presek ključeva oba DataFrame-a\n",
    "\n",
    "cross - CROSS JOIN - Kreiraj dekartov proizvod redova oba DataFrame-a"
   ]
  },
  {
   "cell_type": "markdown",
   "metadata": {},
   "source": [
    "### Grupisanje"
   ]
  },
  {
   "cell_type": "markdown",
   "metadata": {},
   "source": [
    "Grupisanje obuhvata:\n",
    "\t1\tPodelu podataka na grupe na osnovu nekih kriterijuma\n",
    "\t2\tPrimenu funkcije na grupe nezavisno\n",
    "\t3\tKombinovanje rezultata u strukturu podataka"
   ]
  },
  {
   "cell_type": "code",
   "execution_count": 360,
   "metadata": {
    "ExecuteTime": {
     "end_time": "2023-08-24T18:17:37.777411Z",
     "start_time": "2023-08-24T18:17:37.298324Z"
    }
   },
   "outputs": [
    {
     "data": {
      "text/plain": "     A      B  C  D\n0  foo    one  1  0\n1  bar    one  2  1\n2  foo    two  3  2\n3  bar  three  4  3\n4  foo    two  5  4\n5  bar    two  6  5\n6  foo    one  7  6\n7  foo  three  8  7",
      "text/html": "<div>\n<style scoped>\n    .dataframe tbody tr th:only-of-type {\n        vertical-align: middle;\n    }\n\n    .dataframe tbody tr th {\n        vertical-align: top;\n    }\n\n    .dataframe thead th {\n        text-align: right;\n    }\n</style>\n<table border=\"1\" class=\"dataframe\">\n  <thead>\n    <tr style=\"text-align: right;\">\n      <th></th>\n      <th>A</th>\n      <th>B</th>\n      <th>C</th>\n      <th>D</th>\n    </tr>\n  </thead>\n  <tbody>\n    <tr>\n      <th>0</th>\n      <td>foo</td>\n      <td>one</td>\n      <td>1</td>\n      <td>0</td>\n    </tr>\n    <tr>\n      <th>1</th>\n      <td>bar</td>\n      <td>one</td>\n      <td>2</td>\n      <td>1</td>\n    </tr>\n    <tr>\n      <th>2</th>\n      <td>foo</td>\n      <td>two</td>\n      <td>3</td>\n      <td>2</td>\n    </tr>\n    <tr>\n      <th>3</th>\n      <td>bar</td>\n      <td>three</td>\n      <td>4</td>\n      <td>3</td>\n    </tr>\n    <tr>\n      <th>4</th>\n      <td>foo</td>\n      <td>two</td>\n      <td>5</td>\n      <td>4</td>\n    </tr>\n    <tr>\n      <th>5</th>\n      <td>bar</td>\n      <td>two</td>\n      <td>6</td>\n      <td>5</td>\n    </tr>\n    <tr>\n      <th>6</th>\n      <td>foo</td>\n      <td>one</td>\n      <td>7</td>\n      <td>6</td>\n    </tr>\n    <tr>\n      <th>7</th>\n      <td>foo</td>\n      <td>three</td>\n      <td>8</td>\n      <td>7</td>\n    </tr>\n  </tbody>\n</table>\n</div>"
     },
     "execution_count": 360,
     "metadata": {},
     "output_type": "execute_result"
    }
   ],
   "source": [
    "df4 = pd.DataFrame(\n",
    "    {\n",
    "        \"A\": [\"foo\", \"bar\", \"foo\", \"bar\", \"foo\", \"bar\", \"foo\", \"foo\"],\n",
    "        \"B\": [\"one\", \"one\", \"two\", \"three\", \"two\", \"two\", \"one\", \"three\"],\n",
    "        \"C\": [1, 2, 3, 4, 5, 6, 7, 8],\n",
    "        \"D\": [0, 1, 2, 3, 4, 5, 6, 7],\n",
    "    }\n",
    ")\n",
    "df4"
   ]
  },
  {
   "cell_type": "markdown",
   "metadata": {},
   "source": [
    "Grupisanje pa primena ```sum()``` funkcije na grupe:"
   ]
  },
  {
   "cell_type": "code",
   "execution_count": 361,
   "metadata": {
    "ExecuteTime": {
     "end_time": "2023-08-24T18:17:37.777701Z",
     "start_time": "2023-08-24T18:17:37.306003Z"
    }
   },
   "outputs": [
    {
     "data": {
      "text/plain": "      C   D\nA          \nbar  12   9\nfoo  24  19",
      "text/html": "<div>\n<style scoped>\n    .dataframe tbody tr th:only-of-type {\n        vertical-align: middle;\n    }\n\n    .dataframe tbody tr th {\n        vertical-align: top;\n    }\n\n    .dataframe thead th {\n        text-align: right;\n    }\n</style>\n<table border=\"1\" class=\"dataframe\">\n  <thead>\n    <tr style=\"text-align: right;\">\n      <th></th>\n      <th>C</th>\n      <th>D</th>\n    </tr>\n    <tr>\n      <th>A</th>\n      <th></th>\n      <th></th>\n    </tr>\n  </thead>\n  <tbody>\n    <tr>\n      <th>bar</th>\n      <td>12</td>\n      <td>9</td>\n    </tr>\n    <tr>\n      <th>foo</th>\n      <td>24</td>\n      <td>19</td>\n    </tr>\n  </tbody>\n</table>\n</div>"
     },
     "execution_count": 361,
     "metadata": {},
     "output_type": "execute_result"
    }
   ],
   "source": [
    "df4.groupby(\"A\")[[\"C\", \"D\"]].sum()"
   ]
  },
  {
   "cell_type": "code",
   "execution_count": 362,
   "metadata": {
    "ExecuteTime": {
     "end_time": "2023-08-24T18:17:37.784084Z",
     "start_time": "2023-08-24T18:17:37.311519Z"
    }
   },
   "outputs": [
    {
     "data": {
      "text/plain": "           C  D\nA   B          \nbar one    2  1\n    three  4  3\n    two    6  5\nfoo one    8  6\n    three  8  7\n    two    8  6",
      "text/html": "<div>\n<style scoped>\n    .dataframe tbody tr th:only-of-type {\n        vertical-align: middle;\n    }\n\n    .dataframe tbody tr th {\n        vertical-align: top;\n    }\n\n    .dataframe thead th {\n        text-align: right;\n    }\n</style>\n<table border=\"1\" class=\"dataframe\">\n  <thead>\n    <tr style=\"text-align: right;\">\n      <th></th>\n      <th></th>\n      <th>C</th>\n      <th>D</th>\n    </tr>\n    <tr>\n      <th>A</th>\n      <th>B</th>\n      <th></th>\n      <th></th>\n    </tr>\n  </thead>\n  <tbody>\n    <tr>\n      <th rowspan=\"3\" valign=\"top\">bar</th>\n      <th>one</th>\n      <td>2</td>\n      <td>1</td>\n    </tr>\n    <tr>\n      <th>three</th>\n      <td>4</td>\n      <td>3</td>\n    </tr>\n    <tr>\n      <th>two</th>\n      <td>6</td>\n      <td>5</td>\n    </tr>\n    <tr>\n      <th rowspan=\"3\" valign=\"top\">foo</th>\n      <th>one</th>\n      <td>8</td>\n      <td>6</td>\n    </tr>\n    <tr>\n      <th>three</th>\n      <td>8</td>\n      <td>7</td>\n    </tr>\n    <tr>\n      <th>two</th>\n      <td>8</td>\n      <td>6</td>\n    </tr>\n  </tbody>\n</table>\n</div>"
     },
     "execution_count": 362,
     "metadata": {},
     "output_type": "execute_result"
    }
   ],
   "source": [
    "df4.groupby([\"A\", \"B\"]).sum()"
   ]
  },
  {
   "cell_type": "markdown",
   "metadata": {
    "ExecuteTime": {
     "end_time": "2023-08-22T20:32:52.623420Z",
     "start_time": "2023-08-22T20:32:52.600006Z"
    },
    "collapsed": false
   },
   "source": [
    "### Obrada tekstualnih podataka"
   ]
  },
  {
   "cell_type": "code",
   "execution_count": 363,
   "outputs": [
    {
     "name": "stdout",
     "output_type": "stream",
     "text": [
      "   A                               B\n",
      "0  1             ThiS TeXt iS Wobbly\n",
      "1  2          this text is lowercase\n",
      "2  3          THIS TEXT IS UPPERCASE\n",
      "3  4     has whitespace             \n"
     ]
    }
   ],
   "source": [
    "df_text = pd.DataFrame({\n",
    "    \"A\" : [1, 2, 3, 4],\n",
    "    \"B\": [\"ThiS TeXt iS Wobbly\", \"this text is lowercase\", \"THIS TEXT IS UPPERCASE\", \"   has whitespace             \"]\n",
    "})\n",
    "print(df_text)"
   ],
   "metadata": {
    "collapsed": false,
    "ExecuteTime": {
     "end_time": "2023-08-24T18:17:37.784412Z",
     "start_time": "2023-08-24T18:17:37.316244Z"
    }
   }
  },
  {
   "cell_type": "code",
   "execution_count": 364,
   "metadata": {
    "collapsed": false,
    "ExecuteTime": {
     "end_time": "2023-08-24T18:17:37.785252Z",
     "start_time": "2023-08-24T18:17:37.322556Z"
    }
   },
   "outputs": [
    {
     "name": "stdout",
     "output_type": "stream",
     "text": [
      "0               this text is wobbly\n",
      "1            this text is lowercase\n",
      "2            this text is uppercase\n",
      "3       has whitespace             \n",
      "Name: B, dtype: object\n"
     ]
    }
   ],
   "source": [
    "print(df_text['B'].str.lower())"
   ]
  },
  {
   "cell_type": "code",
   "execution_count": 365,
   "outputs": [
    {
     "name": "stdout",
     "output_type": "stream",
     "text": [
      "0               THIS TEXT IS WOBBLY\n",
      "1            THIS TEXT IS LOWERCASE\n",
      "2            THIS TEXT IS UPPERCASE\n",
      "3       HAS WHITESPACE             \n",
      "Name: B, dtype: object\n"
     ]
    }
   ],
   "source": [
    "print(df_text['B'].str.upper())"
   ],
   "metadata": {
    "collapsed": false,
    "ExecuteTime": {
     "end_time": "2023-08-24T18:17:37.793225Z",
     "start_time": "2023-08-24T18:17:37.324879Z"
    }
   }
  },
  {
   "cell_type": "code",
   "execution_count": 366,
   "outputs": [
    {
     "name": "stdout",
     "output_type": "stream",
     "text": [
      "0       ThiS TeXt iS Wobbly\n",
      "1    this text is lowercase\n",
      "2    THIS TEXT IS UPPERCASE\n",
      "3            has whitespace\n",
      "Name: B, dtype: object\n"
     ]
    }
   ],
   "source": [
    "print(df_text[\"B\"].str.strip())"
   ],
   "metadata": {
    "collapsed": false,
    "ExecuteTime": {
     "end_time": "2023-08-24T18:17:37.793429Z",
     "start_time": "2023-08-24T18:17:37.327290Z"
    }
   }
  },
  {
   "cell_type": "markdown",
   "metadata": {
    "ExecuteTime": {
     "end_time": "2023-08-22T20:32:45.911810Z",
     "start_time": "2023-08-22T20:32:45.093517Z"
    },
    "collapsed": false
   },
   "source": [
    "### Čitanje i pisanje tabelarnih podataka\n",
    "\n",
    "Pandas ima ugradjenu podršku za razne fajl formate (csv, excel, json.. )\n",
    "Učitavanje podataka iz tih formata radi se preko funkcija sa prefiksom read_*. to_* metode se koriste za čuvanje podataka."
   ]
  },
  {
   "cell_type": "code",
   "execution_count": 367,
   "metadata": {
    "collapsed": false,
    "ExecuteTime": {
     "end_time": "2023-08-24T18:17:37.793718Z",
     "start_time": "2023-08-24T18:17:37.330239Z"
    }
   },
   "outputs": [
    {
     "data": {
      "text/plain": "       ime   prezime   godine\n0  Michael     Scott       42\n1      Jim   Halpert       31\n2      Pam    Beezly       29",
      "text/html": "<div>\n<style scoped>\n    .dataframe tbody tr th:only-of-type {\n        vertical-align: middle;\n    }\n\n    .dataframe tbody tr th {\n        vertical-align: top;\n    }\n\n    .dataframe thead th {\n        text-align: right;\n    }\n</style>\n<table border=\"1\" class=\"dataframe\">\n  <thead>\n    <tr style=\"text-align: right;\">\n      <th></th>\n      <th>ime</th>\n      <th>prezime</th>\n      <th>godine</th>\n    </tr>\n  </thead>\n  <tbody>\n    <tr>\n      <th>0</th>\n      <td>Michael</td>\n      <td>Scott</td>\n      <td>42</td>\n    </tr>\n    <tr>\n      <th>1</th>\n      <td>Jim</td>\n      <td>Halpert</td>\n      <td>31</td>\n    </tr>\n    <tr>\n      <th>2</th>\n      <td>Pam</td>\n      <td>Beezly</td>\n      <td>29</td>\n    </tr>\n  </tbody>\n</table>\n</div>"
     },
     "execution_count": 367,
     "metadata": {},
     "output_type": "execute_result"
    }
   ],
   "source": [
    "df = pd.read_csv(\"foo.csv\")\n",
    "df"
   ]
  },
  {
   "cell_type": "code",
   "execution_count": 368,
   "metadata": {
    "collapsed": false,
    "ExecuteTime": {
     "end_time": "2023-08-24T18:17:37.793781Z",
     "start_time": "2023-08-24T18:17:37.334882Z"
    }
   },
   "outputs": [],
   "source": [
    "#df.to_csv(\"foo2.csv\")"
   ]
  },
  {
   "cell_type": "markdown",
   "metadata": {
    "ExecuteTime": {
     "end_time": "2023-08-22T20:32:45.912592Z",
     "start_time": "2023-08-22T20:32:45.111227Z"
    },
    "collapsed": false
   },
   "source": []
  }
 ],
 "metadata": {
  "kernelspec": {
   "display_name": "Python 3",
   "language": "python",
   "name": "python3"
  },
  "language_info": {
   "codemirror_mode": {
    "name": "ipython",
    "version": 3
   },
   "file_extension": ".py",
   "mimetype": "text/x-python",
   "name": "python",
   "nbconvert_exporter": "python",
   "pygments_lexer": "ipython3",
   "version": "3.11.4"
  }
 },
 "nbformat": 4,
 "nbformat_minor": 0
}
