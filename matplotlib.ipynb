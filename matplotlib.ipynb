{
 "cells": [
  {
   "cell_type": "markdown",
   "source": [
    "# Matplotlib\n",
    "\n",
    "Matplotlib je biblioteka za kreiranje vizualizacija u Python programskom jeziku"
   ],
   "metadata": {
    "collapsed": false
   }
  },
  {
   "cell_type": "code",
   "execution_count": null,
   "outputs": [],
   "source": [
    "!pip install matplotlib\n",
    "!pip install numpy"
   ],
   "metadata": {
    "collapsed": false
   }
  },
  {
   "cell_type": "markdown",
   "source": [
    "##### Kreiranje dijagrama\n",
    "\n",
    "Matplotlib kreira dijagrame na figurama (```Figure```). Figura predstavlja prozor za iscrtavanje i sadrži sve ostale objekte: region za iscrtavanje podataka (```Axes```) sa 2 ili 3(za 3D) pojedinačne ose (```Axis```). Region ima i naslov i labelu za svaku osu.\n",
    "\n",
    "Najlakši način za kreiranje figure sa regionima je korišćenjem ```pyplot.subplots```. Onda możemo da koristimo ```Axes.plot``` da prikažemo podatke."
   ],
   "metadata": {
    "collapsed": false
   }
  },
  {
   "cell_type": "markdown",
   "source": [
    "*Note*: Koristićemo i NumPy, još jednu Python biblioteku, kao malu pomoć za kreiranje nizova i matrica i operacije nad njima."
   ],
   "metadata": {
    "collapsed": false
   }
  },
  {
   "cell_type": "markdown",
   "source": [
    "![primer](images/legend.png)"
   ],
   "metadata": {
    "collapsed": false
   }
  },
  {
   "cell_type": "code",
   "execution_count": null,
   "outputs": [],
   "source": [
    "import matplotlib.pyplot as plt\n",
    "import numpy as np\n",
    "\n",
    "fig, ax = plt.subplots()  # Kreiranje figure sa jednim regionom\n",
    "\n",
    "ax.plot([1, 2, 3, 4], [1, 4, 2, 3])  # Iscrtavanje podataka (odnosa x i y)"
   ],
   "metadata": {
    "collapsed": false
   }
  },
  {
   "cell_type": "code",
   "execution_count": null,
   "outputs": [],
   "source": [
    "x = np.linspace(0, 2, 100)  # Podaci za primer. Jednako rasporedjeni brojevi u zadatom intervalu sa zadatim brojem generisanih semplova.\n",
    "\n",
    "fig= plt.figure()\n",
    "\n",
    "ax = fig.add_subplot(1, 2, 1)\n",
    "ax.plot(x, x, label='linear')  # Iscrtavanje podataka\n",
    "ax.plot(x, x**2, label='quadratic')  # Još iscrtavanja podataka\n",
    "\n",
    "ax2 = fig.add_subplot(1, 2, 2)\n",
    "ax2.plot(x, x**3, label='cubic', color='red')  # ...i još\n",
    "\n",
    "ax.set_xlabel('x label')  # Dodavanje x-labele\n",
    "ax.set_ylabel('y label')  # Dodavanje y-labele\n",
    "ax.set_title(\"Jednostavan dijagram\")  # Dodavanje naslova\n",
    "ax.legend()  # Dodavanje legende\n",
    "\n",
    "ax2.set_xlabel('x label')  # Dodavanje x-labele\n",
    "ax2.set_ylabel('y label')  # Dodavanje y-labele\n",
    "ax2.set_title(\"Jednostavan dijagram\")  # Dodavanje naslova\n",
    "ax2.legend()  # Dodavanje legende"
   ],
   "metadata": {
    "collapsed": false
   }
  },
  {
   "cell_type": "markdown",
   "source": [
    "## Bar chart\n",
    "\n",
    "Jednostavan za razumevanje. Može se koristiti za prikazivanje vrednosti grupisanih po kategoriji.\n",
    "\n",
    "Primer: Broj studenata po državi."
   ],
   "metadata": {
    "collapsed": false
   }
  },
  {
   "cell_type": "code",
   "execution_count": null,
   "outputs": [],
   "source": [
    "# napravi podatke:\n",
    "x = ['Danska', 'Holandija', 'Francuska', 'Nemačka', 'Italija']\n",
    "y = [56, 32, 24, 47, 16]\n",
    "\n",
    "# iscrtaj:\n",
    "fig, ax = plt.subplots(figsize=(5,5))\n",
    "\n",
    "ax.bar(x, y, width=1, edgecolor=\"white\", linewidth=0.7)\n",
    "\n",
    "ax.set_xlabel(\"Država\")\n",
    "ax.set_ylabel(\"Broj studenata\")\n",
    "ax.set_title(\"Broj studenata po državi\")\n",
    "\n",
    "# stilizuj:\n",
    "\n",
    "ax.set_facecolor('#f0f0f0') # podešvanje boje pozadine\n",
    "\n",
    "plt.show()"
   ],
   "metadata": {
    "collapsed": false
   }
  },
  {
   "cell_type": "markdown",
   "source": [
    "### Scatter chart\n",
    "\n",
    "Za prikazivanje korelacije dve promenljive može se koristiti scatterplot. Vrednost jedne promenljive se  prikaže na X osi, vrednost druge na Y osi, a svaka tačka je često individualna pojava iz podataka - osoba, sesija, primerak...\n",
    "\n",
    "Primer: Krvni pritisak pacijenta u odnosu na starost"
   ],
   "metadata": {
    "collapsed": false
   }
  },
  {
   "cell_type": "code",
   "execution_count": null,
   "outputs": [],
   "source": [
    "# napravi (dobre) nasumične podatke:\n",
    "np.random.seed(42)\n",
    "num_points = 50\n",
    "age = np.random.randint(20, 80, num_points)\n",
    "blood_pressure = age + np.random.normal(0, 10, num_points)\n",
    "\n",
    "# iscrtaj:\n",
    "fig, ax = plt.subplots()\n",
    "\n",
    "ax.scatter(age, blood_pressure, alpha=0.6, c='blue', edgecolors='gray')\n",
    "\n",
    "plt.xlabel('Starost')\n",
    "plt.ylabel('Krvni pritisak')\n",
    "plt.title('Korelacija izmedju starosti i krvnog pritiska')\n",
    "\n",
    "plt.show()"
   ],
   "metadata": {
    "collapsed": false
   }
  },
  {
   "cell_type": "markdown",
   "source": [
    "Ako treba uneti i treću promenljivu, može se promeniti veličina svake tačke tako da predstavlja vrednost treće promenljive. Onda dobijamo - bubble chart.\n",
    "\n",
    "Primer: Krvni pritisak pacijenta u odnosu na starost, težina kao veličinom bubble-a"
   ],
   "metadata": {
    "collapsed": false
   }
  },
  {
   "cell_type": "code",
   "execution_count": null,
   "outputs": [],
   "source": [
    "# napravi (dobre) nasumične podatke:\n",
    "np.random.seed(42)\n",
    "num_points = 50\n",
    "age = np.random.randint(20, 80, num_points)\n",
    "weight = age + np.random.normal(0, 10, num_points)\n",
    "blood_pressure = age + weight + np.random.normal(0, 15, num_points)\n",
    "\n",
    "# iscrtaj:\n",
    "fig, ax = plt.subplots()\n",
    "\n",
    "ax.scatter(age, blood_pressure, s=weight, alpha=0.6, c='blue', edgecolors='gray')\n",
    "\n",
    "plt.xlabel('Starost')\n",
    "plt.ylabel('Krvni pritisak')\n",
    "plt.title('Korelacija izmedju starosti, krvnog pritiska i težine')\n",
    "\n",
    "plt.show()"
   ],
   "metadata": {
    "collapsed": false
   }
  },
  {
   "cell_type": "markdown",
   "source": [
    "## Line chart\n",
    "\n",
    "Koristi se za prikazivanje promene odredjene mere kroz vreme, naročito kada X osa ima dosta vrednosti.\n",
    "Na taj način se može videti da li postoji trend rasta, koja je maksimalna vrednost u poslednjih nedelju dana i slično.\n",
    "\n",
    "Primer: Profit po danu, nedelji, mesecu"
   ],
   "metadata": {
    "collapsed": false
   }
  },
  {
   "cell_type": "code",
   "execution_count": null,
   "outputs": [],
   "source": [
    "# napravi podatke:\n",
    "x = ['Oktobar 2022', 'Novembar 2022', 'Decembar 2022', 'Januar 2023', 'Februar 2023', 'Mart 2023']\n",
    "y = [2031, 2233, 2756, 3353, 3265, 3786]\n",
    "\n",
    "# iscrtaj:\n",
    "fig, ax = plt.subplots(figsize=(8,3))\n",
    "\n",
    "ax.plot(x, y)\n",
    "\n",
    "ax.set_xlabel(\"Mesec\")\n",
    "ax.set_ylabel(\"Profit\")\n",
    "ax.set_title(\"Profit u poslednjih 6 meseci\")\n",
    "\n",
    "plt.show()"
   ],
   "metadata": {
    "collapsed": false
   }
  },
  {
   "cell_type": "markdown",
   "source": [
    "## Stack chart (Area chart)\n",
    "\n",
    "Kombinacija Line i Bar Chart-a. I dalje postoji linija koja povezuje tačke ali bojenjem prostora izmedju linije i x-ose, vidi se odnos podkategorija i kumulativne vrednosti. Korisni su u slučajevima kada podkategorije sačinjavaju neku ukupnu vrednost.\n",
    "\n",
    "Primer: Broj porudžbina po proizvodu kroz vreme. Možemo videti uspon i pad individualnih proizvoda, i uspeh porudžbina kao celine"
   ],
   "metadata": {
    "collapsed": false
   }
  },
  {
   "cell_type": "code",
   "execution_count": null,
   "outputs": [],
   "source": [
    "# napravi podatke:\n",
    "x = ['Oktobar 2022', 'Novembar 2022', 'Decembar 2022', 'Januar 2023', 'Februar 2023']\n",
    "ay = [12, 22, 23, 21, 38]\n",
    "by = [15, 17, 22, 42, 46]\n",
    "cy = [26, 24, 22, 11, 5]\n",
    "y = np.vstack([ay, by, cy])\n",
    "\n",
    "# iscrtaj:\n",
    "fig, ax = plt.subplots(figsize=(7,3))\n",
    "\n",
    "ax.stackplot(x, y, labels=[\"Tesla\", \"Toyota\", \"Ford\"])\n",
    "\n",
    "ax.legend(loc='upper left')\n",
    "ax.set_xlabel(\"Mesec kreiranja porudžbine\")\n",
    "ax.set_ylabel(\"Broj porudžbina\")\n",
    "ax.set_title(\"Broj porudžbina po mesecu i proizvodu\")\n",
    "\n",
    "plt.show()"
   ],
   "metadata": {
    "collapsed": false
   }
  },
  {
   "cell_type": "markdown",
   "source": [
    "### Pie ili donut chart\n",
    "\n",
    "Koristi se za razdvajanje metrike po jednoj dimenziji, naročito kada je broj razdvajanja mali.\n",
    "\n",
    "Primer: broj korisnika po polu."
   ],
   "metadata": {
    "collapsed": false
   }
  },
  {
   "cell_type": "code",
   "execution_count": null,
   "outputs": [],
   "source": [
    "# napravi podatke:\n",
    "labels = ['Ženski', 'Muški', \"Drugi\"]\n",
    "sizes = [40, 50, 10]\n",
    "\n",
    "# iscrtaj:\n",
    "\n",
    "fig, ax = plt.subplots()\n",
    "\n",
    "ax.pie(sizes, labels=labels, explode= (0.05, 0.05, 0.05), autopct='%1.1f%%')\n",
    "\n",
    "ax.set_title(\"Broj korisnika po polu\")\n",
    "\n",
    "plt.show()"
   ],
   "metadata": {
    "collapsed": false
   }
  },
  {
   "cell_type": "markdown",
   "source": [
    "### Histogram chart\n",
    "\n",
    "Sastoji se od vertikalnih traka od kojih svaka predstavlja jednak raspon vrednosti. Koristi se za prikazivanje informacija duž spektra vrednosti, grupisanog u opsege. Pogodno za numeričke podatke, za razliku od bar chart-a koji se koristi za kategorije\n",
    "\n",
    "Primer: visina ljudi u opsezima"
   ],
   "metadata": {
    "collapsed": false
   }
  },
  {
   "cell_type": "code",
   "execution_count": null,
   "outputs": [],
   "source": [
    "# napravi podatke:\n",
    "\n",
    "x = np.random.normal(170, 10, 250)\n",
    "\n",
    "# iscrtaj:\n",
    "fig, ax = plt.subplots(figsize=(8, 6))\n",
    "\n",
    "n, bins, _  = ax.hist(x, bins=10, edgecolor='gray')\n",
    "\n",
    "ax.set_ylabel(\"Broj\")\n",
    "ax.set_xlabel(\"Visina\")\n",
    "ax.set_title(\"Histogram visine 250 ljudi\")\n",
    "ax.set_xticks(bins)\n",
    "ax.grid(axis='y', linestyle='--', alpha=0.7)\n",
    "\n",
    "plt.show()"
   ],
   "metadata": {
    "collapsed": false
   }
  },
  {
   "cell_type": "markdown",
   "source": [
    "### Matplotlib i Pandas"
   ],
   "metadata": {
    "collapsed": false
   }
  },
  {
   "cell_type": "markdown",
   "source": [
    "Iscrtavanje jedne kolone"
   ],
   "metadata": {
    "collapsed": false
   }
  },
  {
   "cell_type": "code",
   "execution_count": null,
   "outputs": [],
   "source": [
    "import pandas as pd"
   ],
   "metadata": {
    "collapsed": false
   }
  },
  {
   "cell_type": "code",
   "execution_count": null,
   "outputs": [],
   "source": [
    "speed = [0.1, 17.5, 40, 48, 52, 69, 88]\n",
    "lifespan = [2, 8, 70, 1.5, 25, 12, 28]\n",
    "animal = ['snail', 'pig', 'elephant',\n",
    "         'rabbit', 'giraffe', 'coyote', 'horse']\n",
    "\n",
    "df = pd.DataFrame(\n",
    "    {\n",
    "        'speed': speed,\n",
    "        'lifespan': lifespan,\n",
    "        'animal': animal\n",
    "    }\n",
    ")"
   ],
   "metadata": {
    "collapsed": false
   }
  },
  {
   "cell_type": "code",
   "execution_count": null,
   "outputs": [],
   "source": [
    "df"
   ],
   "metadata": {
    "collapsed": false
   }
  },
  {
   "cell_type": "code",
   "execution_count": null,
   "outputs": [],
   "source": [
    "df.plot.bar(x='animal', y='lifespan')"
   ],
   "metadata": {
    "collapsed": false
   }
  },
  {
   "cell_type": "markdown",
   "source": [
    "Iscrtavanje celog DataFrame-a"
   ],
   "metadata": {
    "collapsed": false
   }
  },
  {
   "cell_type": "code",
   "execution_count": null,
   "outputs": [],
   "source": [
    "df.plot.bar()"
   ],
   "metadata": {
    "collapsed": false
   }
  },
  {
   "cell_type": "code",
   "execution_count": null,
   "outputs": [],
   "source": [
    "df.plot.bar(subplots=True)"
   ],
   "metadata": {
    "collapsed": false
   }
  }
 ],
 "metadata": {
  "kernelspec": {
   "display_name": "Python 3",
   "language": "python",
   "name": "python3"
  },
  "language_info": {
   "codemirror_mode": {
    "name": "ipython",
    "version": 2
   },
   "file_extension": ".py",
   "mimetype": "text/x-python",
   "name": "python",
   "nbconvert_exporter": "python",
   "pygments_lexer": "ipython2",
   "version": "2.7.6"
  }
 },
 "nbformat": 4,
 "nbformat_minor": 0
}
