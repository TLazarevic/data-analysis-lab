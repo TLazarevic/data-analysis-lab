{
 "cells": [
  {
   "cell_type": "markdown",
   "source": [
    "# Matplotlib\n",
    "\n",
    "Matplotlib je biblioteka za kreiranje vizualizacija u Python programskom jeziku"
   ],
   "metadata": {
    "collapsed": false
   }
  },
  {
   "cell_type": "markdown",
   "source": [
    "##### Kreiranje dijagrama\n",
    "\n",
    "Matplotlib kreira grafike na figurama (```Figure```). Figura sadrži sve ostale objekte: region za crtanje podataka (```Axes```) sa 2 ili 3(za 3D) pojedinačne ose (```Axis```). Region ima i naslov i labelu za svaku osu.\n",
    "\n",
    "Najlakši način za kreiranje figure sa osama je korišćenjem ```pyplot.subplots```. Onda możemo da koristimo ```Axes.plot``` da prikažemo podatke na osama."
   ],
   "metadata": {
    "collapsed": false
   }
  },
  {
   "cell_type": "markdown",
   "source": [
    "*Note*: Koristićemo i NumPy, još jednu Python biblioteku, kao malu pomoć za kreiranje nizova i matrica i operacije nad njima."
   ],
   "metadata": {
    "collapsed": false
   }
  },
  {
   "cell_type": "code",
   "execution_count": null,
   "outputs": [],
   "source": [
    "import matplotlib.pyplot as plt\n",
    "import numpy as np\n",
    "\n",
    "fig, ax = plt.subplots()  # Kreiranje figure sa jednim regionom\n",
    "\n",
    "ax.plot([1, 2, 3, 4], [1, 4, 2, 3])  # Iscrtavanje podataka (odnosa x i y)"
   ],
   "metadata": {
    "collapsed": false
   }
  },
  {
   "cell_type": "markdown",
   "source": [
    "![primer](legend.png)"
   ],
   "metadata": {
    "collapsed": false
   }
  },
  {
   "cell_type": "code",
   "execution_count": null,
   "outputs": [],
   "source": [
    "x = np.linspace(0, 2, 100)  # Podaci za primer. Jednako rasporedjeni brojevi u zadatom intervalu sa zadatim brojem generisanih semplova.\n",
    "\n",
    "fig, ax = plt.subplots()\n",
    "\n",
    "ax.plot(x, x, label='linear')  # Iscrtavanje podataka\n",
    "ax.plot(x, x**2, label='quadratic')  # Još iscrtavanja podataka\n",
    "ax.plot(x, x**3, label='cubic', color='red')  # ...i još\n",
    "\n",
    "ax.set_xlabel('x label')  # Dodavanje x-labele\n",
    "ax.set_ylabel('y label')  # Dodavanje y-labele\n",
    "ax.set_title(\"Jednostavan dijagram\")  # Dodavanje naslova\n",
    "ax.legend()  # Dodavanje legende\n",
    "\n",
    "plt.show()"
   ],
   "metadata": {
    "collapsed": false
   }
  },
  {
   "cell_type": "markdown",
   "source": [
    "## Bar chart\n",
    "\n",
    "Jednostavan za jasan za razumevanje. Može se koristiti za prikazivanje vrednosti grupisanih po kategoriji.\n",
    "\n",
    "Primer: Broj studenata po državi."
   ],
   "metadata": {
    "collapsed": false
   }
  },
  {
   "cell_type": "code",
   "execution_count": null,
   "outputs": [],
   "source": [
    "# napravi podatke:\n",
    "x = ['Danska', 'Holandija', 'Francuska', 'Nemačka', 'Italija']\n",
    "y = [56, 32, 24, 47, 16]\n",
    "\n",
    "# iscrtaj:\n",
    "fig, ax = plt.subplots(figsize=(4,4))\n",
    "\n",
    "ax.bar(x, y, width=1, edgecolor=\"white\", linewidth=0.7)\n",
    "\n",
    "ax.set_xlabel(\"Država\")\n",
    "ax.set_ylabel(\"Broj studenata\")\n",
    "ax.set_title(\"Broj studenata po državi\")\n",
    "\n",
    "plt.show()"
   ],
   "metadata": {
    "collapsed": false
   }
  },
  {
   "cell_type": "markdown",
   "source": [
    "### Scatter chart\n",
    "\n",
    "Za prikazivanje korelacije veličina može se koristiti scatterplot. Vrednost jedne promenljive se  prikaže na X osi, vrednost druge na Y osi, a svaka tačka je često individualna pojava iz podataka - osoba, sesija, primerak...\n",
    "\n",
    "Primer: Krvni pritisak pacijenta u odnosu na starost"
   ],
   "metadata": {
    "collapsed": false
   }
  },
  {
   "cell_type": "code",
   "execution_count": null,
   "outputs": [],
   "source": [
    "# napravi (dobre) nasumične podatke:\n",
    "np.random.seed(42)\n",
    "num_points = 50\n",
    "age = np.random.randint(20, 80, num_points)\n",
    "blood_pressure = age + np.random.normal(0, 10, num_points)\n",
    "\n",
    "# iscrtaj:\n",
    "fig, ax = plt.subplots()\n",
    "\n",
    "ax.scatter(age, blood_pressure, alpha=0.6, c='blue', edgecolors='gray')\n",
    "\n",
    "plt.xlabel('Starost')\n",
    "plt.ylabel('Krvni pritisak')\n",
    "plt.title('Korelacija izmedju starosti i krvnog pritiska')\n",
    "\n",
    "plt.show()"
   ],
   "metadata": {
    "collapsed": false
   }
  },
  {
   "cell_type": "markdown",
   "source": [
    "Ako treba uneti i treću promenljivu, može se promeniti veličina svake tačke tako da predstavlja vrednost treće promenljive. Onda dobijamo - bubble chart.\n",
    "\n",
    "Primer: Krvni pritisak pacijenta u odnosu na starost, težina kao veličinom bubble-a"
   ],
   "metadata": {
    "collapsed": false
   }
  },
  {
   "cell_type": "code",
   "execution_count": null,
   "outputs": [],
   "source": [
    "# napravi (dobre) nasumične podatke:\n",
    "np.random.seed(42)\n",
    "num_points = 50\n",
    "age = np.random.randint(20, 80, num_points)\n",
    "weight = age + np.random.normal(0, 10, num_points)\n",
    "blood_pressure = age + weight + np.random.normal(0, 15, num_points)\n",
    "\n",
    "# iscrtaj:\n",
    "fig, ax = plt.subplots()\n",
    "\n",
    "ax.scatter(age, blood_pressure, s=weight, alpha=0.6, c='blue', edgecolors='gray')\n",
    "\n",
    "plt.xlabel('Starost')\n",
    "plt.ylabel('Krvni pritisak')\n",
    "plt.title('Korelacija izmedju starosti, krvnog pritiska, i težine')\n",
    "\n",
    "plt.show()"
   ],
   "metadata": {
    "collapsed": false
   }
  },
  {
   "cell_type": "markdown",
   "source": [
    "## Line chart\n",
    "\n",
    "Koristi se za prikazivanje promene odredjene mere kroz vreme, naročito kada X osa ima dosta vrednosti.\n",
    "Na taj način se može videti da li postoji trend rasta, koja je maksimalna vrednost u poslednjih nedelju dana i slično.\n",
    "Primer: Profit po danu, nedelji, mesecu"
   ],
   "metadata": {
    "collapsed": false
   }
  },
  {
   "cell_type": "code",
   "execution_count": null,
   "outputs": [],
   "source": [
    "# napravi podatke:\n",
    "x = ['Oktobar 2022', 'Novembar 2022', 'Decembar 2022', 'Januar 2023', 'Februar 2023', 'Mart 2023']\n",
    "y = [2031, 2233, 2756, 3353, 3265, 3786]\n",
    "\n",
    "# iscrtaj:\n",
    "fig, ax = plt.subplots(figsize=(7,3))\n",
    "\n",
    "ax.plot(x, y)\n",
    "\n",
    "ax.set_xlabel(\"Mesec\")\n",
    "ax.set_ylabel(\"Profit\")\n",
    "ax.set_title(\"Profit u poslednjih 6 meseci\")\n",
    "\n",
    "plt.show()"
   ],
   "metadata": {
    "collapsed": false
   }
  },
  {
   "cell_type": "markdown",
   "source": [
    "## Stack chart (Area chart)\n",
    "\n",
    "Korisni su za praćenje proporcija dve metrike kroz vreme\n",
    "Primer: Broj prodatih proizvoda po kategoriji"
   ],
   "metadata": {
    "collapsed": false
   }
  },
  {
   "cell_type": "code",
   "execution_count": null,
   "outputs": [],
   "source": [
    "# napravi podatke:\n",
    "x = ['Oktobar 2022', 'Novembar 2022', 'Decembar 2022', 'Januar 2023', 'Februar 2023']\n",
    "ay = [12, 22, 23, 21, 38]\n",
    "by = [15, 17, 22, 42, 46]\n",
    "cy = [26, 24, 22, 11, 5]\n",
    "y = np.vstack([ay, by, cy])\n",
    "\n",
    "# iscrtaj:\n",
    "fig, ax = plt.subplots(figsize=(6,3))\n",
    "\n",
    "ax.stackplot(x, y, labels=[\"Tesla\", \"Toyota\", \"Ford\"])\n",
    "\n",
    "ax.legend(loc='upper left')\n",
    "ax.set_xlabel(\"Mesec kreiranja porudžbine\")\n",
    "ax.set_ylabel(\"Broj porudžbina\")\n",
    "ax.set_title(\"Broj porudžbina po mesecu i proizvodu\")\n",
    "\n",
    "plt.show()"
   ],
   "metadata": {
    "collapsed": false
   }
  },
  {
   "cell_type": "markdown",
   "source": [
    "### Pie ili donut chart\n",
    "\n",
    "Koristi se za razdvajanje metrike po jednoj dimenziji, naročito kada je broj razdvajanja mali.\n",
    "Primer: broj korisnika po polu."
   ],
   "metadata": {
    "collapsed": false
   }
  },
  {
   "cell_type": "code",
   "execution_count": null,
   "outputs": [],
   "source": [
    "# napravi podatke:\n",
    "labels = 'Ženski', 'Muški'\n",
    "sizes = [40, 60]\n",
    "\n",
    "# iscrtaj:\n",
    "\n",
    "fig, ax = plt.subplots()\n",
    "\n",
    "ax.pie(sizes, labels=labels)\n",
    "\n",
    "ax.set_title(\"Broj korisnika po polu\")\n",
    "\n",
    "plt.show()"
   ],
   "metadata": {
    "collapsed": false
   }
  },
  {
   "cell_type": "markdown",
   "source": [
    "### Histogram chart\n",
    "\n",
    "Koristi se za prikazivanje broja pojava unutar svakog intervala vrednosti\n",
    "Primer: visina ljudi u opsezima"
   ],
   "metadata": {
    "collapsed": false
   }
  },
  {
   "cell_type": "code",
   "execution_count": null,
   "outputs": [],
   "source": [
    "# napravi podatke:\n",
    "\n",
    "x = np.random.normal(170, 10, 250)\n",
    "\n",
    "# iscrtaj:\n",
    "fig, ax = plt.subplots()\n",
    "\n",
    "ax.hist(x)\n",
    "\n",
    "ax.set_ylabel(\"Broj\")\n",
    "ax.set_xlabel(\"Visina\")\n",
    "ax.set_title(\"Histogram visine 250 ljudi\")\n",
    "\n",
    "plt.show()"
   ],
   "metadata": {
    "collapsed": false
   }
  },
  {
   "cell_type": "markdown",
   "source": [
    "### Matplotlib i Pandas"
   ],
   "metadata": {
    "collapsed": false
   }
  },
  {
   "cell_type": "markdown",
   "source": [
    "Iscrtavanje jedne kolone"
   ],
   "metadata": {
    "collapsed": false
   }
  },
  {
   "cell_type": "code",
   "execution_count": 312,
   "outputs": [],
   "source": [
    "import pandas as pd"
   ],
   "metadata": {
    "collapsed": false,
    "ExecuteTime": {
     "end_time": "2023-08-20T21:13:44.582448Z",
     "start_time": "2023-08-20T21:13:44.575409Z"
    }
   }
  },
  {
   "cell_type": "code",
   "execution_count": 313,
   "outputs": [],
   "source": [
    "speed = [0.1, 17.5, 40, 48, 52, 69, 88]\n",
    "lifespan = [2, 8, 70, 1.5, 25, 12, 28]\n",
    "animal = ['snail', 'pig', 'elephant',\n",
    "         'rabbit', 'giraffe', 'coyote', 'horse']\n",
    "\n",
    "df = pd.DataFrame({'speed': speed,\n",
    "                   'lifespan': lifespan,\n",
    "                   'animal': animal})"
   ],
   "metadata": {
    "collapsed": false,
    "ExecuteTime": {
     "end_time": "2023-08-20T21:13:44.798815Z",
     "start_time": "2023-08-20T21:13:44.795739Z"
    }
   }
  },
  {
   "cell_type": "code",
   "execution_count": 314,
   "outputs": [
    {
     "data": {
      "text/plain": "<Axes: xlabel='animal'>"
     },
     "execution_count": 314,
     "metadata": {},
     "output_type": "execute_result"
    },
    {
     "data": {
      "text/plain": "<Figure size 200x200 with 1 Axes>",
      "image/png": "[encoded data removed]"
     },
     "metadata": {},
     "output_type": "display_data"
    }
   ],
   "source": [
    "df.plot.bar(x='animal', y='lifespan')"
   ],
   "metadata": {
    "collapsed": false,
    "ExecuteTime": {
     "end_time": "2023-08-20T21:13:45.200525Z",
     "start_time": "2023-08-20T21:13:45.145458Z"
    }
   }
  },
  {
   "cell_type": "code",
   "execution_count": 315,
   "outputs": [
    {
     "data": {
      "text/plain": "<Axes: >"
     },
     "execution_count": 315,
     "metadata": {},
     "output_type": "execute_result"
    },
    {
     "data": {
      "text/plain": "<Figure size 200x200 with 1 Axes>",
      "image/png": "[encoded data removed]"
     },
     "metadata": {},
     "output_type": "display_data"
    }
   ],
   "source": [
    "df.plot.bar()"
   ],
   "metadata": {
    "collapsed": false,
    "ExecuteTime": {
     "end_time": "2023-08-20T21:13:45.632910Z",
     "start_time": "2023-08-20T21:13:45.583208Z"
    }
   }
  },
  {
   "cell_type": "code",
   "execution_count": 316,
   "outputs": [
    {
     "data": {
      "text/plain": "array([<Axes: title={'center': 'speed'}>,\n       <Axes: title={'center': 'lifespan'}>], dtype=object)"
     },
     "execution_count": 316,
     "metadata": {},
     "output_type": "execute_result"
    },
    {
     "data": {
      "text/plain": "<Figure size 200x200 with 2 Axes>",
      "image/png": "[encoded data removed]"
     },
     "metadata": {},
     "output_type": "display_data"
    }
   ],
   "source": [
    "df.plot.bar(subplots=True)"
   ],
   "metadata": {
    "collapsed": false,
    "ExecuteTime": {
     "end_time": "2023-08-20T21:13:47.264421Z",
     "start_time": "2023-08-20T21:13:47.156236Z"
    }
   }
  }
 ],
 "metadata": {
  "kernelspec": {
   "display_name": "Python 3",
   "language": "python",
   "name": "python3"
  },
  "language_info": {
   "codemirror_mode": {
    "name": "ipython",
    "version": 2
   },
   "file_extension": ".py",
   "mimetype": "text/x-python",
   "name": "python",
   "nbconvert_exporter": "python",
   "pygments_lexer": "ipython2",
   "version": "2.7.6"
  }
 },
 "nbformat": 4,
 "nbformat_minor": 0
}
